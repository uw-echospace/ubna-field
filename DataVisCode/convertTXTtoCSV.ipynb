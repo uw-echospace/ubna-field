{
 "cells": [
  {
   "cell_type": "code",
   "execution_count": 96,
   "id": "4510d6f0",
   "metadata": {},
   "outputs": [],
   "source": [
    "import pandas as pd\n",
    "import numpy as np"
   ]
  },
  {
   "cell_type": "code",
   "execution_count": 132,
   "id": "1e13f003",
   "metadata": {},
   "outputs": [],
   "source": [
    "# This builds the path to the output.txt file that we extracted by piping the linux ls command's output\n",
    "# I used ls -lh > output.txt in my Recordings folder\n",
    "\n",
    "audio_dir = '/home/adkris1002/Documents/UBNA_Research/AudiomothStuff/Recordings&Code'\n",
    "unit_dir = '/Audiomoth2Files'\n",
    "loc_dir = '/Foliage2022'\n",
    "sess_dir = '/20220710_unit2'\n",
    "filename = '/Recordings/output.txt'\n",
    "\n",
    "file_path = audio_dir+unit_dir+loc_dir+sess_dir+filename"
   ]
  },
  {
   "cell_type": "code",
   "execution_count": 136,
   "id": "1efe9d6d",
   "metadata": {},
   "outputs": [
    {
     "name": "stdout",
     "output_type": "stream",
     "text": [
      "               0  1           2           3     4    5   6      7  \\\n",
      "0     -rwxr-xr-x  1  adkris1002  adkris1002  864K  Jul   9  12:46   \n",
      "1     -rwxr-xr-x  1  adkris1002  adkris1002     0  Dec  31   1979   \n",
      "2     -rwxr-xr-x  1  adkris1002  adkris1002  107M  Jul   9  12:59   \n",
      "3     -rwxr-xr-x  1  adkris1002  adkris1002  856M  Jul   9  13:29   \n",
      "4     -rwxr-xr-x  1  adkris1002  adkris1002  856M  Jul   9  13:59   \n",
      "...          ... ..         ...         ...   ...  ...  ..    ...   \n",
      "1766  -rwxr-xr-x  1  adkris1002  adkris1002  856M  Jul  12  10:59   \n",
      "1767  -rwxr-xr-x  1  adkris1002  adkris1002  856M  Jul  12  11:29   \n",
      "1768  -rwxr-xr-x  1  adkris1002  adkris1002  856M  Jul  12  11:59   \n",
      "1769  -rwxr-xr-x  1  adkris1002  adkris1002  386M  Jul  12  12:13   \n",
      "1770  -rw-rw-r--  1  adkris1002  adkris1002     0  Jul  13  14:38   \n",
      "\n",
      "                        8  \n",
      "0     20220709_194629.WAV  \n",
      "1     20220709_194915.WAV  \n",
      "2     20220709_195611.WAV  \n",
      "3     20220709_200000.WAV  \n",
      "4     20220709_203000.WAV  \n",
      "...                   ...  \n",
      "1766  20220712_173000.WAV  \n",
      "1767  20220712_180000.WAV  \n",
      "1768  20220712_183000.WAV  \n",
      "1769  20220712_190000.WAV  \n",
      "1770           output.txt  \n",
      "\n",
      "[1771 rows x 9 columns]\n"
     ]
    }
   ],
   "source": [
    "# We read in the .txt file using the file path and a separator of spaces.\n",
    "# We set header=None so read_csv does not look for a header\n",
    "# We also skip the first row of the raw output because the first row is 'Total <size of all files>'\n",
    "\n",
    "data= pd.read_csv(file_path, sep='\\s+', skiprows=1, header=None)\n",
    "print(data)"
   ]
  },
  {
   "cell_type": "code",
   "execution_count": 137,
   "id": "1116b2f7",
   "metadata": {},
   "outputs": [
    {
     "name": "stdout",
     "output_type": "stream",
     "text": [
      "[['864K' 'Jul' 9 '12:46' '20220709_194629.WAV']\n",
      " ['0' 'Dec' 31 '1979' '20220709_194915.WAV']\n",
      " ['107M' 'Jul' 9 '12:59' '20220709_195611.WAV']\n",
      " ...\n",
      " ['856M' 'Jul' 12 '11:29' '20220712_180000.WAV']\n",
      " ['856M' 'Jul' 12 '11:59' '20220712_183000.WAV']\n",
      " ['386M' 'Jul' 12 '12:13' '20220712_190000.WAV']]\n"
     ]
    }
   ],
   "source": [
    "# We clean up and only extract the rows and columns we need.\n",
    "# We don't need the first 4 columns or the last row which is the size of the output.txt file\n",
    "\n",
    "list_np = data.to_numpy()[:-1,4:]\n",
    "print(list_np)"
   ]
  },
  {
   "cell_type": "code",
   "execution_count": 138,
   "id": "6b92c625",
   "metadata": {},
   "outputs": [],
   "source": [
    "# We convert our new cleaner numpy array into a data frame with cleaner labels\n",
    "# The time columns will have a year in some rows when the file is empty\n",
    "# The file sizes also have M when it is mB (megabyte) and K when it is kB (kilobyte)\n",
    "# There are no units for file sizes when the units are in bytes\n",
    "\n",
    "df = pd.DataFrame(list_np, columns = ['File Size','Month','Date', 'Time', 'File Name'])"
   ]
  },
  {
   "cell_type": "code",
   "execution_count": 139,
   "id": "76a7f20e",
   "metadata": {},
   "outputs": [
    {
     "name": "stdout",
     "output_type": "stream",
     "text": [
      "     File Size Month Date   Time            File Name\n",
      "0         864K   Jul    9  12:46  20220709_194629.WAV\n",
      "1            0   Dec   31   1979  20220709_194915.WAV\n",
      "2         107M   Jul    9  12:59  20220709_195611.WAV\n",
      "3         856M   Jul    9  13:29  20220709_200000.WAV\n",
      "4         856M   Jul    9  13:59  20220709_203000.WAV\n",
      "...        ...   ...  ...    ...                  ...\n",
      "1765      856M   Jul   12  10:29  20220712_170000.WAV\n",
      "1766      856M   Jul   12  10:59  20220712_173000.WAV\n",
      "1767      856M   Jul   12  11:29  20220712_180000.WAV\n",
      "1768      856M   Jul   12  11:59  20220712_183000.WAV\n",
      "1769      386M   Jul   12  12:13  20220712_190000.WAV\n",
      "\n",
      "[1770 rows x 5 columns]\n"
     ]
    }
   ],
   "source": [
    "print(df)"
   ]
  },
  {
   "cell_type": "code",
   "execution_count": 140,
   "id": "008e0082",
   "metadata": {},
   "outputs": [],
   "source": [
    "# We save our dataframe as a .csv using \\t as a separator\n",
    "\n",
    "df.to_csv('file_sizes.csv')"
   ]
  },
  {
   "cell_type": "code",
   "execution_count": null,
   "id": "f3caa37a",
   "metadata": {},
   "outputs": [],
   "source": []
  }
 ],
 "metadata": {
  "kernelspec": {
   "display_name": "Python 3 (ipykernel)",
   "language": "python",
   "name": "python3"
  },
  "language_info": {
   "codemirror_mode": {
    "name": "ipython",
    "version": 3
   },
   "file_extension": ".py",
   "mimetype": "text/x-python",
   "name": "python",
   "nbconvert_exporter": "python",
   "pygments_lexer": "ipython3",
   "version": "3.7.13"
  }
 },
 "nbformat": 4,
 "nbformat_minor": 5
}
