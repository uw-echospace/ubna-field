{
 "cells": [
  {
   "cell_type": "code",
   "execution_count": 16,
   "id": "ad027d4a",
   "metadata": {},
   "outputs": [],
   "source": [
    "from pathlib import Path\n",
    "\n",
    "import pandas as pd\n",
    "from pandas.errors import EmptyDataError \n",
    "\n",
    "import matplotlib.pyplot as plt\n",
    "import numpy as np\n",
    "\n",
    "from datetime import datetime"
   ]
  },
  {
   "cell_type": "code",
   "execution_count": 2,
   "id": "93a72428",
   "metadata": {},
   "outputs": [],
   "source": [
    "# Given parameters:\n",
    "# 1) detection_dir is the recover-DATE-UNIT_NUM-detect folder\n",
    "# 2) recording_name is the name of our recording: DATE_TIME.WAV\n",
    "# 4) det_type can either be 'lf' or 'hf'\n",
    "\n",
    "# Output:\n",
    "# The table of detections following the format of RavenPro\n",
    "\n",
    "def read_detection(detection_dir, recording_name, det_type):\n",
    "    \n",
    "    file_name = f\"{det_type}_{recording_name}.txt\"\n",
    "    file_path = f\"{detection_dir}/{file_name}\"\n",
    "    \n",
    "    if (Path(file_path).is_file()):\n",
    "        try:\n",
    "            df_detection = pd.read_csv(file_path, sep='\\t')\n",
    "        except EmptyDataError:\n",
    "            print(f\"{file_path} is empty\")\n",
    "            \n",
    "    return df_detection"
   ]
  },
  {
   "cell_type": "code",
   "execution_count": 80,
   "id": "7923be15",
   "metadata": {
    "scrolled": false
   },
   "outputs": [],
   "source": [
    "# These are variables that will help us point to specific folders and files\n",
    "\n",
    "# Constant DATE is the date of our recovered data that we are extracting detections from\n",
    "DATE = \"20220725\"\n",
    "# Constant UNIT_NUM is the SD CARD # that had been deployed for that session\n",
    "UNIT_NUM = \"010\"\n",
    "# Constant duration of audio file that we configured into Audiomoth\n",
    "AUDIO_DUR = pd.DateOffset(minutes=29, seconds=55)\n",
    "\n",
    "# detection_dir is the recover-DATE-UNIT_NUM-detect folder where our detections are.\n",
    "detection_dir = f\"detections/recover-{DATE}-{UNIT_NUM}-detect\"\n",
    "\n",
    "# Construct path object linked to the directory of files for datetime-parsing\n",
    "file_dir = Path(detection_dir)\n",
    "# Extract only the hf-detection files because the datetime information is repeated.\n",
    "sorted_files = sorted(file_dir.glob('hf_*.txt'))\n",
    "\n",
    "# We fill the first 3 columns of our dataframe right here using dateutils parser\n",
    "file_names = []\n",
    "dates = []\n",
    "s_times = []\n",
    "e_times = []\n",
    "# We fill out the next 2 columns of data regarding the number of LF and HF selections\n",
    "num_lf_detections = []\n",
    "num_hf_detections = []"
   ]
  },
  {
   "cell_type": "code",
   "execution_count": 81,
   "id": "500ddfb1",
   "metadata": {},
   "outputs": [],
   "source": [
    "# Iterate through all file paths to extract and store table information for each file\n",
    "for i, file in enumerate(sorted_files):\n",
    "    # Extract name of each file as it is\n",
    "    file_name = file.name\n",
    "    # Extracting the datetime object from the name of each file\n",
    "    file_info = datetime.strptime(file_name, \"hf_%Y%m%d_%H%M%S.WAV.txt\")\n",
    "    \n",
    "    # Extract recording name, date, start time, and end time for each file\n",
    "    recording_name = file_info.strftime(\"%Y%m%d_%H%M%S.WAV\")\n",
    "    date = file_info.date()\n",
    "    s_time = file_info.time()\n",
    "    e_time = (file_info + AUDIO_DUR).time()\n",
    "    \n",
    "    # Appending the above properties to be displayed as part of the dataframe\n",
    "    file_names.append(recording_name)\n",
    "    dates.append(date)\n",
    "    s_times.append(s_time)\n",
    "    e_times.append(e_time)\n",
    "        \n",
    "    # Calling read_detection to return the table of selections as a dataframe\n",
    "    # The detections appear twice: in waveform view and spectrogram view, \n",
    "    # so we half the total number of detections\n",
    "    lf_file_detections = read_detection(detection_dir, recording_name, \"lf\")\n",
    "    num_lf_detections.append(lf_file_detections.shape[0]/2)\n",
    "    hf_file_detections = read_detection(detection_dir, recording_name, 'hf')\n",
    "    num_hf_detections.append(hf_file_detections.shape[0]/2)"
   ]
  },
  {
   "cell_type": "code",
   "execution_count": 82,
   "id": "96d19e1e",
   "metadata": {
    "scrolled": false
   },
   "outputs": [
    {
     "data": {
      "text/html": [
       "<div>\n",
       "<style scoped>\n",
       "    .dataframe tbody tr th:only-of-type {\n",
       "        vertical-align: middle;\n",
       "    }\n",
       "\n",
       "    .dataframe tbody tr th {\n",
       "        vertical-align: top;\n",
       "    }\n",
       "\n",
       "    .dataframe thead th {\n",
       "        text-align: right;\n",
       "    }\n",
       "</style>\n",
       "<table border=\"1\" class=\"dataframe\">\n",
       "  <thead>\n",
       "    <tr style=\"text-align: right;\">\n",
       "      <th></th>\n",
       "      <th>File Names</th>\n",
       "      <th>Date</th>\n",
       "      <th>Start Time (UTC)</th>\n",
       "      <th>End Time (UTC)</th>\n",
       "      <th># of LF detections</th>\n",
       "      <th># of HF detections</th>\n",
       "    </tr>\n",
       "  </thead>\n",
       "  <tbody>\n",
       "    <tr>\n",
       "      <th>0</th>\n",
       "      <td>20220723_000000.WAV</td>\n",
       "      <td>2022-07-23</td>\n",
       "      <td>00:00:00</td>\n",
       "      <td>00:29:55</td>\n",
       "      <td>0.0</td>\n",
       "      <td>0.0</td>\n",
       "    </tr>\n",
       "    <tr>\n",
       "      <th>1</th>\n",
       "      <td>20220723_003000.WAV</td>\n",
       "      <td>2022-07-23</td>\n",
       "      <td>00:30:00</td>\n",
       "      <td>00:59:55</td>\n",
       "      <td>0.0</td>\n",
       "      <td>0.0</td>\n",
       "    </tr>\n",
       "    <tr>\n",
       "      <th>2</th>\n",
       "      <td>20220723_010000.WAV</td>\n",
       "      <td>2022-07-23</td>\n",
       "      <td>01:00:00</td>\n",
       "      <td>01:29:55</td>\n",
       "      <td>0.0</td>\n",
       "      <td>0.0</td>\n",
       "    </tr>\n",
       "    <tr>\n",
       "      <th>3</th>\n",
       "      <td>20220723_013000.WAV</td>\n",
       "      <td>2022-07-23</td>\n",
       "      <td>01:30:00</td>\n",
       "      <td>01:59:55</td>\n",
       "      <td>0.0</td>\n",
       "      <td>0.0</td>\n",
       "    </tr>\n",
       "    <tr>\n",
       "      <th>4</th>\n",
       "      <td>20220723_020000.WAV</td>\n",
       "      <td>2022-07-23</td>\n",
       "      <td>02:00:00</td>\n",
       "      <td>02:29:55</td>\n",
       "      <td>0.0</td>\n",
       "      <td>0.0</td>\n",
       "    </tr>\n",
       "    <tr>\n",
       "      <th>...</th>\n",
       "      <td>...</td>\n",
       "      <td>...</td>\n",
       "      <td>...</td>\n",
       "      <td>...</td>\n",
       "      <td>...</td>\n",
       "      <td>...</td>\n",
       "    </tr>\n",
       "    <tr>\n",
       "      <th>91</th>\n",
       "      <td>20220724_213000.WAV</td>\n",
       "      <td>2022-07-24</td>\n",
       "      <td>21:30:00</td>\n",
       "      <td>21:59:55</td>\n",
       "      <td>0.0</td>\n",
       "      <td>0.0</td>\n",
       "    </tr>\n",
       "    <tr>\n",
       "      <th>92</th>\n",
       "      <td>20220724_220000.WAV</td>\n",
       "      <td>2022-07-24</td>\n",
       "      <td>22:00:00</td>\n",
       "      <td>22:29:55</td>\n",
       "      <td>0.0</td>\n",
       "      <td>0.0</td>\n",
       "    </tr>\n",
       "    <tr>\n",
       "      <th>93</th>\n",
       "      <td>20220724_223000.WAV</td>\n",
       "      <td>2022-07-24</td>\n",
       "      <td>22:30:00</td>\n",
       "      <td>22:59:55</td>\n",
       "      <td>0.0</td>\n",
       "      <td>0.0</td>\n",
       "    </tr>\n",
       "    <tr>\n",
       "      <th>94</th>\n",
       "      <td>20220724_230000.WAV</td>\n",
       "      <td>2022-07-24</td>\n",
       "      <td>23:00:00</td>\n",
       "      <td>23:29:55</td>\n",
       "      <td>2.0</td>\n",
       "      <td>0.0</td>\n",
       "    </tr>\n",
       "    <tr>\n",
       "      <th>95</th>\n",
       "      <td>20220724_233000.WAV</td>\n",
       "      <td>2022-07-24</td>\n",
       "      <td>23:30:00</td>\n",
       "      <td>23:59:55</td>\n",
       "      <td>0.0</td>\n",
       "      <td>0.0</td>\n",
       "    </tr>\n",
       "  </tbody>\n",
       "</table>\n",
       "<p>96 rows × 6 columns</p>\n",
       "</div>"
      ],
      "text/plain": [
       "             File Names        Date Start Time (UTC) End Time (UTC)  \\\n",
       "0   20220723_000000.WAV  2022-07-23         00:00:00       00:29:55   \n",
       "1   20220723_003000.WAV  2022-07-23         00:30:00       00:59:55   \n",
       "2   20220723_010000.WAV  2022-07-23         01:00:00       01:29:55   \n",
       "3   20220723_013000.WAV  2022-07-23         01:30:00       01:59:55   \n",
       "4   20220723_020000.WAV  2022-07-23         02:00:00       02:29:55   \n",
       "..                  ...         ...              ...            ...   \n",
       "91  20220724_213000.WAV  2022-07-24         21:30:00       21:59:55   \n",
       "92  20220724_220000.WAV  2022-07-24         22:00:00       22:29:55   \n",
       "93  20220724_223000.WAV  2022-07-24         22:30:00       22:59:55   \n",
       "94  20220724_230000.WAV  2022-07-24         23:00:00       23:29:55   \n",
       "95  20220724_233000.WAV  2022-07-24         23:30:00       23:59:55   \n",
       "\n",
       "   # of LF detections # of HF detections  \n",
       "0                 0.0                0.0  \n",
       "1                 0.0                0.0  \n",
       "2                 0.0                0.0  \n",
       "3                 0.0                0.0  \n",
       "4                 0.0                0.0  \n",
       "..                ...                ...  \n",
       "91                0.0                0.0  \n",
       "92                0.0                0.0  \n",
       "93                0.0                0.0  \n",
       "94                2.0                0.0  \n",
       "95                0.0                0.0  \n",
       "\n",
       "[96 rows x 6 columns]"
      ]
     },
     "execution_count": 82,
     "metadata": {},
     "output_type": "execute_result"
    }
   ],
   "source": [
    "df = pd.DataFrame([file_names, dates, s_times, e_times, num_lf_detections, num_hf_detections], \n",
    "                  index=[\"File Names\", \"Date\", \"Start Time (UTC)\", \"End Time (UTC)\", \"# of LF detections\", \"# of HF detections\"]).T\n",
    "df"
   ]
  },
  {
   "cell_type": "code",
   "execution_count": 86,
   "id": "838d3832",
   "metadata": {},
   "outputs": [
    {
     "data": {
      "image/png": "[encoded data removed]",
      "text/plain": [
       "<Figure size 1152x432 with 1 Axes>"
      ]
     },
     "metadata": {
      "needs_background": "light"
     },
     "output_type": "display_data"
    },
    {
     "data": {
      "image/png": "[encoded data removed]",
      "text/plain": [
       "<Figure size 1152x432 with 1 Axes>"
      ]
     },
     "metadata": {
      "needs_background": "light"
     },
     "output_type": "display_data"
    }
   ],
   "source": [
    "# To plot each day's activity separately, group by rows that have the same date\n",
    "# We need a list of unique dates from our detection files\n",
    "unique_dates = df[\"Date\"].unique()\n",
    "\n",
    "for date in unique_dates:\n",
    "    day_df = df.loc[df['Date'] == date]\n",
    "    day_df.plot.bar(x=\"Start Time (UTC)\", title=date, figsize=(16, 6), rot=45)"
   ]
  },
  {
   "cell_type": "code",
   "execution_count": 84,
   "id": "73783fdc",
   "metadata": {
    "scrolled": false
   },
   "outputs": [
    {
     "data": {
      "text/plain": [
       "<AxesSubplot:title={'center':'Total Deployment Session'}, xlabel='Start Time (UTC)'>"
      ]
     },
     "execution_count": 84,
     "metadata": {},
     "output_type": "execute_result"
    },
    {
     "data": {
      "image/png": "[encoded data removed]",
      "text/plain": [
       "<Figure size 1152x432 with 1 Axes>"
      ]
     },
     "metadata": {
      "needs_background": "light"
     },
     "output_type": "display_data"
    }
   ],
   "source": [
    "df.plot.bar(x=\"Start Time (UTC)\", title=\"Total Deployment Session\", figsize=(16, 6), fontsize=7, rot=45)"
   ]
  },
  {
   "cell_type": "code",
   "execution_count": null,
   "id": "52322224",
   "metadata": {},
   "outputs": [],
   "source": []
  }
 ],
 "metadata": {
  "kernelspec": {
   "display_name": "Python 3 (ipykernel)",
   "language": "python",
   "name": "python3"
  },
  "language_info": {
   "codemirror_mode": {
    "name": "ipython",
    "version": 3
   },
   "file_extension": ".py",
   "mimetype": "text/x-python",
   "name": "python",
   "nbconvert_exporter": "python",
   "pygments_lexer": "ipython3",
   "version": "3.10.5"
  }
 },
 "nbformat": 4,
 "nbformat_minor": 5
}
