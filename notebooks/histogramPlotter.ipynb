{
 "cells": [
  {
   "cell_type": "code",
   "execution_count": 8,
   "id": "b7cc1bcf",
   "metadata": {},
   "outputs": [],
   "source": [
    "import os\n",
    "\n",
    "import pandas as pd\n",
    "from pandas.errors import EmptyDataError \n",
    "\n",
    "import numpy as np\n",
    "import matplotlib.pyplot as plt\n",
    "\n",
    "from datetime import timedelta, timezone\n",
    "from datetime import date as dt\n",
    "import dateutil.parser as dparser\n",
    "import pytz"
   ]
  },
  {
   "cell_type": "code",
   "execution_count": 9,
   "id": "8d2fec78",
   "metadata": {},
   "outputs": [],
   "source": [
    "# Given parameters:\n",
    "# 1) Date in the form (YYYYMMDD)\n",
    "# 2) Time in the form (HHMMSS)\n",
    "# 4) det_type can either be 'LF' or 'HF'\n",
    "\n",
    "# Output:\n",
    "# The table of selections. \n",
    "# - Column 1 is start time of selection within file\n",
    "# - Column 2 is end time of selection within file\n",
    "# - Column 3 is lowest frequency of selection within file\n",
    "# - Column 3 is highest frequenct of selection within file\n",
    "# Length of selections will give us # of selections\n",
    "\n",
    "def getData(date, time, det_type):\n",
    "    date_n_type_path = '/' + date + '/' + date + '_' + det_type + 'detections'\n",
    "\n",
    "    source_dir = 'Selections' + date_n_type_path\n",
    "\n",
    "    file_name = (det_type + date + '_' + time + '.WAV.txt')\n",
    "    file_path = source_dir + '/' + file_name\n",
    "    sels_np = np.array([])\n",
    "    \n",
    "    if (os.path.exists(file_path)):\n",
    "        try:\n",
    "            data = pd.read_csv(file_path, sep='\\t')\n",
    "        except EmptyDataError:\n",
    "            print(file_path + \" is empty\")\n",
    "\n",
    "        sels_np = data.to_numpy()[::2, 3:-1:]\n",
    "\n",
    "    return sels_np"
   ]
  },
  {
   "cell_type": "code",
   "execution_count": 49,
   "id": "3d2483ed",
   "metadata": {},
   "outputs": [],
   "source": [
    "# These are variables that will help us point to specific folders and files\n",
    "\n",
    "# Session name is the folder name where our recordings are\n",
    "session_name = ''\n",
    "\n",
    "# Sorted_files is our list of all recording file names within a single folder\n",
    "session_dir = session_name+'Recordings'\n",
    "files = os.listdir(session_dir)\n",
    "sorted_files = sorted(files)\n",
    "\n",
    "# We fill the first 3 columns of our dataframe right here using dateutils parser\n",
    "dates = []\n",
    "s_times = []\n",
    "e_times = []\n",
    "for file in sorted_files:\n",
    "    dates.append(str(dparser.parse(file, fuzzy=True).date()))\n",
    "    s_times.append(str(dparser.parse(file, fuzzy=True).time()))\n",
    "    e_times.append(str(((dparser.parse(file, fuzzy=True)) + (timedelta(minutes=29, seconds=55))).time()))\n",
    "\n",
    "# We fill out the next 2 columns of data regarding the number of LF and HF selections\n",
    "num_LFselections = np.zeros(len(s_times))\n",
    "num_HFselections = np.zeros(len(s_times))\n",
    "\n",
    "for i, date in enumerate(dates):\n",
    "    # We need to remove the - from YYYY-MM-DD which is standard datetime format.\n",
    "    # This will help us find files in the YYYYMMDD standard Audiomoth format\n",
    "    date = date.replace('-', '')\n",
    "    # Same goes for the HH:MM:SS standard datetime format and the Audiomoth's HHMMSS standard\n",
    "    time = s_times[i].replace(\":\", \"\")\n",
    "    \n",
    "    LFfile_selections = getData(date, time, 'LF')\n",
    "    num_LFselections[i] = len(LFfile_selections)\n",
    "    \n",
    "    HFfile_selections = getData(date, time, 'HF')\n",
    "    num_HFselections[i] = len(HFfile_selections)"
   ]
  },
  {
   "cell_type": "code",
   "execution_count": 14,
   "id": "21fae250",
   "metadata": {
    "scrolled": false
   },
   "outputs": [
    {
     "data": {
      "image/png": "[encoded data removed]",
      "text/plain": [
       "<Figure size 1008x504 with 2 Axes>"
      ]
     },
     "metadata": {
      "needs_background": "light"
     },
     "output_type": "display_data"
    }
   ],
   "source": [
    "# Intiailize x_ticks\n",
    "n_bins = len(num_LFselections)\n",
    "ticks = np.arange(0, n_bins)/2.0 + 2\n",
    "\n",
    "# There will be 23 recordings in range 02:00 to 13:00 (1 day)\n",
    "num_times = 1 # For now, let's try having 1 recording per day\n",
    "num_days = n_bins//num_times\n",
    "\n",
    "bar_width = 0.2\n",
    "\n",
    "plt.rcParams['font.size'] = '12'\n",
    " \n",
    "# There will be multiple days of data so we plot each day's data in a different subplot\n",
    "if (num_days > 1):\n",
    "    fig, ax = plt.subplots(num_days, 1, figsize =(14, 7), tight_layout = True)\n",
    "    for i in range(num_days):\n",
    "\n",
    "        # We format the bar graph and the distance each bar is from the specified time\n",
    "        ax[i].bar(ticks[i*num_times:(i+1)*num_times]+(bar_width), \n",
    "                  num_LFselections[i*num_times:(i+1)*num_times], color = 'b', width = bar_width)\n",
    "        ax[i].bar(ticks[i*num_times:(i+1)*num_times]+(3*bar_width/2), \n",
    "                  num_HFselections[i*num_times:(i+1)*num_times], color = 'g', width = bar_width)\n",
    "\n",
    "        # Cut off the unnecessary time info from the start times so we can label the x-axis ticks\n",
    "        xlabels = []\n",
    "        for time in s_times:\n",
    "            xlabels.append(time[:-3])\n",
    "\n",
    "        # Use the labels from each specific day just like the rest of the data\n",
    "        ax[i].set_xticks(ticks[i*num_times:(i+1)*num_times:])\n",
    "        ax[i].set_xticklabels(xlabels[i*num_times:(i+1)*num_times:])\n",
    "\n",
    "        # Set figure titles and y_labels. We let the x_label represent the same for both figures\n",
    "        ax[i].set_title('Bat Call Activity on ' + dates[i*num_times] + ';  ' + s_times[i*num_times] + ' to ' + e_times[(i+1)*num_times-1] + ' (UTC)', fontsize=16)\n",
    "        ax[i].set_ylabel('# of RavenPro Selections', fontsize=14)\n",
    "\n",
    "    # Show plot\n",
    "    plt.xlabel('Time (HH:MM)', fontsize=16)\n",
    "    plt.show()\n",
    "else:\n",
    "    print('Go to next cell!')"
   ]
  },
  {
   "cell_type": "code",
   "execution_count": 47,
   "id": "119bda30",
   "metadata": {},
   "outputs": [
    {
     "data": {
      "image/png": "[encoded data removed]",
      "text/plain": [
       "<Figure size 1008x504 with 1 Axes>"
      ]
     },
     "metadata": {
      "needs_background": "light"
     },
     "output_type": "display_data"
    }
   ],
   "source": [
    "# This a histogram plot of all files from one deployment session\n",
    "\n",
    "n_bins = len(num_LFselections)\n",
    "ticks = np.arange(0, n_bins)/0.5\n",
    "\n",
    "# The bar width is smaller to make room for all the bars\n",
    "bar_width = 0.5\n",
    "\n",
    "# The font size is smaller too\n",
    "plt.rcParams['font.size'] = '14'\n",
    " \n",
    "# Creating histogram\n",
    "fig, ax = plt.subplots(1, 1, figsize =(14, 7), tight_layout = True)\n",
    "\n",
    "ax.bar(ticks+(bar_width), num_LFselections, color = 'b', width = bar_width)\n",
    "ax.bar(ticks+(3*bar_width/2), num_HFselections, color = 'g', width = bar_width)\n",
    "\n",
    "xlabels = []\n",
    "for i, time in enumerate(s_times):\n",
    "    xlabels.append(time[:-3])\n",
    "    xlabels.append(e_times[i][:-3])\n",
    "    \n",
    "ax.set_xticks(np.arange(0, 2*n_bins))\n",
    "ax.set_xticklabels(xlabels[::])\n",
    "ax.set_title('Bat Call Activity', fontsize=16)\n",
    "\n",
    "ax.set_ylabel('# of RavenPro Selections', fontsize=14)\n",
    "    \n",
    "# Show plot\n",
    "plt.xlabel('Time (HH:MM)', fontsize=16)\n",
    "plt.show()"
   ]
  },
  {
   "cell_type": "code",
   "execution_count": 48,
   "id": "b0b11c24",
   "metadata": {
    "scrolled": false
   },
   "outputs": [
    {
     "name": "stdout",
     "output_type": "stream",
     "text": [
      "            File Names        Date Start (UTC) End (UTC)  LF selections  \\\n",
      "0  20220701_053000.WAV  2022-07-01    05:30:00  05:59:55           14.0   \n",
      "1  20220702_053000.WAV  2022-07-02    05:30:00  05:59:55            1.0   \n",
      "\n",
      "   HF selections  \n",
      "0           36.0  \n",
      "1            8.0  \n"
     ]
    }
   ],
   "source": [
    "df = pd.DataFrame()\n",
    "\n",
    "df[\"File Names\"] = sorted_files\n",
    "df[\"Date\"] = dates  \n",
    "df[\"Start (UTC)\"] = s_times\n",
    "df[\"End (UTC)\"] = e_times\n",
    "df[\"LF selections\"] = num_LFselections\n",
    "df[\"HF selections\"] = num_HFselections\n",
    "\n",
    "print(df)"
   ]
  },
  {
   "cell_type": "code",
   "execution_count": null,
   "id": "a7633212",
   "metadata": {},
   "outputs": [],
   "source": []
  }
 ],
 "metadata": {
  "kernelspec": {
   "display_name": "Python 3 (ipykernel)",
   "language": "python",
   "name": "python3"
  },
  "language_info": {
   "codemirror_mode": {
    "name": "ipython",
    "version": 3
   },
   "file_extension": ".py",
   "mimetype": "text/x-python",
   "name": "python",
   "nbconvert_exporter": "python",
   "pygments_lexer": "ipython3",
   "version": "3.7.13"
  }
 },
 "nbformat": 4,
 "nbformat_minor": 5
}
