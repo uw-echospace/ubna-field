{
 "cells": [
  {
   "cell_type": "markdown",
   "id": "fa2c57c6",
   "metadata": {},
   "source": [
    "# Estimating filesize re recording time"
   ]
  },
  {
   "cell_type": "code",
   "execution_count": 1,
   "id": "ea4badb8",
   "metadata": {},
   "outputs": [],
   "source": [
    "from pathlib import Path\n",
    "\n",
    "import numpy as np\n",
    "import pandas as pd"
   ]
  },
  {
   "cell_type": "code",
   "execution_count": 2,
   "id": "e723086a",
   "metadata": {},
   "outputs": [],
   "source": [
    "txt_path = Path(\"field_records/filesize_printouts/\")"
   ]
  },
  {
   "cell_type": "code",
   "execution_count": 3,
   "id": "1e647980",
   "metadata": {},
   "outputs": [],
   "source": [
    "df_unit07 = pd.read_csv(\n",
    "    txt_path / \"recover-20220715_unit07.txt\",\n",
    "    sep=\"\\s+\",\n",
    "    header=None,\n",
    "#     index_col=0,\n",
    ")\n",
    "df_unit07.columns = [\"mode\", \"count\", \"user\", \"group\", \"size\", \"month\", \"date\", \"time\", \"filename\"]"
   ]
  },
  {
   "cell_type": "code",
   "execution_count": 4,
   "id": "76f3e448",
   "metadata": {},
   "outputs": [
    {
     "data": {
      "text/html": [
       "<div>\n",
       "<style scoped>\n",
       "    .dataframe tbody tr th:only-of-type {\n",
       "        vertical-align: middle;\n",
       "    }\n",
       "\n",
       "    .dataframe tbody tr th {\n",
       "        vertical-align: top;\n",
       "    }\n",
       "\n",
       "    .dataframe thead th {\n",
       "        text-align: right;\n",
       "    }\n",
       "</style>\n",
       "<table border=\"1\" class=\"dataframe\">\n",
       "  <thead>\n",
       "    <tr style=\"text-align: right;\">\n",
       "      <th></th>\n",
       "      <th>mode</th>\n",
       "      <th>count</th>\n",
       "      <th>user</th>\n",
       "      <th>group</th>\n",
       "      <th>size</th>\n",
       "      <th>month</th>\n",
       "      <th>date</th>\n",
       "      <th>time</th>\n",
       "      <th>filename</th>\n",
       "    </tr>\n",
       "  </thead>\n",
       "  <tbody>\n",
       "    <tr>\n",
       "      <th>0</th>\n",
       "      <td>-rw-r--r--</td>\n",
       "      <td>1</td>\n",
       "      <td>josie</td>\n",
       "      <td>ubna_bat</td>\n",
       "      <td>1310720</td>\n",
       "      <td>Jul</td>\n",
       "      <td>12</td>\n",
       "      <td>11:57</td>\n",
       "      <td>/mnt/ubna_data_01/recover-20220715/UBNA_007/20...</td>\n",
       "    </tr>\n",
       "    <tr>\n",
       "      <th>1</th>\n",
       "      <td>-rw-r--r--</td>\n",
       "      <td>1</td>\n",
       "      <td>josie</td>\n",
       "      <td>ubna_bat</td>\n",
       "      <td>46500488</td>\n",
       "      <td>Jul</td>\n",
       "      <td>12</td>\n",
       "      <td>11:59</td>\n",
       "      <td>/mnt/ubna_data_01/recover-20220715/UBNA_007/20...</td>\n",
       "    </tr>\n",
       "    <tr>\n",
       "      <th>2</th>\n",
       "      <td>-rw-r--r--</td>\n",
       "      <td>1</td>\n",
       "      <td>josie</td>\n",
       "      <td>ubna_bat</td>\n",
       "      <td>897500488</td>\n",
       "      <td>Jul</td>\n",
       "      <td>12</td>\n",
       "      <td>12:29</td>\n",
       "      <td>/mnt/ubna_data_01/recover-20220715/UBNA_007/20...</td>\n",
       "    </tr>\n",
       "    <tr>\n",
       "      <th>3</th>\n",
       "      <td>-rw-r--r--</td>\n",
       "      <td>1</td>\n",
       "      <td>josie</td>\n",
       "      <td>ubna_bat</td>\n",
       "      <td>897500488</td>\n",
       "      <td>Jul</td>\n",
       "      <td>12</td>\n",
       "      <td>12:59</td>\n",
       "      <td>/mnt/ubna_data_01/recover-20220715/UBNA_007/20...</td>\n",
       "    </tr>\n",
       "    <tr>\n",
       "      <th>4</th>\n",
       "      <td>-rw-r--r--</td>\n",
       "      <td>1</td>\n",
       "      <td>josie</td>\n",
       "      <td>ubna_bat</td>\n",
       "      <td>897500488</td>\n",
       "      <td>Jul</td>\n",
       "      <td>12</td>\n",
       "      <td>13:29</td>\n",
       "      <td>/mnt/ubna_data_01/recover-20220715/UBNA_007/20...</td>\n",
       "    </tr>\n",
       "    <tr>\n",
       "      <th>...</th>\n",
       "      <td>...</td>\n",
       "      <td>...</td>\n",
       "      <td>...</td>\n",
       "      <td>...</td>\n",
       "      <td>...</td>\n",
       "      <td>...</td>\n",
       "      <td>...</td>\n",
       "      <td>...</td>\n",
       "      <td>...</td>\n",
       "    </tr>\n",
       "    <tr>\n",
       "      <th>148</th>\n",
       "      <td>-rw-r--r--</td>\n",
       "      <td>1</td>\n",
       "      <td>josie</td>\n",
       "      <td>ubna_bat</td>\n",
       "      <td>0</td>\n",
       "      <td>Dec</td>\n",
       "      <td>31</td>\n",
       "      <td>1979</td>\n",
       "      <td>/mnt/ubna_data_01/recover-20220715/UBNA_007/20...</td>\n",
       "    </tr>\n",
       "    <tr>\n",
       "      <th>149</th>\n",
       "      <td>-rw-r--r--</td>\n",
       "      <td>1</td>\n",
       "      <td>josie</td>\n",
       "      <td>ubna_bat</td>\n",
       "      <td>0</td>\n",
       "      <td>Dec</td>\n",
       "      <td>31</td>\n",
       "      <td>1979</td>\n",
       "      <td>/mnt/ubna_data_01/recover-20220715/UBNA_007/20...</td>\n",
       "    </tr>\n",
       "    <tr>\n",
       "      <th>150</th>\n",
       "      <td>-rw-r--r--</td>\n",
       "      <td>1</td>\n",
       "      <td>josie</td>\n",
       "      <td>ubna_bat</td>\n",
       "      <td>0</td>\n",
       "      <td>Dec</td>\n",
       "      <td>31</td>\n",
       "      <td>1979</td>\n",
       "      <td>/mnt/ubna_data_01/recover-20220715/UBNA_007/20...</td>\n",
       "    </tr>\n",
       "    <tr>\n",
       "      <th>151</th>\n",
       "      <td>-rw-r--r--</td>\n",
       "      <td>1</td>\n",
       "      <td>josie</td>\n",
       "      <td>ubna_bat</td>\n",
       "      <td>8945664</td>\n",
       "      <td>Jul</td>\n",
       "      <td>15</td>\n",
       "      <td>14:30</td>\n",
       "      <td>/mnt/ubna_data_01/recover-20220715/UBNA_007/20...</td>\n",
       "    </tr>\n",
       "    <tr>\n",
       "      <th>152</th>\n",
       "      <td>-rw-r--r--</td>\n",
       "      <td>1</td>\n",
       "      <td>josie</td>\n",
       "      <td>ubna_bat</td>\n",
       "      <td>1040</td>\n",
       "      <td>Jul</td>\n",
       "      <td>12</td>\n",
       "      <td>11:58</td>\n",
       "      <td>/mnt/ubna_data_01/recover-20220715/UBNA_007/CO...</td>\n",
       "    </tr>\n",
       "  </tbody>\n",
       "</table>\n",
       "<p>153 rows × 9 columns</p>\n",
       "</div>"
      ],
      "text/plain": [
       "           mode  count   user     group       size month  date   time  \\\n",
       "0    -rw-r--r--      1  josie  ubna_bat    1310720   Jul    12  11:57   \n",
       "1    -rw-r--r--      1  josie  ubna_bat   46500488   Jul    12  11:59   \n",
       "2    -rw-r--r--      1  josie  ubna_bat  897500488   Jul    12  12:29   \n",
       "3    -rw-r--r--      1  josie  ubna_bat  897500488   Jul    12  12:59   \n",
       "4    -rw-r--r--      1  josie  ubna_bat  897500488   Jul    12  13:29   \n",
       "..          ...    ...    ...       ...        ...   ...   ...    ...   \n",
       "148  -rw-r--r--      1  josie  ubna_bat          0   Dec    31   1979   \n",
       "149  -rw-r--r--      1  josie  ubna_bat          0   Dec    31   1979   \n",
       "150  -rw-r--r--      1  josie  ubna_bat          0   Dec    31   1979   \n",
       "151  -rw-r--r--      1  josie  ubna_bat    8945664   Jul    15  14:30   \n",
       "152  -rw-r--r--      1  josie  ubna_bat       1040   Jul    12  11:58   \n",
       "\n",
       "                                              filename  \n",
       "0    /mnt/ubna_data_01/recover-20220715/UBNA_007/20...  \n",
       "1    /mnt/ubna_data_01/recover-20220715/UBNA_007/20...  \n",
       "2    /mnt/ubna_data_01/recover-20220715/UBNA_007/20...  \n",
       "3    /mnt/ubna_data_01/recover-20220715/UBNA_007/20...  \n",
       "4    /mnt/ubna_data_01/recover-20220715/UBNA_007/20...  \n",
       "..                                                 ...  \n",
       "148  /mnt/ubna_data_01/recover-20220715/UBNA_007/20...  \n",
       "149  /mnt/ubna_data_01/recover-20220715/UBNA_007/20...  \n",
       "150  /mnt/ubna_data_01/recover-20220715/UBNA_007/20...  \n",
       "151  /mnt/ubna_data_01/recover-20220715/UBNA_007/20...  \n",
       "152  /mnt/ubna_data_01/recover-20220715/UBNA_007/CO...  \n",
       "\n",
       "[153 rows x 9 columns]"
      ]
     },
     "execution_count": 4,
     "metadata": {},
     "output_type": "execute_result"
    }
   ],
   "source": [
    "df_unit07"
   ]
  },
  {
   "cell_type": "code",
   "execution_count": 5,
   "id": "c4d5a396",
   "metadata": {
    "scrolled": true
   },
   "outputs": [
    {
     "data": {
      "text/plain": [
       "897500488    119\n",
       "0             30\n",
       "1310720        1\n",
       "46500488       1\n",
       "8945664        1\n",
       "1040           1\n",
       "Name: size, dtype: int64"
      ]
     },
     "execution_count": 5,
     "metadata": {},
     "output_type": "execute_result"
    }
   ],
   "source": [
    "df_unit07[\"size\"].value_counts()"
   ]
  },
  {
   "cell_type": "code",
   "execution_count": 6,
   "id": "54d9e55f",
   "metadata": {},
   "outputs": [],
   "source": [
    "filesize_mb = df_unit07[\"size\"].value_counts().index[0] / 1024e3"
   ]
  },
  {
   "cell_type": "code",
   "execution_count": 7,
   "id": "ef4bad4a",
   "metadata": {},
   "outputs": [
    {
     "data": {
      "text/plain": [
       "876.4653203125"
      ]
     },
     "execution_count": 7,
     "metadata": {},
     "output_type": "execute_result"
    }
   ],
   "source": [
    "filesize_mb"
   ]
  },
  {
   "cell_type": "markdown",
   "id": "1f3aaf81",
   "metadata": {},
   "source": [
    "The SD card size is 128 GB, so with the per file size seen above:"
   ]
  },
  {
   "cell_type": "code",
   "execution_count": 8,
   "id": "3d1e5328",
   "metadata": {},
   "outputs": [
    {
     "data": {
      "text/plain": [
       "146.0411462194102"
      ]
     },
     "execution_count": 8,
     "metadata": {},
     "output_type": "execute_result"
    }
   ],
   "source": [
    "file_num_allowed = 128e3 / filesize_mb\n",
    "file_num_allowed"
   ]
  },
  {
   "cell_type": "markdown",
   "id": "904bf9a8",
   "metadata": {},
   "source": [
    "Each file is 30-min long, so the max time we can go is around ~72 hrs if recording continuously, even with the added battery pack."
   ]
  },
  {
   "cell_type": "code",
   "execution_count": null,
   "id": "c1731941",
   "metadata": {},
   "outputs": [],
   "source": []
  },
  {
   "cell_type": "code",
   "execution_count": null,
   "id": "342b760f",
   "metadata": {},
   "outputs": [],
   "source": []
  }
 ],
 "metadata": {
  "kernelspec": {
   "display_name": "Python [conda env:pp-data-mar22]",
   "language": "python",
   "name": "conda-env-pp-data-mar22-py"
  },
  "language_info": {
   "codemirror_mode": {
    "name": "ipython",
    "version": 3
   },
   "file_extension": ".py",
   "mimetype": "text/x-python",
   "name": "python",
   "nbconvert_exporter": "python",
   "pygments_lexer": "ipython3",
   "version": "3.8.13"
  }
 },
 "nbformat": 4,
 "nbformat_minor": 5
}
