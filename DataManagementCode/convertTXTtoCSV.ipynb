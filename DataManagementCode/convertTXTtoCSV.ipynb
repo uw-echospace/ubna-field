{
 "cells": [
  {
   "cell_type": "code",
   "execution_count": 1,
   "id": "d288f209",
   "metadata": {},
   "outputs": [],
   "source": [
    "# import Audio and Spectrogram classes from OpenSoundscape\n",
    "# These classes help segment audio into displayable chunks for faster plotting\n",
    "from opensoundscape.audio import Audio\n",
    "from opensoundscape.spectrogram import Spectrogram\n",
    "\n",
    "import pandas as pd\n",
    "import numpy as np\n",
    "import matplotlib.pyplot as plt\n",
    "\n",
    "import glob\n",
    "import os"
   ]
  },
  {
   "cell_type": "code",
   "execution_count": 2,
   "id": "8dc64fd2",
   "metadata": {},
   "outputs": [],
   "source": [
    "# This builds the path to the output.txt file that we extracted by piping the linux ls command's output\n",
    "# I used ls -lh > output.txt in my Recordings folder\n",
    "session = '20220703_unit2'\n",
    "filename = 'output' + session + '.txt'\n",
    "\n",
    "file_path = filename"
   ]
  },
  {
   "cell_type": "code",
   "execution_count": 3,
   "id": "06853f3c",
   "metadata": {},
   "outputs": [
    {
     "name": "stdout",
     "output_type": "stream",
     "text": [
      "              0  1           2           3     4    5   6      7  \\\n",
      "0    -rwxr-xr-x  1  adkris1002  adkris1002  1.5M  Jul   2  14:34   \n",
      "1    -rwxr-xr-x  1  adkris1002  adkris1002  656M  Jul   2  14:59   \n",
      "2    -rwxr-xr-x  1  adkris1002  adkris1002  856M  Jul   2  15:29   \n",
      "3    -rwxr-xr-x  1  adkris1002  adkris1002  856M  Jul   2  15:59   \n",
      "4    -rwxr-xr-x  1  adkris1002  adkris1002  856M  Jul   2  16:29   \n",
      "..          ... ..         ...         ...   ...  ...  ..    ...   \n",
      "847  -rwxr-xr-x  1  adkris1002  adkris1002  856M  Jul   5  10:29   \n",
      "848  -rwxr-xr-x  1  adkris1002  adkris1002  856M  Jul   5  10:59   \n",
      "849  -rwxr-xr-x  1  adkris1002  adkris1002  856M  Jul   5  11:29   \n",
      "850  -rwxr-xr-x  1  adkris1002  adkris1002     0  Dec  31   1979   \n",
      "851  -rw-rw-r--  1  adkris1002  adkris1002     0  Jul  13  23:57   \n",
      "\n",
      "                            8  \n",
      "0         20220702_213428.WAV  \n",
      "1         20220702_213700.WAV  \n",
      "2         20220702_220000.WAV  \n",
      "3         20220702_223000.WAV  \n",
      "4         20220702_230000.WAV  \n",
      "..                        ...  \n",
      "847       20220705_170000.WAV  \n",
      "848       20220705_173000.WAV  \n",
      "849       20220705_180000.WAV  \n",
      "850       20220705_183000.WAV  \n",
      "851  output20220703_unit2.txt  \n",
      "\n",
      "[852 rows x 9 columns]\n"
     ]
    }
   ],
   "source": [
    "# We read in the .txt file using the file path and a separator of spaces.\n",
    "# We set header=None so read_csv does not look for a header\n",
    "# We also skip the first row of the raw output because the first row is 'Total <size of all files>'\n",
    "\n",
    "data= pd.read_csv(file_path, sep='\\s+', skiprows=1, header=None)\n",
    "print(data)"
   ]
  },
  {
   "cell_type": "code",
   "execution_count": 9,
   "id": "8f9d3760",
   "metadata": {
    "scrolled": true
   },
   "outputs": [
    {
     "name": "stdout",
     "output_type": "stream",
     "text": [
      "[['1.5M' 'Jul' 2 '14:34' '20220702_213428.WAV']\n",
      " ['656M' 'Jul' 2 '14:59' '20220702_213700.WAV']\n",
      " ['856M' 'Jul' 2 '15:29' '20220702_220000.WAV']\n",
      " ...\n",
      " ['856M' 'Jul' 5 '10:59' '20220705_173000.WAV']\n",
      " ['856M' 'Jul' 5 '11:29' '20220705_180000.WAV']\n",
      " ['0' 'Dec' 31 '1979' '20220705_183000.WAV']]\n"
     ]
    }
   ],
   "source": [
    "# We clean up and only extract the rows and columns we need.\n",
    "# We don't need the first 4 columns or the last row which is the size of the output.txt file\n",
    "\n",
    "list_np = data.to_numpy()[:-1,4:]\n",
    "print(list_np)"
   ]
  },
  {
   "cell_type": "code",
   "execution_count": 10,
   "id": "809eb018",
   "metadata": {},
   "outputs": [],
   "source": [
    "# We convert our new cleaner numpy array into a data frame with cleaner labels\n",
    "# The time columns will have a year in some rows when the file is empty\n",
    "# The file sizes also have M when it is mB (megabyte) and K when it is kB (kilobyte)\n",
    "# There are no units for file sizes when the units are in bytes\n",
    "\n",
    "df = pd.DataFrame(list_np, columns = ['File Size','Month','Date', 'Time', 'File Name'])"
   ]
  },
  {
   "cell_type": "code",
   "execution_count": 11,
   "id": "08e7e8fe",
   "metadata": {},
   "outputs": [
    {
     "name": "stdout",
     "output_type": "stream",
     "text": [
      "    File Size Month Date   Time            File Name\n",
      "0        1.5M   Jul    2  14:34  20220702_213428.WAV\n",
      "1        656M   Jul    2  14:59  20220702_213700.WAV\n",
      "2        856M   Jul    2  15:29  20220702_220000.WAV\n",
      "3        856M   Jul    2  15:59  20220702_223000.WAV\n",
      "4        856M   Jul    2  16:29  20220702_230000.WAV\n",
      "..        ...   ...  ...    ...                  ...\n",
      "846      856M   Jul    5  09:59  20220705_163000.WAV\n",
      "847      856M   Jul    5  10:29  20220705_170000.WAV\n",
      "848      856M   Jul    5  10:59  20220705_173000.WAV\n",
      "849      856M   Jul    5  11:29  20220705_180000.WAV\n",
      "850         0   Dec   31   1979  20220705_183000.WAV\n",
      "\n",
      "[851 rows x 5 columns]\n"
     ]
    }
   ],
   "source": [
    "print(df)"
   ]
  },
  {
   "cell_type": "code",
   "execution_count": 7,
   "id": "9abe8e73",
   "metadata": {},
   "outputs": [
    {
     "name": "stdout",
     "output_type": "stream",
     "text": [
      "['/home/adkris1002/Documents/UBNA_Research/AudiomothStuff/Recordings&Code/Audiomoth2Files/Foliage2022/20220703_unit2/Recordings/20220702_213428.WAV', '/home/adkris1002/Documents/UBNA_Research/AudiomothStuff/Recordings&Code/Audiomoth2Files/Foliage2022/20220703_unit2/Recordings/20220702_213700.WAV', '/home/adkris1002/Documents/UBNA_Research/AudiomothStuff/Recordings&Code/Audiomoth2Files/Foliage2022/20220703_unit2/Recordings/20220702_220000.WAV', '/home/adkris1002/Documents/UBNA_Research/AudiomothStuff/Recordings&Code/Audiomoth2Files/Foliage2022/20220703_unit2/Recordings/20220702_223000.WAV', '/home/adkris1002/Documents/UBNA_Research/AudiomothStuff/Recordings&Code/Audiomoth2Files/Foliage2022/20220703_unit2/Recordings/20220702_230000.WAV', '/home/adkris1002/Documents/UBNA_Research/AudiomothStuff/Recordings&Code/Audiomoth2Files/Foliage2022/20220703_unit2/Recordings/20220702_233000.WAV', '/home/adkris1002/Documents/UBNA_Research/AudiomothStuff/Recordings&Code/Audiomoth2Files/Foliage2022/20220703_unit2/Recordings/20220703_000000.WAV', '/home/adkris1002/Documents/UBNA_Research/AudiomothStuff/Recordings&Code/Audiomoth2Files/Foliage2022/20220703_unit2/Recordings/20220703_003000.WAV', '/home/adkris1002/Documents/UBNA_Research/AudiomothStuff/Recordings&Code/Audiomoth2Files/Foliage2022/20220703_unit2/Recordings/20220703_010000.WAV', '/home/adkris1002/Documents/UBNA_Research/AudiomothStuff/Recordings&Code/Audiomoth2Files/Foliage2022/20220703_unit2/Recordings/20220703_013000.WAV', '/home/adkris1002/Documents/UBNA_Research/AudiomothStuff/Recordings&Code/Audiomoth2Files/Foliage2022/20220703_unit2/Recordings/20220703_020000.WAV', '/home/adkris1002/Documents/UBNA_Research/AudiomothStuff/Recordings&Code/Audiomoth2Files/Foliage2022/20220703_unit2/Recordings/20220703_023000.WAV', '/home/adkris1002/Documents/UBNA_Research/AudiomothStuff/Recordings&Code/Audiomoth2Files/Foliage2022/20220703_unit2/Recordings/20220703_030000.WAV', '/home/adkris1002/Documents/UBNA_Research/AudiomothStuff/Recordings&Code/Audiomoth2Files/Foliage2022/20220703_unit2/Recordings/20220703_033000.WAV', '/home/adkris1002/Documents/UBNA_Research/AudiomothStuff/Recordings&Code/Audiomoth2Files/Foliage2022/20220703_unit2/Recordings/20220703_040000.WAV', '/home/adkris1002/Documents/UBNA_Research/AudiomothStuff/Recordings&Code/Audiomoth2Files/Foliage2022/20220703_unit2/Recordings/20220703_043000.WAV', '/home/adkris1002/Documents/UBNA_Research/AudiomothStuff/Recordings&Code/Audiomoth2Files/Foliage2022/20220703_unit2/Recordings/20220703_050000.WAV', '/home/adkris1002/Documents/UBNA_Research/AudiomothStuff/Recordings&Code/Audiomoth2Files/Foliage2022/20220703_unit2/Recordings/20220703_053000.WAV', '/home/adkris1002/Documents/UBNA_Research/AudiomothStuff/Recordings&Code/Audiomoth2Files/Foliage2022/20220703_unit2/Recordings/20220703_060000.WAV', '/home/adkris1002/Documents/UBNA_Research/AudiomothStuff/Recordings&Code/Audiomoth2Files/Foliage2022/20220703_unit2/Recordings/20220703_063000.WAV', '/home/adkris1002/Documents/UBNA_Research/AudiomothStuff/Recordings&Code/Audiomoth2Files/Foliage2022/20220703_unit2/Recordings/20220703_070000.WAV', '/home/adkris1002/Documents/UBNA_Research/AudiomothStuff/Recordings&Code/Audiomoth2Files/Foliage2022/20220703_unit2/Recordings/20220703_073000.WAV', '/home/adkris1002/Documents/UBNA_Research/AudiomothStuff/Recordings&Code/Audiomoth2Files/Foliage2022/20220703_unit2/Recordings/20220703_080000.WAV', '/home/adkris1002/Documents/UBNA_Research/AudiomothStuff/Recordings&Code/Audiomoth2Files/Foliage2022/20220703_unit2/Recordings/20220703_083000.WAV', '/home/adkris1002/Documents/UBNA_Research/AudiomothStuff/Recordings&Code/Audiomoth2Files/Foliage2022/20220703_unit2/Recordings/20220703_090000.WAV', '/home/adkris1002/Documents/UBNA_Research/AudiomothStuff/Recordings&Code/Audiomoth2Files/Foliage2022/20220703_unit2/Recordings/20220703_093000.WAV', '/home/adkris1002/Documents/UBNA_Research/AudiomothStuff/Recordings&Code/Audiomoth2Files/Foliage2022/20220703_unit2/Recordings/20220703_100000.WAV', '/home/adkris1002/Documents/UBNA_Research/AudiomothStuff/Recordings&Code/Audiomoth2Files/Foliage2022/20220703_unit2/Recordings/20220703_103000.WAV', '/home/adkris1002/Documents/UBNA_Research/AudiomothStuff/Recordings&Code/Audiomoth2Files/Foliage2022/20220703_unit2/Recordings/20220703_110000.WAV', '/home/adkris1002/Documents/UBNA_Research/AudiomothStuff/Recordings&Code/Audiomoth2Files/Foliage2022/20220703_unit2/Recordings/20220703_113000.WAV', '/home/adkris1002/Documents/UBNA_Research/AudiomothStuff/Recordings&Code/Audiomoth2Files/Foliage2022/20220703_unit2/Recordings/20220703_120000.WAV', '/home/adkris1002/Documents/UBNA_Research/AudiomothStuff/Recordings&Code/Audiomoth2Files/Foliage2022/20220703_unit2/Recordings/20220703_123000.WAV', '/home/adkris1002/Documents/UBNA_Research/AudiomothStuff/Recordings&Code/Audiomoth2Files/Foliage2022/20220703_unit2/Recordings/20220703_130000.WAV', '/home/adkris1002/Documents/UBNA_Research/AudiomothStuff/Recordings&Code/Audiomoth2Files/Foliage2022/20220703_unit2/Recordings/20220703_133000.WAV', '/home/adkris1002/Documents/UBNA_Research/AudiomothStuff/Recordings&Code/Audiomoth2Files/Foliage2022/20220703_unit2/Recordings/20220703_140000.WAV', '/home/adkris1002/Documents/UBNA_Research/AudiomothStuff/Recordings&Code/Audiomoth2Files/Foliage2022/20220703_unit2/Recordings/20220703_143000.WAV', '/home/adkris1002/Documents/UBNA_Research/AudiomothStuff/Recordings&Code/Audiomoth2Files/Foliage2022/20220703_unit2/Recordings/20220703_150000.WAV', '/home/adkris1002/Documents/UBNA_Research/AudiomothStuff/Recordings&Code/Audiomoth2Files/Foliage2022/20220703_unit2/Recordings/20220703_153000.WAV', '/home/adkris1002/Documents/UBNA_Research/AudiomothStuff/Recordings&Code/Audiomoth2Files/Foliage2022/20220703_unit2/Recordings/20220703_160000.WAV', '/home/adkris1002/Documents/UBNA_Research/AudiomothStuff/Recordings&Code/Audiomoth2Files/Foliage2022/20220703_unit2/Recordings/20220703_163000.WAV', '/home/adkris1002/Documents/UBNA_Research/AudiomothStuff/Recordings&Code/Audiomoth2Files/Foliage2022/20220703_unit2/Recordings/20220703_170000.WAV', '/home/adkris1002/Documents/UBNA_Research/AudiomothStuff/Recordings&Code/Audiomoth2Files/Foliage2022/20220703_unit2/Recordings/20220703_173000.WAV', '/home/adkris1002/Documents/UBNA_Research/AudiomothStuff/Recordings&Code/Audiomoth2Files/Foliage2022/20220703_unit2/Recordings/20220703_180000.WAV', '/home/adkris1002/Documents/UBNA_Research/AudiomothStuff/Recordings&Code/Audiomoth2Files/Foliage2022/20220703_unit2/Recordings/20220703_183000.WAV', '/home/adkris1002/Documents/UBNA_Research/AudiomothStuff/Recordings&Code/Audiomoth2Files/Foliage2022/20220703_unit2/Recordings/20220703_190000.WAV', '/home/adkris1002/Documents/UBNA_Research/AudiomothStuff/Recordings&Code/Audiomoth2Files/Foliage2022/20220703_unit2/Recordings/20220703_193000.WAV', '/home/adkris1002/Documents/UBNA_Research/AudiomothStuff/Recordings&Code/Audiomoth2Files/Foliage2022/20220703_unit2/Recordings/20220703_200000.WAV', '/home/adkris1002/Documents/UBNA_Research/AudiomothStuff/Recordings&Code/Audiomoth2Files/Foliage2022/20220703_unit2/Recordings/20220703_203000.WAV', '/home/adkris1002/Documents/UBNA_Research/AudiomothStuff/Recordings&Code/Audiomoth2Files/Foliage2022/20220703_unit2/Recordings/20220703_210000.WAV', '/home/adkris1002/Documents/UBNA_Research/AudiomothStuff/Recordings&Code/Audiomoth2Files/Foliage2022/20220703_unit2/Recordings/20220703_213000.WAV', '/home/adkris1002/Documents/UBNA_Research/AudiomothStuff/Recordings&Code/Audiomoth2Files/Foliage2022/20220703_unit2/Recordings/20220703_220000.WAV', '/home/adkris1002/Documents/UBNA_Research/AudiomothStuff/Recordings&Code/Audiomoth2Files/Foliage2022/20220703_unit2/Recordings/20220703_220001.WAV', '/home/adkris1002/Documents/UBNA_Research/AudiomothStuff/Recordings&Code/Audiomoth2Files/Foliage2022/20220703_unit2/Recordings/20220703_220002.WAV', '/home/adkris1002/Documents/UBNA_Research/AudiomothStuff/Recordings&Code/Audiomoth2Files/Foliage2022/20220703_unit2/Recordings/20220703_220003.WAV', '/home/adkris1002/Documents/UBNA_Research/AudiomothStuff/Recordings&Code/Audiomoth2Files/Foliage2022/20220703_unit2/Recordings/20220703_220004.WAV', '/home/adkris1002/Documents/UBNA_Research/AudiomothStuff/Recordings&Code/Audiomoth2Files/Foliage2022/20220703_unit2/Recordings/20220703_220005.WAV', '/home/adkris1002/Documents/UBNA_Research/AudiomothStuff/Recordings&Code/Audiomoth2Files/Foliage2022/20220703_unit2/Recordings/20220703_220006.WAV', '/home/adkris1002/Documents/UBNA_Research/AudiomothStuff/Recordings&Code/Audiomoth2Files/Foliage2022/20220703_unit2/Recordings/20220703_220007.WAV', '/home/adkris1002/Documents/UBNA_Research/AudiomothStuff/Recordings&Code/Audiomoth2Files/Foliage2022/20220703_unit2/Recordings/20220703_220008.WAV', '/home/adkris1002/Documents/UBNA_Research/AudiomothStuff/Recordings&Code/Audiomoth2Files/Foliage2022/20220703_unit2/Recordings/20220703_220009.WAV', '/home/adkris1002/Documents/UBNA_Research/AudiomothStuff/Recordings&Code/Audiomoth2Files/Foliage2022/20220703_unit2/Recordings/20220703_220010.WAV', '/home/adkris1002/Documents/UBNA_Research/AudiomothStuff/Recordings&Code/Audiomoth2Files/Foliage2022/20220703_unit2/Recordings/20220703_220011.WAV', '/home/adkris1002/Documents/UBNA_Research/AudiomothStuff/Recordings&Code/Audiomoth2Files/Foliage2022/20220703_unit2/Recordings/20220703_220012.WAV', '/home/adkris1002/Documents/UBNA_Research/AudiomothStuff/Recordings&Code/Audiomoth2Files/Foliage2022/20220703_unit2/Recordings/20220703_220013.WAV', '/home/adkris1002/Documents/UBNA_Research/AudiomothStuff/Recordings&Code/Audiomoth2Files/Foliage2022/20220703_unit2/Recordings/20220703_220014.WAV', '/home/adkris1002/Documents/UBNA_Research/AudiomothStuff/Recordings&Code/Audiomoth2Files/Foliage2022/20220703_unit2/Recordings/20220703_220015.WAV', '/home/adkris1002/Documents/UBNA_Research/AudiomothStuff/Recordings&Code/Audiomoth2Files/Foliage2022/20220703_unit2/Recordings/20220703_220016.WAV', '/home/adkris1002/Documents/UBNA_Research/AudiomothStuff/Recordings&Code/Audiomoth2Files/Foliage2022/20220703_unit2/Recordings/20220703_220017.WAV', '/home/adkris1002/Documents/UBNA_Research/AudiomothStuff/Recordings&Code/Audiomoth2Files/Foliage2022/20220703_unit2/Recordings/20220703_220018.WAV', '/home/adkris1002/Documents/UBNA_Research/AudiomothStuff/Recordings&Code/Audiomoth2Files/Foliage2022/20220703_unit2/Recordings/20220703_220019.WAV', '/home/adkris1002/Documents/UBNA_Research/AudiomothStuff/Recordings&Code/Audiomoth2Files/Foliage2022/20220703_unit2/Recordings/20220703_220020.WAV', '/home/adkris1002/Documents/UBNA_Research/AudiomothStuff/Recordings&Code/Audiomoth2Files/Foliage2022/20220703_unit2/Recordings/20220703_220021.WAV', '/home/adkris1002/Documents/UBNA_Research/AudiomothStuff/Recordings&Code/Audiomoth2Files/Foliage2022/20220703_unit2/Recordings/20220703_220022.WAV', '/home/adkris1002/Documents/UBNA_Research/AudiomothStuff/Recordings&Code/Audiomoth2Files/Foliage2022/20220703_unit2/Recordings/20220703_220023.WAV', '/home/adkris1002/Documents/UBNA_Research/AudiomothStuff/Recordings&Code/Audiomoth2Files/Foliage2022/20220703_unit2/Recordings/20220703_220024.WAV', '/home/adkris1002/Documents/UBNA_Research/AudiomothStuff/Recordings&Code/Audiomoth2Files/Foliage2022/20220703_unit2/Recordings/20220703_220025.WAV', '/home/adkris1002/Documents/UBNA_Research/AudiomothStuff/Recordings&Code/Audiomoth2Files/Foliage2022/20220703_unit2/Recordings/20220703_220026.WAV', '/home/adkris1002/Documents/UBNA_Research/AudiomothStuff/Recordings&Code/Audiomoth2Files/Foliage2022/20220703_unit2/Recordings/20220703_220027.WAV', '/home/adkris1002/Documents/UBNA_Research/AudiomothStuff/Recordings&Code/Audiomoth2Files/Foliage2022/20220703_unit2/Recordings/20220703_220028.WAV', '/home/adkris1002/Documents/UBNA_Research/AudiomothStuff/Recordings&Code/Audiomoth2Files/Foliage2022/20220703_unit2/Recordings/20220703_220029.WAV', '/home/adkris1002/Documents/UBNA_Research/AudiomothStuff/Recordings&Code/Audiomoth2Files/Foliage2022/20220703_unit2/Recordings/20220703_220030.WAV', '/home/adkris1002/Documents/UBNA_Research/AudiomothStuff/Recordings&Code/Audiomoth2Files/Foliage2022/20220703_unit2/Recordings/20220703_220031.WAV', '/home/adkris1002/Documents/UBNA_Research/AudiomothStuff/Recordings&Code/Audiomoth2Files/Foliage2022/20220703_unit2/Recordings/20220703_220032.WAV', '/home/adkris1002/Documents/UBNA_Research/AudiomothStuff/Recordings&Code/Audiomoth2Files/Foliage2022/20220703_unit2/Recordings/20220703_220033.WAV', '/home/adkris1002/Documents/UBNA_Research/AudiomothStuff/Recordings&Code/Audiomoth2Files/Foliage2022/20220703_unit2/Recordings/20220703_220034.WAV', '/home/adkris1002/Documents/UBNA_Research/AudiomothStuff/Recordings&Code/Audiomoth2Files/Foliage2022/20220703_unit2/Recordings/20220703_220035.WAV', '/home/adkris1002/Documents/UBNA_Research/AudiomothStuff/Recordings&Code/Audiomoth2Files/Foliage2022/20220703_unit2/Recordings/20220703_220036.WAV', '/home/adkris1002/Documents/UBNA_Research/AudiomothStuff/Recordings&Code/Audiomoth2Files/Foliage2022/20220703_unit2/Recordings/20220703_220037.WAV', '/home/adkris1002/Documents/UBNA_Research/AudiomothStuff/Recordings&Code/Audiomoth2Files/Foliage2022/20220703_unit2/Recordings/20220703_220038.WAV', '/home/adkris1002/Documents/UBNA_Research/AudiomothStuff/Recordings&Code/Audiomoth2Files/Foliage2022/20220703_unit2/Recordings/20220703_220039.WAV', '/home/adkris1002/Documents/UBNA_Research/AudiomothStuff/Recordings&Code/Audiomoth2Files/Foliage2022/20220703_unit2/Recordings/20220703_220040.WAV', '/home/adkris1002/Documents/UBNA_Research/AudiomothStuff/Recordings&Code/Audiomoth2Files/Foliage2022/20220703_unit2/Recordings/20220703_220041.WAV', '/home/adkris1002/Documents/UBNA_Research/AudiomothStuff/Recordings&Code/Audiomoth2Files/Foliage2022/20220703_unit2/Recordings/20220703_220042.WAV', '/home/adkris1002/Documents/UBNA_Research/AudiomothStuff/Recordings&Code/Audiomoth2Files/Foliage2022/20220703_unit2/Recordings/20220703_220043.WAV', '/home/adkris1002/Documents/UBNA_Research/AudiomothStuff/Recordings&Code/Audiomoth2Files/Foliage2022/20220703_unit2/Recordings/20220703_220044.WAV', '/home/adkris1002/Documents/UBNA_Research/AudiomothStuff/Recordings&Code/Audiomoth2Files/Foliage2022/20220703_unit2/Recordings/20220703_220045.WAV', '/home/adkris1002/Documents/UBNA_Research/AudiomothStuff/Recordings&Code/Audiomoth2Files/Foliage2022/20220703_unit2/Recordings/20220703_220046.WAV', '/home/adkris1002/Documents/UBNA_Research/AudiomothStuff/Recordings&Code/Audiomoth2Files/Foliage2022/20220703_unit2/Recordings/20220703_220047.WAV', '/home/adkris1002/Documents/UBNA_Research/AudiomothStuff/Recordings&Code/Audiomoth2Files/Foliage2022/20220703_unit2/Recordings/20220703_220048.WAV', '/home/adkris1002/Documents/UBNA_Research/AudiomothStuff/Recordings&Code/Audiomoth2Files/Foliage2022/20220703_unit2/Recordings/20220703_220049.WAV', '/home/adkris1002/Documents/UBNA_Research/AudiomothStuff/Recordings&Code/Audiomoth2Files/Foliage2022/20220703_unit2/Recordings/20220703_220050.WAV', '/home/adkris1002/Documents/UBNA_Research/AudiomothStuff/Recordings&Code/Audiomoth2Files/Foliage2022/20220703_unit2/Recordings/20220703_220051.WAV', '/home/adkris1002/Documents/UBNA_Research/AudiomothStuff/Recordings&Code/Audiomoth2Files/Foliage2022/20220703_unit2/Recordings/20220703_220052.WAV', '/home/adkris1002/Documents/UBNA_Research/AudiomothStuff/Recordings&Code/Audiomoth2Files/Foliage2022/20220703_unit2/Recordings/20220703_220053.WAV', '/home/adkris1002/Documents/UBNA_Research/AudiomothStuff/Recordings&Code/Audiomoth2Files/Foliage2022/20220703_unit2/Recordings/20220703_220054.WAV', '/home/adkris1002/Documents/UBNA_Research/AudiomothStuff/Recordings&Code/Audiomoth2Files/Foliage2022/20220703_unit2/Recordings/20220703_220055.WAV', '/home/adkris1002/Documents/UBNA_Research/AudiomothStuff/Recordings&Code/Audiomoth2Files/Foliage2022/20220703_unit2/Recordings/20220703_220056.WAV', '/home/adkris1002/Documents/UBNA_Research/AudiomothStuff/Recordings&Code/Audiomoth2Files/Foliage2022/20220703_unit2/Recordings/20220703_220057.WAV', '/home/adkris1002/Documents/UBNA_Research/AudiomothStuff/Recordings&Code/Audiomoth2Files/Foliage2022/20220703_unit2/Recordings/20220703_220058.WAV', '/home/adkris1002/Documents/UBNA_Research/AudiomothStuff/Recordings&Code/Audiomoth2Files/Foliage2022/20220703_unit2/Recordings/20220703_220059.WAV', '/home/adkris1002/Documents/UBNA_Research/AudiomothStuff/Recordings&Code/Audiomoth2Files/Foliage2022/20220703_unit2/Recordings/20220703_220100.WAV', '/home/adkris1002/Documents/UBNA_Research/AudiomothStuff/Recordings&Code/Audiomoth2Files/Foliage2022/20220703_unit2/Recordings/20220703_220101.WAV', '/home/adkris1002/Documents/UBNA_Research/AudiomothStuff/Recordings&Code/Audiomoth2Files/Foliage2022/20220703_unit2/Recordings/20220703_220102.WAV', '/home/adkris1002/Documents/UBNA_Research/AudiomothStuff/Recordings&Code/Audiomoth2Files/Foliage2022/20220703_unit2/Recordings/20220703_220103.WAV', '/home/adkris1002/Documents/UBNA_Research/AudiomothStuff/Recordings&Code/Audiomoth2Files/Foliage2022/20220703_unit2/Recordings/20220703_220104.WAV', '/home/adkris1002/Documents/UBNA_Research/AudiomothStuff/Recordings&Code/Audiomoth2Files/Foliage2022/20220703_unit2/Recordings/20220703_220105.WAV', '/home/adkris1002/Documents/UBNA_Research/AudiomothStuff/Recordings&Code/Audiomoth2Files/Foliage2022/20220703_unit2/Recordings/20220703_220106.WAV', '/home/adkris1002/Documents/UBNA_Research/AudiomothStuff/Recordings&Code/Audiomoth2Files/Foliage2022/20220703_unit2/Recordings/20220703_220107.WAV', '/home/adkris1002/Documents/UBNA_Research/AudiomothStuff/Recordings&Code/Audiomoth2Files/Foliage2022/20220703_unit2/Recordings/20220703_220108.WAV', '/home/adkris1002/Documents/UBNA_Research/AudiomothStuff/Recordings&Code/Audiomoth2Files/Foliage2022/20220703_unit2/Recordings/20220703_220109.WAV', '/home/adkris1002/Documents/UBNA_Research/AudiomothStuff/Recordings&Code/Audiomoth2Files/Foliage2022/20220703_unit2/Recordings/20220703_220110.WAV', '/home/adkris1002/Documents/UBNA_Research/AudiomothStuff/Recordings&Code/Audiomoth2Files/Foliage2022/20220703_unit2/Recordings/20220703_220111.WAV', '/home/adkris1002/Documents/UBNA_Research/AudiomothStuff/Recordings&Code/Audiomoth2Files/Foliage2022/20220703_unit2/Recordings/20220703_220112.WAV', '/home/adkris1002/Documents/UBNA_Research/AudiomothStuff/Recordings&Code/Audiomoth2Files/Foliage2022/20220703_unit2/Recordings/20220703_220113.WAV', '/home/adkris1002/Documents/UBNA_Research/AudiomothStuff/Recordings&Code/Audiomoth2Files/Foliage2022/20220703_unit2/Recordings/20220703_220114.WAV', '/home/adkris1002/Documents/UBNA_Research/AudiomothStuff/Recordings&Code/Audiomoth2Files/Foliage2022/20220703_unit2/Recordings/20220703_220115.WAV', '/home/adkris1002/Documents/UBNA_Research/AudiomothStuff/Recordings&Code/Audiomoth2Files/Foliage2022/20220703_unit2/Recordings/20220703_220116.WAV', '/home/adkris1002/Documents/UBNA_Research/AudiomothStuff/Recordings&Code/Audiomoth2Files/Foliage2022/20220703_unit2/Recordings/20220703_220117.WAV', '/home/adkris1002/Documents/UBNA_Research/AudiomothStuff/Recordings&Code/Audiomoth2Files/Foliage2022/20220703_unit2/Recordings/20220703_220118.WAV', '/home/adkris1002/Documents/UBNA_Research/AudiomothStuff/Recordings&Code/Audiomoth2Files/Foliage2022/20220703_unit2/Recordings/20220703_220119.WAV', '/home/adkris1002/Documents/UBNA_Research/AudiomothStuff/Recordings&Code/Audiomoth2Files/Foliage2022/20220703_unit2/Recordings/20220703_220120.WAV', '/home/adkris1002/Documents/UBNA_Research/AudiomothStuff/Recordings&Code/Audiomoth2Files/Foliage2022/20220703_unit2/Recordings/20220703_220121.WAV', '/home/adkris1002/Documents/UBNA_Research/AudiomothStuff/Recordings&Code/Audiomoth2Files/Foliage2022/20220703_unit2/Recordings/20220703_220122.WAV', '/home/adkris1002/Documents/UBNA_Research/AudiomothStuff/Recordings&Code/Audiomoth2Files/Foliage2022/20220703_unit2/Recordings/20220703_220123.WAV', '/home/adkris1002/Documents/UBNA_Research/AudiomothStuff/Recordings&Code/Audiomoth2Files/Foliage2022/20220703_unit2/Recordings/20220703_220124.WAV', '/home/adkris1002/Documents/UBNA_Research/AudiomothStuff/Recordings&Code/Audiomoth2Files/Foliage2022/20220703_unit2/Recordings/20220703_220125.WAV', '/home/adkris1002/Documents/UBNA_Research/AudiomothStuff/Recordings&Code/Audiomoth2Files/Foliage2022/20220703_unit2/Recordings/20220703_220126.WAV', '/home/adkris1002/Documents/UBNA_Research/AudiomothStuff/Recordings&Code/Audiomoth2Files/Foliage2022/20220703_unit2/Recordings/20220703_220127.WAV', '/home/adkris1002/Documents/UBNA_Research/AudiomothStuff/Recordings&Code/Audiomoth2Files/Foliage2022/20220703_unit2/Recordings/20220703_220128.WAV', '/home/adkris1002/Documents/UBNA_Research/AudiomothStuff/Recordings&Code/Audiomoth2Files/Foliage2022/20220703_unit2/Recordings/20220703_220129.WAV', '/home/adkris1002/Documents/UBNA_Research/AudiomothStuff/Recordings&Code/Audiomoth2Files/Foliage2022/20220703_unit2/Recordings/20220703_220130.WAV', '/home/adkris1002/Documents/UBNA_Research/AudiomothStuff/Recordings&Code/Audiomoth2Files/Foliage2022/20220703_unit2/Recordings/20220703_220131.WAV', '/home/adkris1002/Documents/UBNA_Research/AudiomothStuff/Recordings&Code/Audiomoth2Files/Foliage2022/20220703_unit2/Recordings/20220703_220132.WAV', '/home/adkris1002/Documents/UBNA_Research/AudiomothStuff/Recordings&Code/Audiomoth2Files/Foliage2022/20220703_unit2/Recordings/20220703_220133.WAV', '/home/adkris1002/Documents/UBNA_Research/AudiomothStuff/Recordings&Code/Audiomoth2Files/Foliage2022/20220703_unit2/Recordings/20220703_220134.WAV', '/home/adkris1002/Documents/UBNA_Research/AudiomothStuff/Recordings&Code/Audiomoth2Files/Foliage2022/20220703_unit2/Recordings/20220703_220135.WAV', '/home/adkris1002/Documents/UBNA_Research/AudiomothStuff/Recordings&Code/Audiomoth2Files/Foliage2022/20220703_unit2/Recordings/20220703_220136.WAV', '/home/adkris1002/Documents/UBNA_Research/AudiomothStuff/Recordings&Code/Audiomoth2Files/Foliage2022/20220703_unit2/Recordings/20220703_220137.WAV', '/home/adkris1002/Documents/UBNA_Research/AudiomothStuff/Recordings&Code/Audiomoth2Files/Foliage2022/20220703_unit2/Recordings/20220703_220138.WAV', '/home/adkris1002/Documents/UBNA_Research/AudiomothStuff/Recordings&Code/Audiomoth2Files/Foliage2022/20220703_unit2/Recordings/20220703_220139.WAV', '/home/adkris1002/Documents/UBNA_Research/AudiomothStuff/Recordings&Code/Audiomoth2Files/Foliage2022/20220703_unit2/Recordings/20220703_220140.WAV', '/home/adkris1002/Documents/UBNA_Research/AudiomothStuff/Recordings&Code/Audiomoth2Files/Foliage2022/20220703_unit2/Recordings/20220703_220141.WAV', '/home/adkris1002/Documents/UBNA_Research/AudiomothStuff/Recordings&Code/Audiomoth2Files/Foliage2022/20220703_unit2/Recordings/20220703_220142.WAV', '/home/adkris1002/Documents/UBNA_Research/AudiomothStuff/Recordings&Code/Audiomoth2Files/Foliage2022/20220703_unit2/Recordings/20220703_220143.WAV', '/home/adkris1002/Documents/UBNA_Research/AudiomothStuff/Recordings&Code/Audiomoth2Files/Foliage2022/20220703_unit2/Recordings/20220703_220144.WAV', '/home/adkris1002/Documents/UBNA_Research/AudiomothStuff/Recordings&Code/Audiomoth2Files/Foliage2022/20220703_unit2/Recordings/20220703_220145.WAV', '/home/adkris1002/Documents/UBNA_Research/AudiomothStuff/Recordings&Code/Audiomoth2Files/Foliage2022/20220703_unit2/Recordings/20220703_220146.WAV', '/home/adkris1002/Documents/UBNA_Research/AudiomothStuff/Recordings&Code/Audiomoth2Files/Foliage2022/20220703_unit2/Recordings/20220703_220147.WAV', '/home/adkris1002/Documents/UBNA_Research/AudiomothStuff/Recordings&Code/Audiomoth2Files/Foliage2022/20220703_unit2/Recordings/20220703_220148.WAV', '/home/adkris1002/Documents/UBNA_Research/AudiomothStuff/Recordings&Code/Audiomoth2Files/Foliage2022/20220703_unit2/Recordings/20220703_220149.WAV', '/home/adkris1002/Documents/UBNA_Research/AudiomothStuff/Recordings&Code/Audiomoth2Files/Foliage2022/20220703_unit2/Recordings/20220703_220150.WAV', '/home/adkris1002/Documents/UBNA_Research/AudiomothStuff/Recordings&Code/Audiomoth2Files/Foliage2022/20220703_unit2/Recordings/20220703_220151.WAV', '/home/adkris1002/Documents/UBNA_Research/AudiomothStuff/Recordings&Code/Audiomoth2Files/Foliage2022/20220703_unit2/Recordings/20220703_220152.WAV', '/home/adkris1002/Documents/UBNA_Research/AudiomothStuff/Recordings&Code/Audiomoth2Files/Foliage2022/20220703_unit2/Recordings/20220703_220153.WAV', '/home/adkris1002/Documents/UBNA_Research/AudiomothStuff/Recordings&Code/Audiomoth2Files/Foliage2022/20220703_unit2/Recordings/20220703_220154.WAV', '/home/adkris1002/Documents/UBNA_Research/AudiomothStuff/Recordings&Code/Audiomoth2Files/Foliage2022/20220703_unit2/Recordings/20220703_220155.WAV', '/home/adkris1002/Documents/UBNA_Research/AudiomothStuff/Recordings&Code/Audiomoth2Files/Foliage2022/20220703_unit2/Recordings/20220703_220156.WAV', '/home/adkris1002/Documents/UBNA_Research/AudiomothStuff/Recordings&Code/Audiomoth2Files/Foliage2022/20220703_unit2/Recordings/20220703_220157.WAV', '/home/adkris1002/Documents/UBNA_Research/AudiomothStuff/Recordings&Code/Audiomoth2Files/Foliage2022/20220703_unit2/Recordings/20220703_220158.WAV', '/home/adkris1002/Documents/UBNA_Research/AudiomothStuff/Recordings&Code/Audiomoth2Files/Foliage2022/20220703_unit2/Recordings/20220703_220159.WAV', '/home/adkris1002/Documents/UBNA_Research/AudiomothStuff/Recordings&Code/Audiomoth2Files/Foliage2022/20220703_unit2/Recordings/20220703_220200.WAV', '/home/adkris1002/Documents/UBNA_Research/AudiomothStuff/Recordings&Code/Audiomoth2Files/Foliage2022/20220703_unit2/Recordings/20220703_220201.WAV', '/home/adkris1002/Documents/UBNA_Research/AudiomothStuff/Recordings&Code/Audiomoth2Files/Foliage2022/20220703_unit2/Recordings/20220703_220202.WAV', '/home/adkris1002/Documents/UBNA_Research/AudiomothStuff/Recordings&Code/Audiomoth2Files/Foliage2022/20220703_unit2/Recordings/20220703_220203.WAV', '/home/adkris1002/Documents/UBNA_Research/AudiomothStuff/Recordings&Code/Audiomoth2Files/Foliage2022/20220703_unit2/Recordings/20220703_220204.WAV', '/home/adkris1002/Documents/UBNA_Research/AudiomothStuff/Recordings&Code/Audiomoth2Files/Foliage2022/20220703_unit2/Recordings/20220703_220205.WAV', '/home/adkris1002/Documents/UBNA_Research/AudiomothStuff/Recordings&Code/Audiomoth2Files/Foliage2022/20220703_unit2/Recordings/20220703_220206.WAV', '/home/adkris1002/Documents/UBNA_Research/AudiomothStuff/Recordings&Code/Audiomoth2Files/Foliage2022/20220703_unit2/Recordings/20220703_220207.WAV', '/home/adkris1002/Documents/UBNA_Research/AudiomothStuff/Recordings&Code/Audiomoth2Files/Foliage2022/20220703_unit2/Recordings/20220703_220208.WAV', '/home/adkris1002/Documents/UBNA_Research/AudiomothStuff/Recordings&Code/Audiomoth2Files/Foliage2022/20220703_unit2/Recordings/20220703_220209.WAV', '/home/adkris1002/Documents/UBNA_Research/AudiomothStuff/Recordings&Code/Audiomoth2Files/Foliage2022/20220703_unit2/Recordings/20220703_220210.WAV', '/home/adkris1002/Documents/UBNA_Research/AudiomothStuff/Recordings&Code/Audiomoth2Files/Foliage2022/20220703_unit2/Recordings/20220703_220211.WAV', '/home/adkris1002/Documents/UBNA_Research/AudiomothStuff/Recordings&Code/Audiomoth2Files/Foliage2022/20220703_unit2/Recordings/20220703_220212.WAV', '/home/adkris1002/Documents/UBNA_Research/AudiomothStuff/Recordings&Code/Audiomoth2Files/Foliage2022/20220703_unit2/Recordings/20220703_220213.WAV', '/home/adkris1002/Documents/UBNA_Research/AudiomothStuff/Recordings&Code/Audiomoth2Files/Foliage2022/20220703_unit2/Recordings/20220703_220214.WAV', '/home/adkris1002/Documents/UBNA_Research/AudiomothStuff/Recordings&Code/Audiomoth2Files/Foliage2022/20220703_unit2/Recordings/20220703_220215.WAV', '/home/adkris1002/Documents/UBNA_Research/AudiomothStuff/Recordings&Code/Audiomoth2Files/Foliage2022/20220703_unit2/Recordings/20220703_220216.WAV', '/home/adkris1002/Documents/UBNA_Research/AudiomothStuff/Recordings&Code/Audiomoth2Files/Foliage2022/20220703_unit2/Recordings/20220703_220217.WAV', '/home/adkris1002/Documents/UBNA_Research/AudiomothStuff/Recordings&Code/Audiomoth2Files/Foliage2022/20220703_unit2/Recordings/20220703_220218.WAV', '/home/adkris1002/Documents/UBNA_Research/AudiomothStuff/Recordings&Code/Audiomoth2Files/Foliage2022/20220703_unit2/Recordings/20220703_220219.WAV', '/home/adkris1002/Documents/UBNA_Research/AudiomothStuff/Recordings&Code/Audiomoth2Files/Foliage2022/20220703_unit2/Recordings/20220703_220220.WAV', '/home/adkris1002/Documents/UBNA_Research/AudiomothStuff/Recordings&Code/Audiomoth2Files/Foliage2022/20220703_unit2/Recordings/20220703_220221.WAV', '/home/adkris1002/Documents/UBNA_Research/AudiomothStuff/Recordings&Code/Audiomoth2Files/Foliage2022/20220703_unit2/Recordings/20220703_220222.WAV', '/home/adkris1002/Documents/UBNA_Research/AudiomothStuff/Recordings&Code/Audiomoth2Files/Foliage2022/20220703_unit2/Recordings/20220703_220223.WAV', '/home/adkris1002/Documents/UBNA_Research/AudiomothStuff/Recordings&Code/Audiomoth2Files/Foliage2022/20220703_unit2/Recordings/20220703_220224.WAV', '/home/adkris1002/Documents/UBNA_Research/AudiomothStuff/Recordings&Code/Audiomoth2Files/Foliage2022/20220703_unit2/Recordings/20220703_220225.WAV', '/home/adkris1002/Documents/UBNA_Research/AudiomothStuff/Recordings&Code/Audiomoth2Files/Foliage2022/20220703_unit2/Recordings/20220703_220226.WAV', '/home/adkris1002/Documents/UBNA_Research/AudiomothStuff/Recordings&Code/Audiomoth2Files/Foliage2022/20220703_unit2/Recordings/20220703_220227.WAV', '/home/adkris1002/Documents/UBNA_Research/AudiomothStuff/Recordings&Code/Audiomoth2Files/Foliage2022/20220703_unit2/Recordings/20220703_220228.WAV', '/home/adkris1002/Documents/UBNA_Research/AudiomothStuff/Recordings&Code/Audiomoth2Files/Foliage2022/20220703_unit2/Recordings/20220703_220229.WAV', '/home/adkris1002/Documents/UBNA_Research/AudiomothStuff/Recordings&Code/Audiomoth2Files/Foliage2022/20220703_unit2/Recordings/20220703_220230.WAV', '/home/adkris1002/Documents/UBNA_Research/AudiomothStuff/Recordings&Code/Audiomoth2Files/Foliage2022/20220703_unit2/Recordings/20220703_220231.WAV', '/home/adkris1002/Documents/UBNA_Research/AudiomothStuff/Recordings&Code/Audiomoth2Files/Foliage2022/20220703_unit2/Recordings/20220703_220232.WAV', '/home/adkris1002/Documents/UBNA_Research/AudiomothStuff/Recordings&Code/Audiomoth2Files/Foliage2022/20220703_unit2/Recordings/20220703_220233.WAV', '/home/adkris1002/Documents/UBNA_Research/AudiomothStuff/Recordings&Code/Audiomoth2Files/Foliage2022/20220703_unit2/Recordings/20220703_220234.WAV', '/home/adkris1002/Documents/UBNA_Research/AudiomothStuff/Recordings&Code/Audiomoth2Files/Foliage2022/20220703_unit2/Recordings/20220703_220235.WAV', '/home/adkris1002/Documents/UBNA_Research/AudiomothStuff/Recordings&Code/Audiomoth2Files/Foliage2022/20220703_unit2/Recordings/20220703_220236.WAV', '/home/adkris1002/Documents/UBNA_Research/AudiomothStuff/Recordings&Code/Audiomoth2Files/Foliage2022/20220703_unit2/Recordings/20220703_220237.WAV', '/home/adkris1002/Documents/UBNA_Research/AudiomothStuff/Recordings&Code/Audiomoth2Files/Foliage2022/20220703_unit2/Recordings/20220703_220238.WAV', '/home/adkris1002/Documents/UBNA_Research/AudiomothStuff/Recordings&Code/Audiomoth2Files/Foliage2022/20220703_unit2/Recordings/20220703_220239.WAV', '/home/adkris1002/Documents/UBNA_Research/AudiomothStuff/Recordings&Code/Audiomoth2Files/Foliage2022/20220703_unit2/Recordings/20220703_220240.WAV', '/home/adkris1002/Documents/UBNA_Research/AudiomothStuff/Recordings&Code/Audiomoth2Files/Foliage2022/20220703_unit2/Recordings/20220703_220241.WAV', '/home/adkris1002/Documents/UBNA_Research/AudiomothStuff/Recordings&Code/Audiomoth2Files/Foliage2022/20220703_unit2/Recordings/20220703_220242.WAV', '/home/adkris1002/Documents/UBNA_Research/AudiomothStuff/Recordings&Code/Audiomoth2Files/Foliage2022/20220703_unit2/Recordings/20220703_220243.WAV', '/home/adkris1002/Documents/UBNA_Research/AudiomothStuff/Recordings&Code/Audiomoth2Files/Foliage2022/20220703_unit2/Recordings/20220703_220244.WAV', '/home/adkris1002/Documents/UBNA_Research/AudiomothStuff/Recordings&Code/Audiomoth2Files/Foliage2022/20220703_unit2/Recordings/20220703_220245.WAV', '/home/adkris1002/Documents/UBNA_Research/AudiomothStuff/Recordings&Code/Audiomoth2Files/Foliage2022/20220703_unit2/Recordings/20220703_220246.WAV', '/home/adkris1002/Documents/UBNA_Research/AudiomothStuff/Recordings&Code/Audiomoth2Files/Foliage2022/20220703_unit2/Recordings/20220703_220247.WAV', '/home/adkris1002/Documents/UBNA_Research/AudiomothStuff/Recordings&Code/Audiomoth2Files/Foliage2022/20220703_unit2/Recordings/20220703_220248.WAV', '/home/adkris1002/Documents/UBNA_Research/AudiomothStuff/Recordings&Code/Audiomoth2Files/Foliage2022/20220703_unit2/Recordings/20220703_220249.WAV', '/home/adkris1002/Documents/UBNA_Research/AudiomothStuff/Recordings&Code/Audiomoth2Files/Foliage2022/20220703_unit2/Recordings/20220703_220250.WAV', '/home/adkris1002/Documents/UBNA_Research/AudiomothStuff/Recordings&Code/Audiomoth2Files/Foliage2022/20220703_unit2/Recordings/20220703_220251.WAV', '/home/adkris1002/Documents/UBNA_Research/AudiomothStuff/Recordings&Code/Audiomoth2Files/Foliage2022/20220703_unit2/Recordings/20220703_220252.WAV', '/home/adkris1002/Documents/UBNA_Research/AudiomothStuff/Recordings&Code/Audiomoth2Files/Foliage2022/20220703_unit2/Recordings/20220703_220253.WAV', '/home/adkris1002/Documents/UBNA_Research/AudiomothStuff/Recordings&Code/Audiomoth2Files/Foliage2022/20220703_unit2/Recordings/20220703_220254.WAV', '/home/adkris1002/Documents/UBNA_Research/AudiomothStuff/Recordings&Code/Audiomoth2Files/Foliage2022/20220703_unit2/Recordings/20220703_220255.WAV', '/home/adkris1002/Documents/UBNA_Research/AudiomothStuff/Recordings&Code/Audiomoth2Files/Foliage2022/20220703_unit2/Recordings/20220703_220256.WAV', '/home/adkris1002/Documents/UBNA_Research/AudiomothStuff/Recordings&Code/Audiomoth2Files/Foliage2022/20220703_unit2/Recordings/20220703_220257.WAV', '/home/adkris1002/Documents/UBNA_Research/AudiomothStuff/Recordings&Code/Audiomoth2Files/Foliage2022/20220703_unit2/Recordings/20220703_220258.WAV', '/home/adkris1002/Documents/UBNA_Research/AudiomothStuff/Recordings&Code/Audiomoth2Files/Foliage2022/20220703_unit2/Recordings/20220703_220259.WAV', '/home/adkris1002/Documents/UBNA_Research/AudiomothStuff/Recordings&Code/Audiomoth2Files/Foliage2022/20220703_unit2/Recordings/20220703_220300.WAV', '/home/adkris1002/Documents/UBNA_Research/AudiomothStuff/Recordings&Code/Audiomoth2Files/Foliage2022/20220703_unit2/Recordings/20220703_220301.WAV', '/home/adkris1002/Documents/UBNA_Research/AudiomothStuff/Recordings&Code/Audiomoth2Files/Foliage2022/20220703_unit2/Recordings/20220703_220302.WAV', '/home/adkris1002/Documents/UBNA_Research/AudiomothStuff/Recordings&Code/Audiomoth2Files/Foliage2022/20220703_unit2/Recordings/20220703_220303.WAV', '/home/adkris1002/Documents/UBNA_Research/AudiomothStuff/Recordings&Code/Audiomoth2Files/Foliage2022/20220703_unit2/Recordings/20220703_220304.WAV', '/home/adkris1002/Documents/UBNA_Research/AudiomothStuff/Recordings&Code/Audiomoth2Files/Foliage2022/20220703_unit2/Recordings/20220703_220305.WAV', '/home/adkris1002/Documents/UBNA_Research/AudiomothStuff/Recordings&Code/Audiomoth2Files/Foliage2022/20220703_unit2/Recordings/20220703_220306.WAV', '/home/adkris1002/Documents/UBNA_Research/AudiomothStuff/Recordings&Code/Audiomoth2Files/Foliage2022/20220703_unit2/Recordings/20220703_220307.WAV', '/home/adkris1002/Documents/UBNA_Research/AudiomothStuff/Recordings&Code/Audiomoth2Files/Foliage2022/20220703_unit2/Recordings/20220703_220308.WAV', '/home/adkris1002/Documents/UBNA_Research/AudiomothStuff/Recordings&Code/Audiomoth2Files/Foliage2022/20220703_unit2/Recordings/20220703_220309.WAV', '/home/adkris1002/Documents/UBNA_Research/AudiomothStuff/Recordings&Code/Audiomoth2Files/Foliage2022/20220703_unit2/Recordings/20220703_220310.WAV', '/home/adkris1002/Documents/UBNA_Research/AudiomothStuff/Recordings&Code/Audiomoth2Files/Foliage2022/20220703_unit2/Recordings/20220703_220311.WAV', '/home/adkris1002/Documents/UBNA_Research/AudiomothStuff/Recordings&Code/Audiomoth2Files/Foliage2022/20220703_unit2/Recordings/20220703_220312.WAV', '/home/adkris1002/Documents/UBNA_Research/AudiomothStuff/Recordings&Code/Audiomoth2Files/Foliage2022/20220703_unit2/Recordings/20220703_220313.WAV', '/home/adkris1002/Documents/UBNA_Research/AudiomothStuff/Recordings&Code/Audiomoth2Files/Foliage2022/20220703_unit2/Recordings/20220703_220314.WAV', '/home/adkris1002/Documents/UBNA_Research/AudiomothStuff/Recordings&Code/Audiomoth2Files/Foliage2022/20220703_unit2/Recordings/20220703_220315.WAV', '/home/adkris1002/Documents/UBNA_Research/AudiomothStuff/Recordings&Code/Audiomoth2Files/Foliage2022/20220703_unit2/Recordings/20220703_220316.WAV', '/home/adkris1002/Documents/UBNA_Research/AudiomothStuff/Recordings&Code/Audiomoth2Files/Foliage2022/20220703_unit2/Recordings/20220703_220317.WAV', '/home/adkris1002/Documents/UBNA_Research/AudiomothStuff/Recordings&Code/Audiomoth2Files/Foliage2022/20220703_unit2/Recordings/20220703_220318.WAV', '/home/adkris1002/Documents/UBNA_Research/AudiomothStuff/Recordings&Code/Audiomoth2Files/Foliage2022/20220703_unit2/Recordings/20220703_220319.WAV', '/home/adkris1002/Documents/UBNA_Research/AudiomothStuff/Recordings&Code/Audiomoth2Files/Foliage2022/20220703_unit2/Recordings/20220703_220320.WAV', '/home/adkris1002/Documents/UBNA_Research/AudiomothStuff/Recordings&Code/Audiomoth2Files/Foliage2022/20220703_unit2/Recordings/20220703_220321.WAV', '/home/adkris1002/Documents/UBNA_Research/AudiomothStuff/Recordings&Code/Audiomoth2Files/Foliage2022/20220703_unit2/Recordings/20220703_220322.WAV', '/home/adkris1002/Documents/UBNA_Research/AudiomothStuff/Recordings&Code/Audiomoth2Files/Foliage2022/20220703_unit2/Recordings/20220703_220323.WAV', '/home/adkris1002/Documents/UBNA_Research/AudiomothStuff/Recordings&Code/Audiomoth2Files/Foliage2022/20220703_unit2/Recordings/20220703_220324.WAV', '/home/adkris1002/Documents/UBNA_Research/AudiomothStuff/Recordings&Code/Audiomoth2Files/Foliage2022/20220703_unit2/Recordings/20220703_220325.WAV', '/home/adkris1002/Documents/UBNA_Research/AudiomothStuff/Recordings&Code/Audiomoth2Files/Foliage2022/20220703_unit2/Recordings/20220703_220326.WAV', '/home/adkris1002/Documents/UBNA_Research/AudiomothStuff/Recordings&Code/Audiomoth2Files/Foliage2022/20220703_unit2/Recordings/20220703_220327.WAV', '/home/adkris1002/Documents/UBNA_Research/AudiomothStuff/Recordings&Code/Audiomoth2Files/Foliage2022/20220703_unit2/Recordings/20220703_220328.WAV', '/home/adkris1002/Documents/UBNA_Research/AudiomothStuff/Recordings&Code/Audiomoth2Files/Foliage2022/20220703_unit2/Recordings/20220703_220329.WAV', '/home/adkris1002/Documents/UBNA_Research/AudiomothStuff/Recordings&Code/Audiomoth2Files/Foliage2022/20220703_unit2/Recordings/20220703_220330.WAV', '/home/adkris1002/Documents/UBNA_Research/AudiomothStuff/Recordings&Code/Audiomoth2Files/Foliage2022/20220703_unit2/Recordings/20220703_220331.WAV', '/home/adkris1002/Documents/UBNA_Research/AudiomothStuff/Recordings&Code/Audiomoth2Files/Foliage2022/20220703_unit2/Recordings/20220703_220332.WAV', '/home/adkris1002/Documents/UBNA_Research/AudiomothStuff/Recordings&Code/Audiomoth2Files/Foliage2022/20220703_unit2/Recordings/20220703_220333.WAV', '/home/adkris1002/Documents/UBNA_Research/AudiomothStuff/Recordings&Code/Audiomoth2Files/Foliage2022/20220703_unit2/Recordings/20220703_220334.WAV', '/home/adkris1002/Documents/UBNA_Research/AudiomothStuff/Recordings&Code/Audiomoth2Files/Foliage2022/20220703_unit2/Recordings/20220703_220335.WAV', '/home/adkris1002/Documents/UBNA_Research/AudiomothStuff/Recordings&Code/Audiomoth2Files/Foliage2022/20220703_unit2/Recordings/20220703_220336.WAV', '/home/adkris1002/Documents/UBNA_Research/AudiomothStuff/Recordings&Code/Audiomoth2Files/Foliage2022/20220703_unit2/Recordings/20220703_220337.WAV', '/home/adkris1002/Documents/UBNA_Research/AudiomothStuff/Recordings&Code/Audiomoth2Files/Foliage2022/20220703_unit2/Recordings/20220703_220338.WAV', '/home/adkris1002/Documents/UBNA_Research/AudiomothStuff/Recordings&Code/Audiomoth2Files/Foliage2022/20220703_unit2/Recordings/20220703_220339.WAV', '/home/adkris1002/Documents/UBNA_Research/AudiomothStuff/Recordings&Code/Audiomoth2Files/Foliage2022/20220703_unit2/Recordings/20220703_220340.WAV', '/home/adkris1002/Documents/UBNA_Research/AudiomothStuff/Recordings&Code/Audiomoth2Files/Foliage2022/20220703_unit2/Recordings/20220703_220341.WAV', '/home/adkris1002/Documents/UBNA_Research/AudiomothStuff/Recordings&Code/Audiomoth2Files/Foliage2022/20220703_unit2/Recordings/20220703_220342.WAV', '/home/adkris1002/Documents/UBNA_Research/AudiomothStuff/Recordings&Code/Audiomoth2Files/Foliage2022/20220703_unit2/Recordings/20220703_220343.WAV', '/home/adkris1002/Documents/UBNA_Research/AudiomothStuff/Recordings&Code/Audiomoth2Files/Foliage2022/20220703_unit2/Recordings/20220703_220344.WAV', '/home/adkris1002/Documents/UBNA_Research/AudiomothStuff/Recordings&Code/Audiomoth2Files/Foliage2022/20220703_unit2/Recordings/20220703_220345.WAV', '/home/adkris1002/Documents/UBNA_Research/AudiomothStuff/Recordings&Code/Audiomoth2Files/Foliage2022/20220703_unit2/Recordings/20220703_220346.WAV', '/home/adkris1002/Documents/UBNA_Research/AudiomothStuff/Recordings&Code/Audiomoth2Files/Foliage2022/20220703_unit2/Recordings/20220703_220347.WAV', '/home/adkris1002/Documents/UBNA_Research/AudiomothStuff/Recordings&Code/Audiomoth2Files/Foliage2022/20220703_unit2/Recordings/20220703_220348.WAV', '/home/adkris1002/Documents/UBNA_Research/AudiomothStuff/Recordings&Code/Audiomoth2Files/Foliage2022/20220703_unit2/Recordings/20220703_220349.WAV', '/home/adkris1002/Documents/UBNA_Research/AudiomothStuff/Recordings&Code/Audiomoth2Files/Foliage2022/20220703_unit2/Recordings/20220703_220350.WAV', '/home/adkris1002/Documents/UBNA_Research/AudiomothStuff/Recordings&Code/Audiomoth2Files/Foliage2022/20220703_unit2/Recordings/20220703_220351.WAV', '/home/adkris1002/Documents/UBNA_Research/AudiomothStuff/Recordings&Code/Audiomoth2Files/Foliage2022/20220703_unit2/Recordings/20220703_220352.WAV', '/home/adkris1002/Documents/UBNA_Research/AudiomothStuff/Recordings&Code/Audiomoth2Files/Foliage2022/20220703_unit2/Recordings/20220703_220353.WAV', '/home/adkris1002/Documents/UBNA_Research/AudiomothStuff/Recordings&Code/Audiomoth2Files/Foliage2022/20220703_unit2/Recordings/20220703_220354.WAV', '/home/adkris1002/Documents/UBNA_Research/AudiomothStuff/Recordings&Code/Audiomoth2Files/Foliage2022/20220703_unit2/Recordings/20220703_220355.WAV', '/home/adkris1002/Documents/UBNA_Research/AudiomothStuff/Recordings&Code/Audiomoth2Files/Foliage2022/20220703_unit2/Recordings/20220703_220356.WAV', '/home/adkris1002/Documents/UBNA_Research/AudiomothStuff/Recordings&Code/Audiomoth2Files/Foliage2022/20220703_unit2/Recordings/20220703_220357.WAV', '/home/adkris1002/Documents/UBNA_Research/AudiomothStuff/Recordings&Code/Audiomoth2Files/Foliage2022/20220703_unit2/Recordings/20220703_220358.WAV', '/home/adkris1002/Documents/UBNA_Research/AudiomothStuff/Recordings&Code/Audiomoth2Files/Foliage2022/20220703_unit2/Recordings/20220703_220359.WAV', '/home/adkris1002/Documents/UBNA_Research/AudiomothStuff/Recordings&Code/Audiomoth2Files/Foliage2022/20220703_unit2/Recordings/20220703_220400.WAV', '/home/adkris1002/Documents/UBNA_Research/AudiomothStuff/Recordings&Code/Audiomoth2Files/Foliage2022/20220703_unit2/Recordings/20220703_220401.WAV', '/home/adkris1002/Documents/UBNA_Research/AudiomothStuff/Recordings&Code/Audiomoth2Files/Foliage2022/20220703_unit2/Recordings/20220703_220402.WAV', '/home/adkris1002/Documents/UBNA_Research/AudiomothStuff/Recordings&Code/Audiomoth2Files/Foliage2022/20220703_unit2/Recordings/20220703_220403.WAV', '/home/adkris1002/Documents/UBNA_Research/AudiomothStuff/Recordings&Code/Audiomoth2Files/Foliage2022/20220703_unit2/Recordings/20220703_220404.WAV', '/home/adkris1002/Documents/UBNA_Research/AudiomothStuff/Recordings&Code/Audiomoth2Files/Foliage2022/20220703_unit2/Recordings/20220703_220405.WAV', '/home/adkris1002/Documents/UBNA_Research/AudiomothStuff/Recordings&Code/Audiomoth2Files/Foliage2022/20220703_unit2/Recordings/20220703_220406.WAV', '/home/adkris1002/Documents/UBNA_Research/AudiomothStuff/Recordings&Code/Audiomoth2Files/Foliage2022/20220703_unit2/Recordings/20220703_220407.WAV', '/home/adkris1002/Documents/UBNA_Research/AudiomothStuff/Recordings&Code/Audiomoth2Files/Foliage2022/20220703_unit2/Recordings/20220703_220408.WAV', '/home/adkris1002/Documents/UBNA_Research/AudiomothStuff/Recordings&Code/Audiomoth2Files/Foliage2022/20220703_unit2/Recordings/20220703_220409.WAV', '/home/adkris1002/Documents/UBNA_Research/AudiomothStuff/Recordings&Code/Audiomoth2Files/Foliage2022/20220703_unit2/Recordings/20220703_220410.WAV', '/home/adkris1002/Documents/UBNA_Research/AudiomothStuff/Recordings&Code/Audiomoth2Files/Foliage2022/20220703_unit2/Recordings/20220703_220411.WAV', '/home/adkris1002/Documents/UBNA_Research/AudiomothStuff/Recordings&Code/Audiomoth2Files/Foliage2022/20220703_unit2/Recordings/20220703_220412.WAV', '/home/adkris1002/Documents/UBNA_Research/AudiomothStuff/Recordings&Code/Audiomoth2Files/Foliage2022/20220703_unit2/Recordings/20220703_220413.WAV', '/home/adkris1002/Documents/UBNA_Research/AudiomothStuff/Recordings&Code/Audiomoth2Files/Foliage2022/20220703_unit2/Recordings/20220703_220414.WAV', '/home/adkris1002/Documents/UBNA_Research/AudiomothStuff/Recordings&Code/Audiomoth2Files/Foliage2022/20220703_unit2/Recordings/20220703_220415.WAV', '/home/adkris1002/Documents/UBNA_Research/AudiomothStuff/Recordings&Code/Audiomoth2Files/Foliage2022/20220703_unit2/Recordings/20220703_220416.WAV', '/home/adkris1002/Documents/UBNA_Research/AudiomothStuff/Recordings&Code/Audiomoth2Files/Foliage2022/20220703_unit2/Recordings/20220703_220417.WAV', '/home/adkris1002/Documents/UBNA_Research/AudiomothStuff/Recordings&Code/Audiomoth2Files/Foliage2022/20220703_unit2/Recordings/20220703_220418.WAV', '/home/adkris1002/Documents/UBNA_Research/AudiomothStuff/Recordings&Code/Audiomoth2Files/Foliage2022/20220703_unit2/Recordings/20220703_220419.WAV', '/home/adkris1002/Documents/UBNA_Research/AudiomothStuff/Recordings&Code/Audiomoth2Files/Foliage2022/20220703_unit2/Recordings/20220703_220420.WAV', '/home/adkris1002/Documents/UBNA_Research/AudiomothStuff/Recordings&Code/Audiomoth2Files/Foliage2022/20220703_unit2/Recordings/20220703_220421.WAV', '/home/adkris1002/Documents/UBNA_Research/AudiomothStuff/Recordings&Code/Audiomoth2Files/Foliage2022/20220703_unit2/Recordings/20220703_220422.WAV', '/home/adkris1002/Documents/UBNA_Research/AudiomothStuff/Recordings&Code/Audiomoth2Files/Foliage2022/20220703_unit2/Recordings/20220703_220423.WAV', '/home/adkris1002/Documents/UBNA_Research/AudiomothStuff/Recordings&Code/Audiomoth2Files/Foliage2022/20220703_unit2/Recordings/20220703_220424.WAV', '/home/adkris1002/Documents/UBNA_Research/AudiomothStuff/Recordings&Code/Audiomoth2Files/Foliage2022/20220703_unit2/Recordings/20220703_220425.WAV', '/home/adkris1002/Documents/UBNA_Research/AudiomothStuff/Recordings&Code/Audiomoth2Files/Foliage2022/20220703_unit2/Recordings/20220703_220426.WAV', '/home/adkris1002/Documents/UBNA_Research/AudiomothStuff/Recordings&Code/Audiomoth2Files/Foliage2022/20220703_unit2/Recordings/20220703_220427.WAV', '/home/adkris1002/Documents/UBNA_Research/AudiomothStuff/Recordings&Code/Audiomoth2Files/Foliage2022/20220703_unit2/Recordings/20220703_220428.WAV', '/home/adkris1002/Documents/UBNA_Research/AudiomothStuff/Recordings&Code/Audiomoth2Files/Foliage2022/20220703_unit2/Recordings/20220703_220429.WAV', '/home/adkris1002/Documents/UBNA_Research/AudiomothStuff/Recordings&Code/Audiomoth2Files/Foliage2022/20220703_unit2/Recordings/20220703_220430.WAV', '/home/adkris1002/Documents/UBNA_Research/AudiomothStuff/Recordings&Code/Audiomoth2Files/Foliage2022/20220703_unit2/Recordings/20220703_220431.WAV', '/home/adkris1002/Documents/UBNA_Research/AudiomothStuff/Recordings&Code/Audiomoth2Files/Foliage2022/20220703_unit2/Recordings/20220703_220432.WAV', '/home/adkris1002/Documents/UBNA_Research/AudiomothStuff/Recordings&Code/Audiomoth2Files/Foliage2022/20220703_unit2/Recordings/20220703_220433.WAV', '/home/adkris1002/Documents/UBNA_Research/AudiomothStuff/Recordings&Code/Audiomoth2Files/Foliage2022/20220703_unit2/Recordings/20220703_220434.WAV', '/home/adkris1002/Documents/UBNA_Research/AudiomothStuff/Recordings&Code/Audiomoth2Files/Foliage2022/20220703_unit2/Recordings/20220703_220435.WAV', '/home/adkris1002/Documents/UBNA_Research/AudiomothStuff/Recordings&Code/Audiomoth2Files/Foliage2022/20220703_unit2/Recordings/20220703_220436.WAV', '/home/adkris1002/Documents/UBNA_Research/AudiomothStuff/Recordings&Code/Audiomoth2Files/Foliage2022/20220703_unit2/Recordings/20220703_220437.WAV', '/home/adkris1002/Documents/UBNA_Research/AudiomothStuff/Recordings&Code/Audiomoth2Files/Foliage2022/20220703_unit2/Recordings/20220703_220438.WAV', '/home/adkris1002/Documents/UBNA_Research/AudiomothStuff/Recordings&Code/Audiomoth2Files/Foliage2022/20220703_unit2/Recordings/20220703_220439.WAV', '/home/adkris1002/Documents/UBNA_Research/AudiomothStuff/Recordings&Code/Audiomoth2Files/Foliage2022/20220703_unit2/Recordings/20220703_220440.WAV', '/home/adkris1002/Documents/UBNA_Research/AudiomothStuff/Recordings&Code/Audiomoth2Files/Foliage2022/20220703_unit2/Recordings/20220703_220441.WAV', '/home/adkris1002/Documents/UBNA_Research/AudiomothStuff/Recordings&Code/Audiomoth2Files/Foliage2022/20220703_unit2/Recordings/20220703_220442.WAV', '/home/adkris1002/Documents/UBNA_Research/AudiomothStuff/Recordings&Code/Audiomoth2Files/Foliage2022/20220703_unit2/Recordings/20220703_220443.WAV', '/home/adkris1002/Documents/UBNA_Research/AudiomothStuff/Recordings&Code/Audiomoth2Files/Foliage2022/20220703_unit2/Recordings/20220703_220444.WAV', '/home/adkris1002/Documents/UBNA_Research/AudiomothStuff/Recordings&Code/Audiomoth2Files/Foliage2022/20220703_unit2/Recordings/20220703_220445.WAV', '/home/adkris1002/Documents/UBNA_Research/AudiomothStuff/Recordings&Code/Audiomoth2Files/Foliage2022/20220703_unit2/Recordings/20220703_220446.WAV', '/home/adkris1002/Documents/UBNA_Research/AudiomothStuff/Recordings&Code/Audiomoth2Files/Foliage2022/20220703_unit2/Recordings/20220703_220447.WAV', '/home/adkris1002/Documents/UBNA_Research/AudiomothStuff/Recordings&Code/Audiomoth2Files/Foliage2022/20220703_unit2/Recordings/20220703_220448.WAV', '/home/adkris1002/Documents/UBNA_Research/AudiomothStuff/Recordings&Code/Audiomoth2Files/Foliage2022/20220703_unit2/Recordings/20220703_220449.WAV', '/home/adkris1002/Documents/UBNA_Research/AudiomothStuff/Recordings&Code/Audiomoth2Files/Foliage2022/20220703_unit2/Recordings/20220703_220450.WAV', '/home/adkris1002/Documents/UBNA_Research/AudiomothStuff/Recordings&Code/Audiomoth2Files/Foliage2022/20220703_unit2/Recordings/20220703_220451.WAV', '/home/adkris1002/Documents/UBNA_Research/AudiomothStuff/Recordings&Code/Audiomoth2Files/Foliage2022/20220703_unit2/Recordings/20220703_220452.WAV', '/home/adkris1002/Documents/UBNA_Research/AudiomothStuff/Recordings&Code/Audiomoth2Files/Foliage2022/20220703_unit2/Recordings/20220703_220453.WAV', '/home/adkris1002/Documents/UBNA_Research/AudiomothStuff/Recordings&Code/Audiomoth2Files/Foliage2022/20220703_unit2/Recordings/20220703_220454.WAV', '/home/adkris1002/Documents/UBNA_Research/AudiomothStuff/Recordings&Code/Audiomoth2Files/Foliage2022/20220703_unit2/Recordings/20220703_220455.WAV', '/home/adkris1002/Documents/UBNA_Research/AudiomothStuff/Recordings&Code/Audiomoth2Files/Foliage2022/20220703_unit2/Recordings/20220703_220456.WAV', '/home/adkris1002/Documents/UBNA_Research/AudiomothStuff/Recordings&Code/Audiomoth2Files/Foliage2022/20220703_unit2/Recordings/20220703_220457.WAV', '/home/adkris1002/Documents/UBNA_Research/AudiomothStuff/Recordings&Code/Audiomoth2Files/Foliage2022/20220703_unit2/Recordings/20220703_220458.WAV', '/home/adkris1002/Documents/UBNA_Research/AudiomothStuff/Recordings&Code/Audiomoth2Files/Foliage2022/20220703_unit2/Recordings/20220703_220459.WAV', '/home/adkris1002/Documents/UBNA_Research/AudiomothStuff/Recordings&Code/Audiomoth2Files/Foliage2022/20220703_unit2/Recordings/20220703_220500.WAV', '/home/adkris1002/Documents/UBNA_Research/AudiomothStuff/Recordings&Code/Audiomoth2Files/Foliage2022/20220703_unit2/Recordings/20220703_220501.WAV', '/home/adkris1002/Documents/UBNA_Research/AudiomothStuff/Recordings&Code/Audiomoth2Files/Foliage2022/20220703_unit2/Recordings/20220703_220502.WAV', '/home/adkris1002/Documents/UBNA_Research/AudiomothStuff/Recordings&Code/Audiomoth2Files/Foliage2022/20220703_unit2/Recordings/20220703_220503.WAV', '/home/adkris1002/Documents/UBNA_Research/AudiomothStuff/Recordings&Code/Audiomoth2Files/Foliage2022/20220703_unit2/Recordings/20220703_220504.WAV', '/home/adkris1002/Documents/UBNA_Research/AudiomothStuff/Recordings&Code/Audiomoth2Files/Foliage2022/20220703_unit2/Recordings/20220703_220505.WAV', '/home/adkris1002/Documents/UBNA_Research/AudiomothStuff/Recordings&Code/Audiomoth2Files/Foliage2022/20220703_unit2/Recordings/20220703_220506.WAV', '/home/adkris1002/Documents/UBNA_Research/AudiomothStuff/Recordings&Code/Audiomoth2Files/Foliage2022/20220703_unit2/Recordings/20220703_220507.WAV', '/home/adkris1002/Documents/UBNA_Research/AudiomothStuff/Recordings&Code/Audiomoth2Files/Foliage2022/20220703_unit2/Recordings/20220703_220508.WAV', '/home/adkris1002/Documents/UBNA_Research/AudiomothStuff/Recordings&Code/Audiomoth2Files/Foliage2022/20220703_unit2/Recordings/20220703_220509.WAV', '/home/adkris1002/Documents/UBNA_Research/AudiomothStuff/Recordings&Code/Audiomoth2Files/Foliage2022/20220703_unit2/Recordings/20220703_220510.WAV', '/home/adkris1002/Documents/UBNA_Research/AudiomothStuff/Recordings&Code/Audiomoth2Files/Foliage2022/20220703_unit2/Recordings/20220703_220511.WAV', '/home/adkris1002/Documents/UBNA_Research/AudiomothStuff/Recordings&Code/Audiomoth2Files/Foliage2022/20220703_unit2/Recordings/20220703_220512.WAV', '/home/adkris1002/Documents/UBNA_Research/AudiomothStuff/Recordings&Code/Audiomoth2Files/Foliage2022/20220703_unit2/Recordings/20220703_220513.WAV', '/home/adkris1002/Documents/UBNA_Research/AudiomothStuff/Recordings&Code/Audiomoth2Files/Foliage2022/20220703_unit2/Recordings/20220703_220514.WAV', '/home/adkris1002/Documents/UBNA_Research/AudiomothStuff/Recordings&Code/Audiomoth2Files/Foliage2022/20220703_unit2/Recordings/20220703_220515.WAV', '/home/adkris1002/Documents/UBNA_Research/AudiomothStuff/Recordings&Code/Audiomoth2Files/Foliage2022/20220703_unit2/Recordings/20220703_220516.WAV', '/home/adkris1002/Documents/UBNA_Research/AudiomothStuff/Recordings&Code/Audiomoth2Files/Foliage2022/20220703_unit2/Recordings/20220703_220517.WAV', '/home/adkris1002/Documents/UBNA_Research/AudiomothStuff/Recordings&Code/Audiomoth2Files/Foliage2022/20220703_unit2/Recordings/20220703_220518.WAV', '/home/adkris1002/Documents/UBNA_Research/AudiomothStuff/Recordings&Code/Audiomoth2Files/Foliage2022/20220703_unit2/Recordings/20220703_220519.WAV', '/home/adkris1002/Documents/UBNA_Research/AudiomothStuff/Recordings&Code/Audiomoth2Files/Foliage2022/20220703_unit2/Recordings/20220703_220520.WAV', '/home/adkris1002/Documents/UBNA_Research/AudiomothStuff/Recordings&Code/Audiomoth2Files/Foliage2022/20220703_unit2/Recordings/20220703_220521.WAV', '/home/adkris1002/Documents/UBNA_Research/AudiomothStuff/Recordings&Code/Audiomoth2Files/Foliage2022/20220703_unit2/Recordings/20220703_220522.WAV', '/home/adkris1002/Documents/UBNA_Research/AudiomothStuff/Recordings&Code/Audiomoth2Files/Foliage2022/20220703_unit2/Recordings/20220703_220523.WAV', '/home/adkris1002/Documents/UBNA_Research/AudiomothStuff/Recordings&Code/Audiomoth2Files/Foliage2022/20220703_unit2/Recordings/20220703_220524.WAV', '/home/adkris1002/Documents/UBNA_Research/AudiomothStuff/Recordings&Code/Audiomoth2Files/Foliage2022/20220703_unit2/Recordings/20220703_220525.WAV', '/home/adkris1002/Documents/UBNA_Research/AudiomothStuff/Recordings&Code/Audiomoth2Files/Foliage2022/20220703_unit2/Recordings/20220703_220526.WAV', '/home/adkris1002/Documents/UBNA_Research/AudiomothStuff/Recordings&Code/Audiomoth2Files/Foliage2022/20220703_unit2/Recordings/20220703_220527.WAV', '/home/adkris1002/Documents/UBNA_Research/AudiomothStuff/Recordings&Code/Audiomoth2Files/Foliage2022/20220703_unit2/Recordings/20220703_220528.WAV', '/home/adkris1002/Documents/UBNA_Research/AudiomothStuff/Recordings&Code/Audiomoth2Files/Foliage2022/20220703_unit2/Recordings/20220703_220529.WAV', '/home/adkris1002/Documents/UBNA_Research/AudiomothStuff/Recordings&Code/Audiomoth2Files/Foliage2022/20220703_unit2/Recordings/20220703_220530.WAV', '/home/adkris1002/Documents/UBNA_Research/AudiomothStuff/Recordings&Code/Audiomoth2Files/Foliage2022/20220703_unit2/Recordings/20220703_220531.WAV', '/home/adkris1002/Documents/UBNA_Research/AudiomothStuff/Recordings&Code/Audiomoth2Files/Foliage2022/20220703_unit2/Recordings/20220703_220532.WAV', '/home/adkris1002/Documents/UBNA_Research/AudiomothStuff/Recordings&Code/Audiomoth2Files/Foliage2022/20220703_unit2/Recordings/20220703_220533.WAV', '/home/adkris1002/Documents/UBNA_Research/AudiomothStuff/Recordings&Code/Audiomoth2Files/Foliage2022/20220703_unit2/Recordings/20220703_220534.WAV', '/home/adkris1002/Documents/UBNA_Research/AudiomothStuff/Recordings&Code/Audiomoth2Files/Foliage2022/20220703_unit2/Recordings/20220703_220535.WAV', '/home/adkris1002/Documents/UBNA_Research/AudiomothStuff/Recordings&Code/Audiomoth2Files/Foliage2022/20220703_unit2/Recordings/20220703_220536.WAV', '/home/adkris1002/Documents/UBNA_Research/AudiomothStuff/Recordings&Code/Audiomoth2Files/Foliage2022/20220703_unit2/Recordings/20220703_220537.WAV', '/home/adkris1002/Documents/UBNA_Research/AudiomothStuff/Recordings&Code/Audiomoth2Files/Foliage2022/20220703_unit2/Recordings/20220703_220538.WAV', '/home/adkris1002/Documents/UBNA_Research/AudiomothStuff/Recordings&Code/Audiomoth2Files/Foliage2022/20220703_unit2/Recordings/20220703_220539.WAV', '/home/adkris1002/Documents/UBNA_Research/AudiomothStuff/Recordings&Code/Audiomoth2Files/Foliage2022/20220703_unit2/Recordings/20220703_220540.WAV', '/home/adkris1002/Documents/UBNA_Research/AudiomothStuff/Recordings&Code/Audiomoth2Files/Foliage2022/20220703_unit2/Recordings/20220703_220541.WAV', '/home/adkris1002/Documents/UBNA_Research/AudiomothStuff/Recordings&Code/Audiomoth2Files/Foliage2022/20220703_unit2/Recordings/20220703_220542.WAV', '/home/adkris1002/Documents/UBNA_Research/AudiomothStuff/Recordings&Code/Audiomoth2Files/Foliage2022/20220703_unit2/Recordings/20220703_220543.WAV', '/home/adkris1002/Documents/UBNA_Research/AudiomothStuff/Recordings&Code/Audiomoth2Files/Foliage2022/20220703_unit2/Recordings/20220703_220544.WAV', '/home/adkris1002/Documents/UBNA_Research/AudiomothStuff/Recordings&Code/Audiomoth2Files/Foliage2022/20220703_unit2/Recordings/20220703_220545.WAV', '/home/adkris1002/Documents/UBNA_Research/AudiomothStuff/Recordings&Code/Audiomoth2Files/Foliage2022/20220703_unit2/Recordings/20220703_220546.WAV', '/home/adkris1002/Documents/UBNA_Research/AudiomothStuff/Recordings&Code/Audiomoth2Files/Foliage2022/20220703_unit2/Recordings/20220703_220547.WAV', '/home/adkris1002/Documents/UBNA_Research/AudiomothStuff/Recordings&Code/Audiomoth2Files/Foliage2022/20220703_unit2/Recordings/20220703_220548.WAV', '/home/adkris1002/Documents/UBNA_Research/AudiomothStuff/Recordings&Code/Audiomoth2Files/Foliage2022/20220703_unit2/Recordings/20220703_220549.WAV', '/home/adkris1002/Documents/UBNA_Research/AudiomothStuff/Recordings&Code/Audiomoth2Files/Foliage2022/20220703_unit2/Recordings/20220703_220550.WAV', '/home/adkris1002/Documents/UBNA_Research/AudiomothStuff/Recordings&Code/Audiomoth2Files/Foliage2022/20220703_unit2/Recordings/20220703_220551.WAV', '/home/adkris1002/Documents/UBNA_Research/AudiomothStuff/Recordings&Code/Audiomoth2Files/Foliage2022/20220703_unit2/Recordings/20220703_220552.WAV', '/home/adkris1002/Documents/UBNA_Research/AudiomothStuff/Recordings&Code/Audiomoth2Files/Foliage2022/20220703_unit2/Recordings/20220703_220553.WAV', '/home/adkris1002/Documents/UBNA_Research/AudiomothStuff/Recordings&Code/Audiomoth2Files/Foliage2022/20220703_unit2/Recordings/20220703_220554.WAV', '/home/adkris1002/Documents/UBNA_Research/AudiomothStuff/Recordings&Code/Audiomoth2Files/Foliage2022/20220703_unit2/Recordings/20220703_220555.WAV', '/home/adkris1002/Documents/UBNA_Research/AudiomothStuff/Recordings&Code/Audiomoth2Files/Foliage2022/20220703_unit2/Recordings/20220703_220556.WAV', '/home/adkris1002/Documents/UBNA_Research/AudiomothStuff/Recordings&Code/Audiomoth2Files/Foliage2022/20220703_unit2/Recordings/20220703_220557.WAV', '/home/adkris1002/Documents/UBNA_Research/AudiomothStuff/Recordings&Code/Audiomoth2Files/Foliage2022/20220703_unit2/Recordings/20220703_220558.WAV', '/home/adkris1002/Documents/UBNA_Research/AudiomothStuff/Recordings&Code/Audiomoth2Files/Foliage2022/20220703_unit2/Recordings/20220703_220559.WAV', '/home/adkris1002/Documents/UBNA_Research/AudiomothStuff/Recordings&Code/Audiomoth2Files/Foliage2022/20220703_unit2/Recordings/20220703_220600.WAV', '/home/adkris1002/Documents/UBNA_Research/AudiomothStuff/Recordings&Code/Audiomoth2Files/Foliage2022/20220703_unit2/Recordings/20220703_220601.WAV', '/home/adkris1002/Documents/UBNA_Research/AudiomothStuff/Recordings&Code/Audiomoth2Files/Foliage2022/20220703_unit2/Recordings/20220703_220602.WAV', '/home/adkris1002/Documents/UBNA_Research/AudiomothStuff/Recordings&Code/Audiomoth2Files/Foliage2022/20220703_unit2/Recordings/20220703_220603.WAV', '/home/adkris1002/Documents/UBNA_Research/AudiomothStuff/Recordings&Code/Audiomoth2Files/Foliage2022/20220703_unit2/Recordings/20220703_220604.WAV', '/home/adkris1002/Documents/UBNA_Research/AudiomothStuff/Recordings&Code/Audiomoth2Files/Foliage2022/20220703_unit2/Recordings/20220703_220605.WAV', '/home/adkris1002/Documents/UBNA_Research/AudiomothStuff/Recordings&Code/Audiomoth2Files/Foliage2022/20220703_unit2/Recordings/20220703_220606.WAV', '/home/adkris1002/Documents/UBNA_Research/AudiomothStuff/Recordings&Code/Audiomoth2Files/Foliage2022/20220703_unit2/Recordings/20220703_220607.WAV', '/home/adkris1002/Documents/UBNA_Research/AudiomothStuff/Recordings&Code/Audiomoth2Files/Foliage2022/20220703_unit2/Recordings/20220703_220608.WAV', '/home/adkris1002/Documents/UBNA_Research/AudiomothStuff/Recordings&Code/Audiomoth2Files/Foliage2022/20220703_unit2/Recordings/20220703_220609.WAV', '/home/adkris1002/Documents/UBNA_Research/AudiomothStuff/Recordings&Code/Audiomoth2Files/Foliage2022/20220703_unit2/Recordings/20220703_220610.WAV', '/home/adkris1002/Documents/UBNA_Research/AudiomothStuff/Recordings&Code/Audiomoth2Files/Foliage2022/20220703_unit2/Recordings/20220703_220611.WAV', '/home/adkris1002/Documents/UBNA_Research/AudiomothStuff/Recordings&Code/Audiomoth2Files/Foliage2022/20220703_unit2/Recordings/20220703_220612.WAV', '/home/adkris1002/Documents/UBNA_Research/AudiomothStuff/Recordings&Code/Audiomoth2Files/Foliage2022/20220703_unit2/Recordings/20220703_220613.WAV', '/home/adkris1002/Documents/UBNA_Research/AudiomothStuff/Recordings&Code/Audiomoth2Files/Foliage2022/20220703_unit2/Recordings/20220703_220614.WAV', '/home/adkris1002/Documents/UBNA_Research/AudiomothStuff/Recordings&Code/Audiomoth2Files/Foliage2022/20220703_unit2/Recordings/20220703_220615.WAV', '/home/adkris1002/Documents/UBNA_Research/AudiomothStuff/Recordings&Code/Audiomoth2Files/Foliage2022/20220703_unit2/Recordings/20220703_220616.WAV', '/home/adkris1002/Documents/UBNA_Research/AudiomothStuff/Recordings&Code/Audiomoth2Files/Foliage2022/20220703_unit2/Recordings/20220703_220617.WAV', '/home/adkris1002/Documents/UBNA_Research/AudiomothStuff/Recordings&Code/Audiomoth2Files/Foliage2022/20220703_unit2/Recordings/20220703_220618.WAV', '/home/adkris1002/Documents/UBNA_Research/AudiomothStuff/Recordings&Code/Audiomoth2Files/Foliage2022/20220703_unit2/Recordings/20220703_220619.WAV', '/home/adkris1002/Documents/UBNA_Research/AudiomothStuff/Recordings&Code/Audiomoth2Files/Foliage2022/20220703_unit2/Recordings/20220703_220620.WAV', '/home/adkris1002/Documents/UBNA_Research/AudiomothStuff/Recordings&Code/Audiomoth2Files/Foliage2022/20220703_unit2/Recordings/20220703_220621.WAV', '/home/adkris1002/Documents/UBNA_Research/AudiomothStuff/Recordings&Code/Audiomoth2Files/Foliage2022/20220703_unit2/Recordings/20220703_220622.WAV', '/home/adkris1002/Documents/UBNA_Research/AudiomothStuff/Recordings&Code/Audiomoth2Files/Foliage2022/20220703_unit2/Recordings/20220703_220623.WAV', '/home/adkris1002/Documents/UBNA_Research/AudiomothStuff/Recordings&Code/Audiomoth2Files/Foliage2022/20220703_unit2/Recordings/20220703_220624.WAV', '/home/adkris1002/Documents/UBNA_Research/AudiomothStuff/Recordings&Code/Audiomoth2Files/Foliage2022/20220703_unit2/Recordings/20220703_220625.WAV', '/home/adkris1002/Documents/UBNA_Research/AudiomothStuff/Recordings&Code/Audiomoth2Files/Foliage2022/20220703_unit2/Recordings/20220703_220626.WAV', '/home/adkris1002/Documents/UBNA_Research/AudiomothStuff/Recordings&Code/Audiomoth2Files/Foliage2022/20220703_unit2/Recordings/20220703_220627.WAV', '/home/adkris1002/Documents/UBNA_Research/AudiomothStuff/Recordings&Code/Audiomoth2Files/Foliage2022/20220703_unit2/Recordings/20220703_220628.WAV', '/home/adkris1002/Documents/UBNA_Research/AudiomothStuff/Recordings&Code/Audiomoth2Files/Foliage2022/20220703_unit2/Recordings/20220703_220629.WAV', '/home/adkris1002/Documents/UBNA_Research/AudiomothStuff/Recordings&Code/Audiomoth2Files/Foliage2022/20220703_unit2/Recordings/20220703_220630.WAV', '/home/adkris1002/Documents/UBNA_Research/AudiomothStuff/Recordings&Code/Audiomoth2Files/Foliage2022/20220703_unit2/Recordings/20220703_220631.WAV', '/home/adkris1002/Documents/UBNA_Research/AudiomothStuff/Recordings&Code/Audiomoth2Files/Foliage2022/20220703_unit2/Recordings/20220703_220632.WAV', '/home/adkris1002/Documents/UBNA_Research/AudiomothStuff/Recordings&Code/Audiomoth2Files/Foliage2022/20220703_unit2/Recordings/20220703_220633.WAV', '/home/adkris1002/Documents/UBNA_Research/AudiomothStuff/Recordings&Code/Audiomoth2Files/Foliage2022/20220703_unit2/Recordings/20220703_220634.WAV', '/home/adkris1002/Documents/UBNA_Research/AudiomothStuff/Recordings&Code/Audiomoth2Files/Foliage2022/20220703_unit2/Recordings/20220703_220635.WAV', '/home/adkris1002/Documents/UBNA_Research/AudiomothStuff/Recordings&Code/Audiomoth2Files/Foliage2022/20220703_unit2/Recordings/20220703_220636.WAV', '/home/adkris1002/Documents/UBNA_Research/AudiomothStuff/Recordings&Code/Audiomoth2Files/Foliage2022/20220703_unit2/Recordings/20220703_220637.WAV', '/home/adkris1002/Documents/UBNA_Research/AudiomothStuff/Recordings&Code/Audiomoth2Files/Foliage2022/20220703_unit2/Recordings/20220703_220638.WAV', '/home/adkris1002/Documents/UBNA_Research/AudiomothStuff/Recordings&Code/Audiomoth2Files/Foliage2022/20220703_unit2/Recordings/20220703_220639.WAV', '/home/adkris1002/Documents/UBNA_Research/AudiomothStuff/Recordings&Code/Audiomoth2Files/Foliage2022/20220703_unit2/Recordings/20220703_220640.WAV', '/home/adkris1002/Documents/UBNA_Research/AudiomothStuff/Recordings&Code/Audiomoth2Files/Foliage2022/20220703_unit2/Recordings/20220703_220641.WAV', '/home/adkris1002/Documents/UBNA_Research/AudiomothStuff/Recordings&Code/Audiomoth2Files/Foliage2022/20220703_unit2/Recordings/20220703_220642.WAV', '/home/adkris1002/Documents/UBNA_Research/AudiomothStuff/Recordings&Code/Audiomoth2Files/Foliage2022/20220703_unit2/Recordings/20220703_220643.WAV', '/home/adkris1002/Documents/UBNA_Research/AudiomothStuff/Recordings&Code/Audiomoth2Files/Foliage2022/20220703_unit2/Recordings/20220703_220644.WAV', '/home/adkris1002/Documents/UBNA_Research/AudiomothStuff/Recordings&Code/Audiomoth2Files/Foliage2022/20220703_unit2/Recordings/20220703_220645.WAV', '/home/adkris1002/Documents/UBNA_Research/AudiomothStuff/Recordings&Code/Audiomoth2Files/Foliage2022/20220703_unit2/Recordings/20220703_220646.WAV', '/home/adkris1002/Documents/UBNA_Research/AudiomothStuff/Recordings&Code/Audiomoth2Files/Foliage2022/20220703_unit2/Recordings/20220703_220647.WAV', '/home/adkris1002/Documents/UBNA_Research/AudiomothStuff/Recordings&Code/Audiomoth2Files/Foliage2022/20220703_unit2/Recordings/20220703_220648.WAV', '/home/adkris1002/Documents/UBNA_Research/AudiomothStuff/Recordings&Code/Audiomoth2Files/Foliage2022/20220703_unit2/Recordings/20220703_220649.WAV', '/home/adkris1002/Documents/UBNA_Research/AudiomothStuff/Recordings&Code/Audiomoth2Files/Foliage2022/20220703_unit2/Recordings/20220703_220650.WAV', '/home/adkris1002/Documents/UBNA_Research/AudiomothStuff/Recordings&Code/Audiomoth2Files/Foliage2022/20220703_unit2/Recordings/20220703_220651.WAV', '/home/adkris1002/Documents/UBNA_Research/AudiomothStuff/Recordings&Code/Audiomoth2Files/Foliage2022/20220703_unit2/Recordings/20220703_220652.WAV', '/home/adkris1002/Documents/UBNA_Research/AudiomothStuff/Recordings&Code/Audiomoth2Files/Foliage2022/20220703_unit2/Recordings/20220703_220653.WAV', '/home/adkris1002/Documents/UBNA_Research/AudiomothStuff/Recordings&Code/Audiomoth2Files/Foliage2022/20220703_unit2/Recordings/20220703_220654.WAV', '/home/adkris1002/Documents/UBNA_Research/AudiomothStuff/Recordings&Code/Audiomoth2Files/Foliage2022/20220703_unit2/Recordings/20220703_220655.WAV', '/home/adkris1002/Documents/UBNA_Research/AudiomothStuff/Recordings&Code/Audiomoth2Files/Foliage2022/20220703_unit2/Recordings/20220703_220656.WAV', '/home/adkris1002/Documents/UBNA_Research/AudiomothStuff/Recordings&Code/Audiomoth2Files/Foliage2022/20220703_unit2/Recordings/20220703_220657.WAV', '/home/adkris1002/Documents/UBNA_Research/AudiomothStuff/Recordings&Code/Audiomoth2Files/Foliage2022/20220703_unit2/Recordings/20220703_220658.WAV', '/home/adkris1002/Documents/UBNA_Research/AudiomothStuff/Recordings&Code/Audiomoth2Files/Foliage2022/20220703_unit2/Recordings/20220703_220659.WAV', '/home/adkris1002/Documents/UBNA_Research/AudiomothStuff/Recordings&Code/Audiomoth2Files/Foliage2022/20220703_unit2/Recordings/20220703_220700.WAV', '/home/adkris1002/Documents/UBNA_Research/AudiomothStuff/Recordings&Code/Audiomoth2Files/Foliage2022/20220703_unit2/Recordings/20220703_220701.WAV', '/home/adkris1002/Documents/UBNA_Research/AudiomothStuff/Recordings&Code/Audiomoth2Files/Foliage2022/20220703_unit2/Recordings/20220703_220702.WAV', '/home/adkris1002/Documents/UBNA_Research/AudiomothStuff/Recordings&Code/Audiomoth2Files/Foliage2022/20220703_unit2/Recordings/20220703_220703.WAV', '/home/adkris1002/Documents/UBNA_Research/AudiomothStuff/Recordings&Code/Audiomoth2Files/Foliage2022/20220703_unit2/Recordings/20220703_220704.WAV', '/home/adkris1002/Documents/UBNA_Research/AudiomothStuff/Recordings&Code/Audiomoth2Files/Foliage2022/20220703_unit2/Recordings/20220703_220705.WAV', '/home/adkris1002/Documents/UBNA_Research/AudiomothStuff/Recordings&Code/Audiomoth2Files/Foliage2022/20220703_unit2/Recordings/20220703_220706.WAV', '/home/adkris1002/Documents/UBNA_Research/AudiomothStuff/Recordings&Code/Audiomoth2Files/Foliage2022/20220703_unit2/Recordings/20220703_220707.WAV', '/home/adkris1002/Documents/UBNA_Research/AudiomothStuff/Recordings&Code/Audiomoth2Files/Foliage2022/20220703_unit2/Recordings/20220703_220708.WAV', '/home/adkris1002/Documents/UBNA_Research/AudiomothStuff/Recordings&Code/Audiomoth2Files/Foliage2022/20220703_unit2/Recordings/20220703_220709.WAV', '/home/adkris1002/Documents/UBNA_Research/AudiomothStuff/Recordings&Code/Audiomoth2Files/Foliage2022/20220703_unit2/Recordings/20220703_220710.WAV', '/home/adkris1002/Documents/UBNA_Research/AudiomothStuff/Recordings&Code/Audiomoth2Files/Foliage2022/20220703_unit2/Recordings/20220703_220711.WAV', '/home/adkris1002/Documents/UBNA_Research/AudiomothStuff/Recordings&Code/Audiomoth2Files/Foliage2022/20220703_unit2/Recordings/20220703_220712.WAV', '/home/adkris1002/Documents/UBNA_Research/AudiomothStuff/Recordings&Code/Audiomoth2Files/Foliage2022/20220703_unit2/Recordings/20220703_220713.WAV', '/home/adkris1002/Documents/UBNA_Research/AudiomothStuff/Recordings&Code/Audiomoth2Files/Foliage2022/20220703_unit2/Recordings/20220703_220714.WAV', '/home/adkris1002/Documents/UBNA_Research/AudiomothStuff/Recordings&Code/Audiomoth2Files/Foliage2022/20220703_unit2/Recordings/20220703_220715.WAV', '/home/adkris1002/Documents/UBNA_Research/AudiomothStuff/Recordings&Code/Audiomoth2Files/Foliage2022/20220703_unit2/Recordings/20220703_220716.WAV', '/home/adkris1002/Documents/UBNA_Research/AudiomothStuff/Recordings&Code/Audiomoth2Files/Foliage2022/20220703_unit2/Recordings/20220703_220717.WAV', '/home/adkris1002/Documents/UBNA_Research/AudiomothStuff/Recordings&Code/Audiomoth2Files/Foliage2022/20220703_unit2/Recordings/20220703_220718.WAV', '/home/adkris1002/Documents/UBNA_Research/AudiomothStuff/Recordings&Code/Audiomoth2Files/Foliage2022/20220703_unit2/Recordings/20220703_220719.WAV', '/home/adkris1002/Documents/UBNA_Research/AudiomothStuff/Recordings&Code/Audiomoth2Files/Foliage2022/20220703_unit2/Recordings/20220703_220720.WAV', '/home/adkris1002/Documents/UBNA_Research/AudiomothStuff/Recordings&Code/Audiomoth2Files/Foliage2022/20220703_unit2/Recordings/20220703_220721.WAV', '/home/adkris1002/Documents/UBNA_Research/AudiomothStuff/Recordings&Code/Audiomoth2Files/Foliage2022/20220703_unit2/Recordings/20220703_220722.WAV', '/home/adkris1002/Documents/UBNA_Research/AudiomothStuff/Recordings&Code/Audiomoth2Files/Foliage2022/20220703_unit2/Recordings/20220703_220723.WAV', '/home/adkris1002/Documents/UBNA_Research/AudiomothStuff/Recordings&Code/Audiomoth2Files/Foliage2022/20220703_unit2/Recordings/20220703_220724.WAV', '/home/adkris1002/Documents/UBNA_Research/AudiomothStuff/Recordings&Code/Audiomoth2Files/Foliage2022/20220703_unit2/Recordings/20220703_220725.WAV', '/home/adkris1002/Documents/UBNA_Research/AudiomothStuff/Recordings&Code/Audiomoth2Files/Foliage2022/20220703_unit2/Recordings/20220703_220726.WAV', '/home/adkris1002/Documents/UBNA_Research/AudiomothStuff/Recordings&Code/Audiomoth2Files/Foliage2022/20220703_unit2/Recordings/20220703_220727.WAV', '/home/adkris1002/Documents/UBNA_Research/AudiomothStuff/Recordings&Code/Audiomoth2Files/Foliage2022/20220703_unit2/Recordings/20220703_220728.WAV', '/home/adkris1002/Documents/UBNA_Research/AudiomothStuff/Recordings&Code/Audiomoth2Files/Foliage2022/20220703_unit2/Recordings/20220703_220729.WAV', '/home/adkris1002/Documents/UBNA_Research/AudiomothStuff/Recordings&Code/Audiomoth2Files/Foliage2022/20220703_unit2/Recordings/20220703_220730.WAV', '/home/adkris1002/Documents/UBNA_Research/AudiomothStuff/Recordings&Code/Audiomoth2Files/Foliage2022/20220703_unit2/Recordings/20220703_220731.WAV', '/home/adkris1002/Documents/UBNA_Research/AudiomothStuff/Recordings&Code/Audiomoth2Files/Foliage2022/20220703_unit2/Recordings/20220703_220732.WAV', '/home/adkris1002/Documents/UBNA_Research/AudiomothStuff/Recordings&Code/Audiomoth2Files/Foliage2022/20220703_unit2/Recordings/20220703_220733.WAV', '/home/adkris1002/Documents/UBNA_Research/AudiomothStuff/Recordings&Code/Audiomoth2Files/Foliage2022/20220703_unit2/Recordings/20220703_220734.WAV', '/home/adkris1002/Documents/UBNA_Research/AudiomothStuff/Recordings&Code/Audiomoth2Files/Foliage2022/20220703_unit2/Recordings/20220703_220735.WAV', '/home/adkris1002/Documents/UBNA_Research/AudiomothStuff/Recordings&Code/Audiomoth2Files/Foliage2022/20220703_unit2/Recordings/20220703_220736.WAV', '/home/adkris1002/Documents/UBNA_Research/AudiomothStuff/Recordings&Code/Audiomoth2Files/Foliage2022/20220703_unit2/Recordings/20220703_220737.WAV', '/home/adkris1002/Documents/UBNA_Research/AudiomothStuff/Recordings&Code/Audiomoth2Files/Foliage2022/20220703_unit2/Recordings/20220703_220738.WAV', '/home/adkris1002/Documents/UBNA_Research/AudiomothStuff/Recordings&Code/Audiomoth2Files/Foliage2022/20220703_unit2/Recordings/20220703_220739.WAV', '/home/adkris1002/Documents/UBNA_Research/AudiomothStuff/Recordings&Code/Audiomoth2Files/Foliage2022/20220703_unit2/Recordings/20220703_220740.WAV', '/home/adkris1002/Documents/UBNA_Research/AudiomothStuff/Recordings&Code/Audiomoth2Files/Foliage2022/20220703_unit2/Recordings/20220703_220741.WAV', '/home/adkris1002/Documents/UBNA_Research/AudiomothStuff/Recordings&Code/Audiomoth2Files/Foliage2022/20220703_unit2/Recordings/20220703_220742.WAV', '/home/adkris1002/Documents/UBNA_Research/AudiomothStuff/Recordings&Code/Audiomoth2Files/Foliage2022/20220703_unit2/Recordings/20220703_220743.WAV', '/home/adkris1002/Documents/UBNA_Research/AudiomothStuff/Recordings&Code/Audiomoth2Files/Foliage2022/20220703_unit2/Recordings/20220703_220744.WAV', '/home/adkris1002/Documents/UBNA_Research/AudiomothStuff/Recordings&Code/Audiomoth2Files/Foliage2022/20220703_unit2/Recordings/20220703_220745.WAV', '/home/adkris1002/Documents/UBNA_Research/AudiomothStuff/Recordings&Code/Audiomoth2Files/Foliage2022/20220703_unit2/Recordings/20220703_220746.WAV', '/home/adkris1002/Documents/UBNA_Research/AudiomothStuff/Recordings&Code/Audiomoth2Files/Foliage2022/20220703_unit2/Recordings/20220703_220747.WAV', '/home/adkris1002/Documents/UBNA_Research/AudiomothStuff/Recordings&Code/Audiomoth2Files/Foliage2022/20220703_unit2/Recordings/20220703_220748.WAV', '/home/adkris1002/Documents/UBNA_Research/AudiomothStuff/Recordings&Code/Audiomoth2Files/Foliage2022/20220703_unit2/Recordings/20220703_220749.WAV', '/home/adkris1002/Documents/UBNA_Research/AudiomothStuff/Recordings&Code/Audiomoth2Files/Foliage2022/20220703_unit2/Recordings/20220703_220750.WAV', '/home/adkris1002/Documents/UBNA_Research/AudiomothStuff/Recordings&Code/Audiomoth2Files/Foliage2022/20220703_unit2/Recordings/20220703_220751.WAV', '/home/adkris1002/Documents/UBNA_Research/AudiomothStuff/Recordings&Code/Audiomoth2Files/Foliage2022/20220703_unit2/Recordings/20220703_220752.WAV', '/home/adkris1002/Documents/UBNA_Research/AudiomothStuff/Recordings&Code/Audiomoth2Files/Foliage2022/20220703_unit2/Recordings/20220703_220753.WAV', '/home/adkris1002/Documents/UBNA_Research/AudiomothStuff/Recordings&Code/Audiomoth2Files/Foliage2022/20220703_unit2/Recordings/20220703_220754.WAV', '/home/adkris1002/Documents/UBNA_Research/AudiomothStuff/Recordings&Code/Audiomoth2Files/Foliage2022/20220703_unit2/Recordings/20220703_220755.WAV', '/home/adkris1002/Documents/UBNA_Research/AudiomothStuff/Recordings&Code/Audiomoth2Files/Foliage2022/20220703_unit2/Recordings/20220703_220756.WAV', '/home/adkris1002/Documents/UBNA_Research/AudiomothStuff/Recordings&Code/Audiomoth2Files/Foliage2022/20220703_unit2/Recordings/20220703_220757.WAV', '/home/adkris1002/Documents/UBNA_Research/AudiomothStuff/Recordings&Code/Audiomoth2Files/Foliage2022/20220703_unit2/Recordings/20220703_220758.WAV', '/home/adkris1002/Documents/UBNA_Research/AudiomothStuff/Recordings&Code/Audiomoth2Files/Foliage2022/20220703_unit2/Recordings/20220703_220759.WAV', '/home/adkris1002/Documents/UBNA_Research/AudiomothStuff/Recordings&Code/Audiomoth2Files/Foliage2022/20220703_unit2/Recordings/20220703_220800.WAV', '/home/adkris1002/Documents/UBNA_Research/AudiomothStuff/Recordings&Code/Audiomoth2Files/Foliage2022/20220703_unit2/Recordings/20220703_220801.WAV', '/home/adkris1002/Documents/UBNA_Research/AudiomothStuff/Recordings&Code/Audiomoth2Files/Foliage2022/20220703_unit2/Recordings/20220703_220802.WAV', '/home/adkris1002/Documents/UBNA_Research/AudiomothStuff/Recordings&Code/Audiomoth2Files/Foliage2022/20220703_unit2/Recordings/20220703_220803.WAV', '/home/adkris1002/Documents/UBNA_Research/AudiomothStuff/Recordings&Code/Audiomoth2Files/Foliage2022/20220703_unit2/Recordings/20220703_220804.WAV', '/home/adkris1002/Documents/UBNA_Research/AudiomothStuff/Recordings&Code/Audiomoth2Files/Foliage2022/20220703_unit2/Recordings/20220703_220805.WAV', '/home/adkris1002/Documents/UBNA_Research/AudiomothStuff/Recordings&Code/Audiomoth2Files/Foliage2022/20220703_unit2/Recordings/20220703_220806.WAV', '/home/adkris1002/Documents/UBNA_Research/AudiomothStuff/Recordings&Code/Audiomoth2Files/Foliage2022/20220703_unit2/Recordings/20220703_220807.WAV', '/home/adkris1002/Documents/UBNA_Research/AudiomothStuff/Recordings&Code/Audiomoth2Files/Foliage2022/20220703_unit2/Recordings/20220703_220808.WAV', '/home/adkris1002/Documents/UBNA_Research/AudiomothStuff/Recordings&Code/Audiomoth2Files/Foliage2022/20220703_unit2/Recordings/20220703_220809.WAV', '/home/adkris1002/Documents/UBNA_Research/AudiomothStuff/Recordings&Code/Audiomoth2Files/Foliage2022/20220703_unit2/Recordings/20220703_220810.WAV', '/home/adkris1002/Documents/UBNA_Research/AudiomothStuff/Recordings&Code/Audiomoth2Files/Foliage2022/20220703_unit2/Recordings/20220703_220811.WAV', '/home/adkris1002/Documents/UBNA_Research/AudiomothStuff/Recordings&Code/Audiomoth2Files/Foliage2022/20220703_unit2/Recordings/20220703_220812.WAV', '/home/adkris1002/Documents/UBNA_Research/AudiomothStuff/Recordings&Code/Audiomoth2Files/Foliage2022/20220703_unit2/Recordings/20220703_220813.WAV', '/home/adkris1002/Documents/UBNA_Research/AudiomothStuff/Recordings&Code/Audiomoth2Files/Foliage2022/20220703_unit2/Recordings/20220703_220814.WAV', '/home/adkris1002/Documents/UBNA_Research/AudiomothStuff/Recordings&Code/Audiomoth2Files/Foliage2022/20220703_unit2/Recordings/20220703_220815.WAV', '/home/adkris1002/Documents/UBNA_Research/AudiomothStuff/Recordings&Code/Audiomoth2Files/Foliage2022/20220703_unit2/Recordings/20220703_220816.WAV', '/home/adkris1002/Documents/UBNA_Research/AudiomothStuff/Recordings&Code/Audiomoth2Files/Foliage2022/20220703_unit2/Recordings/20220703_220817.WAV', '/home/adkris1002/Documents/UBNA_Research/AudiomothStuff/Recordings&Code/Audiomoth2Files/Foliage2022/20220703_unit2/Recordings/20220703_220818.WAV', '/home/adkris1002/Documents/UBNA_Research/AudiomothStuff/Recordings&Code/Audiomoth2Files/Foliage2022/20220703_unit2/Recordings/20220703_220819.WAV', '/home/adkris1002/Documents/UBNA_Research/AudiomothStuff/Recordings&Code/Audiomoth2Files/Foliage2022/20220703_unit2/Recordings/20220703_220820.WAV', '/home/adkris1002/Documents/UBNA_Research/AudiomothStuff/Recordings&Code/Audiomoth2Files/Foliage2022/20220703_unit2/Recordings/20220703_220821.WAV', '/home/adkris1002/Documents/UBNA_Research/AudiomothStuff/Recordings&Code/Audiomoth2Files/Foliage2022/20220703_unit2/Recordings/20220703_220822.WAV', '/home/adkris1002/Documents/UBNA_Research/AudiomothStuff/Recordings&Code/Audiomoth2Files/Foliage2022/20220703_unit2/Recordings/20220703_220823.WAV', '/home/adkris1002/Documents/UBNA_Research/AudiomothStuff/Recordings&Code/Audiomoth2Files/Foliage2022/20220703_unit2/Recordings/20220703_220824.WAV', '/home/adkris1002/Documents/UBNA_Research/AudiomothStuff/Recordings&Code/Audiomoth2Files/Foliage2022/20220703_unit2/Recordings/20220703_220825.WAV', '/home/adkris1002/Documents/UBNA_Research/AudiomothStuff/Recordings&Code/Audiomoth2Files/Foliage2022/20220703_unit2/Recordings/20220703_220826.WAV', '/home/adkris1002/Documents/UBNA_Research/AudiomothStuff/Recordings&Code/Audiomoth2Files/Foliage2022/20220703_unit2/Recordings/20220703_220827.WAV', '/home/adkris1002/Documents/UBNA_Research/AudiomothStuff/Recordings&Code/Audiomoth2Files/Foliage2022/20220703_unit2/Recordings/20220703_220828.WAV', '/home/adkris1002/Documents/UBNA_Research/AudiomothStuff/Recordings&Code/Audiomoth2Files/Foliage2022/20220703_unit2/Recordings/20220703_220829.WAV', '/home/adkris1002/Documents/UBNA_Research/AudiomothStuff/Recordings&Code/Audiomoth2Files/Foliage2022/20220703_unit2/Recordings/20220703_220830.WAV', '/home/adkris1002/Documents/UBNA_Research/AudiomothStuff/Recordings&Code/Audiomoth2Files/Foliage2022/20220703_unit2/Recordings/20220703_220831.WAV', '/home/adkris1002/Documents/UBNA_Research/AudiomothStuff/Recordings&Code/Audiomoth2Files/Foliage2022/20220703_unit2/Recordings/20220703_220832.WAV', '/home/adkris1002/Documents/UBNA_Research/AudiomothStuff/Recordings&Code/Audiomoth2Files/Foliage2022/20220703_unit2/Recordings/20220703_220833.WAV', '/home/adkris1002/Documents/UBNA_Research/AudiomothStuff/Recordings&Code/Audiomoth2Files/Foliage2022/20220703_unit2/Recordings/20220703_220834.WAV', '/home/adkris1002/Documents/UBNA_Research/AudiomothStuff/Recordings&Code/Audiomoth2Files/Foliage2022/20220703_unit2/Recordings/20220703_220835.WAV', '/home/adkris1002/Documents/UBNA_Research/AudiomothStuff/Recordings&Code/Audiomoth2Files/Foliage2022/20220703_unit2/Recordings/20220703_220836.WAV', '/home/adkris1002/Documents/UBNA_Research/AudiomothStuff/Recordings&Code/Audiomoth2Files/Foliage2022/20220703_unit2/Recordings/20220703_220837.WAV', '/home/adkris1002/Documents/UBNA_Research/AudiomothStuff/Recordings&Code/Audiomoth2Files/Foliage2022/20220703_unit2/Recordings/20220703_220838.WAV', '/home/adkris1002/Documents/UBNA_Research/AudiomothStuff/Recordings&Code/Audiomoth2Files/Foliage2022/20220703_unit2/Recordings/20220703_220839.WAV', '/home/adkris1002/Documents/UBNA_Research/AudiomothStuff/Recordings&Code/Audiomoth2Files/Foliage2022/20220703_unit2/Recordings/20220703_220840.WAV', '/home/adkris1002/Documents/UBNA_Research/AudiomothStuff/Recordings&Code/Audiomoth2Files/Foliage2022/20220703_unit2/Recordings/20220703_220841.WAV', '/home/adkris1002/Documents/UBNA_Research/AudiomothStuff/Recordings&Code/Audiomoth2Files/Foliage2022/20220703_unit2/Recordings/20220703_220842.WAV', '/home/adkris1002/Documents/UBNA_Research/AudiomothStuff/Recordings&Code/Audiomoth2Files/Foliage2022/20220703_unit2/Recordings/20220703_220843.WAV', '/home/adkris1002/Documents/UBNA_Research/AudiomothStuff/Recordings&Code/Audiomoth2Files/Foliage2022/20220703_unit2/Recordings/20220703_220844.WAV', '/home/adkris1002/Documents/UBNA_Research/AudiomothStuff/Recordings&Code/Audiomoth2Files/Foliage2022/20220703_unit2/Recordings/20220703_220845.WAV', '/home/adkris1002/Documents/UBNA_Research/AudiomothStuff/Recordings&Code/Audiomoth2Files/Foliage2022/20220703_unit2/Recordings/20220703_220846.WAV', '/home/adkris1002/Documents/UBNA_Research/AudiomothStuff/Recordings&Code/Audiomoth2Files/Foliage2022/20220703_unit2/Recordings/20220703_220847.WAV', '/home/adkris1002/Documents/UBNA_Research/AudiomothStuff/Recordings&Code/Audiomoth2Files/Foliage2022/20220703_unit2/Recordings/20220703_220848.WAV', '/home/adkris1002/Documents/UBNA_Research/AudiomothStuff/Recordings&Code/Audiomoth2Files/Foliage2022/20220703_unit2/Recordings/20220703_220849.WAV', '/home/adkris1002/Documents/UBNA_Research/AudiomothStuff/Recordings&Code/Audiomoth2Files/Foliage2022/20220703_unit2/Recordings/20220703_220850.WAV', '/home/adkris1002/Documents/UBNA_Research/AudiomothStuff/Recordings&Code/Audiomoth2Files/Foliage2022/20220703_unit2/Recordings/20220703_220851.WAV', '/home/adkris1002/Documents/UBNA_Research/AudiomothStuff/Recordings&Code/Audiomoth2Files/Foliage2022/20220703_unit2/Recordings/20220703_220852.WAV', '/home/adkris1002/Documents/UBNA_Research/AudiomothStuff/Recordings&Code/Audiomoth2Files/Foliage2022/20220703_unit2/Recordings/20220703_220853.WAV', '/home/adkris1002/Documents/UBNA_Research/AudiomothStuff/Recordings&Code/Audiomoth2Files/Foliage2022/20220703_unit2/Recordings/20220703_220854.WAV', '/home/adkris1002/Documents/UBNA_Research/AudiomothStuff/Recordings&Code/Audiomoth2Files/Foliage2022/20220703_unit2/Recordings/20220703_220855.WAV', '/home/adkris1002/Documents/UBNA_Research/AudiomothStuff/Recordings&Code/Audiomoth2Files/Foliage2022/20220703_unit2/Recordings/20220703_220856.WAV', '/home/adkris1002/Documents/UBNA_Research/AudiomothStuff/Recordings&Code/Audiomoth2Files/Foliage2022/20220703_unit2/Recordings/20220703_220857.WAV', '/home/adkris1002/Documents/UBNA_Research/AudiomothStuff/Recordings&Code/Audiomoth2Files/Foliage2022/20220703_unit2/Recordings/20220703_220858.WAV', '/home/adkris1002/Documents/UBNA_Research/AudiomothStuff/Recordings&Code/Audiomoth2Files/Foliage2022/20220703_unit2/Recordings/20220703_220859.WAV', '/home/adkris1002/Documents/UBNA_Research/AudiomothStuff/Recordings&Code/Audiomoth2Files/Foliage2022/20220703_unit2/Recordings/20220703_220900.WAV', '/home/adkris1002/Documents/UBNA_Research/AudiomothStuff/Recordings&Code/Audiomoth2Files/Foliage2022/20220703_unit2/Recordings/20220703_220901.WAV', '/home/adkris1002/Documents/UBNA_Research/AudiomothStuff/Recordings&Code/Audiomoth2Files/Foliage2022/20220703_unit2/Recordings/20220703_220902.WAV', '/home/adkris1002/Documents/UBNA_Research/AudiomothStuff/Recordings&Code/Audiomoth2Files/Foliage2022/20220703_unit2/Recordings/20220703_220903.WAV', '/home/adkris1002/Documents/UBNA_Research/AudiomothStuff/Recordings&Code/Audiomoth2Files/Foliage2022/20220703_unit2/Recordings/20220703_220904.WAV', '/home/adkris1002/Documents/UBNA_Research/AudiomothStuff/Recordings&Code/Audiomoth2Files/Foliage2022/20220703_unit2/Recordings/20220703_220905.WAV', '/home/adkris1002/Documents/UBNA_Research/AudiomothStuff/Recordings&Code/Audiomoth2Files/Foliage2022/20220703_unit2/Recordings/20220703_220906.WAV', '/home/adkris1002/Documents/UBNA_Research/AudiomothStuff/Recordings&Code/Audiomoth2Files/Foliage2022/20220703_unit2/Recordings/20220703_220907.WAV', '/home/adkris1002/Documents/UBNA_Research/AudiomothStuff/Recordings&Code/Audiomoth2Files/Foliage2022/20220703_unit2/Recordings/20220703_220908.WAV', '/home/adkris1002/Documents/UBNA_Research/AudiomothStuff/Recordings&Code/Audiomoth2Files/Foliage2022/20220703_unit2/Recordings/20220703_220909.WAV', '/home/adkris1002/Documents/UBNA_Research/AudiomothStuff/Recordings&Code/Audiomoth2Files/Foliage2022/20220703_unit2/Recordings/20220703_220910.WAV', '/home/adkris1002/Documents/UBNA_Research/AudiomothStuff/Recordings&Code/Audiomoth2Files/Foliage2022/20220703_unit2/Recordings/20220703_220911.WAV', '/home/adkris1002/Documents/UBNA_Research/AudiomothStuff/Recordings&Code/Audiomoth2Files/Foliage2022/20220703_unit2/Recordings/20220703_220912.WAV', '/home/adkris1002/Documents/UBNA_Research/AudiomothStuff/Recordings&Code/Audiomoth2Files/Foliage2022/20220703_unit2/Recordings/20220703_220913.WAV', '/home/adkris1002/Documents/UBNA_Research/AudiomothStuff/Recordings&Code/Audiomoth2Files/Foliage2022/20220703_unit2/Recordings/20220703_220914.WAV', '/home/adkris1002/Documents/UBNA_Research/AudiomothStuff/Recordings&Code/Audiomoth2Files/Foliage2022/20220703_unit2/Recordings/20220703_220915.WAV', '/home/adkris1002/Documents/UBNA_Research/AudiomothStuff/Recordings&Code/Audiomoth2Files/Foliage2022/20220703_unit2/Recordings/20220703_220916.WAV', '/home/adkris1002/Documents/UBNA_Research/AudiomothStuff/Recordings&Code/Audiomoth2Files/Foliage2022/20220703_unit2/Recordings/20220703_220917.WAV', '/home/adkris1002/Documents/UBNA_Research/AudiomothStuff/Recordings&Code/Audiomoth2Files/Foliage2022/20220703_unit2/Recordings/20220703_220918.WAV', '/home/adkris1002/Documents/UBNA_Research/AudiomothStuff/Recordings&Code/Audiomoth2Files/Foliage2022/20220703_unit2/Recordings/20220703_220919.WAV', '/home/adkris1002/Documents/UBNA_Research/AudiomothStuff/Recordings&Code/Audiomoth2Files/Foliage2022/20220703_unit2/Recordings/20220703_220920.WAV', '/home/adkris1002/Documents/UBNA_Research/AudiomothStuff/Recordings&Code/Audiomoth2Files/Foliage2022/20220703_unit2/Recordings/20220703_220921.WAV', '/home/adkris1002/Documents/UBNA_Research/AudiomothStuff/Recordings&Code/Audiomoth2Files/Foliage2022/20220703_unit2/Recordings/20220703_220922.WAV', '/home/adkris1002/Documents/UBNA_Research/AudiomothStuff/Recordings&Code/Audiomoth2Files/Foliage2022/20220703_unit2/Recordings/20220703_220923.WAV', '/home/adkris1002/Documents/UBNA_Research/AudiomothStuff/Recordings&Code/Audiomoth2Files/Foliage2022/20220703_unit2/Recordings/20220703_220924.WAV', '/home/adkris1002/Documents/UBNA_Research/AudiomothStuff/Recordings&Code/Audiomoth2Files/Foliage2022/20220703_unit2/Recordings/20220703_220925.WAV', '/home/adkris1002/Documents/UBNA_Research/AudiomothStuff/Recordings&Code/Audiomoth2Files/Foliage2022/20220703_unit2/Recordings/20220703_220926.WAV', '/home/adkris1002/Documents/UBNA_Research/AudiomothStuff/Recordings&Code/Audiomoth2Files/Foliage2022/20220703_unit2/Recordings/20220703_220927.WAV', '/home/adkris1002/Documents/UBNA_Research/AudiomothStuff/Recordings&Code/Audiomoth2Files/Foliage2022/20220703_unit2/Recordings/20220703_220928.WAV', '/home/adkris1002/Documents/UBNA_Research/AudiomothStuff/Recordings&Code/Audiomoth2Files/Foliage2022/20220703_unit2/Recordings/20220703_220929.WAV', '/home/adkris1002/Documents/UBNA_Research/AudiomothStuff/Recordings&Code/Audiomoth2Files/Foliage2022/20220703_unit2/Recordings/20220703_220930.WAV', '/home/adkris1002/Documents/UBNA_Research/AudiomothStuff/Recordings&Code/Audiomoth2Files/Foliage2022/20220703_unit2/Recordings/20220703_220931.WAV', '/home/adkris1002/Documents/UBNA_Research/AudiomothStuff/Recordings&Code/Audiomoth2Files/Foliage2022/20220703_unit2/Recordings/20220703_220932.WAV', '/home/adkris1002/Documents/UBNA_Research/AudiomothStuff/Recordings&Code/Audiomoth2Files/Foliage2022/20220703_unit2/Recordings/20220703_220933.WAV', '/home/adkris1002/Documents/UBNA_Research/AudiomothStuff/Recordings&Code/Audiomoth2Files/Foliage2022/20220703_unit2/Recordings/20220703_220934.WAV', '/home/adkris1002/Documents/UBNA_Research/AudiomothStuff/Recordings&Code/Audiomoth2Files/Foliage2022/20220703_unit2/Recordings/20220703_220935.WAV', '/home/adkris1002/Documents/UBNA_Research/AudiomothStuff/Recordings&Code/Audiomoth2Files/Foliage2022/20220703_unit2/Recordings/20220703_220936.WAV', '/home/adkris1002/Documents/UBNA_Research/AudiomothStuff/Recordings&Code/Audiomoth2Files/Foliage2022/20220703_unit2/Recordings/20220703_220937.WAV', '/home/adkris1002/Documents/UBNA_Research/AudiomothStuff/Recordings&Code/Audiomoth2Files/Foliage2022/20220703_unit2/Recordings/20220703_220938.WAV', '/home/adkris1002/Documents/UBNA_Research/AudiomothStuff/Recordings&Code/Audiomoth2Files/Foliage2022/20220703_unit2/Recordings/20220703_220939.WAV', '/home/adkris1002/Documents/UBNA_Research/AudiomothStuff/Recordings&Code/Audiomoth2Files/Foliage2022/20220703_unit2/Recordings/20220703_220940.WAV', '/home/adkris1002/Documents/UBNA_Research/AudiomothStuff/Recordings&Code/Audiomoth2Files/Foliage2022/20220703_unit2/Recordings/20220703_220941.WAV', '/home/adkris1002/Documents/UBNA_Research/AudiomothStuff/Recordings&Code/Audiomoth2Files/Foliage2022/20220703_unit2/Recordings/20220703_220942.WAV', '/home/adkris1002/Documents/UBNA_Research/AudiomothStuff/Recordings&Code/Audiomoth2Files/Foliage2022/20220703_unit2/Recordings/20220703_220943.WAV', '/home/adkris1002/Documents/UBNA_Research/AudiomothStuff/Recordings&Code/Audiomoth2Files/Foliage2022/20220703_unit2/Recordings/20220703_220944.WAV', '/home/adkris1002/Documents/UBNA_Research/AudiomothStuff/Recordings&Code/Audiomoth2Files/Foliage2022/20220703_unit2/Recordings/20220703_220945.WAV', '/home/adkris1002/Documents/UBNA_Research/AudiomothStuff/Recordings&Code/Audiomoth2Files/Foliage2022/20220703_unit2/Recordings/20220703_220946.WAV', '/home/adkris1002/Documents/UBNA_Research/AudiomothStuff/Recordings&Code/Audiomoth2Files/Foliage2022/20220703_unit2/Recordings/20220703_220947.WAV', '/home/adkris1002/Documents/UBNA_Research/AudiomothStuff/Recordings&Code/Audiomoth2Files/Foliage2022/20220703_unit2/Recordings/20220703_220948.WAV', '/home/adkris1002/Documents/UBNA_Research/AudiomothStuff/Recordings&Code/Audiomoth2Files/Foliage2022/20220703_unit2/Recordings/20220703_220949.WAV', '/home/adkris1002/Documents/UBNA_Research/AudiomothStuff/Recordings&Code/Audiomoth2Files/Foliage2022/20220703_unit2/Recordings/20220703_220950.WAV', '/home/adkris1002/Documents/UBNA_Research/AudiomothStuff/Recordings&Code/Audiomoth2Files/Foliage2022/20220703_unit2/Recordings/20220703_220951.WAV', '/home/adkris1002/Documents/UBNA_Research/AudiomothStuff/Recordings&Code/Audiomoth2Files/Foliage2022/20220703_unit2/Recordings/20220703_220952.WAV', '/home/adkris1002/Documents/UBNA_Research/AudiomothStuff/Recordings&Code/Audiomoth2Files/Foliage2022/20220703_unit2/Recordings/20220703_220953.WAV', '/home/adkris1002/Documents/UBNA_Research/AudiomothStuff/Recordings&Code/Audiomoth2Files/Foliage2022/20220703_unit2/Recordings/20220703_220954.WAV', '/home/adkris1002/Documents/UBNA_Research/AudiomothStuff/Recordings&Code/Audiomoth2Files/Foliage2022/20220703_unit2/Recordings/20220703_220955.WAV', '/home/adkris1002/Documents/UBNA_Research/AudiomothStuff/Recordings&Code/Audiomoth2Files/Foliage2022/20220703_unit2/Recordings/20220703_220956.WAV', '/home/adkris1002/Documents/UBNA_Research/AudiomothStuff/Recordings&Code/Audiomoth2Files/Foliage2022/20220703_unit2/Recordings/20220703_220957.WAV', '/home/adkris1002/Documents/UBNA_Research/AudiomothStuff/Recordings&Code/Audiomoth2Files/Foliage2022/20220703_unit2/Recordings/20220703_220958.WAV', '/home/adkris1002/Documents/UBNA_Research/AudiomothStuff/Recordings&Code/Audiomoth2Files/Foliage2022/20220703_unit2/Recordings/20220703_220959.WAV', '/home/adkris1002/Documents/UBNA_Research/AudiomothStuff/Recordings&Code/Audiomoth2Files/Foliage2022/20220703_unit2/Recordings/20220703_221000.WAV', '/home/adkris1002/Documents/UBNA_Research/AudiomothStuff/Recordings&Code/Audiomoth2Files/Foliage2022/20220703_unit2/Recordings/20220703_221001.WAV', '/home/adkris1002/Documents/UBNA_Research/AudiomothStuff/Recordings&Code/Audiomoth2Files/Foliage2022/20220703_unit2/Recordings/20220703_221002.WAV', '/home/adkris1002/Documents/UBNA_Research/AudiomothStuff/Recordings&Code/Audiomoth2Files/Foliage2022/20220703_unit2/Recordings/20220703_221003.WAV', '/home/adkris1002/Documents/UBNA_Research/AudiomothStuff/Recordings&Code/Audiomoth2Files/Foliage2022/20220703_unit2/Recordings/20220703_221004.WAV', '/home/adkris1002/Documents/UBNA_Research/AudiomothStuff/Recordings&Code/Audiomoth2Files/Foliage2022/20220703_unit2/Recordings/20220703_221005.WAV', '/home/adkris1002/Documents/UBNA_Research/AudiomothStuff/Recordings&Code/Audiomoth2Files/Foliage2022/20220703_unit2/Recordings/20220703_221006.WAV', '/home/adkris1002/Documents/UBNA_Research/AudiomothStuff/Recordings&Code/Audiomoth2Files/Foliage2022/20220703_unit2/Recordings/20220703_221007.WAV', '/home/adkris1002/Documents/UBNA_Research/AudiomothStuff/Recordings&Code/Audiomoth2Files/Foliage2022/20220703_unit2/Recordings/20220703_221008.WAV', '/home/adkris1002/Documents/UBNA_Research/AudiomothStuff/Recordings&Code/Audiomoth2Files/Foliage2022/20220703_unit2/Recordings/20220703_221009.WAV', '/home/adkris1002/Documents/UBNA_Research/AudiomothStuff/Recordings&Code/Audiomoth2Files/Foliage2022/20220703_unit2/Recordings/20220703_221010.WAV', '/home/adkris1002/Documents/UBNA_Research/AudiomothStuff/Recordings&Code/Audiomoth2Files/Foliage2022/20220703_unit2/Recordings/20220703_221011.WAV', '/home/adkris1002/Documents/UBNA_Research/AudiomothStuff/Recordings&Code/Audiomoth2Files/Foliage2022/20220703_unit2/Recordings/20220703_221012.WAV', '/home/adkris1002/Documents/UBNA_Research/AudiomothStuff/Recordings&Code/Audiomoth2Files/Foliage2022/20220703_unit2/Recordings/20220703_221013.WAV', '/home/adkris1002/Documents/UBNA_Research/AudiomothStuff/Recordings&Code/Audiomoth2Files/Foliage2022/20220703_unit2/Recordings/20220703_221014.WAV', '/home/adkris1002/Documents/UBNA_Research/AudiomothStuff/Recordings&Code/Audiomoth2Files/Foliage2022/20220703_unit2/Recordings/20220703_221015.WAV', '/home/adkris1002/Documents/UBNA_Research/AudiomothStuff/Recordings&Code/Audiomoth2Files/Foliage2022/20220703_unit2/Recordings/20220703_221016.WAV', '/home/adkris1002/Documents/UBNA_Research/AudiomothStuff/Recordings&Code/Audiomoth2Files/Foliage2022/20220703_unit2/Recordings/20220703_221017.WAV', '/home/adkris1002/Documents/UBNA_Research/AudiomothStuff/Recordings&Code/Audiomoth2Files/Foliage2022/20220703_unit2/Recordings/20220703_221018.WAV', '/home/adkris1002/Documents/UBNA_Research/AudiomothStuff/Recordings&Code/Audiomoth2Files/Foliage2022/20220703_unit2/Recordings/20220703_221019.WAV', '/home/adkris1002/Documents/UBNA_Research/AudiomothStuff/Recordings&Code/Audiomoth2Files/Foliage2022/20220703_unit2/Recordings/20220703_221020.WAV', '/home/adkris1002/Documents/UBNA_Research/AudiomothStuff/Recordings&Code/Audiomoth2Files/Foliage2022/20220703_unit2/Recordings/20220703_221021.WAV', '/home/adkris1002/Documents/UBNA_Research/AudiomothStuff/Recordings&Code/Audiomoth2Files/Foliage2022/20220703_unit2/Recordings/20220703_221022.WAV', '/home/adkris1002/Documents/UBNA_Research/AudiomothStuff/Recordings&Code/Audiomoth2Files/Foliage2022/20220703_unit2/Recordings/20220703_221023.WAV', '/home/adkris1002/Documents/UBNA_Research/AudiomothStuff/Recordings&Code/Audiomoth2Files/Foliage2022/20220703_unit2/Recordings/20220703_221024.WAV', '/home/adkris1002/Documents/UBNA_Research/AudiomothStuff/Recordings&Code/Audiomoth2Files/Foliage2022/20220703_unit2/Recordings/20220703_221025.WAV', '/home/adkris1002/Documents/UBNA_Research/AudiomothStuff/Recordings&Code/Audiomoth2Files/Foliage2022/20220703_unit2/Recordings/20220703_221026.WAV', '/home/adkris1002/Documents/UBNA_Research/AudiomothStuff/Recordings&Code/Audiomoth2Files/Foliage2022/20220703_unit2/Recordings/20220703_221027.WAV', '/home/adkris1002/Documents/UBNA_Research/AudiomothStuff/Recordings&Code/Audiomoth2Files/Foliage2022/20220703_unit2/Recordings/20220703_221028.WAV', '/home/adkris1002/Documents/UBNA_Research/AudiomothStuff/Recordings&Code/Audiomoth2Files/Foliage2022/20220703_unit2/Recordings/20220703_221029.WAV', '/home/adkris1002/Documents/UBNA_Research/AudiomothStuff/Recordings&Code/Audiomoth2Files/Foliage2022/20220703_unit2/Recordings/20220703_221030.WAV', '/home/adkris1002/Documents/UBNA_Research/AudiomothStuff/Recordings&Code/Audiomoth2Files/Foliage2022/20220703_unit2/Recordings/20220703_221031.WAV', '/home/adkris1002/Documents/UBNA_Research/AudiomothStuff/Recordings&Code/Audiomoth2Files/Foliage2022/20220703_unit2/Recordings/20220703_221032.WAV', '/home/adkris1002/Documents/UBNA_Research/AudiomothStuff/Recordings&Code/Audiomoth2Files/Foliage2022/20220703_unit2/Recordings/20220703_221033.WAV', '/home/adkris1002/Documents/UBNA_Research/AudiomothStuff/Recordings&Code/Audiomoth2Files/Foliage2022/20220703_unit2/Recordings/20220703_221034.WAV', '/home/adkris1002/Documents/UBNA_Research/AudiomothStuff/Recordings&Code/Audiomoth2Files/Foliage2022/20220703_unit2/Recordings/20220703_221035.WAV', '/home/adkris1002/Documents/UBNA_Research/AudiomothStuff/Recordings&Code/Audiomoth2Files/Foliage2022/20220703_unit2/Recordings/20220703_221036.WAV', '/home/adkris1002/Documents/UBNA_Research/AudiomothStuff/Recordings&Code/Audiomoth2Files/Foliage2022/20220703_unit2/Recordings/20220703_221037.WAV', '/home/adkris1002/Documents/UBNA_Research/AudiomothStuff/Recordings&Code/Audiomoth2Files/Foliage2022/20220703_unit2/Recordings/20220703_221038.WAV', '/home/adkris1002/Documents/UBNA_Research/AudiomothStuff/Recordings&Code/Audiomoth2Files/Foliage2022/20220703_unit2/Recordings/20220703_221039.WAV', '/home/adkris1002/Documents/UBNA_Research/AudiomothStuff/Recordings&Code/Audiomoth2Files/Foliage2022/20220703_unit2/Recordings/20220703_221040.WAV', '/home/adkris1002/Documents/UBNA_Research/AudiomothStuff/Recordings&Code/Audiomoth2Files/Foliage2022/20220703_unit2/Recordings/20220703_221041.WAV', '/home/adkris1002/Documents/UBNA_Research/AudiomothStuff/Recordings&Code/Audiomoth2Files/Foliage2022/20220703_unit2/Recordings/20220703_221042.WAV', '/home/adkris1002/Documents/UBNA_Research/AudiomothStuff/Recordings&Code/Audiomoth2Files/Foliage2022/20220703_unit2/Recordings/20220703_221043.WAV', '/home/adkris1002/Documents/UBNA_Research/AudiomothStuff/Recordings&Code/Audiomoth2Files/Foliage2022/20220703_unit2/Recordings/20220703_221044.WAV', '/home/adkris1002/Documents/UBNA_Research/AudiomothStuff/Recordings&Code/Audiomoth2Files/Foliage2022/20220703_unit2/Recordings/20220703_221045.WAV', '/home/adkris1002/Documents/UBNA_Research/AudiomothStuff/Recordings&Code/Audiomoth2Files/Foliage2022/20220703_unit2/Recordings/20220703_221046.WAV', '/home/adkris1002/Documents/UBNA_Research/AudiomothStuff/Recordings&Code/Audiomoth2Files/Foliage2022/20220703_unit2/Recordings/20220703_221047.WAV', '/home/adkris1002/Documents/UBNA_Research/AudiomothStuff/Recordings&Code/Audiomoth2Files/Foliage2022/20220703_unit2/Recordings/20220703_221048.WAV', '/home/adkris1002/Documents/UBNA_Research/AudiomothStuff/Recordings&Code/Audiomoth2Files/Foliage2022/20220703_unit2/Recordings/20220703_221049.WAV', '/home/adkris1002/Documents/UBNA_Research/AudiomothStuff/Recordings&Code/Audiomoth2Files/Foliage2022/20220703_unit2/Recordings/20220703_221050.WAV', '/home/adkris1002/Documents/UBNA_Research/AudiomothStuff/Recordings&Code/Audiomoth2Files/Foliage2022/20220703_unit2/Recordings/20220703_221051.WAV', '/home/adkris1002/Documents/UBNA_Research/AudiomothStuff/Recordings&Code/Audiomoth2Files/Foliage2022/20220703_unit2/Recordings/20220703_221052.WAV', '/home/adkris1002/Documents/UBNA_Research/AudiomothStuff/Recordings&Code/Audiomoth2Files/Foliage2022/20220703_unit2/Recordings/20220703_221053.WAV', '/home/adkris1002/Documents/UBNA_Research/AudiomothStuff/Recordings&Code/Audiomoth2Files/Foliage2022/20220703_unit2/Recordings/20220703_221054.WAV', '/home/adkris1002/Documents/UBNA_Research/AudiomothStuff/Recordings&Code/Audiomoth2Files/Foliage2022/20220703_unit2/Recordings/20220703_221055.WAV', '/home/adkris1002/Documents/UBNA_Research/AudiomothStuff/Recordings&Code/Audiomoth2Files/Foliage2022/20220703_unit2/Recordings/20220703_221056.WAV', '/home/adkris1002/Documents/UBNA_Research/AudiomothStuff/Recordings&Code/Audiomoth2Files/Foliage2022/20220703_unit2/Recordings/20220703_221057.WAV', '/home/adkris1002/Documents/UBNA_Research/AudiomothStuff/Recordings&Code/Audiomoth2Files/Foliage2022/20220703_unit2/Recordings/20220703_221058.WAV', '/home/adkris1002/Documents/UBNA_Research/AudiomothStuff/Recordings&Code/Audiomoth2Files/Foliage2022/20220703_unit2/Recordings/20220703_221059.WAV', '/home/adkris1002/Documents/UBNA_Research/AudiomothStuff/Recordings&Code/Audiomoth2Files/Foliage2022/20220703_unit2/Recordings/20220703_221100.WAV', '/home/adkris1002/Documents/UBNA_Research/AudiomothStuff/Recordings&Code/Audiomoth2Files/Foliage2022/20220703_unit2/Recordings/20220703_221101.WAV', '/home/adkris1002/Documents/UBNA_Research/AudiomothStuff/Recordings&Code/Audiomoth2Files/Foliage2022/20220703_unit2/Recordings/20220703_221102.WAV', '/home/adkris1002/Documents/UBNA_Research/AudiomothStuff/Recordings&Code/Audiomoth2Files/Foliage2022/20220703_unit2/Recordings/20220703_221103.WAV', '/home/adkris1002/Documents/UBNA_Research/AudiomothStuff/Recordings&Code/Audiomoth2Files/Foliage2022/20220703_unit2/Recordings/20220703_221104.WAV', '/home/adkris1002/Documents/UBNA_Research/AudiomothStuff/Recordings&Code/Audiomoth2Files/Foliage2022/20220703_unit2/Recordings/20220703_221105.WAV', '/home/adkris1002/Documents/UBNA_Research/AudiomothStuff/Recordings&Code/Audiomoth2Files/Foliage2022/20220703_unit2/Recordings/20220703_221106.WAV', '/home/adkris1002/Documents/UBNA_Research/AudiomothStuff/Recordings&Code/Audiomoth2Files/Foliage2022/20220703_unit2/Recordings/20220703_221107.WAV', '/home/adkris1002/Documents/UBNA_Research/AudiomothStuff/Recordings&Code/Audiomoth2Files/Foliage2022/20220703_unit2/Recordings/20220703_221108.WAV', '/home/adkris1002/Documents/UBNA_Research/AudiomothStuff/Recordings&Code/Audiomoth2Files/Foliage2022/20220703_unit2/Recordings/20220703_221109.WAV', '/home/adkris1002/Documents/UBNA_Research/AudiomothStuff/Recordings&Code/Audiomoth2Files/Foliage2022/20220703_unit2/Recordings/20220703_221110.WAV', '/home/adkris1002/Documents/UBNA_Research/AudiomothStuff/Recordings&Code/Audiomoth2Files/Foliage2022/20220703_unit2/Recordings/20220703_221111.WAV', '/home/adkris1002/Documents/UBNA_Research/AudiomothStuff/Recordings&Code/Audiomoth2Files/Foliage2022/20220703_unit2/Recordings/20220703_221112.WAV', '/home/adkris1002/Documents/UBNA_Research/AudiomothStuff/Recordings&Code/Audiomoth2Files/Foliage2022/20220703_unit2/Recordings/20220703_221113.WAV', '/home/adkris1002/Documents/UBNA_Research/AudiomothStuff/Recordings&Code/Audiomoth2Files/Foliage2022/20220703_unit2/Recordings/20220703_221114.WAV', '/home/adkris1002/Documents/UBNA_Research/AudiomothStuff/Recordings&Code/Audiomoth2Files/Foliage2022/20220703_unit2/Recordings/20220703_221115.WAV', '/home/adkris1002/Documents/UBNA_Research/AudiomothStuff/Recordings&Code/Audiomoth2Files/Foliage2022/20220703_unit2/Recordings/20220703_221116.WAV', '/home/adkris1002/Documents/UBNA_Research/AudiomothStuff/Recordings&Code/Audiomoth2Files/Foliage2022/20220703_unit2/Recordings/20220703_221117.WAV', '/home/adkris1002/Documents/UBNA_Research/AudiomothStuff/Recordings&Code/Audiomoth2Files/Foliage2022/20220703_unit2/Recordings/20220703_221118.WAV', '/home/adkris1002/Documents/UBNA_Research/AudiomothStuff/Recordings&Code/Audiomoth2Files/Foliage2022/20220703_unit2/Recordings/20220703_221119.WAV', '/home/adkris1002/Documents/UBNA_Research/AudiomothStuff/Recordings&Code/Audiomoth2Files/Foliage2022/20220703_unit2/Recordings/20220703_221120.WAV', '/home/adkris1002/Documents/UBNA_Research/AudiomothStuff/Recordings&Code/Audiomoth2Files/Foliage2022/20220703_unit2/Recordings/20220703_221121.WAV', '/home/adkris1002/Documents/UBNA_Research/AudiomothStuff/Recordings&Code/Audiomoth2Files/Foliage2022/20220703_unit2/Recordings/20220703_221122.WAV', '/home/adkris1002/Documents/UBNA_Research/AudiomothStuff/Recordings&Code/Audiomoth2Files/Foliage2022/20220703_unit2/Recordings/20220703_221123.WAV', '/home/adkris1002/Documents/UBNA_Research/AudiomothStuff/Recordings&Code/Audiomoth2Files/Foliage2022/20220703_unit2/Recordings/20220703_221124.WAV', '/home/adkris1002/Documents/UBNA_Research/AudiomothStuff/Recordings&Code/Audiomoth2Files/Foliage2022/20220703_unit2/Recordings/20220703_221125.WAV', '/home/adkris1002/Documents/UBNA_Research/AudiomothStuff/Recordings&Code/Audiomoth2Files/Foliage2022/20220703_unit2/Recordings/20220703_221126.WAV', '/home/adkris1002/Documents/UBNA_Research/AudiomothStuff/Recordings&Code/Audiomoth2Files/Foliage2022/20220703_unit2/Recordings/20220703_221127.WAV', '/home/adkris1002/Documents/UBNA_Research/AudiomothStuff/Recordings&Code/Audiomoth2Files/Foliage2022/20220703_unit2/Recordings/20220703_221128.WAV', '/home/adkris1002/Documents/UBNA_Research/AudiomothStuff/Recordings&Code/Audiomoth2Files/Foliage2022/20220703_unit2/Recordings/20220703_221129.WAV', '/home/adkris1002/Documents/UBNA_Research/AudiomothStuff/Recordings&Code/Audiomoth2Files/Foliage2022/20220703_unit2/Recordings/20220703_221130.WAV', '/home/adkris1002/Documents/UBNA_Research/AudiomothStuff/Recordings&Code/Audiomoth2Files/Foliage2022/20220703_unit2/Recordings/20220703_221131.WAV', '/home/adkris1002/Documents/UBNA_Research/AudiomothStuff/Recordings&Code/Audiomoth2Files/Foliage2022/20220703_unit2/Recordings/20220703_221132.WAV', '/home/adkris1002/Documents/UBNA_Research/AudiomothStuff/Recordings&Code/Audiomoth2Files/Foliage2022/20220703_unit2/Recordings/20220703_221133.WAV', '/home/adkris1002/Documents/UBNA_Research/AudiomothStuff/Recordings&Code/Audiomoth2Files/Foliage2022/20220703_unit2/Recordings/20220703_221134.WAV', '/home/adkris1002/Documents/UBNA_Research/AudiomothStuff/Recordings&Code/Audiomoth2Files/Foliage2022/20220703_unit2/Recordings/20220703_221135.WAV', '/home/adkris1002/Documents/UBNA_Research/AudiomothStuff/Recordings&Code/Audiomoth2Files/Foliage2022/20220703_unit2/Recordings/20220703_221136.WAV', '/home/adkris1002/Documents/UBNA_Research/AudiomothStuff/Recordings&Code/Audiomoth2Files/Foliage2022/20220703_unit2/Recordings/20220703_221137.WAV', '/home/adkris1002/Documents/UBNA_Research/AudiomothStuff/Recordings&Code/Audiomoth2Files/Foliage2022/20220703_unit2/Recordings/20220703_221138.WAV', '/home/adkris1002/Documents/UBNA_Research/AudiomothStuff/Recordings&Code/Audiomoth2Files/Foliage2022/20220703_unit2/Recordings/20220703_223000.WAV', '/home/adkris1002/Documents/UBNA_Research/AudiomothStuff/Recordings&Code/Audiomoth2Files/Foliage2022/20220703_unit2/Recordings/20220703_230000.WAV', '/home/adkris1002/Documents/UBNA_Research/AudiomothStuff/Recordings&Code/Audiomoth2Files/Foliage2022/20220703_unit2/Recordings/20220703_233000.WAV', '/home/adkris1002/Documents/UBNA_Research/AudiomothStuff/Recordings&Code/Audiomoth2Files/Foliage2022/20220703_unit2/Recordings/20220704_000000.WAV', '/home/adkris1002/Documents/UBNA_Research/AudiomothStuff/Recordings&Code/Audiomoth2Files/Foliage2022/20220703_unit2/Recordings/20220704_003000.WAV', '/home/adkris1002/Documents/UBNA_Research/AudiomothStuff/Recordings&Code/Audiomoth2Files/Foliage2022/20220703_unit2/Recordings/20220704_010000.WAV', '/home/adkris1002/Documents/UBNA_Research/AudiomothStuff/Recordings&Code/Audiomoth2Files/Foliage2022/20220703_unit2/Recordings/20220704_013000.WAV', '/home/adkris1002/Documents/UBNA_Research/AudiomothStuff/Recordings&Code/Audiomoth2Files/Foliage2022/20220703_unit2/Recordings/20220704_020000.WAV', '/home/adkris1002/Documents/UBNA_Research/AudiomothStuff/Recordings&Code/Audiomoth2Files/Foliage2022/20220703_unit2/Recordings/20220704_023000.WAV', '/home/adkris1002/Documents/UBNA_Research/AudiomothStuff/Recordings&Code/Audiomoth2Files/Foliage2022/20220703_unit2/Recordings/20220704_030000.WAV', '/home/adkris1002/Documents/UBNA_Research/AudiomothStuff/Recordings&Code/Audiomoth2Files/Foliage2022/20220703_unit2/Recordings/20220704_033000.WAV', '/home/adkris1002/Documents/UBNA_Research/AudiomothStuff/Recordings&Code/Audiomoth2Files/Foliage2022/20220703_unit2/Recordings/20220704_040000.WAV', '/home/adkris1002/Documents/UBNA_Research/AudiomothStuff/Recordings&Code/Audiomoth2Files/Foliage2022/20220703_unit2/Recordings/20220704_043000.WAV', '/home/adkris1002/Documents/UBNA_Research/AudiomothStuff/Recordings&Code/Audiomoth2Files/Foliage2022/20220703_unit2/Recordings/20220704_050000.WAV', '/home/adkris1002/Documents/UBNA_Research/AudiomothStuff/Recordings&Code/Audiomoth2Files/Foliage2022/20220703_unit2/Recordings/20220704_053000.WAV', '/home/adkris1002/Documents/UBNA_Research/AudiomothStuff/Recordings&Code/Audiomoth2Files/Foliage2022/20220703_unit2/Recordings/20220704_060000.WAV', '/home/adkris1002/Documents/UBNA_Research/AudiomothStuff/Recordings&Code/Audiomoth2Files/Foliage2022/20220703_unit2/Recordings/20220704_063000.WAV', '/home/adkris1002/Documents/UBNA_Research/AudiomothStuff/Recordings&Code/Audiomoth2Files/Foliage2022/20220703_unit2/Recordings/20220704_070000.WAV', '/home/adkris1002/Documents/UBNA_Research/AudiomothStuff/Recordings&Code/Audiomoth2Files/Foliage2022/20220703_unit2/Recordings/20220704_073000.WAV', '/home/adkris1002/Documents/UBNA_Research/AudiomothStuff/Recordings&Code/Audiomoth2Files/Foliage2022/20220703_unit2/Recordings/20220704_080000.WAV', '/home/adkris1002/Documents/UBNA_Research/AudiomothStuff/Recordings&Code/Audiomoth2Files/Foliage2022/20220703_unit2/Recordings/20220704_083000.WAV', '/home/adkris1002/Documents/UBNA_Research/AudiomothStuff/Recordings&Code/Audiomoth2Files/Foliage2022/20220703_unit2/Recordings/20220704_090000.WAV', '/home/adkris1002/Documents/UBNA_Research/AudiomothStuff/Recordings&Code/Audiomoth2Files/Foliage2022/20220703_unit2/Recordings/20220704_093000.WAV', '/home/adkris1002/Documents/UBNA_Research/AudiomothStuff/Recordings&Code/Audiomoth2Files/Foliage2022/20220703_unit2/Recordings/20220704_100000.WAV', '/home/adkris1002/Documents/UBNA_Research/AudiomothStuff/Recordings&Code/Audiomoth2Files/Foliage2022/20220703_unit2/Recordings/20220704_103000.WAV', '/home/adkris1002/Documents/UBNA_Research/AudiomothStuff/Recordings&Code/Audiomoth2Files/Foliage2022/20220703_unit2/Recordings/20220704_110000.WAV', '/home/adkris1002/Documents/UBNA_Research/AudiomothStuff/Recordings&Code/Audiomoth2Files/Foliage2022/20220703_unit2/Recordings/20220704_113000.WAV', '/home/adkris1002/Documents/UBNA_Research/AudiomothStuff/Recordings&Code/Audiomoth2Files/Foliage2022/20220703_unit2/Recordings/20220704_120000.WAV', '/home/adkris1002/Documents/UBNA_Research/AudiomothStuff/Recordings&Code/Audiomoth2Files/Foliage2022/20220703_unit2/Recordings/20220704_123000.WAV', '/home/adkris1002/Documents/UBNA_Research/AudiomothStuff/Recordings&Code/Audiomoth2Files/Foliage2022/20220703_unit2/Recordings/20220704_130000.WAV', '/home/adkris1002/Documents/UBNA_Research/AudiomothStuff/Recordings&Code/Audiomoth2Files/Foliage2022/20220703_unit2/Recordings/20220704_133000.WAV', '/home/adkris1002/Documents/UBNA_Research/AudiomothStuff/Recordings&Code/Audiomoth2Files/Foliage2022/20220703_unit2/Recordings/20220704_140000.WAV', '/home/adkris1002/Documents/UBNA_Research/AudiomothStuff/Recordings&Code/Audiomoth2Files/Foliage2022/20220703_unit2/Recordings/20220704_143000.WAV', '/home/adkris1002/Documents/UBNA_Research/AudiomothStuff/Recordings&Code/Audiomoth2Files/Foliage2022/20220703_unit2/Recordings/20220704_150000.WAV', '/home/adkris1002/Documents/UBNA_Research/AudiomothStuff/Recordings&Code/Audiomoth2Files/Foliage2022/20220703_unit2/Recordings/20220704_153000.WAV', '/home/adkris1002/Documents/UBNA_Research/AudiomothStuff/Recordings&Code/Audiomoth2Files/Foliage2022/20220703_unit2/Recordings/20220704_160000.WAV', '/home/adkris1002/Documents/UBNA_Research/AudiomothStuff/Recordings&Code/Audiomoth2Files/Foliage2022/20220703_unit2/Recordings/20220704_163000.WAV', '/home/adkris1002/Documents/UBNA_Research/AudiomothStuff/Recordings&Code/Audiomoth2Files/Foliage2022/20220703_unit2/Recordings/20220704_170000.WAV', '/home/adkris1002/Documents/UBNA_Research/AudiomothStuff/Recordings&Code/Audiomoth2Files/Foliage2022/20220703_unit2/Recordings/20220704_173000.WAV', '/home/adkris1002/Documents/UBNA_Research/AudiomothStuff/Recordings&Code/Audiomoth2Files/Foliage2022/20220703_unit2/Recordings/20220704_180000.WAV', '/home/adkris1002/Documents/UBNA_Research/AudiomothStuff/Recordings&Code/Audiomoth2Files/Foliage2022/20220703_unit2/Recordings/20220704_183000.WAV', '/home/adkris1002/Documents/UBNA_Research/AudiomothStuff/Recordings&Code/Audiomoth2Files/Foliage2022/20220703_unit2/Recordings/20220704_190000.WAV', '/home/adkris1002/Documents/UBNA_Research/AudiomothStuff/Recordings&Code/Audiomoth2Files/Foliage2022/20220703_unit2/Recordings/20220704_192758.WAV', '/home/adkris1002/Documents/UBNA_Research/AudiomothStuff/Recordings&Code/Audiomoth2Files/Foliage2022/20220703_unit2/Recordings/20220704_192759.WAV', '/home/adkris1002/Documents/UBNA_Research/AudiomothStuff/Recordings&Code/Audiomoth2Files/Foliage2022/20220703_unit2/Recordings/20220704_192800.WAV', '/home/adkris1002/Documents/UBNA_Research/AudiomothStuff/Recordings&Code/Audiomoth2Files/Foliage2022/20220703_unit2/Recordings/20220704_192801.WAV', '/home/adkris1002/Documents/UBNA_Research/AudiomothStuff/Recordings&Code/Audiomoth2Files/Foliage2022/20220703_unit2/Recordings/20220704_192802.WAV', '/home/adkris1002/Documents/UBNA_Research/AudiomothStuff/Recordings&Code/Audiomoth2Files/Foliage2022/20220703_unit2/Recordings/20220704_192803.WAV', '/home/adkris1002/Documents/UBNA_Research/AudiomothStuff/Recordings&Code/Audiomoth2Files/Foliage2022/20220703_unit2/Recordings/20220704_192804.WAV', '/home/adkris1002/Documents/UBNA_Research/AudiomothStuff/Recordings&Code/Audiomoth2Files/Foliage2022/20220703_unit2/Recordings/20220704_192805.WAV', '/home/adkris1002/Documents/UBNA_Research/AudiomothStuff/Recordings&Code/Audiomoth2Files/Foliage2022/20220703_unit2/Recordings/20220704_192806.WAV', '/home/adkris1002/Documents/UBNA_Research/AudiomothStuff/Recordings&Code/Audiomoth2Files/Foliage2022/20220703_unit2/Recordings/20220704_192807.WAV', '/home/adkris1002/Documents/UBNA_Research/AudiomothStuff/Recordings&Code/Audiomoth2Files/Foliage2022/20220703_unit2/Recordings/20220704_192808.WAV', '/home/adkris1002/Documents/UBNA_Research/AudiomothStuff/Recordings&Code/Audiomoth2Files/Foliage2022/20220703_unit2/Recordings/20220704_192809.WAV', '/home/adkris1002/Documents/UBNA_Research/AudiomothStuff/Recordings&Code/Audiomoth2Files/Foliage2022/20220703_unit2/Recordings/20220704_192810.WAV', '/home/adkris1002/Documents/UBNA_Research/AudiomothStuff/Recordings&Code/Audiomoth2Files/Foliage2022/20220703_unit2/Recordings/20220704_193000.WAV', '/home/adkris1002/Documents/UBNA_Research/AudiomothStuff/Recordings&Code/Audiomoth2Files/Foliage2022/20220703_unit2/Recordings/20220704_200000.WAV', '/home/adkris1002/Documents/UBNA_Research/AudiomothStuff/Recordings&Code/Audiomoth2Files/Foliage2022/20220703_unit2/Recordings/20220704_203000.WAV', '/home/adkris1002/Documents/UBNA_Research/AudiomothStuff/Recordings&Code/Audiomoth2Files/Foliage2022/20220703_unit2/Recordings/20220704_210000.WAV', '/home/adkris1002/Documents/UBNA_Research/AudiomothStuff/Recordings&Code/Audiomoth2Files/Foliage2022/20220703_unit2/Recordings/20220704_213000.WAV', '/home/adkris1002/Documents/UBNA_Research/AudiomothStuff/Recordings&Code/Audiomoth2Files/Foliage2022/20220703_unit2/Recordings/20220704_220000.WAV', '/home/adkris1002/Documents/UBNA_Research/AudiomothStuff/Recordings&Code/Audiomoth2Files/Foliage2022/20220703_unit2/Recordings/20220704_223000.WAV', '/home/adkris1002/Documents/UBNA_Research/AudiomothStuff/Recordings&Code/Audiomoth2Files/Foliage2022/20220703_unit2/Recordings/20220704_230000.WAV', '/home/adkris1002/Documents/UBNA_Research/AudiomothStuff/Recordings&Code/Audiomoth2Files/Foliage2022/20220703_unit2/Recordings/20220704_233000.WAV', '/home/adkris1002/Documents/UBNA_Research/AudiomothStuff/Recordings&Code/Audiomoth2Files/Foliage2022/20220703_unit2/Recordings/20220705_000000.WAV', '/home/adkris1002/Documents/UBNA_Research/AudiomothStuff/Recordings&Code/Audiomoth2Files/Foliage2022/20220703_unit2/Recordings/20220705_003000.WAV', '/home/adkris1002/Documents/UBNA_Research/AudiomothStuff/Recordings&Code/Audiomoth2Files/Foliage2022/20220703_unit2/Recordings/20220705_010000.WAV', '/home/adkris1002/Documents/UBNA_Research/AudiomothStuff/Recordings&Code/Audiomoth2Files/Foliage2022/20220703_unit2/Recordings/20220705_013000.WAV', '/home/adkris1002/Documents/UBNA_Research/AudiomothStuff/Recordings&Code/Audiomoth2Files/Foliage2022/20220703_unit2/Recordings/20220705_020000.WAV', '/home/adkris1002/Documents/UBNA_Research/AudiomothStuff/Recordings&Code/Audiomoth2Files/Foliage2022/20220703_unit2/Recordings/20220705_023000.WAV', '/home/adkris1002/Documents/UBNA_Research/AudiomothStuff/Recordings&Code/Audiomoth2Files/Foliage2022/20220703_unit2/Recordings/20220705_030000.WAV', '/home/adkris1002/Documents/UBNA_Research/AudiomothStuff/Recordings&Code/Audiomoth2Files/Foliage2022/20220703_unit2/Recordings/20220705_033000.WAV', '/home/adkris1002/Documents/UBNA_Research/AudiomothStuff/Recordings&Code/Audiomoth2Files/Foliage2022/20220703_unit2/Recordings/20220705_040000.WAV', '/home/adkris1002/Documents/UBNA_Research/AudiomothStuff/Recordings&Code/Audiomoth2Files/Foliage2022/20220703_unit2/Recordings/20220705_043000.WAV', '/home/adkris1002/Documents/UBNA_Research/AudiomothStuff/Recordings&Code/Audiomoth2Files/Foliage2022/20220703_unit2/Recordings/20220705_050000.WAV', '/home/adkris1002/Documents/UBNA_Research/AudiomothStuff/Recordings&Code/Audiomoth2Files/Foliage2022/20220703_unit2/Recordings/20220705_053000.WAV', '/home/adkris1002/Documents/UBNA_Research/AudiomothStuff/Recordings&Code/Audiomoth2Files/Foliage2022/20220703_unit2/Recordings/20220705_060000.WAV', '/home/adkris1002/Documents/UBNA_Research/AudiomothStuff/Recordings&Code/Audiomoth2Files/Foliage2022/20220703_unit2/Recordings/20220705_063000.WAV', '/home/adkris1002/Documents/UBNA_Research/AudiomothStuff/Recordings&Code/Audiomoth2Files/Foliage2022/20220703_unit2/Recordings/20220705_070000.WAV', '/home/adkris1002/Documents/UBNA_Research/AudiomothStuff/Recordings&Code/Audiomoth2Files/Foliage2022/20220703_unit2/Recordings/20220705_073000.WAV', '/home/adkris1002/Documents/UBNA_Research/AudiomothStuff/Recordings&Code/Audiomoth2Files/Foliage2022/20220703_unit2/Recordings/20220705_080000.WAV', '/home/adkris1002/Documents/UBNA_Research/AudiomothStuff/Recordings&Code/Audiomoth2Files/Foliage2022/20220703_unit2/Recordings/20220705_083000.WAV', '/home/adkris1002/Documents/UBNA_Research/AudiomothStuff/Recordings&Code/Audiomoth2Files/Foliage2022/20220703_unit2/Recordings/20220705_090000.WAV', '/home/adkris1002/Documents/UBNA_Research/AudiomothStuff/Recordings&Code/Audiomoth2Files/Foliage2022/20220703_unit2/Recordings/20220705_093000.WAV', '/home/adkris1002/Documents/UBNA_Research/AudiomothStuff/Recordings&Code/Audiomoth2Files/Foliage2022/20220703_unit2/Recordings/20220705_100000.WAV', '/home/adkris1002/Documents/UBNA_Research/AudiomothStuff/Recordings&Code/Audiomoth2Files/Foliage2022/20220703_unit2/Recordings/20220705_103000.WAV', '/home/adkris1002/Documents/UBNA_Research/AudiomothStuff/Recordings&Code/Audiomoth2Files/Foliage2022/20220703_unit2/Recordings/20220705_110000.WAV', '/home/adkris1002/Documents/UBNA_Research/AudiomothStuff/Recordings&Code/Audiomoth2Files/Foliage2022/20220703_unit2/Recordings/20220705_113000.WAV', '/home/adkris1002/Documents/UBNA_Research/AudiomothStuff/Recordings&Code/Audiomoth2Files/Foliage2022/20220703_unit2/Recordings/20220705_120000.WAV', '/home/adkris1002/Documents/UBNA_Research/AudiomothStuff/Recordings&Code/Audiomoth2Files/Foliage2022/20220703_unit2/Recordings/20220705_123000.WAV', '/home/adkris1002/Documents/UBNA_Research/AudiomothStuff/Recordings&Code/Audiomoth2Files/Foliage2022/20220703_unit2/Recordings/20220705_130000.WAV', '/home/adkris1002/Documents/UBNA_Research/AudiomothStuff/Recordings&Code/Audiomoth2Files/Foliage2022/20220703_unit2/Recordings/20220705_133000.WAV', '/home/adkris1002/Documents/UBNA_Research/AudiomothStuff/Recordings&Code/Audiomoth2Files/Foliage2022/20220703_unit2/Recordings/20220705_140000.WAV', '/home/adkris1002/Documents/UBNA_Research/AudiomothStuff/Recordings&Code/Audiomoth2Files/Foliage2022/20220703_unit2/Recordings/20220705_143000.WAV', '/home/adkris1002/Documents/UBNA_Research/AudiomothStuff/Recordings&Code/Audiomoth2Files/Foliage2022/20220703_unit2/Recordings/20220705_150000.WAV', '/home/adkris1002/Documents/UBNA_Research/AudiomothStuff/Recordings&Code/Audiomoth2Files/Foliage2022/20220703_unit2/Recordings/20220705_153000.WAV', '/home/adkris1002/Documents/UBNA_Research/AudiomothStuff/Recordings&Code/Audiomoth2Files/Foliage2022/20220703_unit2/Recordings/20220705_160000.WAV', '/home/adkris1002/Documents/UBNA_Research/AudiomothStuff/Recordings&Code/Audiomoth2Files/Foliage2022/20220703_unit2/Recordings/20220705_163000.WAV', '/home/adkris1002/Documents/UBNA_Research/AudiomothStuff/Recordings&Code/Audiomoth2Files/Foliage2022/20220703_unit2/Recordings/20220705_170000.WAV', '/home/adkris1002/Documents/UBNA_Research/AudiomothStuff/Recordings&Code/Audiomoth2Files/Foliage2022/20220703_unit2/Recordings/20220705_173000.WAV', '/home/adkris1002/Documents/UBNA_Research/AudiomothStuff/Recordings&Code/Audiomoth2Files/Foliage2022/20220703_unit2/Recordings/20220705_180000.WAV', '/home/adkris1002/Documents/UBNA_Research/AudiomothStuff/Recordings&Code/Audiomoth2Files/Foliage2022/20220703_unit2/Recordings/20220705_183000.WAV']\n"
     ]
    }
   ],
   "source": [
    "audio_path = '/home/adkris1002/Documents/UBNA_Research/AudiomothStuff/Recordings&Code/Audiomoth2Files/Foliage2022/'\n",
    "session_dir = session + '/Recordings'\n",
    "\n",
    "session_path = audio_path+session_dir\n",
    "# Get list of all files in a given directory sorted by name\n",
    "list_of_files = sorted(filter(os.path.isfile, glob.glob(session_path + '/*')))[:]\n",
    "print(list_of_files)"
   ]
  },
  {
   "cell_type": "code",
   "execution_count": 12,
   "id": "e599f30c",
   "metadata": {
    "scrolled": true
   },
   "outputs": [
    {
     "name": "stdout",
     "output_type": "stream",
     "text": [
      "Recordings/20220702_213428.WAV\n"
     ]
    },
    {
     "name": "stderr",
     "output_type": "stream",
     "text": [
      "/home/adkris1002/miniconda3/envs/opensoundscape/lib/python3.7/site-packages/opensoundscape/audio.py:180: UserWarning: This seems to be an AudioMoth file, but parse_audiomoth_metadata() raised: list index out of range\n",
      "  \"This seems to be an AudioMoth file, \"\n",
      "/home/adkris1002/miniconda3/envs/opensoundscape/lib/python3.7/site-packages/opensoundscape/audio.py:251: UserWarning: Audio object is shorter than requested duration: 3.01368 sec instead of 5 sec\n",
      "  warnings.warn(error_msg)\n",
      "/home/adkris1002/miniconda3/envs/opensoundscape/lib/python3.7/site-packages/opensoundscape/audio.py:180: UserWarning: This seems to be an AudioMoth file, but parse_audiomoth_metadata() raised: list index out of range\n",
      "  \"This seems to be an AudioMoth file, \"\n"
     ]
    },
    {
     "name": "stdout",
     "output_type": "stream",
     "text": [
      "Recordings/20220702_213700.WAV\n",
      "Recordings/20220702_220000.WAV\n"
     ]
    },
    {
     "name": "stderr",
     "output_type": "stream",
     "text": [
      "/home/adkris1002/miniconda3/envs/opensoundscape/lib/python3.7/site-packages/opensoundscape/audio.py:180: UserWarning: This seems to be an AudioMoth file, but parse_audiomoth_metadata() raised: list index out of range\n",
      "  \"This seems to be an AudioMoth file, \"\n"
     ]
    },
    {
     "name": "stdout",
     "output_type": "stream",
     "text": [
      "Recordings/20220702_223000.WAV\n"
     ]
    },
    {
     "name": "stderr",
     "output_type": "stream",
     "text": [
      "/home/adkris1002/miniconda3/envs/opensoundscape/lib/python3.7/site-packages/opensoundscape/audio.py:180: UserWarning: This seems to be an AudioMoth file, but parse_audiomoth_metadata() raised: list index out of range\n",
      "  \"This seems to be an AudioMoth file, \"\n"
     ]
    },
    {
     "name": "stdout",
     "output_type": "stream",
     "text": [
      "Recordings/20220702_230000.WAV\n"
     ]
    },
    {
     "name": "stderr",
     "output_type": "stream",
     "text": [
      "/home/adkris1002/miniconda3/envs/opensoundscape/lib/python3.7/site-packages/opensoundscape/audio.py:180: UserWarning: This seems to be an AudioMoth file, but parse_audiomoth_metadata() raised: list index out of range\n",
      "  \"This seems to be an AudioMoth file, \"\n"
     ]
    },
    {
     "name": "stdout",
     "output_type": "stream",
     "text": [
      "Recordings/20220702_233000.WAV\n"
     ]
    },
    {
     "name": "stderr",
     "output_type": "stream",
     "text": [
      "/home/adkris1002/miniconda3/envs/opensoundscape/lib/python3.7/site-packages/opensoundscape/audio.py:180: UserWarning: This seems to be an AudioMoth file, but parse_audiomoth_metadata() raised: list index out of range\n",
      "  \"This seems to be an AudioMoth file, \"\n"
     ]
    },
    {
     "name": "stdout",
     "output_type": "stream",
     "text": [
      "Recordings/20220703_000000.WAV\n"
     ]
    },
    {
     "name": "stderr",
     "output_type": "stream",
     "text": [
      "/home/adkris1002/miniconda3/envs/opensoundscape/lib/python3.7/site-packages/opensoundscape/audio.py:180: UserWarning: This seems to be an AudioMoth file, but parse_audiomoth_metadata() raised: list index out of range\n",
      "  \"This seems to be an AudioMoth file, \"\n"
     ]
    },
    {
     "name": "stdout",
     "output_type": "stream",
     "text": [
      "Recordings/20220703_003000.WAV\n"
     ]
    },
    {
     "name": "stderr",
     "output_type": "stream",
     "text": [
      "/home/adkris1002/miniconda3/envs/opensoundscape/lib/python3.7/site-packages/opensoundscape/audio.py:180: UserWarning: This seems to be an AudioMoth file, but parse_audiomoth_metadata() raised: list index out of range\n",
      "  \"This seems to be an AudioMoth file, \"\n"
     ]
    },
    {
     "name": "stdout",
     "output_type": "stream",
     "text": [
      "Recordings/20220703_010000.WAV\n"
     ]
    },
    {
     "name": "stderr",
     "output_type": "stream",
     "text": [
      "/home/adkris1002/miniconda3/envs/opensoundscape/lib/python3.7/site-packages/opensoundscape/audio.py:180: UserWarning: This seems to be an AudioMoth file, but parse_audiomoth_metadata() raised: list index out of range\n",
      "  \"This seems to be an AudioMoth file, \"\n"
     ]
    },
    {
     "name": "stdout",
     "output_type": "stream",
     "text": [
      "Recordings/20220703_013000.WAV\n"
     ]
    },
    {
     "name": "stderr",
     "output_type": "stream",
     "text": [
      "/home/adkris1002/miniconda3/envs/opensoundscape/lib/python3.7/site-packages/opensoundscape/audio.py:180: UserWarning: This seems to be an AudioMoth file, but parse_audiomoth_metadata() raised: list index out of range\n",
      "  \"This seems to be an AudioMoth file, \"\n"
     ]
    },
    {
     "name": "stdout",
     "output_type": "stream",
     "text": [
      "Recordings/20220703_020000.WAV\n"
     ]
    },
    {
     "name": "stderr",
     "output_type": "stream",
     "text": [
      "/home/adkris1002/miniconda3/envs/opensoundscape/lib/python3.7/site-packages/opensoundscape/audio.py:180: UserWarning: This seems to be an AudioMoth file, but parse_audiomoth_metadata() raised: list index out of range\n",
      "  \"This seems to be an AudioMoth file, \"\n"
     ]
    },
    {
     "name": "stdout",
     "output_type": "stream",
     "text": [
      "Recordings/20220703_023000.WAV\n"
     ]
    },
    {
     "name": "stderr",
     "output_type": "stream",
     "text": [
      "/home/adkris1002/miniconda3/envs/opensoundscape/lib/python3.7/site-packages/opensoundscape/audio.py:180: UserWarning: This seems to be an AudioMoth file, but parse_audiomoth_metadata() raised: list index out of range\n",
      "  \"This seems to be an AudioMoth file, \"\n"
     ]
    },
    {
     "name": "stdout",
     "output_type": "stream",
     "text": [
      "Recordings/20220703_030000.WAV\n"
     ]
    },
    {
     "name": "stderr",
     "output_type": "stream",
     "text": [
      "/home/adkris1002/miniconda3/envs/opensoundscape/lib/python3.7/site-packages/opensoundscape/audio.py:180: UserWarning: This seems to be an AudioMoth file, but parse_audiomoth_metadata() raised: list index out of range\n",
      "  \"This seems to be an AudioMoth file, \"\n"
     ]
    },
    {
     "name": "stdout",
     "output_type": "stream",
     "text": [
      "Recordings/20220703_033000.WAV\n"
     ]
    },
    {
     "name": "stderr",
     "output_type": "stream",
     "text": [
      "/home/adkris1002/miniconda3/envs/opensoundscape/lib/python3.7/site-packages/opensoundscape/audio.py:180: UserWarning: This seems to be an AudioMoth file, but parse_audiomoth_metadata() raised: list index out of range\n",
      "  \"This seems to be an AudioMoth file, \"\n"
     ]
    },
    {
     "name": "stdout",
     "output_type": "stream",
     "text": [
      "Recordings/20220703_040000.WAV\n"
     ]
    },
    {
     "name": "stderr",
     "output_type": "stream",
     "text": [
      "/home/adkris1002/miniconda3/envs/opensoundscape/lib/python3.7/site-packages/opensoundscape/audio.py:180: UserWarning: This seems to be an AudioMoth file, but parse_audiomoth_metadata() raised: list index out of range\n",
      "  \"This seems to be an AudioMoth file, \"\n"
     ]
    },
    {
     "name": "stdout",
     "output_type": "stream",
     "text": [
      "Recordings/20220703_043000.WAV\n"
     ]
    },
    {
     "name": "stderr",
     "output_type": "stream",
     "text": [
      "/home/adkris1002/miniconda3/envs/opensoundscape/lib/python3.7/site-packages/opensoundscape/audio.py:180: UserWarning: This seems to be an AudioMoth file, but parse_audiomoth_metadata() raised: list index out of range\n",
      "  \"This seems to be an AudioMoth file, \"\n"
     ]
    },
    {
     "name": "stdout",
     "output_type": "stream",
     "text": [
      "Recordings/20220703_050000.WAV\n"
     ]
    },
    {
     "name": "stderr",
     "output_type": "stream",
     "text": [
      "/home/adkris1002/miniconda3/envs/opensoundscape/lib/python3.7/site-packages/opensoundscape/audio.py:180: UserWarning: This seems to be an AudioMoth file, but parse_audiomoth_metadata() raised: list index out of range\n",
      "  \"This seems to be an AudioMoth file, \"\n",
      "/home/adkris1002/miniconda3/envs/opensoundscape/lib/python3.7/site-packages/opensoundscape/audio.py:180: UserWarning: This seems to be an AudioMoth file, but parse_audiomoth_metadata() raised: list index out of range\n",
      "  \"This seems to be an AudioMoth file, \"\n"
     ]
    },
    {
     "name": "stdout",
     "output_type": "stream",
     "text": [
      "Recordings/20220703_053000.WAV\n",
      "Recordings/20220703_060000.WAV\n"
     ]
    },
    {
     "name": "stderr",
     "output_type": "stream",
     "text": [
      "/home/adkris1002/miniconda3/envs/opensoundscape/lib/python3.7/site-packages/opensoundscape/audio.py:180: UserWarning: This seems to be an AudioMoth file, but parse_audiomoth_metadata() raised: list index out of range\n",
      "  \"This seems to be an AudioMoth file, \"\n"
     ]
    },
    {
     "name": "stdout",
     "output_type": "stream",
     "text": [
      "Recordings/20220703_063000.WAV\n"
     ]
    },
    {
     "name": "stderr",
     "output_type": "stream",
     "text": [
      "/home/adkris1002/miniconda3/envs/opensoundscape/lib/python3.7/site-packages/opensoundscape/audio.py:180: UserWarning: This seems to be an AudioMoth file, but parse_audiomoth_metadata() raised: list index out of range\n",
      "  \"This seems to be an AudioMoth file, \"\n"
     ]
    },
    {
     "name": "stdout",
     "output_type": "stream",
     "text": [
      "Recordings/20220703_070000.WAV\n"
     ]
    },
    {
     "name": "stderr",
     "output_type": "stream",
     "text": [
      "/home/adkris1002/miniconda3/envs/opensoundscape/lib/python3.7/site-packages/opensoundscape/audio.py:180: UserWarning: This seems to be an AudioMoth file, but parse_audiomoth_metadata() raised: list index out of range\n",
      "  \"This seems to be an AudioMoth file, \"\n"
     ]
    },
    {
     "name": "stdout",
     "output_type": "stream",
     "text": [
      "Recordings/20220703_073000.WAV\n"
     ]
    },
    {
     "name": "stderr",
     "output_type": "stream",
     "text": [
      "/home/adkris1002/miniconda3/envs/opensoundscape/lib/python3.7/site-packages/opensoundscape/audio.py:180: UserWarning: This seems to be an AudioMoth file, but parse_audiomoth_metadata() raised: list index out of range\n",
      "  \"This seems to be an AudioMoth file, \"\n"
     ]
    },
    {
     "name": "stdout",
     "output_type": "stream",
     "text": [
      "Recordings/20220703_080000.WAV\n"
     ]
    },
    {
     "name": "stderr",
     "output_type": "stream",
     "text": [
      "/home/adkris1002/miniconda3/envs/opensoundscape/lib/python3.7/site-packages/opensoundscape/audio.py:180: UserWarning: This seems to be an AudioMoth file, but parse_audiomoth_metadata() raised: list index out of range\n",
      "  \"This seems to be an AudioMoth file, \"\n"
     ]
    },
    {
     "name": "stdout",
     "output_type": "stream",
     "text": [
      "Recordings/20220703_083000.WAV\n"
     ]
    },
    {
     "name": "stderr",
     "output_type": "stream",
     "text": [
      "/home/adkris1002/miniconda3/envs/opensoundscape/lib/python3.7/site-packages/opensoundscape/audio.py:180: UserWarning: This seems to be an AudioMoth file, but parse_audiomoth_metadata() raised: list index out of range\n",
      "  \"This seems to be an AudioMoth file, \"\n"
     ]
    },
    {
     "name": "stdout",
     "output_type": "stream",
     "text": [
      "Recordings/20220703_090000.WAV\n"
     ]
    },
    {
     "name": "stderr",
     "output_type": "stream",
     "text": [
      "/home/adkris1002/miniconda3/envs/opensoundscape/lib/python3.7/site-packages/opensoundscape/audio.py:180: UserWarning: This seems to be an AudioMoth file, but parse_audiomoth_metadata() raised: list index out of range\n",
      "  \"This seems to be an AudioMoth file, \"\n"
     ]
    },
    {
     "name": "stdout",
     "output_type": "stream",
     "text": [
      "Recordings/20220703_093000.WAV\n"
     ]
    },
    {
     "name": "stderr",
     "output_type": "stream",
     "text": [
      "/home/adkris1002/miniconda3/envs/opensoundscape/lib/python3.7/site-packages/opensoundscape/audio.py:180: UserWarning: This seems to be an AudioMoth file, but parse_audiomoth_metadata() raised: list index out of range\n",
      "  \"This seems to be an AudioMoth file, \"\n"
     ]
    },
    {
     "name": "stdout",
     "output_type": "stream",
     "text": [
      "Recordings/20220703_100000.WAV\n",
      "Recordings/20220703_103000.WAV\n"
     ]
    },
    {
     "name": "stderr",
     "output_type": "stream",
     "text": [
      "/home/adkris1002/miniconda3/envs/opensoundscape/lib/python3.7/site-packages/opensoundscape/audio.py:180: UserWarning: This seems to be an AudioMoth file, but parse_audiomoth_metadata() raised: list index out of range\n",
      "  \"This seems to be an AudioMoth file, \"\n",
      "/home/adkris1002/miniconda3/envs/opensoundscape/lib/python3.7/site-packages/opensoundscape/audio.py:180: UserWarning: This seems to be an AudioMoth file, but parse_audiomoth_metadata() raised: list index out of range\n",
      "  \"This seems to be an AudioMoth file, \"\n"
     ]
    },
    {
     "name": "stdout",
     "output_type": "stream",
     "text": [
      "Recordings/20220703_110000.WAV\n"
     ]
    },
    {
     "name": "stderr",
     "output_type": "stream",
     "text": [
      "/home/adkris1002/miniconda3/envs/opensoundscape/lib/python3.7/site-packages/opensoundscape/audio.py:180: UserWarning: This seems to be an AudioMoth file, but parse_audiomoth_metadata() raised: list index out of range\n",
      "  \"This seems to be an AudioMoth file, \"\n"
     ]
    },
    {
     "name": "stdout",
     "output_type": "stream",
     "text": [
      "Recordings/20220703_113000.WAV\n"
     ]
    },
    {
     "name": "stderr",
     "output_type": "stream",
     "text": [
      "/home/adkris1002/miniconda3/envs/opensoundscape/lib/python3.7/site-packages/opensoundscape/audio.py:180: UserWarning: This seems to be an AudioMoth file, but parse_audiomoth_metadata() raised: list index out of range\n",
      "  \"This seems to be an AudioMoth file, \"\n"
     ]
    },
    {
     "name": "stdout",
     "output_type": "stream",
     "text": [
      "Recordings/20220703_120000.WAV\n"
     ]
    },
    {
     "name": "stderr",
     "output_type": "stream",
     "text": [
      "/home/adkris1002/miniconda3/envs/opensoundscape/lib/python3.7/site-packages/opensoundscape/audio.py:180: UserWarning: This seems to be an AudioMoth file, but parse_audiomoth_metadata() raised: list index out of range\n",
      "  \"This seems to be an AudioMoth file, \"\n"
     ]
    },
    {
     "name": "stdout",
     "output_type": "stream",
     "text": [
      "Recordings/20220703_123000.WAV\n"
     ]
    },
    {
     "name": "stderr",
     "output_type": "stream",
     "text": [
      "/home/adkris1002/miniconda3/envs/opensoundscape/lib/python3.7/site-packages/opensoundscape/audio.py:180: UserWarning: This seems to be an AudioMoth file, but parse_audiomoth_metadata() raised: list index out of range\n",
      "  \"This seems to be an AudioMoth file, \"\n"
     ]
    },
    {
     "name": "stdout",
     "output_type": "stream",
     "text": [
      "Recordings/20220703_130000.WAV\n"
     ]
    },
    {
     "name": "stderr",
     "output_type": "stream",
     "text": [
      "/home/adkris1002/miniconda3/envs/opensoundscape/lib/python3.7/site-packages/opensoundscape/audio.py:180: UserWarning: This seems to be an AudioMoth file, but parse_audiomoth_metadata() raised: list index out of range\n",
      "  \"This seems to be an AudioMoth file, \"\n"
     ]
    },
    {
     "name": "stdout",
     "output_type": "stream",
     "text": [
      "Recordings/20220703_133000.WAV\n"
     ]
    },
    {
     "name": "stderr",
     "output_type": "stream",
     "text": [
      "/home/adkris1002/miniconda3/envs/opensoundscape/lib/python3.7/site-packages/opensoundscape/audio.py:180: UserWarning: This seems to be an AudioMoth file, but parse_audiomoth_metadata() raised: list index out of range\n",
      "  \"This seems to be an AudioMoth file, \"\n"
     ]
    },
    {
     "name": "stdout",
     "output_type": "stream",
     "text": [
      "Recordings/20220703_140000.WAV\n"
     ]
    },
    {
     "name": "stderr",
     "output_type": "stream",
     "text": [
      "/home/adkris1002/miniconda3/envs/opensoundscape/lib/python3.7/site-packages/opensoundscape/audio.py:180: UserWarning: This seems to be an AudioMoth file, but parse_audiomoth_metadata() raised: list index out of range\n",
      "  \"This seems to be an AudioMoth file, \"\n"
     ]
    },
    {
     "name": "stdout",
     "output_type": "stream",
     "text": [
      "Recordings/20220703_143000.WAV\n"
     ]
    },
    {
     "name": "stderr",
     "output_type": "stream",
     "text": [
      "/home/adkris1002/miniconda3/envs/opensoundscape/lib/python3.7/site-packages/opensoundscape/audio.py:180: UserWarning: This seems to be an AudioMoth file, but parse_audiomoth_metadata() raised: list index out of range\n",
      "  \"This seems to be an AudioMoth file, \"\n"
     ]
    },
    {
     "name": "stdout",
     "output_type": "stream",
     "text": [
      "Recordings/20220703_150000.WAV\n"
     ]
    },
    {
     "name": "stderr",
     "output_type": "stream",
     "text": [
      "/home/adkris1002/miniconda3/envs/opensoundscape/lib/python3.7/site-packages/opensoundscape/audio.py:180: UserWarning: This seems to be an AudioMoth file, but parse_audiomoth_metadata() raised: list index out of range\n",
      "  \"This seems to be an AudioMoth file, \"\n"
     ]
    },
    {
     "name": "stdout",
     "output_type": "stream",
     "text": [
      "Recordings/20220703_153000.WAV\n",
      "Recordings/20220703_160000.WAV\n"
     ]
    },
    {
     "name": "stderr",
     "output_type": "stream",
     "text": [
      "/home/adkris1002/miniconda3/envs/opensoundscape/lib/python3.7/site-packages/opensoundscape/audio.py:180: UserWarning: This seems to be an AudioMoth file, but parse_audiomoth_metadata() raised: list index out of range\n",
      "  \"This seems to be an AudioMoth file, \"\n",
      "/home/adkris1002/miniconda3/envs/opensoundscape/lib/python3.7/site-packages/opensoundscape/audio.py:180: UserWarning: This seems to be an AudioMoth file, but parse_audiomoth_metadata() raised: list index out of range\n",
      "  \"This seems to be an AudioMoth file, \"\n"
     ]
    },
    {
     "name": "stdout",
     "output_type": "stream",
     "text": [
      "Recordings/20220703_163000.WAV\n"
     ]
    },
    {
     "name": "stderr",
     "output_type": "stream",
     "text": [
      "/home/adkris1002/miniconda3/envs/opensoundscape/lib/python3.7/site-packages/opensoundscape/audio.py:180: UserWarning: This seems to be an AudioMoth file, but parse_audiomoth_metadata() raised: list index out of range\n",
      "  \"This seems to be an AudioMoth file, \"\n"
     ]
    },
    {
     "name": "stdout",
     "output_type": "stream",
     "text": [
      "Recordings/20220703_170000.WAV\n"
     ]
    },
    {
     "name": "stderr",
     "output_type": "stream",
     "text": [
      "/home/adkris1002/miniconda3/envs/opensoundscape/lib/python3.7/site-packages/opensoundscape/audio.py:180: UserWarning: This seems to be an AudioMoth file, but parse_audiomoth_metadata() raised: list index out of range\n",
      "  \"This seems to be an AudioMoth file, \"\n"
     ]
    },
    {
     "name": "stdout",
     "output_type": "stream",
     "text": [
      "Recordings/20220703_173000.WAV\n",
      "Recordings/20220703_180000.WAV\n"
     ]
    },
    {
     "name": "stderr",
     "output_type": "stream",
     "text": [
      "/home/adkris1002/miniconda3/envs/opensoundscape/lib/python3.7/site-packages/opensoundscape/audio.py:180: UserWarning: This seems to be an AudioMoth file, but parse_audiomoth_metadata() raised: list index out of range\n",
      "  \"This seems to be an AudioMoth file, \"\n",
      "/home/adkris1002/miniconda3/envs/opensoundscape/lib/python3.7/site-packages/opensoundscape/audio.py:180: UserWarning: This seems to be an AudioMoth file, but parse_audiomoth_metadata() raised: list index out of range\n",
      "  \"This seems to be an AudioMoth file, \"\n"
     ]
    },
    {
     "name": "stdout",
     "output_type": "stream",
     "text": [
      "Recordings/20220703_183000.WAV\n"
     ]
    },
    {
     "name": "stderr",
     "output_type": "stream",
     "text": [
      "/home/adkris1002/miniconda3/envs/opensoundscape/lib/python3.7/site-packages/opensoundscape/audio.py:180: UserWarning: This seems to be an AudioMoth file, but parse_audiomoth_metadata() raised: list index out of range\n",
      "  \"This seems to be an AudioMoth file, \"\n"
     ]
    },
    {
     "name": "stdout",
     "output_type": "stream",
     "text": [
      "Recordings/20220703_190000.WAV\n"
     ]
    },
    {
     "name": "stderr",
     "output_type": "stream",
     "text": [
      "/home/adkris1002/miniconda3/envs/opensoundscape/lib/python3.7/site-packages/opensoundscape/audio.py:180: UserWarning: This seems to be an AudioMoth file, but parse_audiomoth_metadata() raised: list index out of range\n",
      "  \"This seems to be an AudioMoth file, \"\n"
     ]
    },
    {
     "name": "stdout",
     "output_type": "stream",
     "text": [
      "Recordings/20220703_193000.WAV\n"
     ]
    },
    {
     "name": "stderr",
     "output_type": "stream",
     "text": [
      "/home/adkris1002/miniconda3/envs/opensoundscape/lib/python3.7/site-packages/opensoundscape/audio.py:180: UserWarning: This seems to be an AudioMoth file, but parse_audiomoth_metadata() raised: list index out of range\n",
      "  \"This seems to be an AudioMoth file, \"\n"
     ]
    },
    {
     "name": "stdout",
     "output_type": "stream",
     "text": [
      "Recordings/20220703_200000.WAV\n"
     ]
    },
    {
     "name": "stderr",
     "output_type": "stream",
     "text": [
      "/home/adkris1002/miniconda3/envs/opensoundscape/lib/python3.7/site-packages/opensoundscape/audio.py:180: UserWarning: This seems to be an AudioMoth file, but parse_audiomoth_metadata() raised: list index out of range\n",
      "  \"This seems to be an AudioMoth file, \"\n"
     ]
    },
    {
     "name": "stdout",
     "output_type": "stream",
     "text": [
      "Recordings/20220703_203000.WAV\n"
     ]
    },
    {
     "name": "stderr",
     "output_type": "stream",
     "text": [
      "/home/adkris1002/miniconda3/envs/opensoundscape/lib/python3.7/site-packages/opensoundscape/audio.py:180: UserWarning: This seems to be an AudioMoth file, but parse_audiomoth_metadata() raised: list index out of range\n",
      "  \"This seems to be an AudioMoth file, \"\n"
     ]
    },
    {
     "name": "stdout",
     "output_type": "stream",
     "text": [
      "Recordings/20220703_210000.WAV\n"
     ]
    },
    {
     "name": "stderr",
     "output_type": "stream",
     "text": [
      "/home/adkris1002/miniconda3/envs/opensoundscape/lib/python3.7/site-packages/opensoundscape/audio.py:180: UserWarning: This seems to be an AudioMoth file, but parse_audiomoth_metadata() raised: list index out of range\n",
      "  \"This seems to be an AudioMoth file, \"\n"
     ]
    },
    {
     "name": "stdout",
     "output_type": "stream",
     "text": [
      "Recordings/20220703_213000.WAV\n"
     ]
    },
    {
     "name": "stderr",
     "output_type": "stream",
     "text": [
      "/home/adkris1002/miniconda3/envs/opensoundscape/lib/python3.7/site-packages/opensoundscape/audio.py:180: UserWarning: This seems to be an AudioMoth file, but parse_audiomoth_metadata() raised: list index out of range\n",
      "  \"This seems to be an AudioMoth file, \"\n"
     ]
    },
    {
     "name": "stdout",
     "output_type": "stream",
     "text": [
      "Recordings/20220703_220000.WAV\n",
      "Recordings/20220703_220001.WAV\n"
     ]
    },
    {
     "name": "stderr",
     "output_type": "stream",
     "text": [
      "/home/adkris1002/miniconda3/envs/opensoundscape/lib/python3.7/site-packages/opensoundscape/audio.py:180: UserWarning: This seems to be an AudioMoth file, but parse_audiomoth_metadata() raised: list index out of range\n",
      "  \"This seems to be an AudioMoth file, \"\n",
      "/home/adkris1002/miniconda3/envs/opensoundscape/lib/python3.7/site-packages/opensoundscape/audio.py:239: UserWarning: audio object has zero samples\n",
      "  warnings.warn(error_msg)\n",
      "/home/adkris1002/miniconda3/envs/opensoundscape/lib/python3.7/site-packages/opensoundscape/audio.py:180: UserWarning: This seems to be an AudioMoth file, but parse_audiomoth_metadata() raised: list index out of range\n",
      "  \"This seems to be an AudioMoth file, \"\n",
      "/home/adkris1002/miniconda3/envs/opensoundscape/lib/python3.7/site-packages/opensoundscape/audio.py:239: UserWarning: audio object has zero samples\n",
      "  warnings.warn(error_msg)\n",
      "/home/adkris1002/miniconda3/envs/opensoundscape/lib/python3.7/site-packages/opensoundscape/audio.py:180: UserWarning: This seems to be an AudioMoth file, but parse_audiomoth_metadata() raised: list index out of range\n",
      "  \"This seems to be an AudioMoth file, \"\n",
      "/home/adkris1002/miniconda3/envs/opensoundscape/lib/python3.7/site-packages/opensoundscape/audio.py:239: UserWarning: audio object has zero samples\n",
      "  warnings.warn(error_msg)\n",
      "/home/adkris1002/miniconda3/envs/opensoundscape/lib/python3.7/site-packages/opensoundscape/audio.py:180: UserWarning: This seems to be an AudioMoth file, but parse_audiomoth_metadata() raised: list index out of range\n",
      "  \"This seems to be an AudioMoth file, \"\n",
      "/home/adkris1002/miniconda3/envs/opensoundscape/lib/python3.7/site-packages/opensoundscape/audio.py:239: UserWarning: audio object has zero samples\n",
      "  warnings.warn(error_msg)\n",
      "/home/adkris1002/miniconda3/envs/opensoundscape/lib/python3.7/site-packages/opensoundscape/audio.py:180: UserWarning: This seems to be an AudioMoth file, but parse_audiomoth_metadata() raised: list index out of range\n",
      "  \"This seems to be an AudioMoth file, \"\n"
     ]
    },
    {
     "name": "stdout",
     "output_type": "stream",
     "text": [
      "Recordings/20220703_220002.WAV\n",
      "Recordings/20220703_220003.WAV\n",
      "Recordings/20220703_220004.WAV\n"
     ]
    },
    {
     "name": "stderr",
     "output_type": "stream",
     "text": [
      "/home/adkris1002/miniconda3/envs/opensoundscape/lib/python3.7/site-packages/opensoundscape/audio.py:239: UserWarning: audio object has zero samples\n",
      "  warnings.warn(error_msg)\n",
      "/home/adkris1002/miniconda3/envs/opensoundscape/lib/python3.7/site-packages/opensoundscape/audio.py:180: UserWarning: This seems to be an AudioMoth file, but parse_audiomoth_metadata() raised: list index out of range\n",
      "  \"This seems to be an AudioMoth file, \"\n",
      "/home/adkris1002/miniconda3/envs/opensoundscape/lib/python3.7/site-packages/opensoundscape/audio.py:239: UserWarning: audio object has zero samples\n",
      "  warnings.warn(error_msg)\n",
      "/home/adkris1002/miniconda3/envs/opensoundscape/lib/python3.7/site-packages/opensoundscape/audio.py:180: UserWarning: This seems to be an AudioMoth file, but parse_audiomoth_metadata() raised: list index out of range\n",
      "  \"This seems to be an AudioMoth file, \"\n",
      "/home/adkris1002/miniconda3/envs/opensoundscape/lib/python3.7/site-packages/opensoundscape/audio.py:239: UserWarning: audio object has zero samples\n",
      "  warnings.warn(error_msg)\n",
      "/home/adkris1002/miniconda3/envs/opensoundscape/lib/python3.7/site-packages/opensoundscape/audio.py:180: UserWarning: This seems to be an AudioMoth file, but parse_audiomoth_metadata() raised: list index out of range\n",
      "  \"This seems to be an AudioMoth file, \"\n"
     ]
    },
    {
     "name": "stdout",
     "output_type": "stream",
     "text": [
      "Recordings/20220703_220005.WAV\n",
      "Recordings/20220703_220006.WAV\n",
      "Recordings/20220703_220007.WAV\n"
     ]
    },
    {
     "name": "stderr",
     "output_type": "stream",
     "text": [
      "/home/adkris1002/miniconda3/envs/opensoundscape/lib/python3.7/site-packages/opensoundscape/audio.py:239: UserWarning: audio object has zero samples\n",
      "  warnings.warn(error_msg)\n",
      "/home/adkris1002/miniconda3/envs/opensoundscape/lib/python3.7/site-packages/opensoundscape/audio.py:180: UserWarning: This seems to be an AudioMoth file, but parse_audiomoth_metadata() raised: list index out of range\n",
      "  \"This seems to be an AudioMoth file, \"\n",
      "/home/adkris1002/miniconda3/envs/opensoundscape/lib/python3.7/site-packages/opensoundscape/audio.py:239: UserWarning: audio object has zero samples\n",
      "  warnings.warn(error_msg)\n",
      "/home/adkris1002/miniconda3/envs/opensoundscape/lib/python3.7/site-packages/opensoundscape/audio.py:180: UserWarning: This seems to be an AudioMoth file, but parse_audiomoth_metadata() raised: list index out of range\n",
      "  \"This seems to be an AudioMoth file, \"\n",
      "/home/adkris1002/miniconda3/envs/opensoundscape/lib/python3.7/site-packages/opensoundscape/audio.py:239: UserWarning: audio object has zero samples\n",
      "  warnings.warn(error_msg)\n",
      "/home/adkris1002/miniconda3/envs/opensoundscape/lib/python3.7/site-packages/opensoundscape/audio.py:180: UserWarning: This seems to be an AudioMoth file, but parse_audiomoth_metadata() raised: list index out of range\n",
      "  \"This seems to be an AudioMoth file, \"\n"
     ]
    },
    {
     "name": "stdout",
     "output_type": "stream",
     "text": [
      "Recordings/20220703_220008.WAV\n",
      "Recordings/20220703_220009.WAV\n",
      "Recordings/20220703_220010.WAV\n"
     ]
    },
    {
     "name": "stderr",
     "output_type": "stream",
     "text": [
      "/home/adkris1002/miniconda3/envs/opensoundscape/lib/python3.7/site-packages/opensoundscape/audio.py:239: UserWarning: audio object has zero samples\n",
      "  warnings.warn(error_msg)\n",
      "/home/adkris1002/miniconda3/envs/opensoundscape/lib/python3.7/site-packages/opensoundscape/audio.py:180: UserWarning: This seems to be an AudioMoth file, but parse_audiomoth_metadata() raised: list index out of range\n",
      "  \"This seems to be an AudioMoth file, \"\n",
      "/home/adkris1002/miniconda3/envs/opensoundscape/lib/python3.7/site-packages/opensoundscape/audio.py:239: UserWarning: audio object has zero samples\n",
      "  warnings.warn(error_msg)\n",
      "/home/adkris1002/miniconda3/envs/opensoundscape/lib/python3.7/site-packages/opensoundscape/audio.py:180: UserWarning: This seems to be an AudioMoth file, but parse_audiomoth_metadata() raised: list index out of range\n",
      "  \"This seems to be an AudioMoth file, \"\n"
     ]
    },
    {
     "name": "stdout",
     "output_type": "stream",
     "text": [
      "Recordings/20220703_220011.WAV\n",
      "Recordings/20220703_220012.WAV\n"
     ]
    },
    {
     "name": "stderr",
     "output_type": "stream",
     "text": [
      "/home/adkris1002/miniconda3/envs/opensoundscape/lib/python3.7/site-packages/opensoundscape/audio.py:239: UserWarning: audio object has zero samples\n",
      "  warnings.warn(error_msg)\n",
      "/home/adkris1002/miniconda3/envs/opensoundscape/lib/python3.7/site-packages/opensoundscape/audio.py:180: UserWarning: This seems to be an AudioMoth file, but parse_audiomoth_metadata() raised: list index out of range\n",
      "  \"This seems to be an AudioMoth file, \"\n",
      "/home/adkris1002/miniconda3/envs/opensoundscape/lib/python3.7/site-packages/opensoundscape/audio.py:239: UserWarning: audio object has zero samples\n",
      "  warnings.warn(error_msg)\n",
      "/home/adkris1002/miniconda3/envs/opensoundscape/lib/python3.7/site-packages/opensoundscape/audio.py:180: UserWarning: This seems to be an AudioMoth file, but parse_audiomoth_metadata() raised: list index out of range\n",
      "  \"This seems to be an AudioMoth file, \"\n"
     ]
    },
    {
     "name": "stdout",
     "output_type": "stream",
     "text": [
      "Recordings/20220703_220013.WAV\n",
      "Recordings/20220703_220014.WAV\n"
     ]
    },
    {
     "name": "stderr",
     "output_type": "stream",
     "text": [
      "/home/adkris1002/miniconda3/envs/opensoundscape/lib/python3.7/site-packages/opensoundscape/audio.py:239: UserWarning: audio object has zero samples\n",
      "  warnings.warn(error_msg)\n",
      "/home/adkris1002/miniconda3/envs/opensoundscape/lib/python3.7/site-packages/opensoundscape/audio.py:180: UserWarning: This seems to be an AudioMoth file, but parse_audiomoth_metadata() raised: list index out of range\n",
      "  \"This seems to be an AudioMoth file, \"\n",
      "/home/adkris1002/miniconda3/envs/opensoundscape/lib/python3.7/site-packages/opensoundscape/audio.py:239: UserWarning: audio object has zero samples\n",
      "  warnings.warn(error_msg)\n",
      "/home/adkris1002/miniconda3/envs/opensoundscape/lib/python3.7/site-packages/opensoundscape/audio.py:180: UserWarning: This seems to be an AudioMoth file, but parse_audiomoth_metadata() raised: list index out of range\n",
      "  \"This seems to be an AudioMoth file, \"\n",
      "/home/adkris1002/miniconda3/envs/opensoundscape/lib/python3.7/site-packages/opensoundscape/audio.py:239: UserWarning: audio object has zero samples\n",
      "  warnings.warn(error_msg)\n",
      "/home/adkris1002/miniconda3/envs/opensoundscape/lib/python3.7/site-packages/opensoundscape/audio.py:180: UserWarning: This seems to be an AudioMoth file, but parse_audiomoth_metadata() raised: list index out of range\n",
      "  \"This seems to be an AudioMoth file, \"\n"
     ]
    },
    {
     "name": "stdout",
     "output_type": "stream",
     "text": [
      "Recordings/20220703_220015.WAV\n",
      "Recordings/20220703_220016.WAV\n",
      "Recordings/20220703_220017.WAV\n"
     ]
    },
    {
     "name": "stderr",
     "output_type": "stream",
     "text": [
      "/home/adkris1002/miniconda3/envs/opensoundscape/lib/python3.7/site-packages/opensoundscape/audio.py:239: UserWarning: audio object has zero samples\n",
      "  warnings.warn(error_msg)\n",
      "/home/adkris1002/miniconda3/envs/opensoundscape/lib/python3.7/site-packages/opensoundscape/audio.py:180: UserWarning: This seems to be an AudioMoth file, but parse_audiomoth_metadata() raised: list index out of range\n",
      "  \"This seems to be an AudioMoth file, \"\n",
      "/home/adkris1002/miniconda3/envs/opensoundscape/lib/python3.7/site-packages/opensoundscape/audio.py:239: UserWarning: audio object has zero samples\n",
      "  warnings.warn(error_msg)\n",
      "/home/adkris1002/miniconda3/envs/opensoundscape/lib/python3.7/site-packages/opensoundscape/audio.py:180: UserWarning: This seems to be an AudioMoth file, but parse_audiomoth_metadata() raised: list index out of range\n",
      "  \"This seems to be an AudioMoth file, \"\n",
      "/home/adkris1002/miniconda3/envs/opensoundscape/lib/python3.7/site-packages/opensoundscape/audio.py:239: UserWarning: audio object has zero samples\n",
      "  warnings.warn(error_msg)\n",
      "/home/adkris1002/miniconda3/envs/opensoundscape/lib/python3.7/site-packages/opensoundscape/audio.py:180: UserWarning: This seems to be an AudioMoth file, but parse_audiomoth_metadata() raised: list index out of range\n",
      "  \"This seems to be an AudioMoth file, \"\n"
     ]
    },
    {
     "name": "stdout",
     "output_type": "stream",
     "text": [
      "Recordings/20220703_220018.WAV\n",
      "Recordings/20220703_220019.WAV\n",
      "Recordings/20220703_220020.WAV\n"
     ]
    },
    {
     "name": "stderr",
     "output_type": "stream",
     "text": [
      "/home/adkris1002/miniconda3/envs/opensoundscape/lib/python3.7/site-packages/opensoundscape/audio.py:239: UserWarning: audio object has zero samples\n",
      "  warnings.warn(error_msg)\n",
      "/home/adkris1002/miniconda3/envs/opensoundscape/lib/python3.7/site-packages/opensoundscape/audio.py:180: UserWarning: This seems to be an AudioMoth file, but parse_audiomoth_metadata() raised: list index out of range\n",
      "  \"This seems to be an AudioMoth file, \"\n",
      "/home/adkris1002/miniconda3/envs/opensoundscape/lib/python3.7/site-packages/opensoundscape/audio.py:239: UserWarning: audio object has zero samples\n",
      "  warnings.warn(error_msg)\n",
      "/home/adkris1002/miniconda3/envs/opensoundscape/lib/python3.7/site-packages/opensoundscape/audio.py:180: UserWarning: This seems to be an AudioMoth file, but parse_audiomoth_metadata() raised: list index out of range\n",
      "  \"This seems to be an AudioMoth file, \"\n",
      "/home/adkris1002/miniconda3/envs/opensoundscape/lib/python3.7/site-packages/opensoundscape/audio.py:239: UserWarning: audio object has zero samples\n",
      "  warnings.warn(error_msg)\n",
      "/home/adkris1002/miniconda3/envs/opensoundscape/lib/python3.7/site-packages/opensoundscape/audio.py:180: UserWarning: This seems to be an AudioMoth file, but parse_audiomoth_metadata() raised: list index out of range\n",
      "  \"This seems to be an AudioMoth file, \"\n"
     ]
    },
    {
     "name": "stdout",
     "output_type": "stream",
     "text": [
      "Recordings/20220703_220021.WAV\n",
      "Recordings/20220703_220022.WAV\n",
      "Recordings/20220703_220023.WAV\n"
     ]
    },
    {
     "name": "stderr",
     "output_type": "stream",
     "text": [
      "/home/adkris1002/miniconda3/envs/opensoundscape/lib/python3.7/site-packages/opensoundscape/audio.py:239: UserWarning: audio object has zero samples\n",
      "  warnings.warn(error_msg)\n",
      "/home/adkris1002/miniconda3/envs/opensoundscape/lib/python3.7/site-packages/opensoundscape/audio.py:180: UserWarning: This seems to be an AudioMoth file, but parse_audiomoth_metadata() raised: list index out of range\n",
      "  \"This seems to be an AudioMoth file, \"\n",
      "/home/adkris1002/miniconda3/envs/opensoundscape/lib/python3.7/site-packages/opensoundscape/audio.py:239: UserWarning: audio object has zero samples\n",
      "  warnings.warn(error_msg)\n",
      "/home/adkris1002/miniconda3/envs/opensoundscape/lib/python3.7/site-packages/opensoundscape/audio.py:180: UserWarning: This seems to be an AudioMoth file, but parse_audiomoth_metadata() raised: list index out of range\n",
      "  \"This seems to be an AudioMoth file, \"\n",
      "/home/adkris1002/miniconda3/envs/opensoundscape/lib/python3.7/site-packages/opensoundscape/audio.py:239: UserWarning: audio object has zero samples\n",
      "  warnings.warn(error_msg)\n",
      "/home/adkris1002/miniconda3/envs/opensoundscape/lib/python3.7/site-packages/opensoundscape/audio.py:180: UserWarning: This seems to be an AudioMoth file, but parse_audiomoth_metadata() raised: list index out of range\n",
      "  \"This seems to be an AudioMoth file, \"\n"
     ]
    },
    {
     "name": "stdout",
     "output_type": "stream",
     "text": [
      "Recordings/20220703_220024.WAV\n",
      "Recordings/20220703_220025.WAV\n",
      "Recordings/20220703_220026.WAV\n"
     ]
    },
    {
     "name": "stderr",
     "output_type": "stream",
     "text": [
      "/home/adkris1002/miniconda3/envs/opensoundscape/lib/python3.7/site-packages/opensoundscape/audio.py:239: UserWarning: audio object has zero samples\n",
      "  warnings.warn(error_msg)\n",
      "/home/adkris1002/miniconda3/envs/opensoundscape/lib/python3.7/site-packages/opensoundscape/audio.py:180: UserWarning: This seems to be an AudioMoth file, but parse_audiomoth_metadata() raised: list index out of range\n",
      "  \"This seems to be an AudioMoth file, \"\n",
      "/home/adkris1002/miniconda3/envs/opensoundscape/lib/python3.7/site-packages/opensoundscape/audio.py:239: UserWarning: audio object has zero samples\n",
      "  warnings.warn(error_msg)\n",
      "/home/adkris1002/miniconda3/envs/opensoundscape/lib/python3.7/site-packages/opensoundscape/audio.py:180: UserWarning: This seems to be an AudioMoth file, but parse_audiomoth_metadata() raised: list index out of range\n",
      "  \"This seems to be an AudioMoth file, \"\n",
      "/home/adkris1002/miniconda3/envs/opensoundscape/lib/python3.7/site-packages/opensoundscape/audio.py:239: UserWarning: audio object has zero samples\n",
      "  warnings.warn(error_msg)\n",
      "/home/adkris1002/miniconda3/envs/opensoundscape/lib/python3.7/site-packages/opensoundscape/audio.py:180: UserWarning: This seems to be an AudioMoth file, but parse_audiomoth_metadata() raised: list index out of range\n",
      "  \"This seems to be an AudioMoth file, \"\n"
     ]
    },
    {
     "name": "stdout",
     "output_type": "stream",
     "text": [
      "Recordings/20220703_220027.WAV\n",
      "Recordings/20220703_220028.WAV\n",
      "Recordings/20220703_220029.WAV\n"
     ]
    },
    {
     "name": "stderr",
     "output_type": "stream",
     "text": [
      "/home/adkris1002/miniconda3/envs/opensoundscape/lib/python3.7/site-packages/opensoundscape/audio.py:239: UserWarning: audio object has zero samples\n",
      "  warnings.warn(error_msg)\n",
      "/home/adkris1002/miniconda3/envs/opensoundscape/lib/python3.7/site-packages/opensoundscape/audio.py:180: UserWarning: This seems to be an AudioMoth file, but parse_audiomoth_metadata() raised: list index out of range\n",
      "  \"This seems to be an AudioMoth file, \"\n",
      "/home/adkris1002/miniconda3/envs/opensoundscape/lib/python3.7/site-packages/opensoundscape/audio.py:239: UserWarning: audio object has zero samples\n",
      "  warnings.warn(error_msg)\n",
      "/home/adkris1002/miniconda3/envs/opensoundscape/lib/python3.7/site-packages/opensoundscape/audio.py:180: UserWarning: This seems to be an AudioMoth file, but parse_audiomoth_metadata() raised: list index out of range\n",
      "  \"This seems to be an AudioMoth file, \"\n",
      "/home/adkris1002/miniconda3/envs/opensoundscape/lib/python3.7/site-packages/opensoundscape/audio.py:239: UserWarning: audio object has zero samples\n",
      "  warnings.warn(error_msg)\n",
      "/home/adkris1002/miniconda3/envs/opensoundscape/lib/python3.7/site-packages/opensoundscape/audio.py:180: UserWarning: This seems to be an AudioMoth file, but parse_audiomoth_metadata() raised: list index out of range\n",
      "  \"This seems to be an AudioMoth file, \"\n"
     ]
    },
    {
     "name": "stdout",
     "output_type": "stream",
     "text": [
      "Recordings/20220703_220030.WAV\n",
      "Recordings/20220703_220031.WAV\n",
      "Recordings/20220703_220032.WAV\n"
     ]
    },
    {
     "name": "stderr",
     "output_type": "stream",
     "text": [
      "/home/adkris1002/miniconda3/envs/opensoundscape/lib/python3.7/site-packages/opensoundscape/audio.py:239: UserWarning: audio object has zero samples\n",
      "  warnings.warn(error_msg)\n",
      "/home/adkris1002/miniconda3/envs/opensoundscape/lib/python3.7/site-packages/opensoundscape/audio.py:180: UserWarning: This seems to be an AudioMoth file, but parse_audiomoth_metadata() raised: list index out of range\n",
      "  \"This seems to be an AudioMoth file, \"\n",
      "/home/adkris1002/miniconda3/envs/opensoundscape/lib/python3.7/site-packages/opensoundscape/audio.py:239: UserWarning: audio object has zero samples\n",
      "  warnings.warn(error_msg)\n",
      "/home/adkris1002/miniconda3/envs/opensoundscape/lib/python3.7/site-packages/opensoundscape/audio.py:180: UserWarning: This seems to be an AudioMoth file, but parse_audiomoth_metadata() raised: list index out of range\n",
      "  \"This seems to be an AudioMoth file, \"\n",
      "/home/adkris1002/miniconda3/envs/opensoundscape/lib/python3.7/site-packages/opensoundscape/audio.py:239: UserWarning: audio object has zero samples\n",
      "  warnings.warn(error_msg)\n",
      "/home/adkris1002/miniconda3/envs/opensoundscape/lib/python3.7/site-packages/opensoundscape/audio.py:180: UserWarning: This seems to be an AudioMoth file, but parse_audiomoth_metadata() raised: list index out of range\n",
      "  \"This seems to be an AudioMoth file, \"\n"
     ]
    },
    {
     "name": "stdout",
     "output_type": "stream",
     "text": [
      "Recordings/20220703_220033.WAV\n",
      "Recordings/20220703_220034.WAV\n",
      "Recordings/20220703_220035.WAV\n"
     ]
    },
    {
     "name": "stderr",
     "output_type": "stream",
     "text": [
      "/home/adkris1002/miniconda3/envs/opensoundscape/lib/python3.7/site-packages/opensoundscape/audio.py:239: UserWarning: audio object has zero samples\n",
      "  warnings.warn(error_msg)\n",
      "/home/adkris1002/miniconda3/envs/opensoundscape/lib/python3.7/site-packages/opensoundscape/audio.py:180: UserWarning: This seems to be an AudioMoth file, but parse_audiomoth_metadata() raised: list index out of range\n",
      "  \"This seems to be an AudioMoth file, \"\n",
      "/home/adkris1002/miniconda3/envs/opensoundscape/lib/python3.7/site-packages/opensoundscape/audio.py:239: UserWarning: audio object has zero samples\n",
      "  warnings.warn(error_msg)\n",
      "/home/adkris1002/miniconda3/envs/opensoundscape/lib/python3.7/site-packages/opensoundscape/audio.py:180: UserWarning: This seems to be an AudioMoth file, but parse_audiomoth_metadata() raised: list index out of range\n",
      "  \"This seems to be an AudioMoth file, \"\n",
      "/home/adkris1002/miniconda3/envs/opensoundscape/lib/python3.7/site-packages/opensoundscape/audio.py:239: UserWarning: audio object has zero samples\n",
      "  warnings.warn(error_msg)\n",
      "/home/adkris1002/miniconda3/envs/opensoundscape/lib/python3.7/site-packages/opensoundscape/audio.py:180: UserWarning: This seems to be an AudioMoth file, but parse_audiomoth_metadata() raised: list index out of range\n",
      "  \"This seems to be an AudioMoth file, \"\n"
     ]
    },
    {
     "name": "stdout",
     "output_type": "stream",
     "text": [
      "Recordings/20220703_220036.WAV\n",
      "Recordings/20220703_220037.WAV\n",
      "Recordings/20220703_220038.WAV\n"
     ]
    },
    {
     "name": "stderr",
     "output_type": "stream",
     "text": [
      "/home/adkris1002/miniconda3/envs/opensoundscape/lib/python3.7/site-packages/opensoundscape/audio.py:239: UserWarning: audio object has zero samples\n",
      "  warnings.warn(error_msg)\n",
      "/home/adkris1002/miniconda3/envs/opensoundscape/lib/python3.7/site-packages/opensoundscape/audio.py:180: UserWarning: This seems to be an AudioMoth file, but parse_audiomoth_metadata() raised: list index out of range\n",
      "  \"This seems to be an AudioMoth file, \"\n",
      "/home/adkris1002/miniconda3/envs/opensoundscape/lib/python3.7/site-packages/opensoundscape/audio.py:239: UserWarning: audio object has zero samples\n",
      "  warnings.warn(error_msg)\n",
      "/home/adkris1002/miniconda3/envs/opensoundscape/lib/python3.7/site-packages/opensoundscape/audio.py:180: UserWarning: This seems to be an AudioMoth file, but parse_audiomoth_metadata() raised: list index out of range\n",
      "  \"This seems to be an AudioMoth file, \"\n",
      "/home/adkris1002/miniconda3/envs/opensoundscape/lib/python3.7/site-packages/opensoundscape/audio.py:239: UserWarning: audio object has zero samples\n",
      "  warnings.warn(error_msg)\n",
      "/home/adkris1002/miniconda3/envs/opensoundscape/lib/python3.7/site-packages/opensoundscape/audio.py:180: UserWarning: This seems to be an AudioMoth file, but parse_audiomoth_metadata() raised: list index out of range\n",
      "  \"This seems to be an AudioMoth file, \"\n"
     ]
    },
    {
     "name": "stdout",
     "output_type": "stream",
     "text": [
      "Recordings/20220703_220039.WAV\n",
      "Recordings/20220703_220040.WAV\n",
      "Recordings/20220703_220041.WAV\n"
     ]
    },
    {
     "name": "stderr",
     "output_type": "stream",
     "text": [
      "/home/adkris1002/miniconda3/envs/opensoundscape/lib/python3.7/site-packages/opensoundscape/audio.py:239: UserWarning: audio object has zero samples\n",
      "  warnings.warn(error_msg)\n",
      "/home/adkris1002/miniconda3/envs/opensoundscape/lib/python3.7/site-packages/opensoundscape/audio.py:180: UserWarning: This seems to be an AudioMoth file, but parse_audiomoth_metadata() raised: list index out of range\n",
      "  \"This seems to be an AudioMoth file, \"\n",
      "/home/adkris1002/miniconda3/envs/opensoundscape/lib/python3.7/site-packages/opensoundscape/audio.py:239: UserWarning: audio object has zero samples\n",
      "  warnings.warn(error_msg)\n",
      "/home/adkris1002/miniconda3/envs/opensoundscape/lib/python3.7/site-packages/opensoundscape/audio.py:180: UserWarning: This seems to be an AudioMoth file, but parse_audiomoth_metadata() raised: list index out of range\n",
      "  \"This seems to be an AudioMoth file, \"\n",
      "/home/adkris1002/miniconda3/envs/opensoundscape/lib/python3.7/site-packages/opensoundscape/audio.py:239: UserWarning: audio object has zero samples\n",
      "  warnings.warn(error_msg)\n",
      "/home/adkris1002/miniconda3/envs/opensoundscape/lib/python3.7/site-packages/opensoundscape/audio.py:180: UserWarning: This seems to be an AudioMoth file, but parse_audiomoth_metadata() raised: list index out of range\n",
      "  \"This seems to be an AudioMoth file, \"\n"
     ]
    },
    {
     "name": "stdout",
     "output_type": "stream",
     "text": [
      "Recordings/20220703_220042.WAV\n",
      "Recordings/20220703_220043.WAV\n",
      "Recordings/20220703_220044.WAV\n"
     ]
    },
    {
     "name": "stderr",
     "output_type": "stream",
     "text": [
      "/home/adkris1002/miniconda3/envs/opensoundscape/lib/python3.7/site-packages/opensoundscape/audio.py:239: UserWarning: audio object has zero samples\n",
      "  warnings.warn(error_msg)\n",
      "/home/adkris1002/miniconda3/envs/opensoundscape/lib/python3.7/site-packages/opensoundscape/audio.py:180: UserWarning: This seems to be an AudioMoth file, but parse_audiomoth_metadata() raised: list index out of range\n",
      "  \"This seems to be an AudioMoth file, \"\n",
      "/home/adkris1002/miniconda3/envs/opensoundscape/lib/python3.7/site-packages/opensoundscape/audio.py:239: UserWarning: audio object has zero samples\n",
      "  warnings.warn(error_msg)\n",
      "/home/adkris1002/miniconda3/envs/opensoundscape/lib/python3.7/site-packages/opensoundscape/audio.py:180: UserWarning: This seems to be an AudioMoth file, but parse_audiomoth_metadata() raised: list index out of range\n",
      "  \"This seems to be an AudioMoth file, \"\n",
      "/home/adkris1002/miniconda3/envs/opensoundscape/lib/python3.7/site-packages/opensoundscape/audio.py:239: UserWarning: audio object has zero samples\n",
      "  warnings.warn(error_msg)\n",
      "/home/adkris1002/miniconda3/envs/opensoundscape/lib/python3.7/site-packages/opensoundscape/audio.py:180: UserWarning: This seems to be an AudioMoth file, but parse_audiomoth_metadata() raised: list index out of range\n",
      "  \"This seems to be an AudioMoth file, \"\n"
     ]
    },
    {
     "name": "stdout",
     "output_type": "stream",
     "text": [
      "Recordings/20220703_220045.WAV\n",
      "Recordings/20220703_220046.WAV\n",
      "Recordings/20220703_220047.WAV\n"
     ]
    },
    {
     "name": "stderr",
     "output_type": "stream",
     "text": [
      "/home/adkris1002/miniconda3/envs/opensoundscape/lib/python3.7/site-packages/opensoundscape/audio.py:239: UserWarning: audio object has zero samples\n",
      "  warnings.warn(error_msg)\n",
      "/home/adkris1002/miniconda3/envs/opensoundscape/lib/python3.7/site-packages/opensoundscape/audio.py:180: UserWarning: This seems to be an AudioMoth file, but parse_audiomoth_metadata() raised: list index out of range\n",
      "  \"This seems to be an AudioMoth file, \"\n",
      "/home/adkris1002/miniconda3/envs/opensoundscape/lib/python3.7/site-packages/opensoundscape/audio.py:239: UserWarning: audio object has zero samples\n",
      "  warnings.warn(error_msg)\n",
      "/home/adkris1002/miniconda3/envs/opensoundscape/lib/python3.7/site-packages/opensoundscape/audio.py:180: UserWarning: This seems to be an AudioMoth file, but parse_audiomoth_metadata() raised: list index out of range\n",
      "  \"This seems to be an AudioMoth file, \"\n",
      "/home/adkris1002/miniconda3/envs/opensoundscape/lib/python3.7/site-packages/opensoundscape/audio.py:239: UserWarning: audio object has zero samples\n",
      "  warnings.warn(error_msg)\n",
      "/home/adkris1002/miniconda3/envs/opensoundscape/lib/python3.7/site-packages/opensoundscape/audio.py:180: UserWarning: This seems to be an AudioMoth file, but parse_audiomoth_metadata() raised: list index out of range\n",
      "  \"This seems to be an AudioMoth file, \"\n"
     ]
    },
    {
     "name": "stdout",
     "output_type": "stream",
     "text": [
      "Recordings/20220703_220048.WAV\n",
      "Recordings/20220703_220049.WAV\n",
      "Recordings/20220703_220050.WAV\n"
     ]
    },
    {
     "name": "stderr",
     "output_type": "stream",
     "text": [
      "/home/adkris1002/miniconda3/envs/opensoundscape/lib/python3.7/site-packages/opensoundscape/audio.py:239: UserWarning: audio object has zero samples\n",
      "  warnings.warn(error_msg)\n",
      "/home/adkris1002/miniconda3/envs/opensoundscape/lib/python3.7/site-packages/opensoundscape/audio.py:180: UserWarning: This seems to be an AudioMoth file, but parse_audiomoth_metadata() raised: list index out of range\n",
      "  \"This seems to be an AudioMoth file, \"\n",
      "/home/adkris1002/miniconda3/envs/opensoundscape/lib/python3.7/site-packages/opensoundscape/audio.py:239: UserWarning: audio object has zero samples\n",
      "  warnings.warn(error_msg)\n",
      "/home/adkris1002/miniconda3/envs/opensoundscape/lib/python3.7/site-packages/opensoundscape/audio.py:180: UserWarning: This seems to be an AudioMoth file, but parse_audiomoth_metadata() raised: list index out of range\n",
      "  \"This seems to be an AudioMoth file, \"\n",
      "/home/adkris1002/miniconda3/envs/opensoundscape/lib/python3.7/site-packages/opensoundscape/audio.py:239: UserWarning: audio object has zero samples\n",
      "  warnings.warn(error_msg)\n",
      "/home/adkris1002/miniconda3/envs/opensoundscape/lib/python3.7/site-packages/opensoundscape/audio.py:180: UserWarning: This seems to be an AudioMoth file, but parse_audiomoth_metadata() raised: list index out of range\n",
      "  \"This seems to be an AudioMoth file, \"\n"
     ]
    },
    {
     "name": "stdout",
     "output_type": "stream",
     "text": [
      "Recordings/20220703_220051.WAV\n",
      "Recordings/20220703_220052.WAV\n",
      "Recordings/20220703_220053.WAV\n"
     ]
    },
    {
     "name": "stderr",
     "output_type": "stream",
     "text": [
      "/home/adkris1002/miniconda3/envs/opensoundscape/lib/python3.7/site-packages/opensoundscape/audio.py:239: UserWarning: audio object has zero samples\n",
      "  warnings.warn(error_msg)\n",
      "/home/adkris1002/miniconda3/envs/opensoundscape/lib/python3.7/site-packages/opensoundscape/audio.py:180: UserWarning: This seems to be an AudioMoth file, but parse_audiomoth_metadata() raised: list index out of range\n",
      "  \"This seems to be an AudioMoth file, \"\n",
      "/home/adkris1002/miniconda3/envs/opensoundscape/lib/python3.7/site-packages/opensoundscape/audio.py:239: UserWarning: audio object has zero samples\n",
      "  warnings.warn(error_msg)\n",
      "/home/adkris1002/miniconda3/envs/opensoundscape/lib/python3.7/site-packages/opensoundscape/audio.py:180: UserWarning: This seems to be an AudioMoth file, but parse_audiomoth_metadata() raised: list index out of range\n",
      "  \"This seems to be an AudioMoth file, \"\n",
      "/home/adkris1002/miniconda3/envs/opensoundscape/lib/python3.7/site-packages/opensoundscape/audio.py:239: UserWarning: audio object has zero samples\n",
      "  warnings.warn(error_msg)\n",
      "/home/adkris1002/miniconda3/envs/opensoundscape/lib/python3.7/site-packages/opensoundscape/audio.py:180: UserWarning: This seems to be an AudioMoth file, but parse_audiomoth_metadata() raised: list index out of range\n",
      "  \"This seems to be an AudioMoth file, \"\n"
     ]
    },
    {
     "name": "stdout",
     "output_type": "stream",
     "text": [
      "Recordings/20220703_220054.WAV\n",
      "Recordings/20220703_220055.WAV\n",
      "Recordings/20220703_220056.WAV\n"
     ]
    },
    {
     "name": "stderr",
     "output_type": "stream",
     "text": [
      "/home/adkris1002/miniconda3/envs/opensoundscape/lib/python3.7/site-packages/opensoundscape/audio.py:239: UserWarning: audio object has zero samples\n",
      "  warnings.warn(error_msg)\n",
      "/home/adkris1002/miniconda3/envs/opensoundscape/lib/python3.7/site-packages/opensoundscape/audio.py:180: UserWarning: This seems to be an AudioMoth file, but parse_audiomoth_metadata() raised: list index out of range\n",
      "  \"This seems to be an AudioMoth file, \"\n",
      "/home/adkris1002/miniconda3/envs/opensoundscape/lib/python3.7/site-packages/opensoundscape/audio.py:239: UserWarning: audio object has zero samples\n",
      "  warnings.warn(error_msg)\n",
      "/home/adkris1002/miniconda3/envs/opensoundscape/lib/python3.7/site-packages/opensoundscape/audio.py:180: UserWarning: This seems to be an AudioMoth file, but parse_audiomoth_metadata() raised: list index out of range\n",
      "  \"This seems to be an AudioMoth file, \"\n",
      "/home/adkris1002/miniconda3/envs/opensoundscape/lib/python3.7/site-packages/opensoundscape/audio.py:239: UserWarning: audio object has zero samples\n",
      "  warnings.warn(error_msg)\n",
      "/home/adkris1002/miniconda3/envs/opensoundscape/lib/python3.7/site-packages/opensoundscape/audio.py:180: UserWarning: This seems to be an AudioMoth file, but parse_audiomoth_metadata() raised: list index out of range\n",
      "  \"This seems to be an AudioMoth file, \"\n"
     ]
    },
    {
     "name": "stdout",
     "output_type": "stream",
     "text": [
      "Recordings/20220703_220057.WAV\n",
      "Recordings/20220703_220058.WAV\n",
      "Recordings/20220703_220059.WAV\n"
     ]
    },
    {
     "name": "stderr",
     "output_type": "stream",
     "text": [
      "/home/adkris1002/miniconda3/envs/opensoundscape/lib/python3.7/site-packages/opensoundscape/audio.py:239: UserWarning: audio object has zero samples\n",
      "  warnings.warn(error_msg)\n",
      "/home/adkris1002/miniconda3/envs/opensoundscape/lib/python3.7/site-packages/opensoundscape/audio.py:180: UserWarning: This seems to be an AudioMoth file, but parse_audiomoth_metadata() raised: list index out of range\n",
      "  \"This seems to be an AudioMoth file, \"\n",
      "/home/adkris1002/miniconda3/envs/opensoundscape/lib/python3.7/site-packages/opensoundscape/audio.py:239: UserWarning: audio object has zero samples\n",
      "  warnings.warn(error_msg)\n",
      "/home/adkris1002/miniconda3/envs/opensoundscape/lib/python3.7/site-packages/opensoundscape/audio.py:180: UserWarning: This seems to be an AudioMoth file, but parse_audiomoth_metadata() raised: list index out of range\n",
      "  \"This seems to be an AudioMoth file, \"\n",
      "/home/adkris1002/miniconda3/envs/opensoundscape/lib/python3.7/site-packages/opensoundscape/audio.py:239: UserWarning: audio object has zero samples\n",
      "  warnings.warn(error_msg)\n",
      "/home/adkris1002/miniconda3/envs/opensoundscape/lib/python3.7/site-packages/opensoundscape/audio.py:180: UserWarning: This seems to be an AudioMoth file, but parse_audiomoth_metadata() raised: list index out of range\n",
      "  \"This seems to be an AudioMoth file, \"\n"
     ]
    },
    {
     "name": "stdout",
     "output_type": "stream",
     "text": [
      "Recordings/20220703_220100.WAV\n",
      "Recordings/20220703_220101.WAV\n",
      "Recordings/20220703_220102.WAV\n"
     ]
    },
    {
     "name": "stderr",
     "output_type": "stream",
     "text": [
      "/home/adkris1002/miniconda3/envs/opensoundscape/lib/python3.7/site-packages/opensoundscape/audio.py:239: UserWarning: audio object has zero samples\n",
      "  warnings.warn(error_msg)\n",
      "/home/adkris1002/miniconda3/envs/opensoundscape/lib/python3.7/site-packages/opensoundscape/audio.py:180: UserWarning: This seems to be an AudioMoth file, but parse_audiomoth_metadata() raised: list index out of range\n",
      "  \"This seems to be an AudioMoth file, \"\n",
      "/home/adkris1002/miniconda3/envs/opensoundscape/lib/python3.7/site-packages/opensoundscape/audio.py:239: UserWarning: audio object has zero samples\n",
      "  warnings.warn(error_msg)\n",
      "/home/adkris1002/miniconda3/envs/opensoundscape/lib/python3.7/site-packages/opensoundscape/audio.py:180: UserWarning: This seems to be an AudioMoth file, but parse_audiomoth_metadata() raised: list index out of range\n",
      "  \"This seems to be an AudioMoth file, \"\n",
      "/home/adkris1002/miniconda3/envs/opensoundscape/lib/python3.7/site-packages/opensoundscape/audio.py:239: UserWarning: audio object has zero samples\n",
      "  warnings.warn(error_msg)\n",
      "/home/adkris1002/miniconda3/envs/opensoundscape/lib/python3.7/site-packages/opensoundscape/audio.py:180: UserWarning: This seems to be an AudioMoth file, but parse_audiomoth_metadata() raised: list index out of range\n",
      "  \"This seems to be an AudioMoth file, \"\n"
     ]
    },
    {
     "name": "stdout",
     "output_type": "stream",
     "text": [
      "Recordings/20220703_220103.WAV\n",
      "Recordings/20220703_220104.WAV\n",
      "Recordings/20220703_220105.WAV\n"
     ]
    },
    {
     "name": "stderr",
     "output_type": "stream",
     "text": [
      "/home/adkris1002/miniconda3/envs/opensoundscape/lib/python3.7/site-packages/opensoundscape/audio.py:239: UserWarning: audio object has zero samples\n",
      "  warnings.warn(error_msg)\n",
      "/home/adkris1002/miniconda3/envs/opensoundscape/lib/python3.7/site-packages/opensoundscape/audio.py:180: UserWarning: This seems to be an AudioMoth file, but parse_audiomoth_metadata() raised: list index out of range\n",
      "  \"This seems to be an AudioMoth file, \"\n",
      "/home/adkris1002/miniconda3/envs/opensoundscape/lib/python3.7/site-packages/opensoundscape/audio.py:239: UserWarning: audio object has zero samples\n",
      "  warnings.warn(error_msg)\n",
      "/home/adkris1002/miniconda3/envs/opensoundscape/lib/python3.7/site-packages/opensoundscape/audio.py:180: UserWarning: This seems to be an AudioMoth file, but parse_audiomoth_metadata() raised: list index out of range\n",
      "  \"This seems to be an AudioMoth file, \"\n",
      "/home/adkris1002/miniconda3/envs/opensoundscape/lib/python3.7/site-packages/opensoundscape/audio.py:239: UserWarning: audio object has zero samples\n",
      "  warnings.warn(error_msg)\n",
      "/home/adkris1002/miniconda3/envs/opensoundscape/lib/python3.7/site-packages/opensoundscape/audio.py:180: UserWarning: This seems to be an AudioMoth file, but parse_audiomoth_metadata() raised: list index out of range\n",
      "  \"This seems to be an AudioMoth file, \"\n"
     ]
    },
    {
     "name": "stdout",
     "output_type": "stream",
     "text": [
      "Recordings/20220703_220106.WAV\n",
      "Recordings/20220703_220107.WAV\n",
      "Recordings/20220703_220108.WAV\n"
     ]
    },
    {
     "name": "stderr",
     "output_type": "stream",
     "text": [
      "/home/adkris1002/miniconda3/envs/opensoundscape/lib/python3.7/site-packages/opensoundscape/audio.py:239: UserWarning: audio object has zero samples\n",
      "  warnings.warn(error_msg)\n",
      "/home/adkris1002/miniconda3/envs/opensoundscape/lib/python3.7/site-packages/opensoundscape/audio.py:180: UserWarning: This seems to be an AudioMoth file, but parse_audiomoth_metadata() raised: list index out of range\n",
      "  \"This seems to be an AudioMoth file, \"\n",
      "/home/adkris1002/miniconda3/envs/opensoundscape/lib/python3.7/site-packages/opensoundscape/audio.py:239: UserWarning: audio object has zero samples\n",
      "  warnings.warn(error_msg)\n",
      "/home/adkris1002/miniconda3/envs/opensoundscape/lib/python3.7/site-packages/opensoundscape/audio.py:180: UserWarning: This seems to be an AudioMoth file, but parse_audiomoth_metadata() raised: list index out of range\n",
      "  \"This seems to be an AudioMoth file, \"\n",
      "/home/adkris1002/miniconda3/envs/opensoundscape/lib/python3.7/site-packages/opensoundscape/audio.py:239: UserWarning: audio object has zero samples\n",
      "  warnings.warn(error_msg)\n",
      "/home/adkris1002/miniconda3/envs/opensoundscape/lib/python3.7/site-packages/opensoundscape/audio.py:180: UserWarning: This seems to be an AudioMoth file, but parse_audiomoth_metadata() raised: list index out of range\n",
      "  \"This seems to be an AudioMoth file, \"\n"
     ]
    },
    {
     "name": "stdout",
     "output_type": "stream",
     "text": [
      "Recordings/20220703_220109.WAV\n",
      "Recordings/20220703_220110.WAV\n",
      "Recordings/20220703_220111.WAV\n"
     ]
    },
    {
     "name": "stderr",
     "output_type": "stream",
     "text": [
      "/home/adkris1002/miniconda3/envs/opensoundscape/lib/python3.7/site-packages/opensoundscape/audio.py:239: UserWarning: audio object has zero samples\n",
      "  warnings.warn(error_msg)\n",
      "/home/adkris1002/miniconda3/envs/opensoundscape/lib/python3.7/site-packages/opensoundscape/audio.py:180: UserWarning: This seems to be an AudioMoth file, but parse_audiomoth_metadata() raised: list index out of range\n",
      "  \"This seems to be an AudioMoth file, \"\n",
      "/home/adkris1002/miniconda3/envs/opensoundscape/lib/python3.7/site-packages/opensoundscape/audio.py:239: UserWarning: audio object has zero samples\n",
      "  warnings.warn(error_msg)\n",
      "/home/adkris1002/miniconda3/envs/opensoundscape/lib/python3.7/site-packages/opensoundscape/audio.py:180: UserWarning: This seems to be an AudioMoth file, but parse_audiomoth_metadata() raised: list index out of range\n",
      "  \"This seems to be an AudioMoth file, \"\n",
      "/home/adkris1002/miniconda3/envs/opensoundscape/lib/python3.7/site-packages/opensoundscape/audio.py:239: UserWarning: audio object has zero samples\n",
      "  warnings.warn(error_msg)\n",
      "/home/adkris1002/miniconda3/envs/opensoundscape/lib/python3.7/site-packages/opensoundscape/audio.py:180: UserWarning: This seems to be an AudioMoth file, but parse_audiomoth_metadata() raised: list index out of range\n",
      "  \"This seems to be an AudioMoth file, \"\n"
     ]
    },
    {
     "name": "stdout",
     "output_type": "stream",
     "text": [
      "Recordings/20220703_220112.WAV\n",
      "Recordings/20220703_220113.WAV\n",
      "Recordings/20220703_220114.WAV\n"
     ]
    },
    {
     "name": "stderr",
     "output_type": "stream",
     "text": [
      "/home/adkris1002/miniconda3/envs/opensoundscape/lib/python3.7/site-packages/opensoundscape/audio.py:239: UserWarning: audio object has zero samples\n",
      "  warnings.warn(error_msg)\n",
      "/home/adkris1002/miniconda3/envs/opensoundscape/lib/python3.7/site-packages/opensoundscape/audio.py:180: UserWarning: This seems to be an AudioMoth file, but parse_audiomoth_metadata() raised: list index out of range\n",
      "  \"This seems to be an AudioMoth file, \"\n",
      "/home/adkris1002/miniconda3/envs/opensoundscape/lib/python3.7/site-packages/opensoundscape/audio.py:239: UserWarning: audio object has zero samples\n",
      "  warnings.warn(error_msg)\n",
      "/home/adkris1002/miniconda3/envs/opensoundscape/lib/python3.7/site-packages/opensoundscape/audio.py:180: UserWarning: This seems to be an AudioMoth file, but parse_audiomoth_metadata() raised: list index out of range\n",
      "  \"This seems to be an AudioMoth file, \"\n",
      "/home/adkris1002/miniconda3/envs/opensoundscape/lib/python3.7/site-packages/opensoundscape/audio.py:239: UserWarning: audio object has zero samples\n",
      "  warnings.warn(error_msg)\n",
      "/home/adkris1002/miniconda3/envs/opensoundscape/lib/python3.7/site-packages/opensoundscape/audio.py:180: UserWarning: This seems to be an AudioMoth file, but parse_audiomoth_metadata() raised: list index out of range\n",
      "  \"This seems to be an AudioMoth file, \"\n"
     ]
    },
    {
     "name": "stdout",
     "output_type": "stream",
     "text": [
      "Recordings/20220703_220115.WAV\n",
      "Recordings/20220703_220116.WAV\n",
      "Recordings/20220703_220117.WAV\n"
     ]
    },
    {
     "name": "stderr",
     "output_type": "stream",
     "text": [
      "/home/adkris1002/miniconda3/envs/opensoundscape/lib/python3.7/site-packages/opensoundscape/audio.py:239: UserWarning: audio object has zero samples\n",
      "  warnings.warn(error_msg)\n",
      "/home/adkris1002/miniconda3/envs/opensoundscape/lib/python3.7/site-packages/opensoundscape/audio.py:180: UserWarning: This seems to be an AudioMoth file, but parse_audiomoth_metadata() raised: list index out of range\n",
      "  \"This seems to be an AudioMoth file, \"\n",
      "/home/adkris1002/miniconda3/envs/opensoundscape/lib/python3.7/site-packages/opensoundscape/audio.py:239: UserWarning: audio object has zero samples\n",
      "  warnings.warn(error_msg)\n",
      "/home/adkris1002/miniconda3/envs/opensoundscape/lib/python3.7/site-packages/opensoundscape/audio.py:180: UserWarning: This seems to be an AudioMoth file, but parse_audiomoth_metadata() raised: list index out of range\n",
      "  \"This seems to be an AudioMoth file, \"\n",
      "/home/adkris1002/miniconda3/envs/opensoundscape/lib/python3.7/site-packages/opensoundscape/audio.py:239: UserWarning: audio object has zero samples\n",
      "  warnings.warn(error_msg)\n",
      "/home/adkris1002/miniconda3/envs/opensoundscape/lib/python3.7/site-packages/opensoundscape/audio.py:180: UserWarning: This seems to be an AudioMoth file, but parse_audiomoth_metadata() raised: list index out of range\n",
      "  \"This seems to be an AudioMoth file, \"\n"
     ]
    },
    {
     "name": "stdout",
     "output_type": "stream",
     "text": [
      "Recordings/20220703_220118.WAV\n",
      "Recordings/20220703_220119.WAV\n",
      "Recordings/20220703_220120.WAV\n"
     ]
    },
    {
     "name": "stderr",
     "output_type": "stream",
     "text": [
      "/home/adkris1002/miniconda3/envs/opensoundscape/lib/python3.7/site-packages/opensoundscape/audio.py:239: UserWarning: audio object has zero samples\n",
      "  warnings.warn(error_msg)\n",
      "/home/adkris1002/miniconda3/envs/opensoundscape/lib/python3.7/site-packages/opensoundscape/audio.py:180: UserWarning: This seems to be an AudioMoth file, but parse_audiomoth_metadata() raised: list index out of range\n",
      "  \"This seems to be an AudioMoth file, \"\n",
      "/home/adkris1002/miniconda3/envs/opensoundscape/lib/python3.7/site-packages/opensoundscape/audio.py:239: UserWarning: audio object has zero samples\n",
      "  warnings.warn(error_msg)\n",
      "/home/adkris1002/miniconda3/envs/opensoundscape/lib/python3.7/site-packages/opensoundscape/audio.py:180: UserWarning: This seems to be an AudioMoth file, but parse_audiomoth_metadata() raised: list index out of range\n",
      "  \"This seems to be an AudioMoth file, \"\n",
      "/home/adkris1002/miniconda3/envs/opensoundscape/lib/python3.7/site-packages/opensoundscape/audio.py:239: UserWarning: audio object has zero samples\n",
      "  warnings.warn(error_msg)\n",
      "/home/adkris1002/miniconda3/envs/opensoundscape/lib/python3.7/site-packages/opensoundscape/audio.py:180: UserWarning: This seems to be an AudioMoth file, but parse_audiomoth_metadata() raised: list index out of range\n",
      "  \"This seems to be an AudioMoth file, \"\n"
     ]
    },
    {
     "name": "stdout",
     "output_type": "stream",
     "text": [
      "Recordings/20220703_220121.WAV\n",
      "Recordings/20220703_220122.WAV\n",
      "Recordings/20220703_220123.WAV\n"
     ]
    },
    {
     "name": "stderr",
     "output_type": "stream",
     "text": [
      "/home/adkris1002/miniconda3/envs/opensoundscape/lib/python3.7/site-packages/opensoundscape/audio.py:239: UserWarning: audio object has zero samples\n",
      "  warnings.warn(error_msg)\n",
      "/home/adkris1002/miniconda3/envs/opensoundscape/lib/python3.7/site-packages/opensoundscape/audio.py:180: UserWarning: This seems to be an AudioMoth file, but parse_audiomoth_metadata() raised: list index out of range\n",
      "  \"This seems to be an AudioMoth file, \"\n",
      "/home/adkris1002/miniconda3/envs/opensoundscape/lib/python3.7/site-packages/opensoundscape/audio.py:239: UserWarning: audio object has zero samples\n",
      "  warnings.warn(error_msg)\n",
      "/home/adkris1002/miniconda3/envs/opensoundscape/lib/python3.7/site-packages/opensoundscape/audio.py:180: UserWarning: This seems to be an AudioMoth file, but parse_audiomoth_metadata() raised: list index out of range\n",
      "  \"This seems to be an AudioMoth file, \"\n",
      "/home/adkris1002/miniconda3/envs/opensoundscape/lib/python3.7/site-packages/opensoundscape/audio.py:239: UserWarning: audio object has zero samples\n",
      "  warnings.warn(error_msg)\n",
      "/home/adkris1002/miniconda3/envs/opensoundscape/lib/python3.7/site-packages/opensoundscape/audio.py:180: UserWarning: This seems to be an AudioMoth file, but parse_audiomoth_metadata() raised: list index out of range\n",
      "  \"This seems to be an AudioMoth file, \"\n"
     ]
    },
    {
     "name": "stdout",
     "output_type": "stream",
     "text": [
      "Recordings/20220703_220124.WAV\n",
      "Recordings/20220703_220125.WAV\n",
      "Recordings/20220703_220126.WAV\n"
     ]
    },
    {
     "name": "stderr",
     "output_type": "stream",
     "text": [
      "/home/adkris1002/miniconda3/envs/opensoundscape/lib/python3.7/site-packages/opensoundscape/audio.py:239: UserWarning: audio object has zero samples\n",
      "  warnings.warn(error_msg)\n",
      "/home/adkris1002/miniconda3/envs/opensoundscape/lib/python3.7/site-packages/opensoundscape/audio.py:180: UserWarning: This seems to be an AudioMoth file, but parse_audiomoth_metadata() raised: list index out of range\n",
      "  \"This seems to be an AudioMoth file, \"\n",
      "/home/adkris1002/miniconda3/envs/opensoundscape/lib/python3.7/site-packages/opensoundscape/audio.py:239: UserWarning: audio object has zero samples\n",
      "  warnings.warn(error_msg)\n",
      "/home/adkris1002/miniconda3/envs/opensoundscape/lib/python3.7/site-packages/opensoundscape/audio.py:180: UserWarning: This seems to be an AudioMoth file, but parse_audiomoth_metadata() raised: list index out of range\n",
      "  \"This seems to be an AudioMoth file, \"\n",
      "/home/adkris1002/miniconda3/envs/opensoundscape/lib/python3.7/site-packages/opensoundscape/audio.py:239: UserWarning: audio object has zero samples\n",
      "  warnings.warn(error_msg)\n",
      "/home/adkris1002/miniconda3/envs/opensoundscape/lib/python3.7/site-packages/opensoundscape/audio.py:180: UserWarning: This seems to be an AudioMoth file, but parse_audiomoth_metadata() raised: list index out of range\n",
      "  \"This seems to be an AudioMoth file, \"\n"
     ]
    },
    {
     "name": "stdout",
     "output_type": "stream",
     "text": [
      "Recordings/20220703_220127.WAV\n",
      "Recordings/20220703_220128.WAV\n",
      "Recordings/20220703_220129.WAV\n"
     ]
    },
    {
     "name": "stderr",
     "output_type": "stream",
     "text": [
      "/home/adkris1002/miniconda3/envs/opensoundscape/lib/python3.7/site-packages/opensoundscape/audio.py:239: UserWarning: audio object has zero samples\n",
      "  warnings.warn(error_msg)\n",
      "/home/adkris1002/miniconda3/envs/opensoundscape/lib/python3.7/site-packages/opensoundscape/audio.py:180: UserWarning: This seems to be an AudioMoth file, but parse_audiomoth_metadata() raised: list index out of range\n",
      "  \"This seems to be an AudioMoth file, \"\n",
      "/home/adkris1002/miniconda3/envs/opensoundscape/lib/python3.7/site-packages/opensoundscape/audio.py:239: UserWarning: audio object has zero samples\n",
      "  warnings.warn(error_msg)\n",
      "/home/adkris1002/miniconda3/envs/opensoundscape/lib/python3.7/site-packages/opensoundscape/audio.py:180: UserWarning: This seems to be an AudioMoth file, but parse_audiomoth_metadata() raised: list index out of range\n",
      "  \"This seems to be an AudioMoth file, \"\n",
      "/home/adkris1002/miniconda3/envs/opensoundscape/lib/python3.7/site-packages/opensoundscape/audio.py:239: UserWarning: audio object has zero samples\n",
      "  warnings.warn(error_msg)\n",
      "/home/adkris1002/miniconda3/envs/opensoundscape/lib/python3.7/site-packages/opensoundscape/audio.py:180: UserWarning: This seems to be an AudioMoth file, but parse_audiomoth_metadata() raised: list index out of range\n",
      "  \"This seems to be an AudioMoth file, \"\n"
     ]
    },
    {
     "name": "stdout",
     "output_type": "stream",
     "text": [
      "Recordings/20220703_220130.WAV\n",
      "Recordings/20220703_220131.WAV\n",
      "Recordings/20220703_220132.WAV\n"
     ]
    },
    {
     "name": "stderr",
     "output_type": "stream",
     "text": [
      "/home/adkris1002/miniconda3/envs/opensoundscape/lib/python3.7/site-packages/opensoundscape/audio.py:239: UserWarning: audio object has zero samples\n",
      "  warnings.warn(error_msg)\n",
      "/home/adkris1002/miniconda3/envs/opensoundscape/lib/python3.7/site-packages/opensoundscape/audio.py:180: UserWarning: This seems to be an AudioMoth file, but parse_audiomoth_metadata() raised: list index out of range\n",
      "  \"This seems to be an AudioMoth file, \"\n",
      "/home/adkris1002/miniconda3/envs/opensoundscape/lib/python3.7/site-packages/opensoundscape/audio.py:239: UserWarning: audio object has zero samples\n",
      "  warnings.warn(error_msg)\n",
      "/home/adkris1002/miniconda3/envs/opensoundscape/lib/python3.7/site-packages/opensoundscape/audio.py:180: UserWarning: This seems to be an AudioMoth file, but parse_audiomoth_metadata() raised: list index out of range\n",
      "  \"This seems to be an AudioMoth file, \"\n",
      "/home/adkris1002/miniconda3/envs/opensoundscape/lib/python3.7/site-packages/opensoundscape/audio.py:239: UserWarning: audio object has zero samples\n",
      "  warnings.warn(error_msg)\n",
      "/home/adkris1002/miniconda3/envs/opensoundscape/lib/python3.7/site-packages/opensoundscape/audio.py:180: UserWarning: This seems to be an AudioMoth file, but parse_audiomoth_metadata() raised: list index out of range\n",
      "  \"This seems to be an AudioMoth file, \"\n"
     ]
    },
    {
     "name": "stdout",
     "output_type": "stream",
     "text": [
      "Recordings/20220703_220133.WAV\n",
      "Recordings/20220703_220134.WAV\n",
      "Recordings/20220703_220135.WAV\n"
     ]
    },
    {
     "name": "stderr",
     "output_type": "stream",
     "text": [
      "/home/adkris1002/miniconda3/envs/opensoundscape/lib/python3.7/site-packages/opensoundscape/audio.py:239: UserWarning: audio object has zero samples\n",
      "  warnings.warn(error_msg)\n",
      "/home/adkris1002/miniconda3/envs/opensoundscape/lib/python3.7/site-packages/opensoundscape/audio.py:180: UserWarning: This seems to be an AudioMoth file, but parse_audiomoth_metadata() raised: list index out of range\n",
      "  \"This seems to be an AudioMoth file, \"\n",
      "/home/adkris1002/miniconda3/envs/opensoundscape/lib/python3.7/site-packages/opensoundscape/audio.py:239: UserWarning: audio object has zero samples\n",
      "  warnings.warn(error_msg)\n",
      "/home/adkris1002/miniconda3/envs/opensoundscape/lib/python3.7/site-packages/opensoundscape/audio.py:180: UserWarning: This seems to be an AudioMoth file, but parse_audiomoth_metadata() raised: list index out of range\n",
      "  \"This seems to be an AudioMoth file, \"\n",
      "/home/adkris1002/miniconda3/envs/opensoundscape/lib/python3.7/site-packages/opensoundscape/audio.py:239: UserWarning: audio object has zero samples\n",
      "  warnings.warn(error_msg)\n",
      "/home/adkris1002/miniconda3/envs/opensoundscape/lib/python3.7/site-packages/opensoundscape/audio.py:180: UserWarning: This seems to be an AudioMoth file, but parse_audiomoth_metadata() raised: list index out of range\n",
      "  \"This seems to be an AudioMoth file, \"\n"
     ]
    },
    {
     "name": "stdout",
     "output_type": "stream",
     "text": [
      "Recordings/20220703_220136.WAV\n",
      "Recordings/20220703_220137.WAV\n",
      "Recordings/20220703_220138.WAV\n"
     ]
    },
    {
     "name": "stderr",
     "output_type": "stream",
     "text": [
      "/home/adkris1002/miniconda3/envs/opensoundscape/lib/python3.7/site-packages/opensoundscape/audio.py:239: UserWarning: audio object has zero samples\n",
      "  warnings.warn(error_msg)\n",
      "/home/adkris1002/miniconda3/envs/opensoundscape/lib/python3.7/site-packages/opensoundscape/audio.py:180: UserWarning: This seems to be an AudioMoth file, but parse_audiomoth_metadata() raised: list index out of range\n",
      "  \"This seems to be an AudioMoth file, \"\n",
      "/home/adkris1002/miniconda3/envs/opensoundscape/lib/python3.7/site-packages/opensoundscape/audio.py:239: UserWarning: audio object has zero samples\n",
      "  warnings.warn(error_msg)\n",
      "/home/adkris1002/miniconda3/envs/opensoundscape/lib/python3.7/site-packages/opensoundscape/audio.py:180: UserWarning: This seems to be an AudioMoth file, but parse_audiomoth_metadata() raised: list index out of range\n",
      "  \"This seems to be an AudioMoth file, \"\n",
      "/home/adkris1002/miniconda3/envs/opensoundscape/lib/python3.7/site-packages/opensoundscape/audio.py:239: UserWarning: audio object has zero samples\n",
      "  warnings.warn(error_msg)\n",
      "/home/adkris1002/miniconda3/envs/opensoundscape/lib/python3.7/site-packages/opensoundscape/audio.py:180: UserWarning: This seems to be an AudioMoth file, but parse_audiomoth_metadata() raised: list index out of range\n",
      "  \"This seems to be an AudioMoth file, \"\n"
     ]
    },
    {
     "name": "stdout",
     "output_type": "stream",
     "text": [
      "Recordings/20220703_220139.WAV\n",
      "Recordings/20220703_220140.WAV\n",
      "Recordings/20220703_220141.WAV\n"
     ]
    },
    {
     "name": "stderr",
     "output_type": "stream",
     "text": [
      "/home/adkris1002/miniconda3/envs/opensoundscape/lib/python3.7/site-packages/opensoundscape/audio.py:239: UserWarning: audio object has zero samples\n",
      "  warnings.warn(error_msg)\n",
      "/home/adkris1002/miniconda3/envs/opensoundscape/lib/python3.7/site-packages/opensoundscape/audio.py:180: UserWarning: This seems to be an AudioMoth file, but parse_audiomoth_metadata() raised: list index out of range\n",
      "  \"This seems to be an AudioMoth file, \"\n",
      "/home/adkris1002/miniconda3/envs/opensoundscape/lib/python3.7/site-packages/opensoundscape/audio.py:239: UserWarning: audio object has zero samples\n",
      "  warnings.warn(error_msg)\n",
      "/home/adkris1002/miniconda3/envs/opensoundscape/lib/python3.7/site-packages/opensoundscape/audio.py:180: UserWarning: This seems to be an AudioMoth file, but parse_audiomoth_metadata() raised: list index out of range\n",
      "  \"This seems to be an AudioMoth file, \"\n",
      "/home/adkris1002/miniconda3/envs/opensoundscape/lib/python3.7/site-packages/opensoundscape/audio.py:239: UserWarning: audio object has zero samples\n",
      "  warnings.warn(error_msg)\n",
      "/home/adkris1002/miniconda3/envs/opensoundscape/lib/python3.7/site-packages/opensoundscape/audio.py:180: UserWarning: This seems to be an AudioMoth file, but parse_audiomoth_metadata() raised: list index out of range\n",
      "  \"This seems to be an AudioMoth file, \"\n"
     ]
    },
    {
     "name": "stdout",
     "output_type": "stream",
     "text": [
      "Recordings/20220703_220142.WAV\n",
      "Recordings/20220703_220143.WAV\n",
      "Recordings/20220703_220144.WAV\n"
     ]
    },
    {
     "name": "stderr",
     "output_type": "stream",
     "text": [
      "/home/adkris1002/miniconda3/envs/opensoundscape/lib/python3.7/site-packages/opensoundscape/audio.py:239: UserWarning: audio object has zero samples\n",
      "  warnings.warn(error_msg)\n",
      "/home/adkris1002/miniconda3/envs/opensoundscape/lib/python3.7/site-packages/opensoundscape/audio.py:180: UserWarning: This seems to be an AudioMoth file, but parse_audiomoth_metadata() raised: list index out of range\n",
      "  \"This seems to be an AudioMoth file, \"\n",
      "/home/adkris1002/miniconda3/envs/opensoundscape/lib/python3.7/site-packages/opensoundscape/audio.py:239: UserWarning: audio object has zero samples\n",
      "  warnings.warn(error_msg)\n",
      "/home/adkris1002/miniconda3/envs/opensoundscape/lib/python3.7/site-packages/opensoundscape/audio.py:180: UserWarning: This seems to be an AudioMoth file, but parse_audiomoth_metadata() raised: list index out of range\n",
      "  \"This seems to be an AudioMoth file, \"\n",
      "/home/adkris1002/miniconda3/envs/opensoundscape/lib/python3.7/site-packages/opensoundscape/audio.py:239: UserWarning: audio object has zero samples\n",
      "  warnings.warn(error_msg)\n",
      "/home/adkris1002/miniconda3/envs/opensoundscape/lib/python3.7/site-packages/opensoundscape/audio.py:180: UserWarning: This seems to be an AudioMoth file, but parse_audiomoth_metadata() raised: list index out of range\n",
      "  \"This seems to be an AudioMoth file, \"\n"
     ]
    },
    {
     "name": "stdout",
     "output_type": "stream",
     "text": [
      "Recordings/20220703_220145.WAV\n",
      "Recordings/20220703_220146.WAV\n",
      "Recordings/20220703_220147.WAV\n"
     ]
    },
    {
     "name": "stderr",
     "output_type": "stream",
     "text": [
      "/home/adkris1002/miniconda3/envs/opensoundscape/lib/python3.7/site-packages/opensoundscape/audio.py:239: UserWarning: audio object has zero samples\n",
      "  warnings.warn(error_msg)\n",
      "/home/adkris1002/miniconda3/envs/opensoundscape/lib/python3.7/site-packages/opensoundscape/audio.py:180: UserWarning: This seems to be an AudioMoth file, but parse_audiomoth_metadata() raised: list index out of range\n",
      "  \"This seems to be an AudioMoth file, \"\n",
      "/home/adkris1002/miniconda3/envs/opensoundscape/lib/python3.7/site-packages/opensoundscape/audio.py:239: UserWarning: audio object has zero samples\n",
      "  warnings.warn(error_msg)\n",
      "/home/adkris1002/miniconda3/envs/opensoundscape/lib/python3.7/site-packages/opensoundscape/audio.py:180: UserWarning: This seems to be an AudioMoth file, but parse_audiomoth_metadata() raised: list index out of range\n",
      "  \"This seems to be an AudioMoth file, \"\n",
      "/home/adkris1002/miniconda3/envs/opensoundscape/lib/python3.7/site-packages/opensoundscape/audio.py:239: UserWarning: audio object has zero samples\n",
      "  warnings.warn(error_msg)\n",
      "/home/adkris1002/miniconda3/envs/opensoundscape/lib/python3.7/site-packages/opensoundscape/audio.py:180: UserWarning: This seems to be an AudioMoth file, but parse_audiomoth_metadata() raised: list index out of range\n",
      "  \"This seems to be an AudioMoth file, \"\n"
     ]
    },
    {
     "name": "stdout",
     "output_type": "stream",
     "text": [
      "Recordings/20220703_220148.WAV\n",
      "Recordings/20220703_220149.WAV\n",
      "Recordings/20220703_220150.WAV\n"
     ]
    },
    {
     "name": "stderr",
     "output_type": "stream",
     "text": [
      "/home/adkris1002/miniconda3/envs/opensoundscape/lib/python3.7/site-packages/opensoundscape/audio.py:239: UserWarning: audio object has zero samples\n",
      "  warnings.warn(error_msg)\n",
      "/home/adkris1002/miniconda3/envs/opensoundscape/lib/python3.7/site-packages/opensoundscape/audio.py:180: UserWarning: This seems to be an AudioMoth file, but parse_audiomoth_metadata() raised: list index out of range\n",
      "  \"This seems to be an AudioMoth file, \"\n",
      "/home/adkris1002/miniconda3/envs/opensoundscape/lib/python3.7/site-packages/opensoundscape/audio.py:239: UserWarning: audio object has zero samples\n",
      "  warnings.warn(error_msg)\n",
      "/home/adkris1002/miniconda3/envs/opensoundscape/lib/python3.7/site-packages/opensoundscape/audio.py:180: UserWarning: This seems to be an AudioMoth file, but parse_audiomoth_metadata() raised: list index out of range\n",
      "  \"This seems to be an AudioMoth file, \"\n",
      "/home/adkris1002/miniconda3/envs/opensoundscape/lib/python3.7/site-packages/opensoundscape/audio.py:239: UserWarning: audio object has zero samples\n",
      "  warnings.warn(error_msg)\n",
      "/home/adkris1002/miniconda3/envs/opensoundscape/lib/python3.7/site-packages/opensoundscape/audio.py:180: UserWarning: This seems to be an AudioMoth file, but parse_audiomoth_metadata() raised: list index out of range\n",
      "  \"This seems to be an AudioMoth file, \"\n"
     ]
    },
    {
     "name": "stdout",
     "output_type": "stream",
     "text": [
      "Recordings/20220703_220151.WAV\n",
      "Recordings/20220703_220152.WAV\n",
      "Recordings/20220703_220153.WAV\n"
     ]
    },
    {
     "name": "stderr",
     "output_type": "stream",
     "text": [
      "/home/adkris1002/miniconda3/envs/opensoundscape/lib/python3.7/site-packages/opensoundscape/audio.py:239: UserWarning: audio object has zero samples\n",
      "  warnings.warn(error_msg)\n",
      "/home/adkris1002/miniconda3/envs/opensoundscape/lib/python3.7/site-packages/opensoundscape/audio.py:180: UserWarning: This seems to be an AudioMoth file, but parse_audiomoth_metadata() raised: list index out of range\n",
      "  \"This seems to be an AudioMoth file, \"\n",
      "/home/adkris1002/miniconda3/envs/opensoundscape/lib/python3.7/site-packages/opensoundscape/audio.py:239: UserWarning: audio object has zero samples\n",
      "  warnings.warn(error_msg)\n",
      "/home/adkris1002/miniconda3/envs/opensoundscape/lib/python3.7/site-packages/opensoundscape/audio.py:180: UserWarning: This seems to be an AudioMoth file, but parse_audiomoth_metadata() raised: list index out of range\n",
      "  \"This seems to be an AudioMoth file, \"\n",
      "/home/adkris1002/miniconda3/envs/opensoundscape/lib/python3.7/site-packages/opensoundscape/audio.py:239: UserWarning: audio object has zero samples\n",
      "  warnings.warn(error_msg)\n",
      "/home/adkris1002/miniconda3/envs/opensoundscape/lib/python3.7/site-packages/opensoundscape/audio.py:180: UserWarning: This seems to be an AudioMoth file, but parse_audiomoth_metadata() raised: list index out of range\n",
      "  \"This seems to be an AudioMoth file, \"\n"
     ]
    },
    {
     "name": "stdout",
     "output_type": "stream",
     "text": [
      "Recordings/20220703_220154.WAV\n",
      "Recordings/20220703_220155.WAV\n",
      "Recordings/20220703_220156.WAV\n"
     ]
    },
    {
     "name": "stderr",
     "output_type": "stream",
     "text": [
      "/home/adkris1002/miniconda3/envs/opensoundscape/lib/python3.7/site-packages/opensoundscape/audio.py:239: UserWarning: audio object has zero samples\n",
      "  warnings.warn(error_msg)\n",
      "/home/adkris1002/miniconda3/envs/opensoundscape/lib/python3.7/site-packages/opensoundscape/audio.py:180: UserWarning: This seems to be an AudioMoth file, but parse_audiomoth_metadata() raised: list index out of range\n",
      "  \"This seems to be an AudioMoth file, \"\n",
      "/home/adkris1002/miniconda3/envs/opensoundscape/lib/python3.7/site-packages/opensoundscape/audio.py:239: UserWarning: audio object has zero samples\n",
      "  warnings.warn(error_msg)\n",
      "/home/adkris1002/miniconda3/envs/opensoundscape/lib/python3.7/site-packages/opensoundscape/audio.py:180: UserWarning: This seems to be an AudioMoth file, but parse_audiomoth_metadata() raised: list index out of range\n",
      "  \"This seems to be an AudioMoth file, \"\n",
      "/home/adkris1002/miniconda3/envs/opensoundscape/lib/python3.7/site-packages/opensoundscape/audio.py:239: UserWarning: audio object has zero samples\n",
      "  warnings.warn(error_msg)\n",
      "/home/adkris1002/miniconda3/envs/opensoundscape/lib/python3.7/site-packages/opensoundscape/audio.py:180: UserWarning: This seems to be an AudioMoth file, but parse_audiomoth_metadata() raised: list index out of range\n",
      "  \"This seems to be an AudioMoth file, \"\n"
     ]
    },
    {
     "name": "stdout",
     "output_type": "stream",
     "text": [
      "Recordings/20220703_220157.WAV\n",
      "Recordings/20220703_220158.WAV\n",
      "Recordings/20220703_220159.WAV\n"
     ]
    },
    {
     "name": "stderr",
     "output_type": "stream",
     "text": [
      "/home/adkris1002/miniconda3/envs/opensoundscape/lib/python3.7/site-packages/opensoundscape/audio.py:239: UserWarning: audio object has zero samples\n",
      "  warnings.warn(error_msg)\n",
      "/home/adkris1002/miniconda3/envs/opensoundscape/lib/python3.7/site-packages/opensoundscape/audio.py:180: UserWarning: This seems to be an AudioMoth file, but parse_audiomoth_metadata() raised: list index out of range\n",
      "  \"This seems to be an AudioMoth file, \"\n",
      "/home/adkris1002/miniconda3/envs/opensoundscape/lib/python3.7/site-packages/opensoundscape/audio.py:239: UserWarning: audio object has zero samples\n",
      "  warnings.warn(error_msg)\n",
      "/home/adkris1002/miniconda3/envs/opensoundscape/lib/python3.7/site-packages/opensoundscape/audio.py:180: UserWarning: This seems to be an AudioMoth file, but parse_audiomoth_metadata() raised: list index out of range\n",
      "  \"This seems to be an AudioMoth file, \"\n",
      "/home/adkris1002/miniconda3/envs/opensoundscape/lib/python3.7/site-packages/opensoundscape/audio.py:239: UserWarning: audio object has zero samples\n",
      "  warnings.warn(error_msg)\n",
      "/home/adkris1002/miniconda3/envs/opensoundscape/lib/python3.7/site-packages/opensoundscape/audio.py:180: UserWarning: This seems to be an AudioMoth file, but parse_audiomoth_metadata() raised: list index out of range\n",
      "  \"This seems to be an AudioMoth file, \"\n"
     ]
    },
    {
     "name": "stdout",
     "output_type": "stream",
     "text": [
      "Recordings/20220703_220200.WAV\n",
      "Recordings/20220703_220201.WAV\n",
      "Recordings/20220703_220202.WAV\n"
     ]
    },
    {
     "name": "stderr",
     "output_type": "stream",
     "text": [
      "/home/adkris1002/miniconda3/envs/opensoundscape/lib/python3.7/site-packages/opensoundscape/audio.py:239: UserWarning: audio object has zero samples\n",
      "  warnings.warn(error_msg)\n",
      "/home/adkris1002/miniconda3/envs/opensoundscape/lib/python3.7/site-packages/opensoundscape/audio.py:180: UserWarning: This seems to be an AudioMoth file, but parse_audiomoth_metadata() raised: list index out of range\n",
      "  \"This seems to be an AudioMoth file, \"\n",
      "/home/adkris1002/miniconda3/envs/opensoundscape/lib/python3.7/site-packages/opensoundscape/audio.py:239: UserWarning: audio object has zero samples\n",
      "  warnings.warn(error_msg)\n",
      "/home/adkris1002/miniconda3/envs/opensoundscape/lib/python3.7/site-packages/opensoundscape/audio.py:180: UserWarning: This seems to be an AudioMoth file, but parse_audiomoth_metadata() raised: list index out of range\n",
      "  \"This seems to be an AudioMoth file, \"\n",
      "/home/adkris1002/miniconda3/envs/opensoundscape/lib/python3.7/site-packages/opensoundscape/audio.py:239: UserWarning: audio object has zero samples\n",
      "  warnings.warn(error_msg)\n",
      "/home/adkris1002/miniconda3/envs/opensoundscape/lib/python3.7/site-packages/opensoundscape/audio.py:180: UserWarning: This seems to be an AudioMoth file, but parse_audiomoth_metadata() raised: list index out of range\n",
      "  \"This seems to be an AudioMoth file, \"\n"
     ]
    },
    {
     "name": "stdout",
     "output_type": "stream",
     "text": [
      "Recordings/20220703_220203.WAV\n",
      "Recordings/20220703_220204.WAV\n",
      "Recordings/20220703_220205.WAV\n"
     ]
    },
    {
     "name": "stderr",
     "output_type": "stream",
     "text": [
      "/home/adkris1002/miniconda3/envs/opensoundscape/lib/python3.7/site-packages/opensoundscape/audio.py:239: UserWarning: audio object has zero samples\n",
      "  warnings.warn(error_msg)\n",
      "/home/adkris1002/miniconda3/envs/opensoundscape/lib/python3.7/site-packages/opensoundscape/audio.py:180: UserWarning: This seems to be an AudioMoth file, but parse_audiomoth_metadata() raised: list index out of range\n",
      "  \"This seems to be an AudioMoth file, \"\n",
      "/home/adkris1002/miniconda3/envs/opensoundscape/lib/python3.7/site-packages/opensoundscape/audio.py:239: UserWarning: audio object has zero samples\n",
      "  warnings.warn(error_msg)\n",
      "/home/adkris1002/miniconda3/envs/opensoundscape/lib/python3.7/site-packages/opensoundscape/audio.py:180: UserWarning: This seems to be an AudioMoth file, but parse_audiomoth_metadata() raised: list index out of range\n",
      "  \"This seems to be an AudioMoth file, \"\n"
     ]
    },
    {
     "name": "stdout",
     "output_type": "stream",
     "text": [
      "Recordings/20220703_220206.WAV\n",
      "Recordings/20220703_220207.WAV\n"
     ]
    },
    {
     "name": "stderr",
     "output_type": "stream",
     "text": [
      "/home/adkris1002/miniconda3/envs/opensoundscape/lib/python3.7/site-packages/opensoundscape/audio.py:239: UserWarning: audio object has zero samples\n",
      "  warnings.warn(error_msg)\n",
      "/home/adkris1002/miniconda3/envs/opensoundscape/lib/python3.7/site-packages/opensoundscape/audio.py:180: UserWarning: This seems to be an AudioMoth file, but parse_audiomoth_metadata() raised: list index out of range\n",
      "  \"This seems to be an AudioMoth file, \"\n",
      "/home/adkris1002/miniconda3/envs/opensoundscape/lib/python3.7/site-packages/opensoundscape/audio.py:239: UserWarning: audio object has zero samples\n",
      "  warnings.warn(error_msg)\n",
      "/home/adkris1002/miniconda3/envs/opensoundscape/lib/python3.7/site-packages/opensoundscape/audio.py:180: UserWarning: This seems to be an AudioMoth file, but parse_audiomoth_metadata() raised: list index out of range\n",
      "  \"This seems to be an AudioMoth file, \"\n",
      "/home/adkris1002/miniconda3/envs/opensoundscape/lib/python3.7/site-packages/opensoundscape/audio.py:239: UserWarning: audio object has zero samples\n",
      "  warnings.warn(error_msg)\n",
      "/home/adkris1002/miniconda3/envs/opensoundscape/lib/python3.7/site-packages/opensoundscape/audio.py:180: UserWarning: This seems to be an AudioMoth file, but parse_audiomoth_metadata() raised: list index out of range\n",
      "  \"This seems to be an AudioMoth file, \"\n"
     ]
    },
    {
     "name": "stdout",
     "output_type": "stream",
     "text": [
      "Recordings/20220703_220208.WAV\n",
      "Recordings/20220703_220209.WAV\n",
      "Recordings/20220703_220210.WAV\n"
     ]
    },
    {
     "name": "stderr",
     "output_type": "stream",
     "text": [
      "/home/adkris1002/miniconda3/envs/opensoundscape/lib/python3.7/site-packages/opensoundscape/audio.py:239: UserWarning: audio object has zero samples\n",
      "  warnings.warn(error_msg)\n",
      "/home/adkris1002/miniconda3/envs/opensoundscape/lib/python3.7/site-packages/opensoundscape/audio.py:180: UserWarning: This seems to be an AudioMoth file, but parse_audiomoth_metadata() raised: list index out of range\n",
      "  \"This seems to be an AudioMoth file, \"\n",
      "/home/adkris1002/miniconda3/envs/opensoundscape/lib/python3.7/site-packages/opensoundscape/audio.py:239: UserWarning: audio object has zero samples\n",
      "  warnings.warn(error_msg)\n",
      "/home/adkris1002/miniconda3/envs/opensoundscape/lib/python3.7/site-packages/opensoundscape/audio.py:180: UserWarning: This seems to be an AudioMoth file, but parse_audiomoth_metadata() raised: list index out of range\n",
      "  \"This seems to be an AudioMoth file, \"\n",
      "/home/adkris1002/miniconda3/envs/opensoundscape/lib/python3.7/site-packages/opensoundscape/audio.py:239: UserWarning: audio object has zero samples\n",
      "  warnings.warn(error_msg)\n",
      "/home/adkris1002/miniconda3/envs/opensoundscape/lib/python3.7/site-packages/opensoundscape/audio.py:180: UserWarning: This seems to be an AudioMoth file, but parse_audiomoth_metadata() raised: list index out of range\n",
      "  \"This seems to be an AudioMoth file, \"\n"
     ]
    },
    {
     "name": "stdout",
     "output_type": "stream",
     "text": [
      "Recordings/20220703_220211.WAV\n",
      "Recordings/20220703_220212.WAV\n",
      "Recordings/20220703_220213.WAV\n"
     ]
    },
    {
     "name": "stderr",
     "output_type": "stream",
     "text": [
      "/home/adkris1002/miniconda3/envs/opensoundscape/lib/python3.7/site-packages/opensoundscape/audio.py:239: UserWarning: audio object has zero samples\n",
      "  warnings.warn(error_msg)\n",
      "/home/adkris1002/miniconda3/envs/opensoundscape/lib/python3.7/site-packages/opensoundscape/audio.py:180: UserWarning: This seems to be an AudioMoth file, but parse_audiomoth_metadata() raised: list index out of range\n",
      "  \"This seems to be an AudioMoth file, \"\n",
      "/home/adkris1002/miniconda3/envs/opensoundscape/lib/python3.7/site-packages/opensoundscape/audio.py:239: UserWarning: audio object has zero samples\n",
      "  warnings.warn(error_msg)\n",
      "/home/adkris1002/miniconda3/envs/opensoundscape/lib/python3.7/site-packages/opensoundscape/audio.py:180: UserWarning: This seems to be an AudioMoth file, but parse_audiomoth_metadata() raised: list index out of range\n",
      "  \"This seems to be an AudioMoth file, \"\n",
      "/home/adkris1002/miniconda3/envs/opensoundscape/lib/python3.7/site-packages/opensoundscape/audio.py:239: UserWarning: audio object has zero samples\n",
      "  warnings.warn(error_msg)\n",
      "/home/adkris1002/miniconda3/envs/opensoundscape/lib/python3.7/site-packages/opensoundscape/audio.py:180: UserWarning: This seems to be an AudioMoth file, but parse_audiomoth_metadata() raised: list index out of range\n",
      "  \"This seems to be an AudioMoth file, \"\n"
     ]
    },
    {
     "name": "stdout",
     "output_type": "stream",
     "text": [
      "Recordings/20220703_220214.WAV\n",
      "Recordings/20220703_220215.WAV\n",
      "Recordings/20220703_220216.WAV\n"
     ]
    },
    {
     "name": "stderr",
     "output_type": "stream",
     "text": [
      "/home/adkris1002/miniconda3/envs/opensoundscape/lib/python3.7/site-packages/opensoundscape/audio.py:239: UserWarning: audio object has zero samples\n",
      "  warnings.warn(error_msg)\n",
      "/home/adkris1002/miniconda3/envs/opensoundscape/lib/python3.7/site-packages/opensoundscape/audio.py:180: UserWarning: This seems to be an AudioMoth file, but parse_audiomoth_metadata() raised: list index out of range\n",
      "  \"This seems to be an AudioMoth file, \"\n",
      "/home/adkris1002/miniconda3/envs/opensoundscape/lib/python3.7/site-packages/opensoundscape/audio.py:239: UserWarning: audio object has zero samples\n",
      "  warnings.warn(error_msg)\n",
      "/home/adkris1002/miniconda3/envs/opensoundscape/lib/python3.7/site-packages/opensoundscape/audio.py:180: UserWarning: This seems to be an AudioMoth file, but parse_audiomoth_metadata() raised: list index out of range\n",
      "  \"This seems to be an AudioMoth file, \"\n",
      "/home/adkris1002/miniconda3/envs/opensoundscape/lib/python3.7/site-packages/opensoundscape/audio.py:239: UserWarning: audio object has zero samples\n",
      "  warnings.warn(error_msg)\n",
      "/home/adkris1002/miniconda3/envs/opensoundscape/lib/python3.7/site-packages/opensoundscape/audio.py:180: UserWarning: This seems to be an AudioMoth file, but parse_audiomoth_metadata() raised: list index out of range\n",
      "  \"This seems to be an AudioMoth file, \"\n"
     ]
    },
    {
     "name": "stdout",
     "output_type": "stream",
     "text": [
      "Recordings/20220703_220217.WAV\n",
      "Recordings/20220703_220218.WAV\n",
      "Recordings/20220703_220219.WAV\n"
     ]
    },
    {
     "name": "stderr",
     "output_type": "stream",
     "text": [
      "/home/adkris1002/miniconda3/envs/opensoundscape/lib/python3.7/site-packages/opensoundscape/audio.py:239: UserWarning: audio object has zero samples\n",
      "  warnings.warn(error_msg)\n",
      "/home/adkris1002/miniconda3/envs/opensoundscape/lib/python3.7/site-packages/opensoundscape/audio.py:180: UserWarning: This seems to be an AudioMoth file, but parse_audiomoth_metadata() raised: list index out of range\n",
      "  \"This seems to be an AudioMoth file, \"\n",
      "/home/adkris1002/miniconda3/envs/opensoundscape/lib/python3.7/site-packages/opensoundscape/audio.py:239: UserWarning: audio object has zero samples\n",
      "  warnings.warn(error_msg)\n",
      "/home/adkris1002/miniconda3/envs/opensoundscape/lib/python3.7/site-packages/opensoundscape/audio.py:180: UserWarning: This seems to be an AudioMoth file, but parse_audiomoth_metadata() raised: list index out of range\n",
      "  \"This seems to be an AudioMoth file, \"\n",
      "/home/adkris1002/miniconda3/envs/opensoundscape/lib/python3.7/site-packages/opensoundscape/audio.py:239: UserWarning: audio object has zero samples\n",
      "  warnings.warn(error_msg)\n",
      "/home/adkris1002/miniconda3/envs/opensoundscape/lib/python3.7/site-packages/opensoundscape/audio.py:180: UserWarning: This seems to be an AudioMoth file, but parse_audiomoth_metadata() raised: list index out of range\n",
      "  \"This seems to be an AudioMoth file, \"\n"
     ]
    },
    {
     "name": "stdout",
     "output_type": "stream",
     "text": [
      "Recordings/20220703_220220.WAV\n",
      "Recordings/20220703_220221.WAV\n",
      "Recordings/20220703_220222.WAV\n"
     ]
    },
    {
     "name": "stderr",
     "output_type": "stream",
     "text": [
      "/home/adkris1002/miniconda3/envs/opensoundscape/lib/python3.7/site-packages/opensoundscape/audio.py:239: UserWarning: audio object has zero samples\n",
      "  warnings.warn(error_msg)\n",
      "/home/adkris1002/miniconda3/envs/opensoundscape/lib/python3.7/site-packages/opensoundscape/audio.py:180: UserWarning: This seems to be an AudioMoth file, but parse_audiomoth_metadata() raised: list index out of range\n",
      "  \"This seems to be an AudioMoth file, \"\n",
      "/home/adkris1002/miniconda3/envs/opensoundscape/lib/python3.7/site-packages/opensoundscape/audio.py:239: UserWarning: audio object has zero samples\n",
      "  warnings.warn(error_msg)\n",
      "/home/adkris1002/miniconda3/envs/opensoundscape/lib/python3.7/site-packages/opensoundscape/audio.py:180: UserWarning: This seems to be an AudioMoth file, but parse_audiomoth_metadata() raised: list index out of range\n",
      "  \"This seems to be an AudioMoth file, \"\n",
      "/home/adkris1002/miniconda3/envs/opensoundscape/lib/python3.7/site-packages/opensoundscape/audio.py:239: UserWarning: audio object has zero samples\n",
      "  warnings.warn(error_msg)\n",
      "/home/adkris1002/miniconda3/envs/opensoundscape/lib/python3.7/site-packages/opensoundscape/audio.py:180: UserWarning: This seems to be an AudioMoth file, but parse_audiomoth_metadata() raised: list index out of range\n",
      "  \"This seems to be an AudioMoth file, \"\n"
     ]
    },
    {
     "name": "stdout",
     "output_type": "stream",
     "text": [
      "Recordings/20220703_220223.WAV\n",
      "Recordings/20220703_220224.WAV\n",
      "Recordings/20220703_220225.WAV\n"
     ]
    },
    {
     "name": "stderr",
     "output_type": "stream",
     "text": [
      "/home/adkris1002/miniconda3/envs/opensoundscape/lib/python3.7/site-packages/opensoundscape/audio.py:239: UserWarning: audio object has zero samples\n",
      "  warnings.warn(error_msg)\n",
      "/home/adkris1002/miniconda3/envs/opensoundscape/lib/python3.7/site-packages/opensoundscape/audio.py:180: UserWarning: This seems to be an AudioMoth file, but parse_audiomoth_metadata() raised: list index out of range\n",
      "  \"This seems to be an AudioMoth file, \"\n",
      "/home/adkris1002/miniconda3/envs/opensoundscape/lib/python3.7/site-packages/opensoundscape/audio.py:239: UserWarning: audio object has zero samples\n",
      "  warnings.warn(error_msg)\n",
      "/home/adkris1002/miniconda3/envs/opensoundscape/lib/python3.7/site-packages/opensoundscape/audio.py:180: UserWarning: This seems to be an AudioMoth file, but parse_audiomoth_metadata() raised: list index out of range\n",
      "  \"This seems to be an AudioMoth file, \"\n",
      "/home/adkris1002/miniconda3/envs/opensoundscape/lib/python3.7/site-packages/opensoundscape/audio.py:239: UserWarning: audio object has zero samples\n",
      "  warnings.warn(error_msg)\n",
      "/home/adkris1002/miniconda3/envs/opensoundscape/lib/python3.7/site-packages/opensoundscape/audio.py:180: UserWarning: This seems to be an AudioMoth file, but parse_audiomoth_metadata() raised: list index out of range\n",
      "  \"This seems to be an AudioMoth file, \"\n"
     ]
    },
    {
     "name": "stdout",
     "output_type": "stream",
     "text": [
      "Recordings/20220703_220226.WAV\n",
      "Recordings/20220703_220227.WAV\n",
      "Recordings/20220703_220228.WAV\n"
     ]
    },
    {
     "name": "stderr",
     "output_type": "stream",
     "text": [
      "/home/adkris1002/miniconda3/envs/opensoundscape/lib/python3.7/site-packages/opensoundscape/audio.py:239: UserWarning: audio object has zero samples\n",
      "  warnings.warn(error_msg)\n",
      "/home/adkris1002/miniconda3/envs/opensoundscape/lib/python3.7/site-packages/opensoundscape/audio.py:180: UserWarning: This seems to be an AudioMoth file, but parse_audiomoth_metadata() raised: list index out of range\n",
      "  \"This seems to be an AudioMoth file, \"\n",
      "/home/adkris1002/miniconda3/envs/opensoundscape/lib/python3.7/site-packages/opensoundscape/audio.py:239: UserWarning: audio object has zero samples\n",
      "  warnings.warn(error_msg)\n",
      "/home/adkris1002/miniconda3/envs/opensoundscape/lib/python3.7/site-packages/opensoundscape/audio.py:180: UserWarning: This seems to be an AudioMoth file, but parse_audiomoth_metadata() raised: list index out of range\n",
      "  \"This seems to be an AudioMoth file, \"\n",
      "/home/adkris1002/miniconda3/envs/opensoundscape/lib/python3.7/site-packages/opensoundscape/audio.py:239: UserWarning: audio object has zero samples\n",
      "  warnings.warn(error_msg)\n",
      "/home/adkris1002/miniconda3/envs/opensoundscape/lib/python3.7/site-packages/opensoundscape/audio.py:180: UserWarning: This seems to be an AudioMoth file, but parse_audiomoth_metadata() raised: list index out of range\n",
      "  \"This seems to be an AudioMoth file, \"\n"
     ]
    },
    {
     "name": "stdout",
     "output_type": "stream",
     "text": [
      "Recordings/20220703_220229.WAV\n",
      "Recordings/20220703_220230.WAV\n",
      "Recordings/20220703_220231.WAV\n"
     ]
    },
    {
     "name": "stderr",
     "output_type": "stream",
     "text": [
      "/home/adkris1002/miniconda3/envs/opensoundscape/lib/python3.7/site-packages/opensoundscape/audio.py:239: UserWarning: audio object has zero samples\n",
      "  warnings.warn(error_msg)\n",
      "/home/adkris1002/miniconda3/envs/opensoundscape/lib/python3.7/site-packages/opensoundscape/audio.py:180: UserWarning: This seems to be an AudioMoth file, but parse_audiomoth_metadata() raised: list index out of range\n",
      "  \"This seems to be an AudioMoth file, \"\n",
      "/home/adkris1002/miniconda3/envs/opensoundscape/lib/python3.7/site-packages/opensoundscape/audio.py:239: UserWarning: audio object has zero samples\n",
      "  warnings.warn(error_msg)\n",
      "/home/adkris1002/miniconda3/envs/opensoundscape/lib/python3.7/site-packages/opensoundscape/audio.py:180: UserWarning: This seems to be an AudioMoth file, but parse_audiomoth_metadata() raised: list index out of range\n",
      "  \"This seems to be an AudioMoth file, \"\n",
      "/home/adkris1002/miniconda3/envs/opensoundscape/lib/python3.7/site-packages/opensoundscape/audio.py:239: UserWarning: audio object has zero samples\n",
      "  warnings.warn(error_msg)\n",
      "/home/adkris1002/miniconda3/envs/opensoundscape/lib/python3.7/site-packages/opensoundscape/audio.py:180: UserWarning: This seems to be an AudioMoth file, but parse_audiomoth_metadata() raised: list index out of range\n",
      "  \"This seems to be an AudioMoth file, \"\n"
     ]
    },
    {
     "name": "stdout",
     "output_type": "stream",
     "text": [
      "Recordings/20220703_220232.WAV\n",
      "Recordings/20220703_220233.WAV\n",
      "Recordings/20220703_220234.WAV\n"
     ]
    },
    {
     "name": "stderr",
     "output_type": "stream",
     "text": [
      "/home/adkris1002/miniconda3/envs/opensoundscape/lib/python3.7/site-packages/opensoundscape/audio.py:239: UserWarning: audio object has zero samples\n",
      "  warnings.warn(error_msg)\n",
      "/home/adkris1002/miniconda3/envs/opensoundscape/lib/python3.7/site-packages/opensoundscape/audio.py:180: UserWarning: This seems to be an AudioMoth file, but parse_audiomoth_metadata() raised: list index out of range\n",
      "  \"This seems to be an AudioMoth file, \"\n",
      "/home/adkris1002/miniconda3/envs/opensoundscape/lib/python3.7/site-packages/opensoundscape/audio.py:239: UserWarning: audio object has zero samples\n",
      "  warnings.warn(error_msg)\n",
      "/home/adkris1002/miniconda3/envs/opensoundscape/lib/python3.7/site-packages/opensoundscape/audio.py:180: UserWarning: This seems to be an AudioMoth file, but parse_audiomoth_metadata() raised: list index out of range\n",
      "  \"This seems to be an AudioMoth file, \"\n",
      "/home/adkris1002/miniconda3/envs/opensoundscape/lib/python3.7/site-packages/opensoundscape/audio.py:239: UserWarning: audio object has zero samples\n",
      "  warnings.warn(error_msg)\n",
      "/home/adkris1002/miniconda3/envs/opensoundscape/lib/python3.7/site-packages/opensoundscape/audio.py:180: UserWarning: This seems to be an AudioMoth file, but parse_audiomoth_metadata() raised: list index out of range\n",
      "  \"This seems to be an AudioMoth file, \"\n"
     ]
    },
    {
     "name": "stdout",
     "output_type": "stream",
     "text": [
      "Recordings/20220703_220235.WAV\n",
      "Recordings/20220703_220236.WAV\n",
      "Recordings/20220703_220237.WAV\n"
     ]
    },
    {
     "name": "stderr",
     "output_type": "stream",
     "text": [
      "/home/adkris1002/miniconda3/envs/opensoundscape/lib/python3.7/site-packages/opensoundscape/audio.py:239: UserWarning: audio object has zero samples\n",
      "  warnings.warn(error_msg)\n",
      "/home/adkris1002/miniconda3/envs/opensoundscape/lib/python3.7/site-packages/opensoundscape/audio.py:180: UserWarning: This seems to be an AudioMoth file, but parse_audiomoth_metadata() raised: list index out of range\n",
      "  \"This seems to be an AudioMoth file, \"\n",
      "/home/adkris1002/miniconda3/envs/opensoundscape/lib/python3.7/site-packages/opensoundscape/audio.py:239: UserWarning: audio object has zero samples\n",
      "  warnings.warn(error_msg)\n",
      "/home/adkris1002/miniconda3/envs/opensoundscape/lib/python3.7/site-packages/opensoundscape/audio.py:180: UserWarning: This seems to be an AudioMoth file, but parse_audiomoth_metadata() raised: list index out of range\n",
      "  \"This seems to be an AudioMoth file, \"\n",
      "/home/adkris1002/miniconda3/envs/opensoundscape/lib/python3.7/site-packages/opensoundscape/audio.py:239: UserWarning: audio object has zero samples\n",
      "  warnings.warn(error_msg)\n",
      "/home/adkris1002/miniconda3/envs/opensoundscape/lib/python3.7/site-packages/opensoundscape/audio.py:180: UserWarning: This seems to be an AudioMoth file, but parse_audiomoth_metadata() raised: list index out of range\n",
      "  \"This seems to be an AudioMoth file, \"\n"
     ]
    },
    {
     "name": "stdout",
     "output_type": "stream",
     "text": [
      "Recordings/20220703_220238.WAV\n",
      "Recordings/20220703_220239.WAV\n",
      "Recordings/20220703_220240.WAV\n"
     ]
    },
    {
     "name": "stderr",
     "output_type": "stream",
     "text": [
      "/home/adkris1002/miniconda3/envs/opensoundscape/lib/python3.7/site-packages/opensoundscape/audio.py:239: UserWarning: audio object has zero samples\n",
      "  warnings.warn(error_msg)\n",
      "/home/adkris1002/miniconda3/envs/opensoundscape/lib/python3.7/site-packages/opensoundscape/audio.py:180: UserWarning: This seems to be an AudioMoth file, but parse_audiomoth_metadata() raised: list index out of range\n",
      "  \"This seems to be an AudioMoth file, \"\n",
      "/home/adkris1002/miniconda3/envs/opensoundscape/lib/python3.7/site-packages/opensoundscape/audio.py:239: UserWarning: audio object has zero samples\n",
      "  warnings.warn(error_msg)\n",
      "/home/adkris1002/miniconda3/envs/opensoundscape/lib/python3.7/site-packages/opensoundscape/audio.py:180: UserWarning: This seems to be an AudioMoth file, but parse_audiomoth_metadata() raised: list index out of range\n",
      "  \"This seems to be an AudioMoth file, \"\n",
      "/home/adkris1002/miniconda3/envs/opensoundscape/lib/python3.7/site-packages/opensoundscape/audio.py:239: UserWarning: audio object has zero samples\n",
      "  warnings.warn(error_msg)\n",
      "/home/adkris1002/miniconda3/envs/opensoundscape/lib/python3.7/site-packages/opensoundscape/audio.py:180: UserWarning: This seems to be an AudioMoth file, but parse_audiomoth_metadata() raised: list index out of range\n",
      "  \"This seems to be an AudioMoth file, \"\n"
     ]
    },
    {
     "name": "stdout",
     "output_type": "stream",
     "text": [
      "Recordings/20220703_220241.WAV\n",
      "Recordings/20220703_220242.WAV\n",
      "Recordings/20220703_220243.WAV\n"
     ]
    },
    {
     "name": "stderr",
     "output_type": "stream",
     "text": [
      "/home/adkris1002/miniconda3/envs/opensoundscape/lib/python3.7/site-packages/opensoundscape/audio.py:239: UserWarning: audio object has zero samples\n",
      "  warnings.warn(error_msg)\n",
      "/home/adkris1002/miniconda3/envs/opensoundscape/lib/python3.7/site-packages/opensoundscape/audio.py:180: UserWarning: This seems to be an AudioMoth file, but parse_audiomoth_metadata() raised: list index out of range\n",
      "  \"This seems to be an AudioMoth file, \"\n",
      "/home/adkris1002/miniconda3/envs/opensoundscape/lib/python3.7/site-packages/opensoundscape/audio.py:239: UserWarning: audio object has zero samples\n",
      "  warnings.warn(error_msg)\n",
      "/home/adkris1002/miniconda3/envs/opensoundscape/lib/python3.7/site-packages/opensoundscape/audio.py:180: UserWarning: This seems to be an AudioMoth file, but parse_audiomoth_metadata() raised: list index out of range\n",
      "  \"This seems to be an AudioMoth file, \"\n",
      "/home/adkris1002/miniconda3/envs/opensoundscape/lib/python3.7/site-packages/opensoundscape/audio.py:239: UserWarning: audio object has zero samples\n",
      "  warnings.warn(error_msg)\n",
      "/home/adkris1002/miniconda3/envs/opensoundscape/lib/python3.7/site-packages/opensoundscape/audio.py:180: UserWarning: This seems to be an AudioMoth file, but parse_audiomoth_metadata() raised: list index out of range\n",
      "  \"This seems to be an AudioMoth file, \"\n"
     ]
    },
    {
     "name": "stdout",
     "output_type": "stream",
     "text": [
      "Recordings/20220703_220244.WAV\n",
      "Recordings/20220703_220245.WAV\n",
      "Recordings/20220703_220246.WAV\n"
     ]
    },
    {
     "name": "stderr",
     "output_type": "stream",
     "text": [
      "/home/adkris1002/miniconda3/envs/opensoundscape/lib/python3.7/site-packages/opensoundscape/audio.py:239: UserWarning: audio object has zero samples\n",
      "  warnings.warn(error_msg)\n",
      "/home/adkris1002/miniconda3/envs/opensoundscape/lib/python3.7/site-packages/opensoundscape/audio.py:180: UserWarning: This seems to be an AudioMoth file, but parse_audiomoth_metadata() raised: list index out of range\n",
      "  \"This seems to be an AudioMoth file, \"\n",
      "/home/adkris1002/miniconda3/envs/opensoundscape/lib/python3.7/site-packages/opensoundscape/audio.py:239: UserWarning: audio object has zero samples\n",
      "  warnings.warn(error_msg)\n",
      "/home/adkris1002/miniconda3/envs/opensoundscape/lib/python3.7/site-packages/opensoundscape/audio.py:180: UserWarning: This seems to be an AudioMoth file, but parse_audiomoth_metadata() raised: list index out of range\n",
      "  \"This seems to be an AudioMoth file, \"\n",
      "/home/adkris1002/miniconda3/envs/opensoundscape/lib/python3.7/site-packages/opensoundscape/audio.py:239: UserWarning: audio object has zero samples\n",
      "  warnings.warn(error_msg)\n",
      "/home/adkris1002/miniconda3/envs/opensoundscape/lib/python3.7/site-packages/opensoundscape/audio.py:180: UserWarning: This seems to be an AudioMoth file, but parse_audiomoth_metadata() raised: list index out of range\n",
      "  \"This seems to be an AudioMoth file, \"\n"
     ]
    },
    {
     "name": "stdout",
     "output_type": "stream",
     "text": [
      "Recordings/20220703_220247.WAV\n",
      "Recordings/20220703_220248.WAV\n",
      "Recordings/20220703_220249.WAV\n"
     ]
    },
    {
     "name": "stderr",
     "output_type": "stream",
     "text": [
      "/home/adkris1002/miniconda3/envs/opensoundscape/lib/python3.7/site-packages/opensoundscape/audio.py:239: UserWarning: audio object has zero samples\n",
      "  warnings.warn(error_msg)\n",
      "/home/adkris1002/miniconda3/envs/opensoundscape/lib/python3.7/site-packages/opensoundscape/audio.py:180: UserWarning: This seems to be an AudioMoth file, but parse_audiomoth_metadata() raised: list index out of range\n",
      "  \"This seems to be an AudioMoth file, \"\n",
      "/home/adkris1002/miniconda3/envs/opensoundscape/lib/python3.7/site-packages/opensoundscape/audio.py:239: UserWarning: audio object has zero samples\n",
      "  warnings.warn(error_msg)\n",
      "/home/adkris1002/miniconda3/envs/opensoundscape/lib/python3.7/site-packages/opensoundscape/audio.py:180: UserWarning: This seems to be an AudioMoth file, but parse_audiomoth_metadata() raised: list index out of range\n",
      "  \"This seems to be an AudioMoth file, \"\n",
      "/home/adkris1002/miniconda3/envs/opensoundscape/lib/python3.7/site-packages/opensoundscape/audio.py:239: UserWarning: audio object has zero samples\n",
      "  warnings.warn(error_msg)\n",
      "/home/adkris1002/miniconda3/envs/opensoundscape/lib/python3.7/site-packages/opensoundscape/audio.py:180: UserWarning: This seems to be an AudioMoth file, but parse_audiomoth_metadata() raised: list index out of range\n",
      "  \"This seems to be an AudioMoth file, \"\n"
     ]
    },
    {
     "name": "stdout",
     "output_type": "stream",
     "text": [
      "Recordings/20220703_220250.WAV\n",
      "Recordings/20220703_220251.WAV\n",
      "Recordings/20220703_220252.WAV\n"
     ]
    },
    {
     "name": "stderr",
     "output_type": "stream",
     "text": [
      "/home/adkris1002/miniconda3/envs/opensoundscape/lib/python3.7/site-packages/opensoundscape/audio.py:239: UserWarning: audio object has zero samples\n",
      "  warnings.warn(error_msg)\n",
      "/home/adkris1002/miniconda3/envs/opensoundscape/lib/python3.7/site-packages/opensoundscape/audio.py:180: UserWarning: This seems to be an AudioMoth file, but parse_audiomoth_metadata() raised: list index out of range\n",
      "  \"This seems to be an AudioMoth file, \"\n",
      "/home/adkris1002/miniconda3/envs/opensoundscape/lib/python3.7/site-packages/opensoundscape/audio.py:239: UserWarning: audio object has zero samples\n",
      "  warnings.warn(error_msg)\n",
      "/home/adkris1002/miniconda3/envs/opensoundscape/lib/python3.7/site-packages/opensoundscape/audio.py:180: UserWarning: This seems to be an AudioMoth file, but parse_audiomoth_metadata() raised: list index out of range\n",
      "  \"This seems to be an AudioMoth file, \"\n",
      "/home/adkris1002/miniconda3/envs/opensoundscape/lib/python3.7/site-packages/opensoundscape/audio.py:239: UserWarning: audio object has zero samples\n",
      "  warnings.warn(error_msg)\n",
      "/home/adkris1002/miniconda3/envs/opensoundscape/lib/python3.7/site-packages/opensoundscape/audio.py:180: UserWarning: This seems to be an AudioMoth file, but parse_audiomoth_metadata() raised: list index out of range\n",
      "  \"This seems to be an AudioMoth file, \"\n"
     ]
    },
    {
     "name": "stdout",
     "output_type": "stream",
     "text": [
      "Recordings/20220703_220253.WAV\n",
      "Recordings/20220703_220254.WAV\n",
      "Recordings/20220703_220255.WAV\n"
     ]
    },
    {
     "name": "stderr",
     "output_type": "stream",
     "text": [
      "/home/adkris1002/miniconda3/envs/opensoundscape/lib/python3.7/site-packages/opensoundscape/audio.py:239: UserWarning: audio object has zero samples\n",
      "  warnings.warn(error_msg)\n",
      "/home/adkris1002/miniconda3/envs/opensoundscape/lib/python3.7/site-packages/opensoundscape/audio.py:180: UserWarning: This seems to be an AudioMoth file, but parse_audiomoth_metadata() raised: list index out of range\n",
      "  \"This seems to be an AudioMoth file, \"\n",
      "/home/adkris1002/miniconda3/envs/opensoundscape/lib/python3.7/site-packages/opensoundscape/audio.py:239: UserWarning: audio object has zero samples\n",
      "  warnings.warn(error_msg)\n",
      "/home/adkris1002/miniconda3/envs/opensoundscape/lib/python3.7/site-packages/opensoundscape/audio.py:180: UserWarning: This seems to be an AudioMoth file, but parse_audiomoth_metadata() raised: list index out of range\n",
      "  \"This seems to be an AudioMoth file, \"\n",
      "/home/adkris1002/miniconda3/envs/opensoundscape/lib/python3.7/site-packages/opensoundscape/audio.py:239: UserWarning: audio object has zero samples\n",
      "  warnings.warn(error_msg)\n",
      "/home/adkris1002/miniconda3/envs/opensoundscape/lib/python3.7/site-packages/opensoundscape/audio.py:180: UserWarning: This seems to be an AudioMoth file, but parse_audiomoth_metadata() raised: list index out of range\n",
      "  \"This seems to be an AudioMoth file, \"\n"
     ]
    },
    {
     "name": "stdout",
     "output_type": "stream",
     "text": [
      "Recordings/20220703_220256.WAV\n",
      "Recordings/20220703_220257.WAV\n",
      "Recordings/20220703_220258.WAV\n"
     ]
    },
    {
     "name": "stderr",
     "output_type": "stream",
     "text": [
      "/home/adkris1002/miniconda3/envs/opensoundscape/lib/python3.7/site-packages/opensoundscape/audio.py:239: UserWarning: audio object has zero samples\n",
      "  warnings.warn(error_msg)\n",
      "/home/adkris1002/miniconda3/envs/opensoundscape/lib/python3.7/site-packages/opensoundscape/audio.py:180: UserWarning: This seems to be an AudioMoth file, but parse_audiomoth_metadata() raised: list index out of range\n",
      "  \"This seems to be an AudioMoth file, \"\n",
      "/home/adkris1002/miniconda3/envs/opensoundscape/lib/python3.7/site-packages/opensoundscape/audio.py:239: UserWarning: audio object has zero samples\n",
      "  warnings.warn(error_msg)\n",
      "/home/adkris1002/miniconda3/envs/opensoundscape/lib/python3.7/site-packages/opensoundscape/audio.py:180: UserWarning: This seems to be an AudioMoth file, but parse_audiomoth_metadata() raised: list index out of range\n",
      "  \"This seems to be an AudioMoth file, \"\n"
     ]
    },
    {
     "name": "stdout",
     "output_type": "stream",
     "text": [
      "Recordings/20220703_220259.WAV\n",
      "Recordings/20220703_220300.WAV\n"
     ]
    },
    {
     "name": "stderr",
     "output_type": "stream",
     "text": [
      "/home/adkris1002/miniconda3/envs/opensoundscape/lib/python3.7/site-packages/opensoundscape/audio.py:239: UserWarning: audio object has zero samples\n",
      "  warnings.warn(error_msg)\n",
      "/home/adkris1002/miniconda3/envs/opensoundscape/lib/python3.7/site-packages/opensoundscape/audio.py:180: UserWarning: This seems to be an AudioMoth file, but parse_audiomoth_metadata() raised: list index out of range\n",
      "  \"This seems to be an AudioMoth file, \"\n",
      "/home/adkris1002/miniconda3/envs/opensoundscape/lib/python3.7/site-packages/opensoundscape/audio.py:239: UserWarning: audio object has zero samples\n",
      "  warnings.warn(error_msg)\n",
      "/home/adkris1002/miniconda3/envs/opensoundscape/lib/python3.7/site-packages/opensoundscape/audio.py:180: UserWarning: This seems to be an AudioMoth file, but parse_audiomoth_metadata() raised: list index out of range\n",
      "  \"This seems to be an AudioMoth file, \"\n",
      "/home/adkris1002/miniconda3/envs/opensoundscape/lib/python3.7/site-packages/opensoundscape/audio.py:239: UserWarning: audio object has zero samples\n",
      "  warnings.warn(error_msg)\n",
      "/home/adkris1002/miniconda3/envs/opensoundscape/lib/python3.7/site-packages/opensoundscape/audio.py:180: UserWarning: This seems to be an AudioMoth file, but parse_audiomoth_metadata() raised: list index out of range\n",
      "  \"This seems to be an AudioMoth file, \"\n"
     ]
    },
    {
     "name": "stdout",
     "output_type": "stream",
     "text": [
      "Recordings/20220703_220301.WAV\n",
      "Recordings/20220703_220302.WAV\n",
      "Recordings/20220703_220303.WAV\n"
     ]
    },
    {
     "name": "stderr",
     "output_type": "stream",
     "text": [
      "/home/adkris1002/miniconda3/envs/opensoundscape/lib/python3.7/site-packages/opensoundscape/audio.py:239: UserWarning: audio object has zero samples\n",
      "  warnings.warn(error_msg)\n",
      "/home/adkris1002/miniconda3/envs/opensoundscape/lib/python3.7/site-packages/opensoundscape/audio.py:180: UserWarning: This seems to be an AudioMoth file, but parse_audiomoth_metadata() raised: list index out of range\n",
      "  \"This seems to be an AudioMoth file, \"\n",
      "/home/adkris1002/miniconda3/envs/opensoundscape/lib/python3.7/site-packages/opensoundscape/audio.py:239: UserWarning: audio object has zero samples\n",
      "  warnings.warn(error_msg)\n",
      "/home/adkris1002/miniconda3/envs/opensoundscape/lib/python3.7/site-packages/opensoundscape/audio.py:180: UserWarning: This seems to be an AudioMoth file, but parse_audiomoth_metadata() raised: list index out of range\n",
      "  \"This seems to be an AudioMoth file, \"\n",
      "/home/adkris1002/miniconda3/envs/opensoundscape/lib/python3.7/site-packages/opensoundscape/audio.py:239: UserWarning: audio object has zero samples\n",
      "  warnings.warn(error_msg)\n",
      "/home/adkris1002/miniconda3/envs/opensoundscape/lib/python3.7/site-packages/opensoundscape/audio.py:180: UserWarning: This seems to be an AudioMoth file, but parse_audiomoth_metadata() raised: list index out of range\n",
      "  \"This seems to be an AudioMoth file, \"\n"
     ]
    },
    {
     "name": "stdout",
     "output_type": "stream",
     "text": [
      "Recordings/20220703_220304.WAV\n",
      "Recordings/20220703_220305.WAV\n",
      "Recordings/20220703_220306.WAV\n"
     ]
    },
    {
     "name": "stderr",
     "output_type": "stream",
     "text": [
      "/home/adkris1002/miniconda3/envs/opensoundscape/lib/python3.7/site-packages/opensoundscape/audio.py:239: UserWarning: audio object has zero samples\n",
      "  warnings.warn(error_msg)\n",
      "/home/adkris1002/miniconda3/envs/opensoundscape/lib/python3.7/site-packages/opensoundscape/audio.py:180: UserWarning: This seems to be an AudioMoth file, but parse_audiomoth_metadata() raised: list index out of range\n",
      "  \"This seems to be an AudioMoth file, \"\n",
      "/home/adkris1002/miniconda3/envs/opensoundscape/lib/python3.7/site-packages/opensoundscape/audio.py:239: UserWarning: audio object has zero samples\n",
      "  warnings.warn(error_msg)\n",
      "/home/adkris1002/miniconda3/envs/opensoundscape/lib/python3.7/site-packages/opensoundscape/audio.py:180: UserWarning: This seems to be an AudioMoth file, but parse_audiomoth_metadata() raised: list index out of range\n",
      "  \"This seems to be an AudioMoth file, \"\n",
      "/home/adkris1002/miniconda3/envs/opensoundscape/lib/python3.7/site-packages/opensoundscape/audio.py:239: UserWarning: audio object has zero samples\n",
      "  warnings.warn(error_msg)\n",
      "/home/adkris1002/miniconda3/envs/opensoundscape/lib/python3.7/site-packages/opensoundscape/audio.py:180: UserWarning: This seems to be an AudioMoth file, but parse_audiomoth_metadata() raised: list index out of range\n",
      "  \"This seems to be an AudioMoth file, \"\n"
     ]
    },
    {
     "name": "stdout",
     "output_type": "stream",
     "text": [
      "Recordings/20220703_220307.WAV\n",
      "Recordings/20220703_220308.WAV\n",
      "Recordings/20220703_220309.WAV\n"
     ]
    },
    {
     "name": "stderr",
     "output_type": "stream",
     "text": [
      "/home/adkris1002/miniconda3/envs/opensoundscape/lib/python3.7/site-packages/opensoundscape/audio.py:239: UserWarning: audio object has zero samples\n",
      "  warnings.warn(error_msg)\n",
      "/home/adkris1002/miniconda3/envs/opensoundscape/lib/python3.7/site-packages/opensoundscape/audio.py:180: UserWarning: This seems to be an AudioMoth file, but parse_audiomoth_metadata() raised: list index out of range\n",
      "  \"This seems to be an AudioMoth file, \"\n",
      "/home/adkris1002/miniconda3/envs/opensoundscape/lib/python3.7/site-packages/opensoundscape/audio.py:239: UserWarning: audio object has zero samples\n",
      "  warnings.warn(error_msg)\n",
      "/home/adkris1002/miniconda3/envs/opensoundscape/lib/python3.7/site-packages/opensoundscape/audio.py:180: UserWarning: This seems to be an AudioMoth file, but parse_audiomoth_metadata() raised: list index out of range\n",
      "  \"This seems to be an AudioMoth file, \"\n",
      "/home/adkris1002/miniconda3/envs/opensoundscape/lib/python3.7/site-packages/opensoundscape/audio.py:239: UserWarning: audio object has zero samples\n",
      "  warnings.warn(error_msg)\n",
      "/home/adkris1002/miniconda3/envs/opensoundscape/lib/python3.7/site-packages/opensoundscape/audio.py:180: UserWarning: This seems to be an AudioMoth file, but parse_audiomoth_metadata() raised: list index out of range\n",
      "  \"This seems to be an AudioMoth file, \"\n"
     ]
    },
    {
     "name": "stdout",
     "output_type": "stream",
     "text": [
      "Recordings/20220703_220310.WAV\n",
      "Recordings/20220703_220311.WAV\n",
      "Recordings/20220703_220312.WAV\n"
     ]
    },
    {
     "name": "stderr",
     "output_type": "stream",
     "text": [
      "/home/adkris1002/miniconda3/envs/opensoundscape/lib/python3.7/site-packages/opensoundscape/audio.py:239: UserWarning: audio object has zero samples\n",
      "  warnings.warn(error_msg)\n",
      "/home/adkris1002/miniconda3/envs/opensoundscape/lib/python3.7/site-packages/opensoundscape/audio.py:180: UserWarning: This seems to be an AudioMoth file, but parse_audiomoth_metadata() raised: list index out of range\n",
      "  \"This seems to be an AudioMoth file, \"\n",
      "/home/adkris1002/miniconda3/envs/opensoundscape/lib/python3.7/site-packages/opensoundscape/audio.py:239: UserWarning: audio object has zero samples\n",
      "  warnings.warn(error_msg)\n",
      "/home/adkris1002/miniconda3/envs/opensoundscape/lib/python3.7/site-packages/opensoundscape/audio.py:180: UserWarning: This seems to be an AudioMoth file, but parse_audiomoth_metadata() raised: list index out of range\n",
      "  \"This seems to be an AudioMoth file, \"\n",
      "/home/adkris1002/miniconda3/envs/opensoundscape/lib/python3.7/site-packages/opensoundscape/audio.py:239: UserWarning: audio object has zero samples\n",
      "  warnings.warn(error_msg)\n",
      "/home/adkris1002/miniconda3/envs/opensoundscape/lib/python3.7/site-packages/opensoundscape/audio.py:180: UserWarning: This seems to be an AudioMoth file, but parse_audiomoth_metadata() raised: list index out of range\n",
      "  \"This seems to be an AudioMoth file, \"\n"
     ]
    },
    {
     "name": "stdout",
     "output_type": "stream",
     "text": [
      "Recordings/20220703_220313.WAV\n",
      "Recordings/20220703_220314.WAV\n",
      "Recordings/20220703_220315.WAV\n"
     ]
    },
    {
     "name": "stderr",
     "output_type": "stream",
     "text": [
      "/home/adkris1002/miniconda3/envs/opensoundscape/lib/python3.7/site-packages/opensoundscape/audio.py:239: UserWarning: audio object has zero samples\n",
      "  warnings.warn(error_msg)\n",
      "/home/adkris1002/miniconda3/envs/opensoundscape/lib/python3.7/site-packages/opensoundscape/audio.py:180: UserWarning: This seems to be an AudioMoth file, but parse_audiomoth_metadata() raised: list index out of range\n",
      "  \"This seems to be an AudioMoth file, \"\n",
      "/home/adkris1002/miniconda3/envs/opensoundscape/lib/python3.7/site-packages/opensoundscape/audio.py:239: UserWarning: audio object has zero samples\n",
      "  warnings.warn(error_msg)\n",
      "/home/adkris1002/miniconda3/envs/opensoundscape/lib/python3.7/site-packages/opensoundscape/audio.py:180: UserWarning: This seems to be an AudioMoth file, but parse_audiomoth_metadata() raised: list index out of range\n",
      "  \"This seems to be an AudioMoth file, \"\n",
      "/home/adkris1002/miniconda3/envs/opensoundscape/lib/python3.7/site-packages/opensoundscape/audio.py:239: UserWarning: audio object has zero samples\n",
      "  warnings.warn(error_msg)\n",
      "/home/adkris1002/miniconda3/envs/opensoundscape/lib/python3.7/site-packages/opensoundscape/audio.py:180: UserWarning: This seems to be an AudioMoth file, but parse_audiomoth_metadata() raised: list index out of range\n",
      "  \"This seems to be an AudioMoth file, \"\n"
     ]
    },
    {
     "name": "stdout",
     "output_type": "stream",
     "text": [
      "Recordings/20220703_220316.WAV\n",
      "Recordings/20220703_220317.WAV\n",
      "Recordings/20220703_220318.WAV\n"
     ]
    },
    {
     "name": "stderr",
     "output_type": "stream",
     "text": [
      "/home/adkris1002/miniconda3/envs/opensoundscape/lib/python3.7/site-packages/opensoundscape/audio.py:239: UserWarning: audio object has zero samples\n",
      "  warnings.warn(error_msg)\n",
      "/home/adkris1002/miniconda3/envs/opensoundscape/lib/python3.7/site-packages/opensoundscape/audio.py:180: UserWarning: This seems to be an AudioMoth file, but parse_audiomoth_metadata() raised: list index out of range\n",
      "  \"This seems to be an AudioMoth file, \"\n",
      "/home/adkris1002/miniconda3/envs/opensoundscape/lib/python3.7/site-packages/opensoundscape/audio.py:239: UserWarning: audio object has zero samples\n",
      "  warnings.warn(error_msg)\n",
      "/home/adkris1002/miniconda3/envs/opensoundscape/lib/python3.7/site-packages/opensoundscape/audio.py:180: UserWarning: This seems to be an AudioMoth file, but parse_audiomoth_metadata() raised: list index out of range\n",
      "  \"This seems to be an AudioMoth file, \"\n",
      "/home/adkris1002/miniconda3/envs/opensoundscape/lib/python3.7/site-packages/opensoundscape/audio.py:239: UserWarning: audio object has zero samples\n",
      "  warnings.warn(error_msg)\n",
      "/home/adkris1002/miniconda3/envs/opensoundscape/lib/python3.7/site-packages/opensoundscape/audio.py:180: UserWarning: This seems to be an AudioMoth file, but parse_audiomoth_metadata() raised: list index out of range\n",
      "  \"This seems to be an AudioMoth file, \"\n"
     ]
    },
    {
     "name": "stdout",
     "output_type": "stream",
     "text": [
      "Recordings/20220703_220319.WAV\n",
      "Recordings/20220703_220320.WAV\n",
      "Recordings/20220703_220321.WAV\n"
     ]
    },
    {
     "name": "stderr",
     "output_type": "stream",
     "text": [
      "/home/adkris1002/miniconda3/envs/opensoundscape/lib/python3.7/site-packages/opensoundscape/audio.py:239: UserWarning: audio object has zero samples\n",
      "  warnings.warn(error_msg)\n",
      "/home/adkris1002/miniconda3/envs/opensoundscape/lib/python3.7/site-packages/opensoundscape/audio.py:180: UserWarning: This seems to be an AudioMoth file, but parse_audiomoth_metadata() raised: list index out of range\n",
      "  \"This seems to be an AudioMoth file, \"\n",
      "/home/adkris1002/miniconda3/envs/opensoundscape/lib/python3.7/site-packages/opensoundscape/audio.py:239: UserWarning: audio object has zero samples\n",
      "  warnings.warn(error_msg)\n",
      "/home/adkris1002/miniconda3/envs/opensoundscape/lib/python3.7/site-packages/opensoundscape/audio.py:180: UserWarning: This seems to be an AudioMoth file, but parse_audiomoth_metadata() raised: list index out of range\n",
      "  \"This seems to be an AudioMoth file, \"\n",
      "/home/adkris1002/miniconda3/envs/opensoundscape/lib/python3.7/site-packages/opensoundscape/audio.py:239: UserWarning: audio object has zero samples\n",
      "  warnings.warn(error_msg)\n",
      "/home/adkris1002/miniconda3/envs/opensoundscape/lib/python3.7/site-packages/opensoundscape/audio.py:180: UserWarning: This seems to be an AudioMoth file, but parse_audiomoth_metadata() raised: list index out of range\n",
      "  \"This seems to be an AudioMoth file, \"\n"
     ]
    },
    {
     "name": "stdout",
     "output_type": "stream",
     "text": [
      "Recordings/20220703_220322.WAV\n",
      "Recordings/20220703_220323.WAV\n",
      "Recordings/20220703_220324.WAV\n"
     ]
    },
    {
     "name": "stderr",
     "output_type": "stream",
     "text": [
      "/home/adkris1002/miniconda3/envs/opensoundscape/lib/python3.7/site-packages/opensoundscape/audio.py:239: UserWarning: audio object has zero samples\n",
      "  warnings.warn(error_msg)\n",
      "/home/adkris1002/miniconda3/envs/opensoundscape/lib/python3.7/site-packages/opensoundscape/audio.py:180: UserWarning: This seems to be an AudioMoth file, but parse_audiomoth_metadata() raised: list index out of range\n",
      "  \"This seems to be an AudioMoth file, \"\n",
      "/home/adkris1002/miniconda3/envs/opensoundscape/lib/python3.7/site-packages/opensoundscape/audio.py:239: UserWarning: audio object has zero samples\n",
      "  warnings.warn(error_msg)\n",
      "/home/adkris1002/miniconda3/envs/opensoundscape/lib/python3.7/site-packages/opensoundscape/audio.py:180: UserWarning: This seems to be an AudioMoth file, but parse_audiomoth_metadata() raised: list index out of range\n",
      "  \"This seems to be an AudioMoth file, \"\n",
      "/home/adkris1002/miniconda3/envs/opensoundscape/lib/python3.7/site-packages/opensoundscape/audio.py:239: UserWarning: audio object has zero samples\n",
      "  warnings.warn(error_msg)\n",
      "/home/adkris1002/miniconda3/envs/opensoundscape/lib/python3.7/site-packages/opensoundscape/audio.py:180: UserWarning: This seems to be an AudioMoth file, but parse_audiomoth_metadata() raised: list index out of range\n",
      "  \"This seems to be an AudioMoth file, \"\n"
     ]
    },
    {
     "name": "stdout",
     "output_type": "stream",
     "text": [
      "Recordings/20220703_220325.WAV\n",
      "Recordings/20220703_220326.WAV\n",
      "Recordings/20220703_220327.WAV\n"
     ]
    },
    {
     "name": "stderr",
     "output_type": "stream",
     "text": [
      "/home/adkris1002/miniconda3/envs/opensoundscape/lib/python3.7/site-packages/opensoundscape/audio.py:239: UserWarning: audio object has zero samples\n",
      "  warnings.warn(error_msg)\n",
      "/home/adkris1002/miniconda3/envs/opensoundscape/lib/python3.7/site-packages/opensoundscape/audio.py:180: UserWarning: This seems to be an AudioMoth file, but parse_audiomoth_metadata() raised: list index out of range\n",
      "  \"This seems to be an AudioMoth file, \"\n",
      "/home/adkris1002/miniconda3/envs/opensoundscape/lib/python3.7/site-packages/opensoundscape/audio.py:239: UserWarning: audio object has zero samples\n",
      "  warnings.warn(error_msg)\n",
      "/home/adkris1002/miniconda3/envs/opensoundscape/lib/python3.7/site-packages/opensoundscape/audio.py:180: UserWarning: This seems to be an AudioMoth file, but parse_audiomoth_metadata() raised: list index out of range\n",
      "  \"This seems to be an AudioMoth file, \"\n",
      "/home/adkris1002/miniconda3/envs/opensoundscape/lib/python3.7/site-packages/opensoundscape/audio.py:239: UserWarning: audio object has zero samples\n",
      "  warnings.warn(error_msg)\n",
      "/home/adkris1002/miniconda3/envs/opensoundscape/lib/python3.7/site-packages/opensoundscape/audio.py:180: UserWarning: This seems to be an AudioMoth file, but parse_audiomoth_metadata() raised: list index out of range\n",
      "  \"This seems to be an AudioMoth file, \"\n"
     ]
    },
    {
     "name": "stdout",
     "output_type": "stream",
     "text": [
      "Recordings/20220703_220328.WAV\n",
      "Recordings/20220703_220329.WAV\n",
      "Recordings/20220703_220330.WAV\n"
     ]
    },
    {
     "name": "stderr",
     "output_type": "stream",
     "text": [
      "/home/adkris1002/miniconda3/envs/opensoundscape/lib/python3.7/site-packages/opensoundscape/audio.py:239: UserWarning: audio object has zero samples\n",
      "  warnings.warn(error_msg)\n",
      "/home/adkris1002/miniconda3/envs/opensoundscape/lib/python3.7/site-packages/opensoundscape/audio.py:180: UserWarning: This seems to be an AudioMoth file, but parse_audiomoth_metadata() raised: list index out of range\n",
      "  \"This seems to be an AudioMoth file, \"\n",
      "/home/adkris1002/miniconda3/envs/opensoundscape/lib/python3.7/site-packages/opensoundscape/audio.py:239: UserWarning: audio object has zero samples\n",
      "  warnings.warn(error_msg)\n",
      "/home/adkris1002/miniconda3/envs/opensoundscape/lib/python3.7/site-packages/opensoundscape/audio.py:180: UserWarning: This seems to be an AudioMoth file, but parse_audiomoth_metadata() raised: list index out of range\n",
      "  \"This seems to be an AudioMoth file, \"\n",
      "/home/adkris1002/miniconda3/envs/opensoundscape/lib/python3.7/site-packages/opensoundscape/audio.py:239: UserWarning: audio object has zero samples\n",
      "  warnings.warn(error_msg)\n",
      "/home/adkris1002/miniconda3/envs/opensoundscape/lib/python3.7/site-packages/opensoundscape/audio.py:180: UserWarning: This seems to be an AudioMoth file, but parse_audiomoth_metadata() raised: list index out of range\n",
      "  \"This seems to be an AudioMoth file, \"\n"
     ]
    },
    {
     "name": "stdout",
     "output_type": "stream",
     "text": [
      "Recordings/20220703_220331.WAV\n",
      "Recordings/20220703_220332.WAV\n",
      "Recordings/20220703_220333.WAV\n"
     ]
    },
    {
     "name": "stderr",
     "output_type": "stream",
     "text": [
      "/home/adkris1002/miniconda3/envs/opensoundscape/lib/python3.7/site-packages/opensoundscape/audio.py:239: UserWarning: audio object has zero samples\n",
      "  warnings.warn(error_msg)\n",
      "/home/adkris1002/miniconda3/envs/opensoundscape/lib/python3.7/site-packages/opensoundscape/audio.py:180: UserWarning: This seems to be an AudioMoth file, but parse_audiomoth_metadata() raised: list index out of range\n",
      "  \"This seems to be an AudioMoth file, \"\n",
      "/home/adkris1002/miniconda3/envs/opensoundscape/lib/python3.7/site-packages/opensoundscape/audio.py:239: UserWarning: audio object has zero samples\n",
      "  warnings.warn(error_msg)\n",
      "/home/adkris1002/miniconda3/envs/opensoundscape/lib/python3.7/site-packages/opensoundscape/audio.py:180: UserWarning: This seems to be an AudioMoth file, but parse_audiomoth_metadata() raised: list index out of range\n",
      "  \"This seems to be an AudioMoth file, \"\n",
      "/home/adkris1002/miniconda3/envs/opensoundscape/lib/python3.7/site-packages/opensoundscape/audio.py:239: UserWarning: audio object has zero samples\n",
      "  warnings.warn(error_msg)\n",
      "/home/adkris1002/miniconda3/envs/opensoundscape/lib/python3.7/site-packages/opensoundscape/audio.py:180: UserWarning: This seems to be an AudioMoth file, but parse_audiomoth_metadata() raised: list index out of range\n",
      "  \"This seems to be an AudioMoth file, \"\n"
     ]
    },
    {
     "name": "stdout",
     "output_type": "stream",
     "text": [
      "Recordings/20220703_220334.WAV\n",
      "Recordings/20220703_220335.WAV\n",
      "Recordings/20220703_220336.WAV\n"
     ]
    },
    {
     "name": "stderr",
     "output_type": "stream",
     "text": [
      "/home/adkris1002/miniconda3/envs/opensoundscape/lib/python3.7/site-packages/opensoundscape/audio.py:239: UserWarning: audio object has zero samples\n",
      "  warnings.warn(error_msg)\n",
      "/home/adkris1002/miniconda3/envs/opensoundscape/lib/python3.7/site-packages/opensoundscape/audio.py:180: UserWarning: This seems to be an AudioMoth file, but parse_audiomoth_metadata() raised: list index out of range\n",
      "  \"This seems to be an AudioMoth file, \"\n",
      "/home/adkris1002/miniconda3/envs/opensoundscape/lib/python3.7/site-packages/opensoundscape/audio.py:239: UserWarning: audio object has zero samples\n",
      "  warnings.warn(error_msg)\n",
      "/home/adkris1002/miniconda3/envs/opensoundscape/lib/python3.7/site-packages/opensoundscape/audio.py:180: UserWarning: This seems to be an AudioMoth file, but parse_audiomoth_metadata() raised: list index out of range\n",
      "  \"This seems to be an AudioMoth file, \"\n"
     ]
    },
    {
     "name": "stdout",
     "output_type": "stream",
     "text": [
      "Recordings/20220703_220337.WAV\n",
      "Recordings/20220703_220338.WAV\n"
     ]
    },
    {
     "name": "stderr",
     "output_type": "stream",
     "text": [
      "/home/adkris1002/miniconda3/envs/opensoundscape/lib/python3.7/site-packages/opensoundscape/audio.py:239: UserWarning: audio object has zero samples\n",
      "  warnings.warn(error_msg)\n",
      "/home/adkris1002/miniconda3/envs/opensoundscape/lib/python3.7/site-packages/opensoundscape/audio.py:180: UserWarning: This seems to be an AudioMoth file, but parse_audiomoth_metadata() raised: list index out of range\n",
      "  \"This seems to be an AudioMoth file, \"\n",
      "/home/adkris1002/miniconda3/envs/opensoundscape/lib/python3.7/site-packages/opensoundscape/audio.py:239: UserWarning: audio object has zero samples\n",
      "  warnings.warn(error_msg)\n",
      "/home/adkris1002/miniconda3/envs/opensoundscape/lib/python3.7/site-packages/opensoundscape/audio.py:180: UserWarning: This seems to be an AudioMoth file, but parse_audiomoth_metadata() raised: list index out of range\n",
      "  \"This seems to be an AudioMoth file, \"\n"
     ]
    },
    {
     "name": "stdout",
     "output_type": "stream",
     "text": [
      "Recordings/20220703_220339.WAV\n",
      "Recordings/20220703_220340.WAV\n"
     ]
    },
    {
     "name": "stderr",
     "output_type": "stream",
     "text": [
      "/home/adkris1002/miniconda3/envs/opensoundscape/lib/python3.7/site-packages/opensoundscape/audio.py:239: UserWarning: audio object has zero samples\n",
      "  warnings.warn(error_msg)\n",
      "/home/adkris1002/miniconda3/envs/opensoundscape/lib/python3.7/site-packages/opensoundscape/audio.py:180: UserWarning: This seems to be an AudioMoth file, but parse_audiomoth_metadata() raised: list index out of range\n",
      "  \"This seems to be an AudioMoth file, \"\n",
      "/home/adkris1002/miniconda3/envs/opensoundscape/lib/python3.7/site-packages/opensoundscape/audio.py:239: UserWarning: audio object has zero samples\n",
      "  warnings.warn(error_msg)\n",
      "/home/adkris1002/miniconda3/envs/opensoundscape/lib/python3.7/site-packages/opensoundscape/audio.py:180: UserWarning: This seems to be an AudioMoth file, but parse_audiomoth_metadata() raised: list index out of range\n",
      "  \"This seems to be an AudioMoth file, \"\n"
     ]
    },
    {
     "name": "stdout",
     "output_type": "stream",
     "text": [
      "Recordings/20220703_220341.WAV\n",
      "Recordings/20220703_220342.WAV\n"
     ]
    },
    {
     "name": "stderr",
     "output_type": "stream",
     "text": [
      "/home/adkris1002/miniconda3/envs/opensoundscape/lib/python3.7/site-packages/opensoundscape/audio.py:239: UserWarning: audio object has zero samples\n",
      "  warnings.warn(error_msg)\n",
      "/home/adkris1002/miniconda3/envs/opensoundscape/lib/python3.7/site-packages/opensoundscape/audio.py:180: UserWarning: This seems to be an AudioMoth file, but parse_audiomoth_metadata() raised: list index out of range\n",
      "  \"This seems to be an AudioMoth file, \"\n",
      "/home/adkris1002/miniconda3/envs/opensoundscape/lib/python3.7/site-packages/opensoundscape/audio.py:239: UserWarning: audio object has zero samples\n",
      "  warnings.warn(error_msg)\n",
      "/home/adkris1002/miniconda3/envs/opensoundscape/lib/python3.7/site-packages/opensoundscape/audio.py:180: UserWarning: This seems to be an AudioMoth file, but parse_audiomoth_metadata() raised: list index out of range\n",
      "  \"This seems to be an AudioMoth file, \"\n",
      "/home/adkris1002/miniconda3/envs/opensoundscape/lib/python3.7/site-packages/opensoundscape/audio.py:239: UserWarning: audio object has zero samples\n",
      "  warnings.warn(error_msg)\n",
      "/home/adkris1002/miniconda3/envs/opensoundscape/lib/python3.7/site-packages/opensoundscape/audio.py:180: UserWarning: This seems to be an AudioMoth file, but parse_audiomoth_metadata() raised: list index out of range\n",
      "  \"This seems to be an AudioMoth file, \"\n"
     ]
    },
    {
     "name": "stdout",
     "output_type": "stream",
     "text": [
      "Recordings/20220703_220343.WAV\n",
      "Recordings/20220703_220344.WAV\n",
      "Recordings/20220703_220345.WAV\n"
     ]
    },
    {
     "name": "stderr",
     "output_type": "stream",
     "text": [
      "/home/adkris1002/miniconda3/envs/opensoundscape/lib/python3.7/site-packages/opensoundscape/audio.py:239: UserWarning: audio object has zero samples\n",
      "  warnings.warn(error_msg)\n",
      "/home/adkris1002/miniconda3/envs/opensoundscape/lib/python3.7/site-packages/opensoundscape/audio.py:180: UserWarning: This seems to be an AudioMoth file, but parse_audiomoth_metadata() raised: list index out of range\n",
      "  \"This seems to be an AudioMoth file, \"\n",
      "/home/adkris1002/miniconda3/envs/opensoundscape/lib/python3.7/site-packages/opensoundscape/audio.py:239: UserWarning: audio object has zero samples\n",
      "  warnings.warn(error_msg)\n",
      "/home/adkris1002/miniconda3/envs/opensoundscape/lib/python3.7/site-packages/opensoundscape/audio.py:180: UserWarning: This seems to be an AudioMoth file, but parse_audiomoth_metadata() raised: list index out of range\n",
      "  \"This seems to be an AudioMoth file, \"\n",
      "/home/adkris1002/miniconda3/envs/opensoundscape/lib/python3.7/site-packages/opensoundscape/audio.py:239: UserWarning: audio object has zero samples\n",
      "  warnings.warn(error_msg)\n",
      "/home/adkris1002/miniconda3/envs/opensoundscape/lib/python3.7/site-packages/opensoundscape/audio.py:180: UserWarning: This seems to be an AudioMoth file, but parse_audiomoth_metadata() raised: list index out of range\n",
      "  \"This seems to be an AudioMoth file, \"\n"
     ]
    },
    {
     "name": "stdout",
     "output_type": "stream",
     "text": [
      "Recordings/20220703_220346.WAV\n",
      "Recordings/20220703_220347.WAV\n",
      "Recordings/20220703_220348.WAV\n"
     ]
    },
    {
     "name": "stderr",
     "output_type": "stream",
     "text": [
      "/home/adkris1002/miniconda3/envs/opensoundscape/lib/python3.7/site-packages/opensoundscape/audio.py:239: UserWarning: audio object has zero samples\n",
      "  warnings.warn(error_msg)\n",
      "/home/adkris1002/miniconda3/envs/opensoundscape/lib/python3.7/site-packages/opensoundscape/audio.py:180: UserWarning: This seems to be an AudioMoth file, but parse_audiomoth_metadata() raised: list index out of range\n",
      "  \"This seems to be an AudioMoth file, \"\n"
     ]
    },
    {
     "name": "stdout",
     "output_type": "stream",
     "text": [
      "Recordings/20220703_220349.WAV\n"
     ]
    },
    {
     "name": "stderr",
     "output_type": "stream",
     "text": [
      "/home/adkris1002/miniconda3/envs/opensoundscape/lib/python3.7/site-packages/opensoundscape/audio.py:239: UserWarning: audio object has zero samples\n",
      "  warnings.warn(error_msg)\n",
      "/home/adkris1002/miniconda3/envs/opensoundscape/lib/python3.7/site-packages/opensoundscape/audio.py:180: UserWarning: This seems to be an AudioMoth file, but parse_audiomoth_metadata() raised: list index out of range\n",
      "  \"This seems to be an AudioMoth file, \"\n",
      "/home/adkris1002/miniconda3/envs/opensoundscape/lib/python3.7/site-packages/opensoundscape/audio.py:239: UserWarning: audio object has zero samples\n",
      "  warnings.warn(error_msg)\n",
      "/home/adkris1002/miniconda3/envs/opensoundscape/lib/python3.7/site-packages/opensoundscape/audio.py:180: UserWarning: This seems to be an AudioMoth file, but parse_audiomoth_metadata() raised: list index out of range\n",
      "  \"This seems to be an AudioMoth file, \"\n"
     ]
    },
    {
     "name": "stdout",
     "output_type": "stream",
     "text": [
      "Recordings/20220703_220350.WAV\n",
      "Recordings/20220703_220351.WAV\n"
     ]
    },
    {
     "name": "stderr",
     "output_type": "stream",
     "text": [
      "/home/adkris1002/miniconda3/envs/opensoundscape/lib/python3.7/site-packages/opensoundscape/audio.py:239: UserWarning: audio object has zero samples\n",
      "  warnings.warn(error_msg)\n",
      "/home/adkris1002/miniconda3/envs/opensoundscape/lib/python3.7/site-packages/opensoundscape/audio.py:180: UserWarning: This seems to be an AudioMoth file, but parse_audiomoth_metadata() raised: list index out of range\n",
      "  \"This seems to be an AudioMoth file, \"\n",
      "/home/adkris1002/miniconda3/envs/opensoundscape/lib/python3.7/site-packages/opensoundscape/audio.py:239: UserWarning: audio object has zero samples\n",
      "  warnings.warn(error_msg)\n",
      "/home/adkris1002/miniconda3/envs/opensoundscape/lib/python3.7/site-packages/opensoundscape/audio.py:180: UserWarning: This seems to be an AudioMoth file, but parse_audiomoth_metadata() raised: list index out of range\n",
      "  \"This seems to be an AudioMoth file, \"\n",
      "/home/adkris1002/miniconda3/envs/opensoundscape/lib/python3.7/site-packages/opensoundscape/audio.py:239: UserWarning: audio object has zero samples\n",
      "  warnings.warn(error_msg)\n"
     ]
    },
    {
     "name": "stdout",
     "output_type": "stream",
     "text": [
      "Recordings/20220703_220352.WAV\n",
      "Recordings/20220703_220353.WAV\n",
      "Recordings/20220703_220354.WAV\n"
     ]
    },
    {
     "name": "stderr",
     "output_type": "stream",
     "text": [
      "/home/adkris1002/miniconda3/envs/opensoundscape/lib/python3.7/site-packages/opensoundscape/audio.py:180: UserWarning: This seems to be an AudioMoth file, but parse_audiomoth_metadata() raised: list index out of range\n",
      "  \"This seems to be an AudioMoth file, \"\n",
      "/home/adkris1002/miniconda3/envs/opensoundscape/lib/python3.7/site-packages/opensoundscape/audio.py:239: UserWarning: audio object has zero samples\n",
      "  warnings.warn(error_msg)\n",
      "/home/adkris1002/miniconda3/envs/opensoundscape/lib/python3.7/site-packages/opensoundscape/audio.py:180: UserWarning: This seems to be an AudioMoth file, but parse_audiomoth_metadata() raised: list index out of range\n",
      "  \"This seems to be an AudioMoth file, \"\n",
      "/home/adkris1002/miniconda3/envs/opensoundscape/lib/python3.7/site-packages/opensoundscape/audio.py:239: UserWarning: audio object has zero samples\n",
      "  warnings.warn(error_msg)\n",
      "/home/adkris1002/miniconda3/envs/opensoundscape/lib/python3.7/site-packages/opensoundscape/audio.py:180: UserWarning: This seems to be an AudioMoth file, but parse_audiomoth_metadata() raised: list index out of range\n",
      "  \"This seems to be an AudioMoth file, \"\n"
     ]
    },
    {
     "name": "stdout",
     "output_type": "stream",
     "text": [
      "Recordings/20220703_220355.WAV\n",
      "Recordings/20220703_220356.WAV\n",
      "Recordings/20220703_220357.WAV\n"
     ]
    },
    {
     "name": "stderr",
     "output_type": "stream",
     "text": [
      "/home/adkris1002/miniconda3/envs/opensoundscape/lib/python3.7/site-packages/opensoundscape/audio.py:239: UserWarning: audio object has zero samples\n",
      "  warnings.warn(error_msg)\n",
      "/home/adkris1002/miniconda3/envs/opensoundscape/lib/python3.7/site-packages/opensoundscape/audio.py:180: UserWarning: This seems to be an AudioMoth file, but parse_audiomoth_metadata() raised: list index out of range\n",
      "  \"This seems to be an AudioMoth file, \"\n",
      "/home/adkris1002/miniconda3/envs/opensoundscape/lib/python3.7/site-packages/opensoundscape/audio.py:239: UserWarning: audio object has zero samples\n",
      "  warnings.warn(error_msg)\n",
      "/home/adkris1002/miniconda3/envs/opensoundscape/lib/python3.7/site-packages/opensoundscape/audio.py:180: UserWarning: This seems to be an AudioMoth file, but parse_audiomoth_metadata() raised: list index out of range\n",
      "  \"This seems to be an AudioMoth file, \"\n",
      "/home/adkris1002/miniconda3/envs/opensoundscape/lib/python3.7/site-packages/opensoundscape/audio.py:239: UserWarning: audio object has zero samples\n",
      "  warnings.warn(error_msg)\n",
      "/home/adkris1002/miniconda3/envs/opensoundscape/lib/python3.7/site-packages/opensoundscape/audio.py:180: UserWarning: This seems to be an AudioMoth file, but parse_audiomoth_metadata() raised: list index out of range\n",
      "  \"This seems to be an AudioMoth file, \"\n"
     ]
    },
    {
     "name": "stdout",
     "output_type": "stream",
     "text": [
      "Recordings/20220703_220358.WAV\n",
      "Recordings/20220703_220359.WAV\n",
      "Recordings/20220703_220400.WAV\n"
     ]
    },
    {
     "name": "stderr",
     "output_type": "stream",
     "text": [
      "/home/adkris1002/miniconda3/envs/opensoundscape/lib/python3.7/site-packages/opensoundscape/audio.py:239: UserWarning: audio object has zero samples\n",
      "  warnings.warn(error_msg)\n",
      "/home/adkris1002/miniconda3/envs/opensoundscape/lib/python3.7/site-packages/opensoundscape/audio.py:180: UserWarning: This seems to be an AudioMoth file, but parse_audiomoth_metadata() raised: list index out of range\n",
      "  \"This seems to be an AudioMoth file, \"\n",
      "/home/adkris1002/miniconda3/envs/opensoundscape/lib/python3.7/site-packages/opensoundscape/audio.py:239: UserWarning: audio object has zero samples\n",
      "  warnings.warn(error_msg)\n",
      "/home/adkris1002/miniconda3/envs/opensoundscape/lib/python3.7/site-packages/opensoundscape/audio.py:180: UserWarning: This seems to be an AudioMoth file, but parse_audiomoth_metadata() raised: list index out of range\n",
      "  \"This seems to be an AudioMoth file, \"\n",
      "/home/adkris1002/miniconda3/envs/opensoundscape/lib/python3.7/site-packages/opensoundscape/audio.py:239: UserWarning: audio object has zero samples\n",
      "  warnings.warn(error_msg)\n",
      "/home/adkris1002/miniconda3/envs/opensoundscape/lib/python3.7/site-packages/opensoundscape/audio.py:180: UserWarning: This seems to be an AudioMoth file, but parse_audiomoth_metadata() raised: list index out of range\n",
      "  \"This seems to be an AudioMoth file, \"\n"
     ]
    },
    {
     "name": "stdout",
     "output_type": "stream",
     "text": [
      "Recordings/20220703_220401.WAV\n",
      "Recordings/20220703_220402.WAV\n",
      "Recordings/20220703_220403.WAV\n"
     ]
    },
    {
     "name": "stderr",
     "output_type": "stream",
     "text": [
      "/home/adkris1002/miniconda3/envs/opensoundscape/lib/python3.7/site-packages/opensoundscape/audio.py:239: UserWarning: audio object has zero samples\n",
      "  warnings.warn(error_msg)\n",
      "/home/adkris1002/miniconda3/envs/opensoundscape/lib/python3.7/site-packages/opensoundscape/audio.py:180: UserWarning: This seems to be an AudioMoth file, but parse_audiomoth_metadata() raised: list index out of range\n",
      "  \"This seems to be an AudioMoth file, \"\n",
      "/home/adkris1002/miniconda3/envs/opensoundscape/lib/python3.7/site-packages/opensoundscape/audio.py:239: UserWarning: audio object has zero samples\n",
      "  warnings.warn(error_msg)\n",
      "/home/adkris1002/miniconda3/envs/opensoundscape/lib/python3.7/site-packages/opensoundscape/audio.py:180: UserWarning: This seems to be an AudioMoth file, but parse_audiomoth_metadata() raised: list index out of range\n",
      "  \"This seems to be an AudioMoth file, \"\n",
      "/home/adkris1002/miniconda3/envs/opensoundscape/lib/python3.7/site-packages/opensoundscape/audio.py:239: UserWarning: audio object has zero samples\n",
      "  warnings.warn(error_msg)\n",
      "/home/adkris1002/miniconda3/envs/opensoundscape/lib/python3.7/site-packages/opensoundscape/audio.py:180: UserWarning: This seems to be an AudioMoth file, but parse_audiomoth_metadata() raised: list index out of range\n",
      "  \"This seems to be an AudioMoth file, \"\n"
     ]
    },
    {
     "name": "stdout",
     "output_type": "stream",
     "text": [
      "Recordings/20220703_220404.WAV\n",
      "Recordings/20220703_220405.WAV\n"
     ]
    },
    {
     "name": "stderr",
     "output_type": "stream",
     "text": [
      "/home/adkris1002/miniconda3/envs/opensoundscape/lib/python3.7/site-packages/opensoundscape/audio.py:239: UserWarning: audio object has zero samples\n",
      "  warnings.warn(error_msg)\n",
      "/home/adkris1002/miniconda3/envs/opensoundscape/lib/python3.7/site-packages/opensoundscape/audio.py:180: UserWarning: This seems to be an AudioMoth file, but parse_audiomoth_metadata() raised: list index out of range\n",
      "  \"This seems to be an AudioMoth file, \"\n",
      "/home/adkris1002/miniconda3/envs/opensoundscape/lib/python3.7/site-packages/opensoundscape/audio.py:239: UserWarning: audio object has zero samples\n",
      "  warnings.warn(error_msg)\n",
      "/home/adkris1002/miniconda3/envs/opensoundscape/lib/python3.7/site-packages/opensoundscape/audio.py:180: UserWarning: This seems to be an AudioMoth file, but parse_audiomoth_metadata() raised: list index out of range\n",
      "  \"This seems to be an AudioMoth file, \"\n"
     ]
    },
    {
     "name": "stdout",
     "output_type": "stream",
     "text": [
      "Recordings/20220703_220406.WAV\n",
      "Recordings/20220703_220407.WAV\n"
     ]
    },
    {
     "name": "stderr",
     "output_type": "stream",
     "text": [
      "/home/adkris1002/miniconda3/envs/opensoundscape/lib/python3.7/site-packages/opensoundscape/audio.py:239: UserWarning: audio object has zero samples\n",
      "  warnings.warn(error_msg)\n",
      "/home/adkris1002/miniconda3/envs/opensoundscape/lib/python3.7/site-packages/opensoundscape/audio.py:180: UserWarning: This seems to be an AudioMoth file, but parse_audiomoth_metadata() raised: list index out of range\n",
      "  \"This seems to be an AudioMoth file, \"\n",
      "/home/adkris1002/miniconda3/envs/opensoundscape/lib/python3.7/site-packages/opensoundscape/audio.py:239: UserWarning: audio object has zero samples\n",
      "  warnings.warn(error_msg)\n",
      "/home/adkris1002/miniconda3/envs/opensoundscape/lib/python3.7/site-packages/opensoundscape/audio.py:180: UserWarning: This seems to be an AudioMoth file, but parse_audiomoth_metadata() raised: list index out of range\n",
      "  \"This seems to be an AudioMoth file, \"\n",
      "/home/adkris1002/miniconda3/envs/opensoundscape/lib/python3.7/site-packages/opensoundscape/audio.py:239: UserWarning: audio object has zero samples\n",
      "  warnings.warn(error_msg)\n",
      "/home/adkris1002/miniconda3/envs/opensoundscape/lib/python3.7/site-packages/opensoundscape/audio.py:180: UserWarning: This seems to be an AudioMoth file, but parse_audiomoth_metadata() raised: list index out of range\n",
      "  \"This seems to be an AudioMoth file, \"\n"
     ]
    },
    {
     "name": "stdout",
     "output_type": "stream",
     "text": [
      "Recordings/20220703_220408.WAV\n",
      "Recordings/20220703_220409.WAV\n",
      "Recordings/20220703_220410.WAV\n"
     ]
    },
    {
     "name": "stderr",
     "output_type": "stream",
     "text": [
      "/home/adkris1002/miniconda3/envs/opensoundscape/lib/python3.7/site-packages/opensoundscape/audio.py:239: UserWarning: audio object has zero samples\n",
      "  warnings.warn(error_msg)\n",
      "/home/adkris1002/miniconda3/envs/opensoundscape/lib/python3.7/site-packages/opensoundscape/audio.py:180: UserWarning: This seems to be an AudioMoth file, but parse_audiomoth_metadata() raised: list index out of range\n",
      "  \"This seems to be an AudioMoth file, \"\n",
      "/home/adkris1002/miniconda3/envs/opensoundscape/lib/python3.7/site-packages/opensoundscape/audio.py:239: UserWarning: audio object has zero samples\n",
      "  warnings.warn(error_msg)\n",
      "/home/adkris1002/miniconda3/envs/opensoundscape/lib/python3.7/site-packages/opensoundscape/audio.py:180: UserWarning: This seems to be an AudioMoth file, but parse_audiomoth_metadata() raised: list index out of range\n",
      "  \"This seems to be an AudioMoth file, \"\n",
      "/home/adkris1002/miniconda3/envs/opensoundscape/lib/python3.7/site-packages/opensoundscape/audio.py:239: UserWarning: audio object has zero samples\n",
      "  warnings.warn(error_msg)\n",
      "/home/adkris1002/miniconda3/envs/opensoundscape/lib/python3.7/site-packages/opensoundscape/audio.py:180: UserWarning: This seems to be an AudioMoth file, but parse_audiomoth_metadata() raised: list index out of range\n",
      "  \"This seems to be an AudioMoth file, \"\n"
     ]
    },
    {
     "name": "stdout",
     "output_type": "stream",
     "text": [
      "Recordings/20220703_220411.WAV\n",
      "Recordings/20220703_220412.WAV\n",
      "Recordings/20220703_220413.WAV\n"
     ]
    },
    {
     "name": "stderr",
     "output_type": "stream",
     "text": [
      "/home/adkris1002/miniconda3/envs/opensoundscape/lib/python3.7/site-packages/opensoundscape/audio.py:239: UserWarning: audio object has zero samples\n",
      "  warnings.warn(error_msg)\n",
      "/home/adkris1002/miniconda3/envs/opensoundscape/lib/python3.7/site-packages/opensoundscape/audio.py:180: UserWarning: This seems to be an AudioMoth file, but parse_audiomoth_metadata() raised: list index out of range\n",
      "  \"This seems to be an AudioMoth file, \"\n",
      "/home/adkris1002/miniconda3/envs/opensoundscape/lib/python3.7/site-packages/opensoundscape/audio.py:239: UserWarning: audio object has zero samples\n",
      "  warnings.warn(error_msg)\n",
      "/home/adkris1002/miniconda3/envs/opensoundscape/lib/python3.7/site-packages/opensoundscape/audio.py:180: UserWarning: This seems to be an AudioMoth file, but parse_audiomoth_metadata() raised: list index out of range\n",
      "  \"This seems to be an AudioMoth file, \"\n",
      "/home/adkris1002/miniconda3/envs/opensoundscape/lib/python3.7/site-packages/opensoundscape/audio.py:239: UserWarning: audio object has zero samples\n",
      "  warnings.warn(error_msg)\n",
      "/home/adkris1002/miniconda3/envs/opensoundscape/lib/python3.7/site-packages/opensoundscape/audio.py:180: UserWarning: This seems to be an AudioMoth file, but parse_audiomoth_metadata() raised: list index out of range\n",
      "  \"This seems to be an AudioMoth file, \"\n"
     ]
    },
    {
     "name": "stdout",
     "output_type": "stream",
     "text": [
      "Recordings/20220703_220414.WAV\n",
      "Recordings/20220703_220415.WAV\n",
      "Recordings/20220703_220416.WAV\n"
     ]
    },
    {
     "name": "stderr",
     "output_type": "stream",
     "text": [
      "/home/adkris1002/miniconda3/envs/opensoundscape/lib/python3.7/site-packages/opensoundscape/audio.py:239: UserWarning: audio object has zero samples\n",
      "  warnings.warn(error_msg)\n",
      "/home/adkris1002/miniconda3/envs/opensoundscape/lib/python3.7/site-packages/opensoundscape/audio.py:180: UserWarning: This seems to be an AudioMoth file, but parse_audiomoth_metadata() raised: list index out of range\n",
      "  \"This seems to be an AudioMoth file, \"\n",
      "/home/adkris1002/miniconda3/envs/opensoundscape/lib/python3.7/site-packages/opensoundscape/audio.py:239: UserWarning: audio object has zero samples\n",
      "  warnings.warn(error_msg)\n",
      "/home/adkris1002/miniconda3/envs/opensoundscape/lib/python3.7/site-packages/opensoundscape/audio.py:180: UserWarning: This seems to be an AudioMoth file, but parse_audiomoth_metadata() raised: list index out of range\n",
      "  \"This seems to be an AudioMoth file, \"\n",
      "/home/adkris1002/miniconda3/envs/opensoundscape/lib/python3.7/site-packages/opensoundscape/audio.py:239: UserWarning: audio object has zero samples\n",
      "  warnings.warn(error_msg)\n",
      "/home/adkris1002/miniconda3/envs/opensoundscape/lib/python3.7/site-packages/opensoundscape/audio.py:180: UserWarning: This seems to be an AudioMoth file, but parse_audiomoth_metadata() raised: list index out of range\n",
      "  \"This seems to be an AudioMoth file, \"\n"
     ]
    },
    {
     "name": "stdout",
     "output_type": "stream",
     "text": [
      "Recordings/20220703_220417.WAV\n",
      "Recordings/20220703_220418.WAV\n",
      "Recordings/20220703_220419.WAV\n"
     ]
    },
    {
     "name": "stderr",
     "output_type": "stream",
     "text": [
      "/home/adkris1002/miniconda3/envs/opensoundscape/lib/python3.7/site-packages/opensoundscape/audio.py:239: UserWarning: audio object has zero samples\n",
      "  warnings.warn(error_msg)\n",
      "/home/adkris1002/miniconda3/envs/opensoundscape/lib/python3.7/site-packages/opensoundscape/audio.py:180: UserWarning: This seems to be an AudioMoth file, but parse_audiomoth_metadata() raised: list index out of range\n",
      "  \"This seems to be an AudioMoth file, \"\n",
      "/home/adkris1002/miniconda3/envs/opensoundscape/lib/python3.7/site-packages/opensoundscape/audio.py:239: UserWarning: audio object has zero samples\n",
      "  warnings.warn(error_msg)\n",
      "/home/adkris1002/miniconda3/envs/opensoundscape/lib/python3.7/site-packages/opensoundscape/audio.py:180: UserWarning: This seems to be an AudioMoth file, but parse_audiomoth_metadata() raised: list index out of range\n",
      "  \"This seems to be an AudioMoth file, \"\n",
      "/home/adkris1002/miniconda3/envs/opensoundscape/lib/python3.7/site-packages/opensoundscape/audio.py:239: UserWarning: audio object has zero samples\n",
      "  warnings.warn(error_msg)\n",
      "/home/adkris1002/miniconda3/envs/opensoundscape/lib/python3.7/site-packages/opensoundscape/audio.py:180: UserWarning: This seems to be an AudioMoth file, but parse_audiomoth_metadata() raised: list index out of range\n",
      "  \"This seems to be an AudioMoth file, \"\n"
     ]
    },
    {
     "name": "stdout",
     "output_type": "stream",
     "text": [
      "Recordings/20220703_220420.WAV\n",
      "Recordings/20220703_220421.WAV\n",
      "Recordings/20220703_220422.WAV\n"
     ]
    },
    {
     "name": "stderr",
     "output_type": "stream",
     "text": [
      "/home/adkris1002/miniconda3/envs/opensoundscape/lib/python3.7/site-packages/opensoundscape/audio.py:239: UserWarning: audio object has zero samples\n",
      "  warnings.warn(error_msg)\n",
      "/home/adkris1002/miniconda3/envs/opensoundscape/lib/python3.7/site-packages/opensoundscape/audio.py:180: UserWarning: This seems to be an AudioMoth file, but parse_audiomoth_metadata() raised: list index out of range\n",
      "  \"This seems to be an AudioMoth file, \"\n",
      "/home/adkris1002/miniconda3/envs/opensoundscape/lib/python3.7/site-packages/opensoundscape/audio.py:239: UserWarning: audio object has zero samples\n",
      "  warnings.warn(error_msg)\n",
      "/home/adkris1002/miniconda3/envs/opensoundscape/lib/python3.7/site-packages/opensoundscape/audio.py:180: UserWarning: This seems to be an AudioMoth file, but parse_audiomoth_metadata() raised: list index out of range\n",
      "  \"This seems to be an AudioMoth file, \"\n",
      "/home/adkris1002/miniconda3/envs/opensoundscape/lib/python3.7/site-packages/opensoundscape/audio.py:239: UserWarning: audio object has zero samples\n",
      "  warnings.warn(error_msg)\n",
      "/home/adkris1002/miniconda3/envs/opensoundscape/lib/python3.7/site-packages/opensoundscape/audio.py:180: UserWarning: This seems to be an AudioMoth file, but parse_audiomoth_metadata() raised: list index out of range\n",
      "  \"This seems to be an AudioMoth file, \"\n"
     ]
    },
    {
     "name": "stdout",
     "output_type": "stream",
     "text": [
      "Recordings/20220703_220423.WAV\n",
      "Recordings/20220703_220424.WAV\n",
      "Recordings/20220703_220425.WAV\n"
     ]
    },
    {
     "name": "stderr",
     "output_type": "stream",
     "text": [
      "/home/adkris1002/miniconda3/envs/opensoundscape/lib/python3.7/site-packages/opensoundscape/audio.py:239: UserWarning: audio object has zero samples\n",
      "  warnings.warn(error_msg)\n",
      "/home/adkris1002/miniconda3/envs/opensoundscape/lib/python3.7/site-packages/opensoundscape/audio.py:180: UserWarning: This seems to be an AudioMoth file, but parse_audiomoth_metadata() raised: list index out of range\n",
      "  \"This seems to be an AudioMoth file, \"\n",
      "/home/adkris1002/miniconda3/envs/opensoundscape/lib/python3.7/site-packages/opensoundscape/audio.py:239: UserWarning: audio object has zero samples\n",
      "  warnings.warn(error_msg)\n",
      "/home/adkris1002/miniconda3/envs/opensoundscape/lib/python3.7/site-packages/opensoundscape/audio.py:180: UserWarning: This seems to be an AudioMoth file, but parse_audiomoth_metadata() raised: list index out of range\n",
      "  \"This seems to be an AudioMoth file, \"\n"
     ]
    },
    {
     "name": "stdout",
     "output_type": "stream",
     "text": [
      "Recordings/20220703_220426.WAV\n",
      "Recordings/20220703_220427.WAV\n"
     ]
    },
    {
     "name": "stderr",
     "output_type": "stream",
     "text": [
      "/home/adkris1002/miniconda3/envs/opensoundscape/lib/python3.7/site-packages/opensoundscape/audio.py:239: UserWarning: audio object has zero samples\n",
      "  warnings.warn(error_msg)\n",
      "/home/adkris1002/miniconda3/envs/opensoundscape/lib/python3.7/site-packages/opensoundscape/audio.py:180: UserWarning: This seems to be an AudioMoth file, but parse_audiomoth_metadata() raised: list index out of range\n",
      "  \"This seems to be an AudioMoth file, \"\n",
      "/home/adkris1002/miniconda3/envs/opensoundscape/lib/python3.7/site-packages/opensoundscape/audio.py:239: UserWarning: audio object has zero samples\n",
      "  warnings.warn(error_msg)\n",
      "/home/adkris1002/miniconda3/envs/opensoundscape/lib/python3.7/site-packages/opensoundscape/audio.py:180: UserWarning: This seems to be an AudioMoth file, but parse_audiomoth_metadata() raised: list index out of range\n",
      "  \"This seems to be an AudioMoth file, \"\n"
     ]
    },
    {
     "name": "stdout",
     "output_type": "stream",
     "text": [
      "Recordings/20220703_220428.WAV\n",
      "Recordings/20220703_220429.WAV\n"
     ]
    },
    {
     "name": "stderr",
     "output_type": "stream",
     "text": [
      "/home/adkris1002/miniconda3/envs/opensoundscape/lib/python3.7/site-packages/opensoundscape/audio.py:239: UserWarning: audio object has zero samples\n",
      "  warnings.warn(error_msg)\n",
      "/home/adkris1002/miniconda3/envs/opensoundscape/lib/python3.7/site-packages/opensoundscape/audio.py:180: UserWarning: This seems to be an AudioMoth file, but parse_audiomoth_metadata() raised: list index out of range\n",
      "  \"This seems to be an AudioMoth file, \"\n",
      "/home/adkris1002/miniconda3/envs/opensoundscape/lib/python3.7/site-packages/opensoundscape/audio.py:239: UserWarning: audio object has zero samples\n",
      "  warnings.warn(error_msg)\n",
      "/home/adkris1002/miniconda3/envs/opensoundscape/lib/python3.7/site-packages/opensoundscape/audio.py:180: UserWarning: This seems to be an AudioMoth file, but parse_audiomoth_metadata() raised: list index out of range\n",
      "  \"This seems to be an AudioMoth file, \"\n",
      "/home/adkris1002/miniconda3/envs/opensoundscape/lib/python3.7/site-packages/opensoundscape/audio.py:239: UserWarning: audio object has zero samples\n",
      "  warnings.warn(error_msg)\n",
      "/home/adkris1002/miniconda3/envs/opensoundscape/lib/python3.7/site-packages/opensoundscape/audio.py:180: UserWarning: This seems to be an AudioMoth file, but parse_audiomoth_metadata() raised: list index out of range\n",
      "  \"This seems to be an AudioMoth file, \"\n"
     ]
    },
    {
     "name": "stdout",
     "output_type": "stream",
     "text": [
      "Recordings/20220703_220430.WAV\n",
      "Recordings/20220703_220431.WAV\n",
      "Recordings/20220703_220432.WAV\n"
     ]
    },
    {
     "name": "stderr",
     "output_type": "stream",
     "text": [
      "/home/adkris1002/miniconda3/envs/opensoundscape/lib/python3.7/site-packages/opensoundscape/audio.py:239: UserWarning: audio object has zero samples\n",
      "  warnings.warn(error_msg)\n",
      "/home/adkris1002/miniconda3/envs/opensoundscape/lib/python3.7/site-packages/opensoundscape/audio.py:180: UserWarning: This seems to be an AudioMoth file, but parse_audiomoth_metadata() raised: list index out of range\n",
      "  \"This seems to be an AudioMoth file, \"\n",
      "/home/adkris1002/miniconda3/envs/opensoundscape/lib/python3.7/site-packages/opensoundscape/audio.py:239: UserWarning: audio object has zero samples\n",
      "  warnings.warn(error_msg)\n",
      "/home/adkris1002/miniconda3/envs/opensoundscape/lib/python3.7/site-packages/opensoundscape/audio.py:180: UserWarning: This seems to be an AudioMoth file, but parse_audiomoth_metadata() raised: list index out of range\n",
      "  \"This seems to be an AudioMoth file, \"\n",
      "/home/adkris1002/miniconda3/envs/opensoundscape/lib/python3.7/site-packages/opensoundscape/audio.py:239: UserWarning: audio object has zero samples\n",
      "  warnings.warn(error_msg)\n",
      "/home/adkris1002/miniconda3/envs/opensoundscape/lib/python3.7/site-packages/opensoundscape/audio.py:180: UserWarning: This seems to be an AudioMoth file, but parse_audiomoth_metadata() raised: list index out of range\n",
      "  \"This seems to be an AudioMoth file, \"\n"
     ]
    },
    {
     "name": "stdout",
     "output_type": "stream",
     "text": [
      "Recordings/20220703_220433.WAV\n",
      "Recordings/20220703_220434.WAV\n",
      "Recordings/20220703_220435.WAV\n"
     ]
    },
    {
     "name": "stderr",
     "output_type": "stream",
     "text": [
      "/home/adkris1002/miniconda3/envs/opensoundscape/lib/python3.7/site-packages/opensoundscape/audio.py:239: UserWarning: audio object has zero samples\n",
      "  warnings.warn(error_msg)\n",
      "/home/adkris1002/miniconda3/envs/opensoundscape/lib/python3.7/site-packages/opensoundscape/audio.py:180: UserWarning: This seems to be an AudioMoth file, but parse_audiomoth_metadata() raised: list index out of range\n",
      "  \"This seems to be an AudioMoth file, \"\n",
      "/home/adkris1002/miniconda3/envs/opensoundscape/lib/python3.7/site-packages/opensoundscape/audio.py:239: UserWarning: audio object has zero samples\n",
      "  warnings.warn(error_msg)\n",
      "/home/adkris1002/miniconda3/envs/opensoundscape/lib/python3.7/site-packages/opensoundscape/audio.py:180: UserWarning: This seems to be an AudioMoth file, but parse_audiomoth_metadata() raised: list index out of range\n",
      "  \"This seems to be an AudioMoth file, \"\n"
     ]
    },
    {
     "name": "stdout",
     "output_type": "stream",
     "text": [
      "Recordings/20220703_220436.WAV\n",
      "Recordings/20220703_220437.WAV\n"
     ]
    },
    {
     "name": "stderr",
     "output_type": "stream",
     "text": [
      "/home/adkris1002/miniconda3/envs/opensoundscape/lib/python3.7/site-packages/opensoundscape/audio.py:239: UserWarning: audio object has zero samples\n",
      "  warnings.warn(error_msg)\n",
      "/home/adkris1002/miniconda3/envs/opensoundscape/lib/python3.7/site-packages/opensoundscape/audio.py:180: UserWarning: This seems to be an AudioMoth file, but parse_audiomoth_metadata() raised: list index out of range\n",
      "  \"This seems to be an AudioMoth file, \"\n",
      "/home/adkris1002/miniconda3/envs/opensoundscape/lib/python3.7/site-packages/opensoundscape/audio.py:239: UserWarning: audio object has zero samples\n",
      "  warnings.warn(error_msg)\n",
      "/home/adkris1002/miniconda3/envs/opensoundscape/lib/python3.7/site-packages/opensoundscape/audio.py:180: UserWarning: This seems to be an AudioMoth file, but parse_audiomoth_metadata() raised: list index out of range\n",
      "  \"This seems to be an AudioMoth file, \"\n"
     ]
    },
    {
     "name": "stdout",
     "output_type": "stream",
     "text": [
      "Recordings/20220703_220438.WAV\n",
      "Recordings/20220703_220439.WAV\n"
     ]
    },
    {
     "name": "stderr",
     "output_type": "stream",
     "text": [
      "/home/adkris1002/miniconda3/envs/opensoundscape/lib/python3.7/site-packages/opensoundscape/audio.py:239: UserWarning: audio object has zero samples\n",
      "  warnings.warn(error_msg)\n",
      "/home/adkris1002/miniconda3/envs/opensoundscape/lib/python3.7/site-packages/opensoundscape/audio.py:180: UserWarning: This seems to be an AudioMoth file, but parse_audiomoth_metadata() raised: list index out of range\n",
      "  \"This seems to be an AudioMoth file, \"\n",
      "/home/adkris1002/miniconda3/envs/opensoundscape/lib/python3.7/site-packages/opensoundscape/audio.py:239: UserWarning: audio object has zero samples\n",
      "  warnings.warn(error_msg)\n",
      "/home/adkris1002/miniconda3/envs/opensoundscape/lib/python3.7/site-packages/opensoundscape/audio.py:180: UserWarning: This seems to be an AudioMoth file, but parse_audiomoth_metadata() raised: list index out of range\n",
      "  \"This seems to be an AudioMoth file, \"\n",
      "/home/adkris1002/miniconda3/envs/opensoundscape/lib/python3.7/site-packages/opensoundscape/audio.py:239: UserWarning: audio object has zero samples\n",
      "  warnings.warn(error_msg)\n",
      "/home/adkris1002/miniconda3/envs/opensoundscape/lib/python3.7/site-packages/opensoundscape/audio.py:180: UserWarning: This seems to be an AudioMoth file, but parse_audiomoth_metadata() raised: list index out of range\n",
      "  \"This seems to be an AudioMoth file, \"\n"
     ]
    },
    {
     "name": "stdout",
     "output_type": "stream",
     "text": [
      "Recordings/20220703_220440.WAV\n",
      "Recordings/20220703_220441.WAV\n",
      "Recordings/20220703_220442.WAV\n"
     ]
    },
    {
     "name": "stderr",
     "output_type": "stream",
     "text": [
      "/home/adkris1002/miniconda3/envs/opensoundscape/lib/python3.7/site-packages/opensoundscape/audio.py:239: UserWarning: audio object has zero samples\n",
      "  warnings.warn(error_msg)\n",
      "/home/adkris1002/miniconda3/envs/opensoundscape/lib/python3.7/site-packages/opensoundscape/audio.py:180: UserWarning: This seems to be an AudioMoth file, but parse_audiomoth_metadata() raised: list index out of range\n",
      "  \"This seems to be an AudioMoth file, \"\n",
      "/home/adkris1002/miniconda3/envs/opensoundscape/lib/python3.7/site-packages/opensoundscape/audio.py:239: UserWarning: audio object has zero samples\n",
      "  warnings.warn(error_msg)\n",
      "/home/adkris1002/miniconda3/envs/opensoundscape/lib/python3.7/site-packages/opensoundscape/audio.py:180: UserWarning: This seems to be an AudioMoth file, but parse_audiomoth_metadata() raised: list index out of range\n",
      "  \"This seems to be an AudioMoth file, \"\n",
      "/home/adkris1002/miniconda3/envs/opensoundscape/lib/python3.7/site-packages/opensoundscape/audio.py:239: UserWarning: audio object has zero samples\n",
      "  warnings.warn(error_msg)\n",
      "/home/adkris1002/miniconda3/envs/opensoundscape/lib/python3.7/site-packages/opensoundscape/audio.py:180: UserWarning: This seems to be an AudioMoth file, but parse_audiomoth_metadata() raised: list index out of range\n",
      "  \"This seems to be an AudioMoth file, \"\n"
     ]
    },
    {
     "name": "stdout",
     "output_type": "stream",
     "text": [
      "Recordings/20220703_220443.WAV\n",
      "Recordings/20220703_220444.WAV\n",
      "Recordings/20220703_220445.WAV\n"
     ]
    },
    {
     "name": "stderr",
     "output_type": "stream",
     "text": [
      "/home/adkris1002/miniconda3/envs/opensoundscape/lib/python3.7/site-packages/opensoundscape/audio.py:239: UserWarning: audio object has zero samples\n",
      "  warnings.warn(error_msg)\n",
      "/home/adkris1002/miniconda3/envs/opensoundscape/lib/python3.7/site-packages/opensoundscape/audio.py:180: UserWarning: This seems to be an AudioMoth file, but parse_audiomoth_metadata() raised: list index out of range\n",
      "  \"This seems to be an AudioMoth file, \"\n",
      "/home/adkris1002/miniconda3/envs/opensoundscape/lib/python3.7/site-packages/opensoundscape/audio.py:239: UserWarning: audio object has zero samples\n",
      "  warnings.warn(error_msg)\n",
      "/home/adkris1002/miniconda3/envs/opensoundscape/lib/python3.7/site-packages/opensoundscape/audio.py:180: UserWarning: This seems to be an AudioMoth file, but parse_audiomoth_metadata() raised: list index out of range\n",
      "  \"This seems to be an AudioMoth file, \"\n",
      "/home/adkris1002/miniconda3/envs/opensoundscape/lib/python3.7/site-packages/opensoundscape/audio.py:239: UserWarning: audio object has zero samples\n",
      "  warnings.warn(error_msg)\n",
      "/home/adkris1002/miniconda3/envs/opensoundscape/lib/python3.7/site-packages/opensoundscape/audio.py:180: UserWarning: This seems to be an AudioMoth file, but parse_audiomoth_metadata() raised: list index out of range\n",
      "  \"This seems to be an AudioMoth file, \"\n"
     ]
    },
    {
     "name": "stdout",
     "output_type": "stream",
     "text": [
      "Recordings/20220703_220446.WAV\n",
      "Recordings/20220703_220447.WAV\n",
      "Recordings/20220703_220448.WAV\n"
     ]
    },
    {
     "name": "stderr",
     "output_type": "stream",
     "text": [
      "/home/adkris1002/miniconda3/envs/opensoundscape/lib/python3.7/site-packages/opensoundscape/audio.py:239: UserWarning: audio object has zero samples\n",
      "  warnings.warn(error_msg)\n",
      "/home/adkris1002/miniconda3/envs/opensoundscape/lib/python3.7/site-packages/opensoundscape/audio.py:180: UserWarning: This seems to be an AudioMoth file, but parse_audiomoth_metadata() raised: list index out of range\n",
      "  \"This seems to be an AudioMoth file, \"\n",
      "/home/adkris1002/miniconda3/envs/opensoundscape/lib/python3.7/site-packages/opensoundscape/audio.py:239: UserWarning: audio object has zero samples\n",
      "  warnings.warn(error_msg)\n",
      "/home/adkris1002/miniconda3/envs/opensoundscape/lib/python3.7/site-packages/opensoundscape/audio.py:180: UserWarning: This seems to be an AudioMoth file, but parse_audiomoth_metadata() raised: list index out of range\n",
      "  \"This seems to be an AudioMoth file, \"\n",
      "/home/adkris1002/miniconda3/envs/opensoundscape/lib/python3.7/site-packages/opensoundscape/audio.py:239: UserWarning: audio object has zero samples\n",
      "  warnings.warn(error_msg)\n",
      "/home/adkris1002/miniconda3/envs/opensoundscape/lib/python3.7/site-packages/opensoundscape/audio.py:180: UserWarning: This seems to be an AudioMoth file, but parse_audiomoth_metadata() raised: list index out of range\n",
      "  \"This seems to be an AudioMoth file, \"\n"
     ]
    },
    {
     "name": "stdout",
     "output_type": "stream",
     "text": [
      "Recordings/20220703_220449.WAV\n",
      "Recordings/20220703_220450.WAV\n",
      "Recordings/20220703_220451.WAV\n"
     ]
    },
    {
     "name": "stderr",
     "output_type": "stream",
     "text": [
      "/home/adkris1002/miniconda3/envs/opensoundscape/lib/python3.7/site-packages/opensoundscape/audio.py:239: UserWarning: audio object has zero samples\n",
      "  warnings.warn(error_msg)\n",
      "/home/adkris1002/miniconda3/envs/opensoundscape/lib/python3.7/site-packages/opensoundscape/audio.py:180: UserWarning: This seems to be an AudioMoth file, but parse_audiomoth_metadata() raised: list index out of range\n",
      "  \"This seems to be an AudioMoth file, \"\n",
      "/home/adkris1002/miniconda3/envs/opensoundscape/lib/python3.7/site-packages/opensoundscape/audio.py:239: UserWarning: audio object has zero samples\n",
      "  warnings.warn(error_msg)\n",
      "/home/adkris1002/miniconda3/envs/opensoundscape/lib/python3.7/site-packages/opensoundscape/audio.py:180: UserWarning: This seems to be an AudioMoth file, but parse_audiomoth_metadata() raised: list index out of range\n",
      "  \"This seems to be an AudioMoth file, \"\n",
      "/home/adkris1002/miniconda3/envs/opensoundscape/lib/python3.7/site-packages/opensoundscape/audio.py:239: UserWarning: audio object has zero samples\n",
      "  warnings.warn(error_msg)\n",
      "/home/adkris1002/miniconda3/envs/opensoundscape/lib/python3.7/site-packages/opensoundscape/audio.py:180: UserWarning: This seems to be an AudioMoth file, but parse_audiomoth_metadata() raised: list index out of range\n",
      "  \"This seems to be an AudioMoth file, \"\n"
     ]
    },
    {
     "name": "stdout",
     "output_type": "stream",
     "text": [
      "Recordings/20220703_220452.WAV\n",
      "Recordings/20220703_220453.WAV\n",
      "Recordings/20220703_220454.WAV\n"
     ]
    },
    {
     "name": "stderr",
     "output_type": "stream",
     "text": [
      "/home/adkris1002/miniconda3/envs/opensoundscape/lib/python3.7/site-packages/opensoundscape/audio.py:239: UserWarning: audio object has zero samples\n",
      "  warnings.warn(error_msg)\n",
      "/home/adkris1002/miniconda3/envs/opensoundscape/lib/python3.7/site-packages/opensoundscape/audio.py:180: UserWarning: This seems to be an AudioMoth file, but parse_audiomoth_metadata() raised: list index out of range\n",
      "  \"This seems to be an AudioMoth file, \"\n",
      "/home/adkris1002/miniconda3/envs/opensoundscape/lib/python3.7/site-packages/opensoundscape/audio.py:239: UserWarning: audio object has zero samples\n",
      "  warnings.warn(error_msg)\n",
      "/home/adkris1002/miniconda3/envs/opensoundscape/lib/python3.7/site-packages/opensoundscape/audio.py:180: UserWarning: This seems to be an AudioMoth file, but parse_audiomoth_metadata() raised: list index out of range\n",
      "  \"This seems to be an AudioMoth file, \"\n"
     ]
    },
    {
     "name": "stdout",
     "output_type": "stream",
     "text": [
      "Recordings/20220703_220455.WAV\n",
      "Recordings/20220703_220456.WAV\n"
     ]
    },
    {
     "name": "stderr",
     "output_type": "stream",
     "text": [
      "/home/adkris1002/miniconda3/envs/opensoundscape/lib/python3.7/site-packages/opensoundscape/audio.py:239: UserWarning: audio object has zero samples\n",
      "  warnings.warn(error_msg)\n",
      "/home/adkris1002/miniconda3/envs/opensoundscape/lib/python3.7/site-packages/opensoundscape/audio.py:180: UserWarning: This seems to be an AudioMoth file, but parse_audiomoth_metadata() raised: list index out of range\n",
      "  \"This seems to be an AudioMoth file, \"\n",
      "/home/adkris1002/miniconda3/envs/opensoundscape/lib/python3.7/site-packages/opensoundscape/audio.py:239: UserWarning: audio object has zero samples\n",
      "  warnings.warn(error_msg)\n",
      "/home/adkris1002/miniconda3/envs/opensoundscape/lib/python3.7/site-packages/opensoundscape/audio.py:180: UserWarning: This seems to be an AudioMoth file, but parse_audiomoth_metadata() raised: list index out of range\n",
      "  \"This seems to be an AudioMoth file, \"\n",
      "/home/adkris1002/miniconda3/envs/opensoundscape/lib/python3.7/site-packages/opensoundscape/audio.py:239: UserWarning: audio object has zero samples\n",
      "  warnings.warn(error_msg)\n",
      "/home/adkris1002/miniconda3/envs/opensoundscape/lib/python3.7/site-packages/opensoundscape/audio.py:180: UserWarning: This seems to be an AudioMoth file, but parse_audiomoth_metadata() raised: list index out of range\n",
      "  \"This seems to be an AudioMoth file, \"\n"
     ]
    },
    {
     "name": "stdout",
     "output_type": "stream",
     "text": [
      "Recordings/20220703_220457.WAV\n",
      "Recordings/20220703_220458.WAV\n",
      "Recordings/20220703_220459.WAV\n"
     ]
    },
    {
     "name": "stderr",
     "output_type": "stream",
     "text": [
      "/home/adkris1002/miniconda3/envs/opensoundscape/lib/python3.7/site-packages/opensoundscape/audio.py:239: UserWarning: audio object has zero samples\n",
      "  warnings.warn(error_msg)\n",
      "/home/adkris1002/miniconda3/envs/opensoundscape/lib/python3.7/site-packages/opensoundscape/audio.py:180: UserWarning: This seems to be an AudioMoth file, but parse_audiomoth_metadata() raised: list index out of range\n",
      "  \"This seems to be an AudioMoth file, \"\n",
      "/home/adkris1002/miniconda3/envs/opensoundscape/lib/python3.7/site-packages/opensoundscape/audio.py:239: UserWarning: audio object has zero samples\n",
      "  warnings.warn(error_msg)\n",
      "/home/adkris1002/miniconda3/envs/opensoundscape/lib/python3.7/site-packages/opensoundscape/audio.py:180: UserWarning: This seems to be an AudioMoth file, but parse_audiomoth_metadata() raised: list index out of range\n",
      "  \"This seems to be an AudioMoth file, \"\n",
      "/home/adkris1002/miniconda3/envs/opensoundscape/lib/python3.7/site-packages/opensoundscape/audio.py:239: UserWarning: audio object has zero samples\n",
      "  warnings.warn(error_msg)\n",
      "/home/adkris1002/miniconda3/envs/opensoundscape/lib/python3.7/site-packages/opensoundscape/audio.py:180: UserWarning: This seems to be an AudioMoth file, but parse_audiomoth_metadata() raised: list index out of range\n",
      "  \"This seems to be an AudioMoth file, \"\n"
     ]
    },
    {
     "name": "stdout",
     "output_type": "stream",
     "text": [
      "Recordings/20220703_220500.WAV\n",
      "Recordings/20220703_220501.WAV\n",
      "Recordings/20220703_220502.WAV\n"
     ]
    },
    {
     "name": "stderr",
     "output_type": "stream",
     "text": [
      "/home/adkris1002/miniconda3/envs/opensoundscape/lib/python3.7/site-packages/opensoundscape/audio.py:239: UserWarning: audio object has zero samples\n",
      "  warnings.warn(error_msg)\n",
      "/home/adkris1002/miniconda3/envs/opensoundscape/lib/python3.7/site-packages/opensoundscape/audio.py:180: UserWarning: This seems to be an AudioMoth file, but parse_audiomoth_metadata() raised: list index out of range\n",
      "  \"This seems to be an AudioMoth file, \"\n",
      "/home/adkris1002/miniconda3/envs/opensoundscape/lib/python3.7/site-packages/opensoundscape/audio.py:239: UserWarning: audio object has zero samples\n",
      "  warnings.warn(error_msg)\n",
      "/home/adkris1002/miniconda3/envs/opensoundscape/lib/python3.7/site-packages/opensoundscape/audio.py:180: UserWarning: This seems to be an AudioMoth file, but parse_audiomoth_metadata() raised: list index out of range\n",
      "  \"This seems to be an AudioMoth file, \"\n",
      "/home/adkris1002/miniconda3/envs/opensoundscape/lib/python3.7/site-packages/opensoundscape/audio.py:239: UserWarning: audio object has zero samples\n",
      "  warnings.warn(error_msg)\n",
      "/home/adkris1002/miniconda3/envs/opensoundscape/lib/python3.7/site-packages/opensoundscape/audio.py:180: UserWarning: This seems to be an AudioMoth file, but parse_audiomoth_metadata() raised: list index out of range\n",
      "  \"This seems to be an AudioMoth file, \"\n"
     ]
    },
    {
     "name": "stdout",
     "output_type": "stream",
     "text": [
      "Recordings/20220703_220503.WAV\n",
      "Recordings/20220703_220504.WAV\n",
      "Recordings/20220703_220505.WAV\n"
     ]
    },
    {
     "name": "stderr",
     "output_type": "stream",
     "text": [
      "/home/adkris1002/miniconda3/envs/opensoundscape/lib/python3.7/site-packages/opensoundscape/audio.py:239: UserWarning: audio object has zero samples\n",
      "  warnings.warn(error_msg)\n",
      "/home/adkris1002/miniconda3/envs/opensoundscape/lib/python3.7/site-packages/opensoundscape/audio.py:180: UserWarning: This seems to be an AudioMoth file, but parse_audiomoth_metadata() raised: list index out of range\n",
      "  \"This seems to be an AudioMoth file, \"\n",
      "/home/adkris1002/miniconda3/envs/opensoundscape/lib/python3.7/site-packages/opensoundscape/audio.py:239: UserWarning: audio object has zero samples\n",
      "  warnings.warn(error_msg)\n",
      "/home/adkris1002/miniconda3/envs/opensoundscape/lib/python3.7/site-packages/opensoundscape/audio.py:180: UserWarning: This seems to be an AudioMoth file, but parse_audiomoth_metadata() raised: list index out of range\n",
      "  \"This seems to be an AudioMoth file, \"\n",
      "/home/adkris1002/miniconda3/envs/opensoundscape/lib/python3.7/site-packages/opensoundscape/audio.py:239: UserWarning: audio object has zero samples\n",
      "  warnings.warn(error_msg)\n",
      "/home/adkris1002/miniconda3/envs/opensoundscape/lib/python3.7/site-packages/opensoundscape/audio.py:180: UserWarning: This seems to be an AudioMoth file, but parse_audiomoth_metadata() raised: list index out of range\n",
      "  \"This seems to be an AudioMoth file, \"\n"
     ]
    },
    {
     "name": "stdout",
     "output_type": "stream",
     "text": [
      "Recordings/20220703_220506.WAV\n",
      "Recordings/20220703_220507.WAV\n",
      "Recordings/20220703_220508.WAV\n"
     ]
    },
    {
     "name": "stderr",
     "output_type": "stream",
     "text": [
      "/home/adkris1002/miniconda3/envs/opensoundscape/lib/python3.7/site-packages/opensoundscape/audio.py:239: UserWarning: audio object has zero samples\n",
      "  warnings.warn(error_msg)\n",
      "/home/adkris1002/miniconda3/envs/opensoundscape/lib/python3.7/site-packages/opensoundscape/audio.py:180: UserWarning: This seems to be an AudioMoth file, but parse_audiomoth_metadata() raised: list index out of range\n",
      "  \"This seems to be an AudioMoth file, \"\n",
      "/home/adkris1002/miniconda3/envs/opensoundscape/lib/python3.7/site-packages/opensoundscape/audio.py:239: UserWarning: audio object has zero samples\n",
      "  warnings.warn(error_msg)\n",
      "/home/adkris1002/miniconda3/envs/opensoundscape/lib/python3.7/site-packages/opensoundscape/audio.py:180: UserWarning: This seems to be an AudioMoth file, but parse_audiomoth_metadata() raised: list index out of range\n",
      "  \"This seems to be an AudioMoth file, \"\n",
      "/home/adkris1002/miniconda3/envs/opensoundscape/lib/python3.7/site-packages/opensoundscape/audio.py:239: UserWarning: audio object has zero samples\n",
      "  warnings.warn(error_msg)\n",
      "/home/adkris1002/miniconda3/envs/opensoundscape/lib/python3.7/site-packages/opensoundscape/audio.py:180: UserWarning: This seems to be an AudioMoth file, but parse_audiomoth_metadata() raised: list index out of range\n",
      "  \"This seems to be an AudioMoth file, \"\n"
     ]
    },
    {
     "name": "stdout",
     "output_type": "stream",
     "text": [
      "Recordings/20220703_220509.WAV\n",
      "Recordings/20220703_220510.WAV\n",
      "Recordings/20220703_220511.WAV\n"
     ]
    },
    {
     "name": "stderr",
     "output_type": "stream",
     "text": [
      "/home/adkris1002/miniconda3/envs/opensoundscape/lib/python3.7/site-packages/opensoundscape/audio.py:239: UserWarning: audio object has zero samples\n",
      "  warnings.warn(error_msg)\n",
      "/home/adkris1002/miniconda3/envs/opensoundscape/lib/python3.7/site-packages/opensoundscape/audio.py:180: UserWarning: This seems to be an AudioMoth file, but parse_audiomoth_metadata() raised: list index out of range\n",
      "  \"This seems to be an AudioMoth file, \"\n",
      "/home/adkris1002/miniconda3/envs/opensoundscape/lib/python3.7/site-packages/opensoundscape/audio.py:239: UserWarning: audio object has zero samples\n",
      "  warnings.warn(error_msg)\n",
      "/home/adkris1002/miniconda3/envs/opensoundscape/lib/python3.7/site-packages/opensoundscape/audio.py:180: UserWarning: This seems to be an AudioMoth file, but parse_audiomoth_metadata() raised: list index out of range\n",
      "  \"This seems to be an AudioMoth file, \"\n",
      "/home/adkris1002/miniconda3/envs/opensoundscape/lib/python3.7/site-packages/opensoundscape/audio.py:239: UserWarning: audio object has zero samples\n",
      "  warnings.warn(error_msg)\n",
      "/home/adkris1002/miniconda3/envs/opensoundscape/lib/python3.7/site-packages/opensoundscape/audio.py:180: UserWarning: This seems to be an AudioMoth file, but parse_audiomoth_metadata() raised: list index out of range\n",
      "  \"This seems to be an AudioMoth file, \"\n"
     ]
    },
    {
     "name": "stdout",
     "output_type": "stream",
     "text": [
      "Recordings/20220703_220512.WAV\n",
      "Recordings/20220703_220513.WAV\n",
      "Recordings/20220703_220514.WAV\n"
     ]
    },
    {
     "name": "stderr",
     "output_type": "stream",
     "text": [
      "/home/adkris1002/miniconda3/envs/opensoundscape/lib/python3.7/site-packages/opensoundscape/audio.py:239: UserWarning: audio object has zero samples\n",
      "  warnings.warn(error_msg)\n",
      "/home/adkris1002/miniconda3/envs/opensoundscape/lib/python3.7/site-packages/opensoundscape/audio.py:180: UserWarning: This seems to be an AudioMoth file, but parse_audiomoth_metadata() raised: list index out of range\n",
      "  \"This seems to be an AudioMoth file, \"\n",
      "/home/adkris1002/miniconda3/envs/opensoundscape/lib/python3.7/site-packages/opensoundscape/audio.py:239: UserWarning: audio object has zero samples\n",
      "  warnings.warn(error_msg)\n",
      "/home/adkris1002/miniconda3/envs/opensoundscape/lib/python3.7/site-packages/opensoundscape/audio.py:180: UserWarning: This seems to be an AudioMoth file, but parse_audiomoth_metadata() raised: list index out of range\n",
      "  \"This seems to be an AudioMoth file, \"\n",
      "/home/adkris1002/miniconda3/envs/opensoundscape/lib/python3.7/site-packages/opensoundscape/audio.py:239: UserWarning: audio object has zero samples\n",
      "  warnings.warn(error_msg)\n",
      "/home/adkris1002/miniconda3/envs/opensoundscape/lib/python3.7/site-packages/opensoundscape/audio.py:180: UserWarning: This seems to be an AudioMoth file, but parse_audiomoth_metadata() raised: list index out of range\n",
      "  \"This seems to be an AudioMoth file, \"\n"
     ]
    },
    {
     "name": "stdout",
     "output_type": "stream",
     "text": [
      "Recordings/20220703_220515.WAV\n",
      "Recordings/20220703_220516.WAV\n",
      "Recordings/20220703_220517.WAV\n"
     ]
    },
    {
     "name": "stderr",
     "output_type": "stream",
     "text": [
      "/home/adkris1002/miniconda3/envs/opensoundscape/lib/python3.7/site-packages/opensoundscape/audio.py:239: UserWarning: audio object has zero samples\n",
      "  warnings.warn(error_msg)\n",
      "/home/adkris1002/miniconda3/envs/opensoundscape/lib/python3.7/site-packages/opensoundscape/audio.py:180: UserWarning: This seems to be an AudioMoth file, but parse_audiomoth_metadata() raised: list index out of range\n",
      "  \"This seems to be an AudioMoth file, \"\n",
      "/home/adkris1002/miniconda3/envs/opensoundscape/lib/python3.7/site-packages/opensoundscape/audio.py:239: UserWarning: audio object has zero samples\n",
      "  warnings.warn(error_msg)\n",
      "/home/adkris1002/miniconda3/envs/opensoundscape/lib/python3.7/site-packages/opensoundscape/audio.py:180: UserWarning: This seems to be an AudioMoth file, but parse_audiomoth_metadata() raised: list index out of range\n",
      "  \"This seems to be an AudioMoth file, \"\n",
      "/home/adkris1002/miniconda3/envs/opensoundscape/lib/python3.7/site-packages/opensoundscape/audio.py:239: UserWarning: audio object has zero samples\n",
      "  warnings.warn(error_msg)\n",
      "/home/adkris1002/miniconda3/envs/opensoundscape/lib/python3.7/site-packages/opensoundscape/audio.py:180: UserWarning: This seems to be an AudioMoth file, but parse_audiomoth_metadata() raised: list index out of range\n",
      "  \"This seems to be an AudioMoth file, \"\n"
     ]
    },
    {
     "name": "stdout",
     "output_type": "stream",
     "text": [
      "Recordings/20220703_220518.WAV\n",
      "Recordings/20220703_220519.WAV\n",
      "Recordings/20220703_220520.WAV\n"
     ]
    },
    {
     "name": "stderr",
     "output_type": "stream",
     "text": [
      "/home/adkris1002/miniconda3/envs/opensoundscape/lib/python3.7/site-packages/opensoundscape/audio.py:239: UserWarning: audio object has zero samples\n",
      "  warnings.warn(error_msg)\n",
      "/home/adkris1002/miniconda3/envs/opensoundscape/lib/python3.7/site-packages/opensoundscape/audio.py:180: UserWarning: This seems to be an AudioMoth file, but parse_audiomoth_metadata() raised: list index out of range\n",
      "  \"This seems to be an AudioMoth file, \"\n",
      "/home/adkris1002/miniconda3/envs/opensoundscape/lib/python3.7/site-packages/opensoundscape/audio.py:239: UserWarning: audio object has zero samples\n",
      "  warnings.warn(error_msg)\n",
      "/home/adkris1002/miniconda3/envs/opensoundscape/lib/python3.7/site-packages/opensoundscape/audio.py:180: UserWarning: This seems to be an AudioMoth file, but parse_audiomoth_metadata() raised: list index out of range\n",
      "  \"This seems to be an AudioMoth file, \"\n",
      "/home/adkris1002/miniconda3/envs/opensoundscape/lib/python3.7/site-packages/opensoundscape/audio.py:239: UserWarning: audio object has zero samples\n",
      "  warnings.warn(error_msg)\n",
      "/home/adkris1002/miniconda3/envs/opensoundscape/lib/python3.7/site-packages/opensoundscape/audio.py:180: UserWarning: This seems to be an AudioMoth file, but parse_audiomoth_metadata() raised: list index out of range\n",
      "  \"This seems to be an AudioMoth file, \"\n"
     ]
    },
    {
     "name": "stdout",
     "output_type": "stream",
     "text": [
      "Recordings/20220703_220521.WAV\n",
      "Recordings/20220703_220522.WAV\n",
      "Recordings/20220703_220523.WAV\n"
     ]
    },
    {
     "name": "stderr",
     "output_type": "stream",
     "text": [
      "/home/adkris1002/miniconda3/envs/opensoundscape/lib/python3.7/site-packages/opensoundscape/audio.py:239: UserWarning: audio object has zero samples\n",
      "  warnings.warn(error_msg)\n",
      "/home/adkris1002/miniconda3/envs/opensoundscape/lib/python3.7/site-packages/opensoundscape/audio.py:180: UserWarning: This seems to be an AudioMoth file, but parse_audiomoth_metadata() raised: list index out of range\n",
      "  \"This seems to be an AudioMoth file, \"\n",
      "/home/adkris1002/miniconda3/envs/opensoundscape/lib/python3.7/site-packages/opensoundscape/audio.py:239: UserWarning: audio object has zero samples\n",
      "  warnings.warn(error_msg)\n",
      "/home/adkris1002/miniconda3/envs/opensoundscape/lib/python3.7/site-packages/opensoundscape/audio.py:180: UserWarning: This seems to be an AudioMoth file, but parse_audiomoth_metadata() raised: list index out of range\n",
      "  \"This seems to be an AudioMoth file, \"\n",
      "/home/adkris1002/miniconda3/envs/opensoundscape/lib/python3.7/site-packages/opensoundscape/audio.py:239: UserWarning: audio object has zero samples\n",
      "  warnings.warn(error_msg)\n",
      "/home/adkris1002/miniconda3/envs/opensoundscape/lib/python3.7/site-packages/opensoundscape/audio.py:180: UserWarning: This seems to be an AudioMoth file, but parse_audiomoth_metadata() raised: list index out of range\n",
      "  \"This seems to be an AudioMoth file, \"\n"
     ]
    },
    {
     "name": "stdout",
     "output_type": "stream",
     "text": [
      "Recordings/20220703_220524.WAV\n",
      "Recordings/20220703_220525.WAV\n",
      "Recordings/20220703_220526.WAV\n"
     ]
    },
    {
     "name": "stderr",
     "output_type": "stream",
     "text": [
      "/home/adkris1002/miniconda3/envs/opensoundscape/lib/python3.7/site-packages/opensoundscape/audio.py:239: UserWarning: audio object has zero samples\n",
      "  warnings.warn(error_msg)\n",
      "/home/adkris1002/miniconda3/envs/opensoundscape/lib/python3.7/site-packages/opensoundscape/audio.py:180: UserWarning: This seems to be an AudioMoth file, but parse_audiomoth_metadata() raised: list index out of range\n",
      "  \"This seems to be an AudioMoth file, \"\n",
      "/home/adkris1002/miniconda3/envs/opensoundscape/lib/python3.7/site-packages/opensoundscape/audio.py:239: UserWarning: audio object has zero samples\n",
      "  warnings.warn(error_msg)\n",
      "/home/adkris1002/miniconda3/envs/opensoundscape/lib/python3.7/site-packages/opensoundscape/audio.py:180: UserWarning: This seems to be an AudioMoth file, but parse_audiomoth_metadata() raised: list index out of range\n",
      "  \"This seems to be an AudioMoth file, \"\n",
      "/home/adkris1002/miniconda3/envs/opensoundscape/lib/python3.7/site-packages/opensoundscape/audio.py:239: UserWarning: audio object has zero samples\n",
      "  warnings.warn(error_msg)\n",
      "/home/adkris1002/miniconda3/envs/opensoundscape/lib/python3.7/site-packages/opensoundscape/audio.py:180: UserWarning: This seems to be an AudioMoth file, but parse_audiomoth_metadata() raised: list index out of range\n",
      "  \"This seems to be an AudioMoth file, \"\n"
     ]
    },
    {
     "name": "stdout",
     "output_type": "stream",
     "text": [
      "Recordings/20220703_220527.WAV\n",
      "Recordings/20220703_220528.WAV\n",
      "Recordings/20220703_220529.WAV\n"
     ]
    },
    {
     "name": "stderr",
     "output_type": "stream",
     "text": [
      "/home/adkris1002/miniconda3/envs/opensoundscape/lib/python3.7/site-packages/opensoundscape/audio.py:239: UserWarning: audio object has zero samples\n",
      "  warnings.warn(error_msg)\n",
      "/home/adkris1002/miniconda3/envs/opensoundscape/lib/python3.7/site-packages/opensoundscape/audio.py:180: UserWarning: This seems to be an AudioMoth file, but parse_audiomoth_metadata() raised: list index out of range\n",
      "  \"This seems to be an AudioMoth file, \"\n",
      "/home/adkris1002/miniconda3/envs/opensoundscape/lib/python3.7/site-packages/opensoundscape/audio.py:239: UserWarning: audio object has zero samples\n",
      "  warnings.warn(error_msg)\n",
      "/home/adkris1002/miniconda3/envs/opensoundscape/lib/python3.7/site-packages/opensoundscape/audio.py:180: UserWarning: This seems to be an AudioMoth file, but parse_audiomoth_metadata() raised: list index out of range\n",
      "  \"This seems to be an AudioMoth file, \"\n",
      "/home/adkris1002/miniconda3/envs/opensoundscape/lib/python3.7/site-packages/opensoundscape/audio.py:239: UserWarning: audio object has zero samples\n",
      "  warnings.warn(error_msg)\n",
      "/home/adkris1002/miniconda3/envs/opensoundscape/lib/python3.7/site-packages/opensoundscape/audio.py:180: UserWarning: This seems to be an AudioMoth file, but parse_audiomoth_metadata() raised: list index out of range\n",
      "  \"This seems to be an AudioMoth file, \"\n"
     ]
    },
    {
     "name": "stdout",
     "output_type": "stream",
     "text": [
      "Recordings/20220703_220530.WAV\n",
      "Recordings/20220703_220531.WAV\n",
      "Recordings/20220703_220532.WAV\n"
     ]
    },
    {
     "name": "stderr",
     "output_type": "stream",
     "text": [
      "/home/adkris1002/miniconda3/envs/opensoundscape/lib/python3.7/site-packages/opensoundscape/audio.py:239: UserWarning: audio object has zero samples\n",
      "  warnings.warn(error_msg)\n",
      "/home/adkris1002/miniconda3/envs/opensoundscape/lib/python3.7/site-packages/opensoundscape/audio.py:180: UserWarning: This seems to be an AudioMoth file, but parse_audiomoth_metadata() raised: list index out of range\n",
      "  \"This seems to be an AudioMoth file, \"\n",
      "/home/adkris1002/miniconda3/envs/opensoundscape/lib/python3.7/site-packages/opensoundscape/audio.py:239: UserWarning: audio object has zero samples\n",
      "  warnings.warn(error_msg)\n",
      "/home/adkris1002/miniconda3/envs/opensoundscape/lib/python3.7/site-packages/opensoundscape/audio.py:180: UserWarning: This seems to be an AudioMoth file, but parse_audiomoth_metadata() raised: list index out of range\n",
      "  \"This seems to be an AudioMoth file, \"\n",
      "/home/adkris1002/miniconda3/envs/opensoundscape/lib/python3.7/site-packages/opensoundscape/audio.py:239: UserWarning: audio object has zero samples\n",
      "  warnings.warn(error_msg)\n",
      "/home/adkris1002/miniconda3/envs/opensoundscape/lib/python3.7/site-packages/opensoundscape/audio.py:180: UserWarning: This seems to be an AudioMoth file, but parse_audiomoth_metadata() raised: list index out of range\n",
      "  \"This seems to be an AudioMoth file, \"\n"
     ]
    },
    {
     "name": "stdout",
     "output_type": "stream",
     "text": [
      "Recordings/20220703_220533.WAV\n",
      "Recordings/20220703_220534.WAV\n",
      "Recordings/20220703_220535.WAV\n"
     ]
    },
    {
     "name": "stderr",
     "output_type": "stream",
     "text": [
      "/home/adkris1002/miniconda3/envs/opensoundscape/lib/python3.7/site-packages/opensoundscape/audio.py:239: UserWarning: audio object has zero samples\n",
      "  warnings.warn(error_msg)\n",
      "/home/adkris1002/miniconda3/envs/opensoundscape/lib/python3.7/site-packages/opensoundscape/audio.py:180: UserWarning: This seems to be an AudioMoth file, but parse_audiomoth_metadata() raised: list index out of range\n",
      "  \"This seems to be an AudioMoth file, \"\n",
      "/home/adkris1002/miniconda3/envs/opensoundscape/lib/python3.7/site-packages/opensoundscape/audio.py:239: UserWarning: audio object has zero samples\n",
      "  warnings.warn(error_msg)\n",
      "/home/adkris1002/miniconda3/envs/opensoundscape/lib/python3.7/site-packages/opensoundscape/audio.py:180: UserWarning: This seems to be an AudioMoth file, but parse_audiomoth_metadata() raised: list index out of range\n",
      "  \"This seems to be an AudioMoth file, \"\n",
      "/home/adkris1002/miniconda3/envs/opensoundscape/lib/python3.7/site-packages/opensoundscape/audio.py:239: UserWarning: audio object has zero samples\n",
      "  warnings.warn(error_msg)\n",
      "/home/adkris1002/miniconda3/envs/opensoundscape/lib/python3.7/site-packages/opensoundscape/audio.py:180: UserWarning: This seems to be an AudioMoth file, but parse_audiomoth_metadata() raised: list index out of range\n",
      "  \"This seems to be an AudioMoth file, \"\n"
     ]
    },
    {
     "name": "stdout",
     "output_type": "stream",
     "text": [
      "Recordings/20220703_220536.WAV\n",
      "Recordings/20220703_220537.WAV\n",
      "Recordings/20220703_220538.WAV\n"
     ]
    },
    {
     "name": "stderr",
     "output_type": "stream",
     "text": [
      "/home/adkris1002/miniconda3/envs/opensoundscape/lib/python3.7/site-packages/opensoundscape/audio.py:239: UserWarning: audio object has zero samples\n",
      "  warnings.warn(error_msg)\n",
      "/home/adkris1002/miniconda3/envs/opensoundscape/lib/python3.7/site-packages/opensoundscape/audio.py:180: UserWarning: This seems to be an AudioMoth file, but parse_audiomoth_metadata() raised: list index out of range\n",
      "  \"This seems to be an AudioMoth file, \"\n",
      "/home/adkris1002/miniconda3/envs/opensoundscape/lib/python3.7/site-packages/opensoundscape/audio.py:239: UserWarning: audio object has zero samples\n",
      "  warnings.warn(error_msg)\n",
      "/home/adkris1002/miniconda3/envs/opensoundscape/lib/python3.7/site-packages/opensoundscape/audio.py:180: UserWarning: This seems to be an AudioMoth file, but parse_audiomoth_metadata() raised: list index out of range\n",
      "  \"This seems to be an AudioMoth file, \"\n",
      "/home/adkris1002/miniconda3/envs/opensoundscape/lib/python3.7/site-packages/opensoundscape/audio.py:239: UserWarning: audio object has zero samples\n",
      "  warnings.warn(error_msg)\n",
      "/home/adkris1002/miniconda3/envs/opensoundscape/lib/python3.7/site-packages/opensoundscape/audio.py:180: UserWarning: This seems to be an AudioMoth file, but parse_audiomoth_metadata() raised: list index out of range\n",
      "  \"This seems to be an AudioMoth file, \"\n"
     ]
    },
    {
     "name": "stdout",
     "output_type": "stream",
     "text": [
      "Recordings/20220703_220539.WAV\n",
      "Recordings/20220703_220540.WAV\n",
      "Recordings/20220703_220541.WAV\n"
     ]
    },
    {
     "name": "stderr",
     "output_type": "stream",
     "text": [
      "/home/adkris1002/miniconda3/envs/opensoundscape/lib/python3.7/site-packages/opensoundscape/audio.py:239: UserWarning: audio object has zero samples\n",
      "  warnings.warn(error_msg)\n",
      "/home/adkris1002/miniconda3/envs/opensoundscape/lib/python3.7/site-packages/opensoundscape/audio.py:180: UserWarning: This seems to be an AudioMoth file, but parse_audiomoth_metadata() raised: list index out of range\n",
      "  \"This seems to be an AudioMoth file, \"\n",
      "/home/adkris1002/miniconda3/envs/opensoundscape/lib/python3.7/site-packages/opensoundscape/audio.py:239: UserWarning: audio object has zero samples\n",
      "  warnings.warn(error_msg)\n",
      "/home/adkris1002/miniconda3/envs/opensoundscape/lib/python3.7/site-packages/opensoundscape/audio.py:180: UserWarning: This seems to be an AudioMoth file, but parse_audiomoth_metadata() raised: list index out of range\n",
      "  \"This seems to be an AudioMoth file, \"\n",
      "/home/adkris1002/miniconda3/envs/opensoundscape/lib/python3.7/site-packages/opensoundscape/audio.py:239: UserWarning: audio object has zero samples\n",
      "  warnings.warn(error_msg)\n",
      "/home/adkris1002/miniconda3/envs/opensoundscape/lib/python3.7/site-packages/opensoundscape/audio.py:180: UserWarning: This seems to be an AudioMoth file, but parse_audiomoth_metadata() raised: list index out of range\n",
      "  \"This seems to be an AudioMoth file, \"\n"
     ]
    },
    {
     "name": "stdout",
     "output_type": "stream",
     "text": [
      "Recordings/20220703_220542.WAV\n",
      "Recordings/20220703_220543.WAV\n",
      "Recordings/20220703_220544.WAV\n"
     ]
    },
    {
     "name": "stderr",
     "output_type": "stream",
     "text": [
      "/home/adkris1002/miniconda3/envs/opensoundscape/lib/python3.7/site-packages/opensoundscape/audio.py:239: UserWarning: audio object has zero samples\n",
      "  warnings.warn(error_msg)\n",
      "/home/adkris1002/miniconda3/envs/opensoundscape/lib/python3.7/site-packages/opensoundscape/audio.py:180: UserWarning: This seems to be an AudioMoth file, but parse_audiomoth_metadata() raised: list index out of range\n",
      "  \"This seems to be an AudioMoth file, \"\n",
      "/home/adkris1002/miniconda3/envs/opensoundscape/lib/python3.7/site-packages/opensoundscape/audio.py:239: UserWarning: audio object has zero samples\n",
      "  warnings.warn(error_msg)\n",
      "/home/adkris1002/miniconda3/envs/opensoundscape/lib/python3.7/site-packages/opensoundscape/audio.py:180: UserWarning: This seems to be an AudioMoth file, but parse_audiomoth_metadata() raised: list index out of range\n",
      "  \"This seems to be an AudioMoth file, \"\n",
      "/home/adkris1002/miniconda3/envs/opensoundscape/lib/python3.7/site-packages/opensoundscape/audio.py:239: UserWarning: audio object has zero samples\n",
      "  warnings.warn(error_msg)\n",
      "/home/adkris1002/miniconda3/envs/opensoundscape/lib/python3.7/site-packages/opensoundscape/audio.py:180: UserWarning: This seems to be an AudioMoth file, but parse_audiomoth_metadata() raised: list index out of range\n",
      "  \"This seems to be an AudioMoth file, \"\n"
     ]
    },
    {
     "name": "stdout",
     "output_type": "stream",
     "text": [
      "Recordings/20220703_220545.WAV\n",
      "Recordings/20220703_220546.WAV\n",
      "Recordings/20220703_220547.WAV\n"
     ]
    },
    {
     "name": "stderr",
     "output_type": "stream",
     "text": [
      "/home/adkris1002/miniconda3/envs/opensoundscape/lib/python3.7/site-packages/opensoundscape/audio.py:239: UserWarning: audio object has zero samples\n",
      "  warnings.warn(error_msg)\n",
      "/home/adkris1002/miniconda3/envs/opensoundscape/lib/python3.7/site-packages/opensoundscape/audio.py:180: UserWarning: This seems to be an AudioMoth file, but parse_audiomoth_metadata() raised: list index out of range\n",
      "  \"This seems to be an AudioMoth file, \"\n",
      "/home/adkris1002/miniconda3/envs/opensoundscape/lib/python3.7/site-packages/opensoundscape/audio.py:239: UserWarning: audio object has zero samples\n",
      "  warnings.warn(error_msg)\n",
      "/home/adkris1002/miniconda3/envs/opensoundscape/lib/python3.7/site-packages/opensoundscape/audio.py:180: UserWarning: This seems to be an AudioMoth file, but parse_audiomoth_metadata() raised: list index out of range\n",
      "  \"This seems to be an AudioMoth file, \"\n",
      "/home/adkris1002/miniconda3/envs/opensoundscape/lib/python3.7/site-packages/opensoundscape/audio.py:239: UserWarning: audio object has zero samples\n",
      "  warnings.warn(error_msg)\n",
      "/home/adkris1002/miniconda3/envs/opensoundscape/lib/python3.7/site-packages/opensoundscape/audio.py:180: UserWarning: This seems to be an AudioMoth file, but parse_audiomoth_metadata() raised: list index out of range\n",
      "  \"This seems to be an AudioMoth file, \"\n"
     ]
    },
    {
     "name": "stdout",
     "output_type": "stream",
     "text": [
      "Recordings/20220703_220548.WAV\n",
      "Recordings/20220703_220549.WAV\n",
      "Recordings/20220703_220550.WAV\n"
     ]
    },
    {
     "name": "stderr",
     "output_type": "stream",
     "text": [
      "/home/adkris1002/miniconda3/envs/opensoundscape/lib/python3.7/site-packages/opensoundscape/audio.py:239: UserWarning: audio object has zero samples\n",
      "  warnings.warn(error_msg)\n",
      "/home/adkris1002/miniconda3/envs/opensoundscape/lib/python3.7/site-packages/opensoundscape/audio.py:180: UserWarning: This seems to be an AudioMoth file, but parse_audiomoth_metadata() raised: list index out of range\n",
      "  \"This seems to be an AudioMoth file, \"\n",
      "/home/adkris1002/miniconda3/envs/opensoundscape/lib/python3.7/site-packages/opensoundscape/audio.py:239: UserWarning: audio object has zero samples\n",
      "  warnings.warn(error_msg)\n",
      "/home/adkris1002/miniconda3/envs/opensoundscape/lib/python3.7/site-packages/opensoundscape/audio.py:180: UserWarning: This seems to be an AudioMoth file, but parse_audiomoth_metadata() raised: list index out of range\n",
      "  \"This seems to be an AudioMoth file, \"\n",
      "/home/adkris1002/miniconda3/envs/opensoundscape/lib/python3.7/site-packages/opensoundscape/audio.py:239: UserWarning: audio object has zero samples\n",
      "  warnings.warn(error_msg)\n",
      "/home/adkris1002/miniconda3/envs/opensoundscape/lib/python3.7/site-packages/opensoundscape/audio.py:180: UserWarning: This seems to be an AudioMoth file, but parse_audiomoth_metadata() raised: list index out of range\n",
      "  \"This seems to be an AudioMoth file, \"\n"
     ]
    },
    {
     "name": "stdout",
     "output_type": "stream",
     "text": [
      "Recordings/20220703_220551.WAV\n",
      "Recordings/20220703_220552.WAV\n",
      "Recordings/20220703_220553.WAV\n"
     ]
    },
    {
     "name": "stderr",
     "output_type": "stream",
     "text": [
      "/home/adkris1002/miniconda3/envs/opensoundscape/lib/python3.7/site-packages/opensoundscape/audio.py:239: UserWarning: audio object has zero samples\n",
      "  warnings.warn(error_msg)\n",
      "/home/adkris1002/miniconda3/envs/opensoundscape/lib/python3.7/site-packages/opensoundscape/audio.py:180: UserWarning: This seems to be an AudioMoth file, but parse_audiomoth_metadata() raised: list index out of range\n",
      "  \"This seems to be an AudioMoth file, \"\n",
      "/home/adkris1002/miniconda3/envs/opensoundscape/lib/python3.7/site-packages/opensoundscape/audio.py:239: UserWarning: audio object has zero samples\n",
      "  warnings.warn(error_msg)\n",
      "/home/adkris1002/miniconda3/envs/opensoundscape/lib/python3.7/site-packages/opensoundscape/audio.py:180: UserWarning: This seems to be an AudioMoth file, but parse_audiomoth_metadata() raised: list index out of range\n",
      "  \"This seems to be an AudioMoth file, \"\n"
     ]
    },
    {
     "name": "stdout",
     "output_type": "stream",
     "text": [
      "Recordings/20220703_220554.WAV\n",
      "Recordings/20220703_220555.WAV\n"
     ]
    },
    {
     "name": "stderr",
     "output_type": "stream",
     "text": [
      "/home/adkris1002/miniconda3/envs/opensoundscape/lib/python3.7/site-packages/opensoundscape/audio.py:239: UserWarning: audio object has zero samples\n",
      "  warnings.warn(error_msg)\n",
      "/home/adkris1002/miniconda3/envs/opensoundscape/lib/python3.7/site-packages/opensoundscape/audio.py:180: UserWarning: This seems to be an AudioMoth file, but parse_audiomoth_metadata() raised: list index out of range\n",
      "  \"This seems to be an AudioMoth file, \"\n",
      "/home/adkris1002/miniconda3/envs/opensoundscape/lib/python3.7/site-packages/opensoundscape/audio.py:239: UserWarning: audio object has zero samples\n",
      "  warnings.warn(error_msg)\n",
      "/home/adkris1002/miniconda3/envs/opensoundscape/lib/python3.7/site-packages/opensoundscape/audio.py:180: UserWarning: This seems to be an AudioMoth file, but parse_audiomoth_metadata() raised: list index out of range\n",
      "  \"This seems to be an AudioMoth file, \"\n",
      "/home/adkris1002/miniconda3/envs/opensoundscape/lib/python3.7/site-packages/opensoundscape/audio.py:239: UserWarning: audio object has zero samples\n",
      "  warnings.warn(error_msg)\n",
      "/home/adkris1002/miniconda3/envs/opensoundscape/lib/python3.7/site-packages/opensoundscape/audio.py:180: UserWarning: This seems to be an AudioMoth file, but parse_audiomoth_metadata() raised: list index out of range\n",
      "  \"This seems to be an AudioMoth file, \"\n"
     ]
    },
    {
     "name": "stdout",
     "output_type": "stream",
     "text": [
      "Recordings/20220703_220556.WAV\n",
      "Recordings/20220703_220557.WAV\n",
      "Recordings/20220703_220558.WAV\n"
     ]
    },
    {
     "name": "stderr",
     "output_type": "stream",
     "text": [
      "/home/adkris1002/miniconda3/envs/opensoundscape/lib/python3.7/site-packages/opensoundscape/audio.py:239: UserWarning: audio object has zero samples\n",
      "  warnings.warn(error_msg)\n",
      "/home/adkris1002/miniconda3/envs/opensoundscape/lib/python3.7/site-packages/opensoundscape/audio.py:180: UserWarning: This seems to be an AudioMoth file, but parse_audiomoth_metadata() raised: list index out of range\n",
      "  \"This seems to be an AudioMoth file, \"\n",
      "/home/adkris1002/miniconda3/envs/opensoundscape/lib/python3.7/site-packages/opensoundscape/audio.py:239: UserWarning: audio object has zero samples\n",
      "  warnings.warn(error_msg)\n",
      "/home/adkris1002/miniconda3/envs/opensoundscape/lib/python3.7/site-packages/opensoundscape/audio.py:180: UserWarning: This seems to be an AudioMoth file, but parse_audiomoth_metadata() raised: list index out of range\n",
      "  \"This seems to be an AudioMoth file, \"\n",
      "/home/adkris1002/miniconda3/envs/opensoundscape/lib/python3.7/site-packages/opensoundscape/audio.py:239: UserWarning: audio object has zero samples\n",
      "  warnings.warn(error_msg)\n",
      "/home/adkris1002/miniconda3/envs/opensoundscape/lib/python3.7/site-packages/opensoundscape/audio.py:180: UserWarning: This seems to be an AudioMoth file, but parse_audiomoth_metadata() raised: list index out of range\n",
      "  \"This seems to be an AudioMoth file, \"\n"
     ]
    },
    {
     "name": "stdout",
     "output_type": "stream",
     "text": [
      "Recordings/20220703_220559.WAV\n",
      "Recordings/20220703_220600.WAV\n",
      "Recordings/20220703_220601.WAV\n"
     ]
    },
    {
     "name": "stderr",
     "output_type": "stream",
     "text": [
      "/home/adkris1002/miniconda3/envs/opensoundscape/lib/python3.7/site-packages/opensoundscape/audio.py:239: UserWarning: audio object has zero samples\n",
      "  warnings.warn(error_msg)\n",
      "/home/adkris1002/miniconda3/envs/opensoundscape/lib/python3.7/site-packages/opensoundscape/audio.py:180: UserWarning: This seems to be an AudioMoth file, but parse_audiomoth_metadata() raised: list index out of range\n",
      "  \"This seems to be an AudioMoth file, \"\n",
      "/home/adkris1002/miniconda3/envs/opensoundscape/lib/python3.7/site-packages/opensoundscape/audio.py:239: UserWarning: audio object has zero samples\n",
      "  warnings.warn(error_msg)\n",
      "/home/adkris1002/miniconda3/envs/opensoundscape/lib/python3.7/site-packages/opensoundscape/audio.py:180: UserWarning: This seems to be an AudioMoth file, but parse_audiomoth_metadata() raised: list index out of range\n",
      "  \"This seems to be an AudioMoth file, \"\n",
      "/home/adkris1002/miniconda3/envs/opensoundscape/lib/python3.7/site-packages/opensoundscape/audio.py:239: UserWarning: audio object has zero samples\n",
      "  warnings.warn(error_msg)\n",
      "/home/adkris1002/miniconda3/envs/opensoundscape/lib/python3.7/site-packages/opensoundscape/audio.py:180: UserWarning: This seems to be an AudioMoth file, but parse_audiomoth_metadata() raised: list index out of range\n",
      "  \"This seems to be an AudioMoth file, \"\n"
     ]
    },
    {
     "name": "stdout",
     "output_type": "stream",
     "text": [
      "Recordings/20220703_220602.WAV\n",
      "Recordings/20220703_220603.WAV\n",
      "Recordings/20220703_220604.WAV\n"
     ]
    },
    {
     "name": "stderr",
     "output_type": "stream",
     "text": [
      "/home/adkris1002/miniconda3/envs/opensoundscape/lib/python3.7/site-packages/opensoundscape/audio.py:239: UserWarning: audio object has zero samples\n",
      "  warnings.warn(error_msg)\n",
      "/home/adkris1002/miniconda3/envs/opensoundscape/lib/python3.7/site-packages/opensoundscape/audio.py:180: UserWarning: This seems to be an AudioMoth file, but parse_audiomoth_metadata() raised: list index out of range\n",
      "  \"This seems to be an AudioMoth file, \"\n",
      "/home/adkris1002/miniconda3/envs/opensoundscape/lib/python3.7/site-packages/opensoundscape/audio.py:239: UserWarning: audio object has zero samples\n",
      "  warnings.warn(error_msg)\n",
      "/home/adkris1002/miniconda3/envs/opensoundscape/lib/python3.7/site-packages/opensoundscape/audio.py:180: UserWarning: This seems to be an AudioMoth file, but parse_audiomoth_metadata() raised: list index out of range\n",
      "  \"This seems to be an AudioMoth file, \"\n"
     ]
    },
    {
     "name": "stdout",
     "output_type": "stream",
     "text": [
      "Recordings/20220703_220605.WAV\n",
      "Recordings/20220703_220606.WAV\n"
     ]
    },
    {
     "name": "stderr",
     "output_type": "stream",
     "text": [
      "/home/adkris1002/miniconda3/envs/opensoundscape/lib/python3.7/site-packages/opensoundscape/audio.py:239: UserWarning: audio object has zero samples\n",
      "  warnings.warn(error_msg)\n",
      "/home/adkris1002/miniconda3/envs/opensoundscape/lib/python3.7/site-packages/opensoundscape/audio.py:180: UserWarning: This seems to be an AudioMoth file, but parse_audiomoth_metadata() raised: list index out of range\n",
      "  \"This seems to be an AudioMoth file, \"\n",
      "/home/adkris1002/miniconda3/envs/opensoundscape/lib/python3.7/site-packages/opensoundscape/audio.py:239: UserWarning: audio object has zero samples\n",
      "  warnings.warn(error_msg)\n",
      "/home/adkris1002/miniconda3/envs/opensoundscape/lib/python3.7/site-packages/opensoundscape/audio.py:180: UserWarning: This seems to be an AudioMoth file, but parse_audiomoth_metadata() raised: list index out of range\n",
      "  \"This seems to be an AudioMoth file, \"\n",
      "/home/adkris1002/miniconda3/envs/opensoundscape/lib/python3.7/site-packages/opensoundscape/audio.py:239: UserWarning: audio object has zero samples\n",
      "  warnings.warn(error_msg)\n",
      "/home/adkris1002/miniconda3/envs/opensoundscape/lib/python3.7/site-packages/opensoundscape/audio.py:180: UserWarning: This seems to be an AudioMoth file, but parse_audiomoth_metadata() raised: list index out of range\n",
      "  \"This seems to be an AudioMoth file, \"\n"
     ]
    },
    {
     "name": "stdout",
     "output_type": "stream",
     "text": [
      "Recordings/20220703_220607.WAV\n",
      "Recordings/20220703_220608.WAV\n",
      "Recordings/20220703_220609.WAV\n"
     ]
    },
    {
     "name": "stderr",
     "output_type": "stream",
     "text": [
      "/home/adkris1002/miniconda3/envs/opensoundscape/lib/python3.7/site-packages/opensoundscape/audio.py:239: UserWarning: audio object has zero samples\n",
      "  warnings.warn(error_msg)\n",
      "/home/adkris1002/miniconda3/envs/opensoundscape/lib/python3.7/site-packages/opensoundscape/audio.py:180: UserWarning: This seems to be an AudioMoth file, but parse_audiomoth_metadata() raised: list index out of range\n",
      "  \"This seems to be an AudioMoth file, \"\n",
      "/home/adkris1002/miniconda3/envs/opensoundscape/lib/python3.7/site-packages/opensoundscape/audio.py:239: UserWarning: audio object has zero samples\n",
      "  warnings.warn(error_msg)\n",
      "/home/adkris1002/miniconda3/envs/opensoundscape/lib/python3.7/site-packages/opensoundscape/audio.py:180: UserWarning: This seems to be an AudioMoth file, but parse_audiomoth_metadata() raised: list index out of range\n",
      "  \"This seems to be an AudioMoth file, \"\n",
      "/home/adkris1002/miniconda3/envs/opensoundscape/lib/python3.7/site-packages/opensoundscape/audio.py:239: UserWarning: audio object has zero samples\n",
      "  warnings.warn(error_msg)\n",
      "/home/adkris1002/miniconda3/envs/opensoundscape/lib/python3.7/site-packages/opensoundscape/audio.py:180: UserWarning: This seems to be an AudioMoth file, but parse_audiomoth_metadata() raised: list index out of range\n",
      "  \"This seems to be an AudioMoth file, \"\n"
     ]
    },
    {
     "name": "stdout",
     "output_type": "stream",
     "text": [
      "Recordings/20220703_220610.WAV\n",
      "Recordings/20220703_220611.WAV\n",
      "Recordings/20220703_220612.WAV\n"
     ]
    },
    {
     "name": "stderr",
     "output_type": "stream",
     "text": [
      "/home/adkris1002/miniconda3/envs/opensoundscape/lib/python3.7/site-packages/opensoundscape/audio.py:239: UserWarning: audio object has zero samples\n",
      "  warnings.warn(error_msg)\n",
      "/home/adkris1002/miniconda3/envs/opensoundscape/lib/python3.7/site-packages/opensoundscape/audio.py:180: UserWarning: This seems to be an AudioMoth file, but parse_audiomoth_metadata() raised: list index out of range\n",
      "  \"This seems to be an AudioMoth file, \"\n",
      "/home/adkris1002/miniconda3/envs/opensoundscape/lib/python3.7/site-packages/opensoundscape/audio.py:239: UserWarning: audio object has zero samples\n",
      "  warnings.warn(error_msg)\n",
      "/home/adkris1002/miniconda3/envs/opensoundscape/lib/python3.7/site-packages/opensoundscape/audio.py:180: UserWarning: This seems to be an AudioMoth file, but parse_audiomoth_metadata() raised: list index out of range\n",
      "  \"This seems to be an AudioMoth file, \"\n",
      "/home/adkris1002/miniconda3/envs/opensoundscape/lib/python3.7/site-packages/opensoundscape/audio.py:239: UserWarning: audio object has zero samples\n",
      "  warnings.warn(error_msg)\n",
      "/home/adkris1002/miniconda3/envs/opensoundscape/lib/python3.7/site-packages/opensoundscape/audio.py:180: UserWarning: This seems to be an AudioMoth file, but parse_audiomoth_metadata() raised: list index out of range\n",
      "  \"This seems to be an AudioMoth file, \"\n"
     ]
    },
    {
     "name": "stdout",
     "output_type": "stream",
     "text": [
      "Recordings/20220703_220613.WAV\n",
      "Recordings/20220703_220614.WAV\n",
      "Recordings/20220703_220615.WAV\n"
     ]
    },
    {
     "name": "stderr",
     "output_type": "stream",
     "text": [
      "/home/adkris1002/miniconda3/envs/opensoundscape/lib/python3.7/site-packages/opensoundscape/audio.py:239: UserWarning: audio object has zero samples\n",
      "  warnings.warn(error_msg)\n",
      "/home/adkris1002/miniconda3/envs/opensoundscape/lib/python3.7/site-packages/opensoundscape/audio.py:180: UserWarning: This seems to be an AudioMoth file, but parse_audiomoth_metadata() raised: list index out of range\n",
      "  \"This seems to be an AudioMoth file, \"\n",
      "/home/adkris1002/miniconda3/envs/opensoundscape/lib/python3.7/site-packages/opensoundscape/audio.py:239: UserWarning: audio object has zero samples\n",
      "  warnings.warn(error_msg)\n",
      "/home/adkris1002/miniconda3/envs/opensoundscape/lib/python3.7/site-packages/opensoundscape/audio.py:180: UserWarning: This seems to be an AudioMoth file, but parse_audiomoth_metadata() raised: list index out of range\n",
      "  \"This seems to be an AudioMoth file, \"\n",
      "/home/adkris1002/miniconda3/envs/opensoundscape/lib/python3.7/site-packages/opensoundscape/audio.py:239: UserWarning: audio object has zero samples\n",
      "  warnings.warn(error_msg)\n",
      "/home/adkris1002/miniconda3/envs/opensoundscape/lib/python3.7/site-packages/opensoundscape/audio.py:180: UserWarning: This seems to be an AudioMoth file, but parse_audiomoth_metadata() raised: list index out of range\n",
      "  \"This seems to be an AudioMoth file, \"\n"
     ]
    },
    {
     "name": "stdout",
     "output_type": "stream",
     "text": [
      "Recordings/20220703_220616.WAV\n",
      "Recordings/20220703_220617.WAV\n",
      "Recordings/20220703_220618.WAV\n"
     ]
    },
    {
     "name": "stderr",
     "output_type": "stream",
     "text": [
      "/home/adkris1002/miniconda3/envs/opensoundscape/lib/python3.7/site-packages/opensoundscape/audio.py:239: UserWarning: audio object has zero samples\n",
      "  warnings.warn(error_msg)\n",
      "/home/adkris1002/miniconda3/envs/opensoundscape/lib/python3.7/site-packages/opensoundscape/audio.py:180: UserWarning: This seems to be an AudioMoth file, but parse_audiomoth_metadata() raised: list index out of range\n",
      "  \"This seems to be an AudioMoth file, \"\n",
      "/home/adkris1002/miniconda3/envs/opensoundscape/lib/python3.7/site-packages/opensoundscape/audio.py:239: UserWarning: audio object has zero samples\n",
      "  warnings.warn(error_msg)\n",
      "/home/adkris1002/miniconda3/envs/opensoundscape/lib/python3.7/site-packages/opensoundscape/audio.py:180: UserWarning: This seems to be an AudioMoth file, but parse_audiomoth_metadata() raised: list index out of range\n",
      "  \"This seems to be an AudioMoth file, \"\n",
      "/home/adkris1002/miniconda3/envs/opensoundscape/lib/python3.7/site-packages/opensoundscape/audio.py:239: UserWarning: audio object has zero samples\n",
      "  warnings.warn(error_msg)\n",
      "/home/adkris1002/miniconda3/envs/opensoundscape/lib/python3.7/site-packages/opensoundscape/audio.py:180: UserWarning: This seems to be an AudioMoth file, but parse_audiomoth_metadata() raised: list index out of range\n",
      "  \"This seems to be an AudioMoth file, \"\n"
     ]
    },
    {
     "name": "stdout",
     "output_type": "stream",
     "text": [
      "Recordings/20220703_220619.WAV\n",
      "Recordings/20220703_220620.WAV\n",
      "Recordings/20220703_220621.WAV\n"
     ]
    },
    {
     "name": "stderr",
     "output_type": "stream",
     "text": [
      "/home/adkris1002/miniconda3/envs/opensoundscape/lib/python3.7/site-packages/opensoundscape/audio.py:239: UserWarning: audio object has zero samples\n",
      "  warnings.warn(error_msg)\n",
      "/home/adkris1002/miniconda3/envs/opensoundscape/lib/python3.7/site-packages/opensoundscape/audio.py:180: UserWarning: This seems to be an AudioMoth file, but parse_audiomoth_metadata() raised: list index out of range\n",
      "  \"This seems to be an AudioMoth file, \"\n",
      "/home/adkris1002/miniconda3/envs/opensoundscape/lib/python3.7/site-packages/opensoundscape/audio.py:239: UserWarning: audio object has zero samples\n",
      "  warnings.warn(error_msg)\n",
      "/home/adkris1002/miniconda3/envs/opensoundscape/lib/python3.7/site-packages/opensoundscape/audio.py:180: UserWarning: This seems to be an AudioMoth file, but parse_audiomoth_metadata() raised: list index out of range\n",
      "  \"This seems to be an AudioMoth file, \"\n",
      "/home/adkris1002/miniconda3/envs/opensoundscape/lib/python3.7/site-packages/opensoundscape/audio.py:239: UserWarning: audio object has zero samples\n",
      "  warnings.warn(error_msg)\n",
      "/home/adkris1002/miniconda3/envs/opensoundscape/lib/python3.7/site-packages/opensoundscape/audio.py:180: UserWarning: This seems to be an AudioMoth file, but parse_audiomoth_metadata() raised: list index out of range\n",
      "  \"This seems to be an AudioMoth file, \"\n"
     ]
    },
    {
     "name": "stdout",
     "output_type": "stream",
     "text": [
      "Recordings/20220703_220622.WAV\n",
      "Recordings/20220703_220623.WAV\n",
      "Recordings/20220703_220624.WAV\n"
     ]
    },
    {
     "name": "stderr",
     "output_type": "stream",
     "text": [
      "/home/adkris1002/miniconda3/envs/opensoundscape/lib/python3.7/site-packages/opensoundscape/audio.py:239: UserWarning: audio object has zero samples\n",
      "  warnings.warn(error_msg)\n",
      "/home/adkris1002/miniconda3/envs/opensoundscape/lib/python3.7/site-packages/opensoundscape/audio.py:180: UserWarning: This seems to be an AudioMoth file, but parse_audiomoth_metadata() raised: list index out of range\n",
      "  \"This seems to be an AudioMoth file, \"\n",
      "/home/adkris1002/miniconda3/envs/opensoundscape/lib/python3.7/site-packages/opensoundscape/audio.py:239: UserWarning: audio object has zero samples\n",
      "  warnings.warn(error_msg)\n",
      "/home/adkris1002/miniconda3/envs/opensoundscape/lib/python3.7/site-packages/opensoundscape/audio.py:180: UserWarning: This seems to be an AudioMoth file, but parse_audiomoth_metadata() raised: list index out of range\n",
      "  \"This seems to be an AudioMoth file, \"\n",
      "/home/adkris1002/miniconda3/envs/opensoundscape/lib/python3.7/site-packages/opensoundscape/audio.py:239: UserWarning: audio object has zero samples\n",
      "  warnings.warn(error_msg)\n",
      "/home/adkris1002/miniconda3/envs/opensoundscape/lib/python3.7/site-packages/opensoundscape/audio.py:180: UserWarning: This seems to be an AudioMoth file, but parse_audiomoth_metadata() raised: list index out of range\n",
      "  \"This seems to be an AudioMoth file, \"\n"
     ]
    },
    {
     "name": "stdout",
     "output_type": "stream",
     "text": [
      "Recordings/20220703_220625.WAV\n",
      "Recordings/20220703_220626.WAV\n",
      "Recordings/20220703_220627.WAV\n"
     ]
    },
    {
     "name": "stderr",
     "output_type": "stream",
     "text": [
      "/home/adkris1002/miniconda3/envs/opensoundscape/lib/python3.7/site-packages/opensoundscape/audio.py:239: UserWarning: audio object has zero samples\n",
      "  warnings.warn(error_msg)\n",
      "/home/adkris1002/miniconda3/envs/opensoundscape/lib/python3.7/site-packages/opensoundscape/audio.py:180: UserWarning: This seems to be an AudioMoth file, but parse_audiomoth_metadata() raised: list index out of range\n",
      "  \"This seems to be an AudioMoth file, \"\n",
      "/home/adkris1002/miniconda3/envs/opensoundscape/lib/python3.7/site-packages/opensoundscape/audio.py:239: UserWarning: audio object has zero samples\n",
      "  warnings.warn(error_msg)\n",
      "/home/adkris1002/miniconda3/envs/opensoundscape/lib/python3.7/site-packages/opensoundscape/audio.py:180: UserWarning: This seems to be an AudioMoth file, but parse_audiomoth_metadata() raised: list index out of range\n",
      "  \"This seems to be an AudioMoth file, \"\n",
      "/home/adkris1002/miniconda3/envs/opensoundscape/lib/python3.7/site-packages/opensoundscape/audio.py:239: UserWarning: audio object has zero samples\n",
      "  warnings.warn(error_msg)\n",
      "/home/adkris1002/miniconda3/envs/opensoundscape/lib/python3.7/site-packages/opensoundscape/audio.py:180: UserWarning: This seems to be an AudioMoth file, but parse_audiomoth_metadata() raised: list index out of range\n",
      "  \"This seems to be an AudioMoth file, \"\n"
     ]
    },
    {
     "name": "stdout",
     "output_type": "stream",
     "text": [
      "Recordings/20220703_220628.WAV\n",
      "Recordings/20220703_220629.WAV\n",
      "Recordings/20220703_220630.WAV\n"
     ]
    },
    {
     "name": "stderr",
     "output_type": "stream",
     "text": [
      "/home/adkris1002/miniconda3/envs/opensoundscape/lib/python3.7/site-packages/opensoundscape/audio.py:239: UserWarning: audio object has zero samples\n",
      "  warnings.warn(error_msg)\n",
      "/home/adkris1002/miniconda3/envs/opensoundscape/lib/python3.7/site-packages/opensoundscape/audio.py:180: UserWarning: This seems to be an AudioMoth file, but parse_audiomoth_metadata() raised: list index out of range\n",
      "  \"This seems to be an AudioMoth file, \"\n",
      "/home/adkris1002/miniconda3/envs/opensoundscape/lib/python3.7/site-packages/opensoundscape/audio.py:239: UserWarning: audio object has zero samples\n",
      "  warnings.warn(error_msg)\n",
      "/home/adkris1002/miniconda3/envs/opensoundscape/lib/python3.7/site-packages/opensoundscape/audio.py:180: UserWarning: This seems to be an AudioMoth file, but parse_audiomoth_metadata() raised: list index out of range\n",
      "  \"This seems to be an AudioMoth file, \"\n",
      "/home/adkris1002/miniconda3/envs/opensoundscape/lib/python3.7/site-packages/opensoundscape/audio.py:239: UserWarning: audio object has zero samples\n",
      "  warnings.warn(error_msg)\n",
      "/home/adkris1002/miniconda3/envs/opensoundscape/lib/python3.7/site-packages/opensoundscape/audio.py:180: UserWarning: This seems to be an AudioMoth file, but parse_audiomoth_metadata() raised: list index out of range\n",
      "  \"This seems to be an AudioMoth file, \"\n"
     ]
    },
    {
     "name": "stdout",
     "output_type": "stream",
     "text": [
      "Recordings/20220703_220631.WAV\n",
      "Recordings/20220703_220632.WAV\n",
      "Recordings/20220703_220633.WAV\n"
     ]
    },
    {
     "name": "stderr",
     "output_type": "stream",
     "text": [
      "/home/adkris1002/miniconda3/envs/opensoundscape/lib/python3.7/site-packages/opensoundscape/audio.py:239: UserWarning: audio object has zero samples\n",
      "  warnings.warn(error_msg)\n",
      "/home/adkris1002/miniconda3/envs/opensoundscape/lib/python3.7/site-packages/opensoundscape/audio.py:180: UserWarning: This seems to be an AudioMoth file, but parse_audiomoth_metadata() raised: list index out of range\n",
      "  \"This seems to be an AudioMoth file, \"\n",
      "/home/adkris1002/miniconda3/envs/opensoundscape/lib/python3.7/site-packages/opensoundscape/audio.py:239: UserWarning: audio object has zero samples\n",
      "  warnings.warn(error_msg)\n",
      "/home/adkris1002/miniconda3/envs/opensoundscape/lib/python3.7/site-packages/opensoundscape/audio.py:180: UserWarning: This seems to be an AudioMoth file, but parse_audiomoth_metadata() raised: list index out of range\n",
      "  \"This seems to be an AudioMoth file, \"\n",
      "/home/adkris1002/miniconda3/envs/opensoundscape/lib/python3.7/site-packages/opensoundscape/audio.py:239: UserWarning: audio object has zero samples\n",
      "  warnings.warn(error_msg)\n",
      "/home/adkris1002/miniconda3/envs/opensoundscape/lib/python3.7/site-packages/opensoundscape/audio.py:180: UserWarning: This seems to be an AudioMoth file, but parse_audiomoth_metadata() raised: list index out of range\n",
      "  \"This seems to be an AudioMoth file, \"\n"
     ]
    },
    {
     "name": "stdout",
     "output_type": "stream",
     "text": [
      "Recordings/20220703_220634.WAV\n",
      "Recordings/20220703_220635.WAV\n",
      "Recordings/20220703_220636.WAV\n"
     ]
    },
    {
     "name": "stderr",
     "output_type": "stream",
     "text": [
      "/home/adkris1002/miniconda3/envs/opensoundscape/lib/python3.7/site-packages/opensoundscape/audio.py:239: UserWarning: audio object has zero samples\n",
      "  warnings.warn(error_msg)\n",
      "/home/adkris1002/miniconda3/envs/opensoundscape/lib/python3.7/site-packages/opensoundscape/audio.py:180: UserWarning: This seems to be an AudioMoth file, but parse_audiomoth_metadata() raised: list index out of range\n",
      "  \"This seems to be an AudioMoth file, \"\n",
      "/home/adkris1002/miniconda3/envs/opensoundscape/lib/python3.7/site-packages/opensoundscape/audio.py:239: UserWarning: audio object has zero samples\n",
      "  warnings.warn(error_msg)\n",
      "/home/adkris1002/miniconda3/envs/opensoundscape/lib/python3.7/site-packages/opensoundscape/audio.py:180: UserWarning: This seems to be an AudioMoth file, but parse_audiomoth_metadata() raised: list index out of range\n",
      "  \"This seems to be an AudioMoth file, \"\n",
      "/home/adkris1002/miniconda3/envs/opensoundscape/lib/python3.7/site-packages/opensoundscape/audio.py:239: UserWarning: audio object has zero samples\n",
      "  warnings.warn(error_msg)\n",
      "/home/adkris1002/miniconda3/envs/opensoundscape/lib/python3.7/site-packages/opensoundscape/audio.py:180: UserWarning: This seems to be an AudioMoth file, but parse_audiomoth_metadata() raised: list index out of range\n",
      "  \"This seems to be an AudioMoth file, \"\n"
     ]
    },
    {
     "name": "stdout",
     "output_type": "stream",
     "text": [
      "Recordings/20220703_220637.WAV\n",
      "Recordings/20220703_220638.WAV\n",
      "Recordings/20220703_220639.WAV\n"
     ]
    },
    {
     "name": "stderr",
     "output_type": "stream",
     "text": [
      "/home/adkris1002/miniconda3/envs/opensoundscape/lib/python3.7/site-packages/opensoundscape/audio.py:239: UserWarning: audio object has zero samples\n",
      "  warnings.warn(error_msg)\n",
      "/home/adkris1002/miniconda3/envs/opensoundscape/lib/python3.7/site-packages/opensoundscape/audio.py:180: UserWarning: This seems to be an AudioMoth file, but parse_audiomoth_metadata() raised: list index out of range\n",
      "  \"This seems to be an AudioMoth file, \"\n",
      "/home/adkris1002/miniconda3/envs/opensoundscape/lib/python3.7/site-packages/opensoundscape/audio.py:239: UserWarning: audio object has zero samples\n",
      "  warnings.warn(error_msg)\n",
      "/home/adkris1002/miniconda3/envs/opensoundscape/lib/python3.7/site-packages/opensoundscape/audio.py:180: UserWarning: This seems to be an AudioMoth file, but parse_audiomoth_metadata() raised: list index out of range\n",
      "  \"This seems to be an AudioMoth file, \"\n",
      "/home/adkris1002/miniconda3/envs/opensoundscape/lib/python3.7/site-packages/opensoundscape/audio.py:239: UserWarning: audio object has zero samples\n",
      "  warnings.warn(error_msg)\n",
      "/home/adkris1002/miniconda3/envs/opensoundscape/lib/python3.7/site-packages/opensoundscape/audio.py:180: UserWarning: This seems to be an AudioMoth file, but parse_audiomoth_metadata() raised: list index out of range\n",
      "  \"This seems to be an AudioMoth file, \"\n"
     ]
    },
    {
     "name": "stdout",
     "output_type": "stream",
     "text": [
      "Recordings/20220703_220640.WAV\n",
      "Recordings/20220703_220641.WAV\n",
      "Recordings/20220703_220642.WAV\n"
     ]
    },
    {
     "name": "stderr",
     "output_type": "stream",
     "text": [
      "/home/adkris1002/miniconda3/envs/opensoundscape/lib/python3.7/site-packages/opensoundscape/audio.py:239: UserWarning: audio object has zero samples\n",
      "  warnings.warn(error_msg)\n",
      "/home/adkris1002/miniconda3/envs/opensoundscape/lib/python3.7/site-packages/opensoundscape/audio.py:180: UserWarning: This seems to be an AudioMoth file, but parse_audiomoth_metadata() raised: list index out of range\n",
      "  \"This seems to be an AudioMoth file, \"\n",
      "/home/adkris1002/miniconda3/envs/opensoundscape/lib/python3.7/site-packages/opensoundscape/audio.py:239: UserWarning: audio object has zero samples\n",
      "  warnings.warn(error_msg)\n",
      "/home/adkris1002/miniconda3/envs/opensoundscape/lib/python3.7/site-packages/opensoundscape/audio.py:180: UserWarning: This seems to be an AudioMoth file, but parse_audiomoth_metadata() raised: list index out of range\n",
      "  \"This seems to be an AudioMoth file, \"\n",
      "/home/adkris1002/miniconda3/envs/opensoundscape/lib/python3.7/site-packages/opensoundscape/audio.py:239: UserWarning: audio object has zero samples\n",
      "  warnings.warn(error_msg)\n",
      "/home/adkris1002/miniconda3/envs/opensoundscape/lib/python3.7/site-packages/opensoundscape/audio.py:180: UserWarning: This seems to be an AudioMoth file, but parse_audiomoth_metadata() raised: list index out of range\n",
      "  \"This seems to be an AudioMoth file, \"\n"
     ]
    },
    {
     "name": "stdout",
     "output_type": "stream",
     "text": [
      "Recordings/20220703_220643.WAV\n",
      "Recordings/20220703_220644.WAV\n",
      "Recordings/20220703_220645.WAV\n"
     ]
    },
    {
     "name": "stderr",
     "output_type": "stream",
     "text": [
      "/home/adkris1002/miniconda3/envs/opensoundscape/lib/python3.7/site-packages/opensoundscape/audio.py:239: UserWarning: audio object has zero samples\n",
      "  warnings.warn(error_msg)\n",
      "/home/adkris1002/miniconda3/envs/opensoundscape/lib/python3.7/site-packages/opensoundscape/audio.py:180: UserWarning: This seems to be an AudioMoth file, but parse_audiomoth_metadata() raised: list index out of range\n",
      "  \"This seems to be an AudioMoth file, \"\n",
      "/home/adkris1002/miniconda3/envs/opensoundscape/lib/python3.7/site-packages/opensoundscape/audio.py:239: UserWarning: audio object has zero samples\n",
      "  warnings.warn(error_msg)\n",
      "/home/adkris1002/miniconda3/envs/opensoundscape/lib/python3.7/site-packages/opensoundscape/audio.py:180: UserWarning: This seems to be an AudioMoth file, but parse_audiomoth_metadata() raised: list index out of range\n",
      "  \"This seems to be an AudioMoth file, \"\n",
      "/home/adkris1002/miniconda3/envs/opensoundscape/lib/python3.7/site-packages/opensoundscape/audio.py:239: UserWarning: audio object has zero samples\n",
      "  warnings.warn(error_msg)\n",
      "/home/adkris1002/miniconda3/envs/opensoundscape/lib/python3.7/site-packages/opensoundscape/audio.py:180: UserWarning: This seems to be an AudioMoth file, but parse_audiomoth_metadata() raised: list index out of range\n",
      "  \"This seems to be an AudioMoth file, \"\n"
     ]
    },
    {
     "name": "stdout",
     "output_type": "stream",
     "text": [
      "Recordings/20220703_220646.WAV\n",
      "Recordings/20220703_220647.WAV\n",
      "Recordings/20220703_220648.WAV\n"
     ]
    },
    {
     "name": "stderr",
     "output_type": "stream",
     "text": [
      "/home/adkris1002/miniconda3/envs/opensoundscape/lib/python3.7/site-packages/opensoundscape/audio.py:239: UserWarning: audio object has zero samples\n",
      "  warnings.warn(error_msg)\n",
      "/home/adkris1002/miniconda3/envs/opensoundscape/lib/python3.7/site-packages/opensoundscape/audio.py:180: UserWarning: This seems to be an AudioMoth file, but parse_audiomoth_metadata() raised: list index out of range\n",
      "  \"This seems to be an AudioMoth file, \"\n",
      "/home/adkris1002/miniconda3/envs/opensoundscape/lib/python3.7/site-packages/opensoundscape/audio.py:239: UserWarning: audio object has zero samples\n",
      "  warnings.warn(error_msg)\n",
      "/home/adkris1002/miniconda3/envs/opensoundscape/lib/python3.7/site-packages/opensoundscape/audio.py:180: UserWarning: This seems to be an AudioMoth file, but parse_audiomoth_metadata() raised: list index out of range\n",
      "  \"This seems to be an AudioMoth file, \"\n",
      "/home/adkris1002/miniconda3/envs/opensoundscape/lib/python3.7/site-packages/opensoundscape/audio.py:239: UserWarning: audio object has zero samples\n",
      "  warnings.warn(error_msg)\n",
      "/home/adkris1002/miniconda3/envs/opensoundscape/lib/python3.7/site-packages/opensoundscape/audio.py:180: UserWarning: This seems to be an AudioMoth file, but parse_audiomoth_metadata() raised: list index out of range\n",
      "  \"This seems to be an AudioMoth file, \"\n"
     ]
    },
    {
     "name": "stdout",
     "output_type": "stream",
     "text": [
      "Recordings/20220703_220649.WAV\n",
      "Recordings/20220703_220650.WAV\n",
      "Recordings/20220703_220651.WAV\n"
     ]
    },
    {
     "name": "stderr",
     "output_type": "stream",
     "text": [
      "/home/adkris1002/miniconda3/envs/opensoundscape/lib/python3.7/site-packages/opensoundscape/audio.py:239: UserWarning: audio object has zero samples\n",
      "  warnings.warn(error_msg)\n",
      "/home/adkris1002/miniconda3/envs/opensoundscape/lib/python3.7/site-packages/opensoundscape/audio.py:180: UserWarning: This seems to be an AudioMoth file, but parse_audiomoth_metadata() raised: list index out of range\n",
      "  \"This seems to be an AudioMoth file, \"\n",
      "/home/adkris1002/miniconda3/envs/opensoundscape/lib/python3.7/site-packages/opensoundscape/audio.py:239: UserWarning: audio object has zero samples\n",
      "  warnings.warn(error_msg)\n",
      "/home/adkris1002/miniconda3/envs/opensoundscape/lib/python3.7/site-packages/opensoundscape/audio.py:180: UserWarning: This seems to be an AudioMoth file, but parse_audiomoth_metadata() raised: list index out of range\n",
      "  \"This seems to be an AudioMoth file, \"\n",
      "/home/adkris1002/miniconda3/envs/opensoundscape/lib/python3.7/site-packages/opensoundscape/audio.py:239: UserWarning: audio object has zero samples\n",
      "  warnings.warn(error_msg)\n",
      "/home/adkris1002/miniconda3/envs/opensoundscape/lib/python3.7/site-packages/opensoundscape/audio.py:180: UserWarning: This seems to be an AudioMoth file, but parse_audiomoth_metadata() raised: list index out of range\n",
      "  \"This seems to be an AudioMoth file, \"\n"
     ]
    },
    {
     "name": "stdout",
     "output_type": "stream",
     "text": [
      "Recordings/20220703_220652.WAV\n",
      "Recordings/20220703_220653.WAV\n",
      "Recordings/20220703_220654.WAV\n"
     ]
    },
    {
     "name": "stderr",
     "output_type": "stream",
     "text": [
      "/home/adkris1002/miniconda3/envs/opensoundscape/lib/python3.7/site-packages/opensoundscape/audio.py:239: UserWarning: audio object has zero samples\n",
      "  warnings.warn(error_msg)\n",
      "/home/adkris1002/miniconda3/envs/opensoundscape/lib/python3.7/site-packages/opensoundscape/audio.py:180: UserWarning: This seems to be an AudioMoth file, but parse_audiomoth_metadata() raised: list index out of range\n",
      "  \"This seems to be an AudioMoth file, \"\n",
      "/home/adkris1002/miniconda3/envs/opensoundscape/lib/python3.7/site-packages/opensoundscape/audio.py:239: UserWarning: audio object has zero samples\n",
      "  warnings.warn(error_msg)\n",
      "/home/adkris1002/miniconda3/envs/opensoundscape/lib/python3.7/site-packages/opensoundscape/audio.py:180: UserWarning: This seems to be an AudioMoth file, but parse_audiomoth_metadata() raised: list index out of range\n",
      "  \"This seems to be an AudioMoth file, \"\n",
      "/home/adkris1002/miniconda3/envs/opensoundscape/lib/python3.7/site-packages/opensoundscape/audio.py:239: UserWarning: audio object has zero samples\n",
      "  warnings.warn(error_msg)\n",
      "/home/adkris1002/miniconda3/envs/opensoundscape/lib/python3.7/site-packages/opensoundscape/audio.py:180: UserWarning: This seems to be an AudioMoth file, but parse_audiomoth_metadata() raised: list index out of range\n",
      "  \"This seems to be an AudioMoth file, \"\n"
     ]
    },
    {
     "name": "stdout",
     "output_type": "stream",
     "text": [
      "Recordings/20220703_220655.WAV\n",
      "Recordings/20220703_220656.WAV\n",
      "Recordings/20220703_220657.WAV\n"
     ]
    },
    {
     "name": "stderr",
     "output_type": "stream",
     "text": [
      "/home/adkris1002/miniconda3/envs/opensoundscape/lib/python3.7/site-packages/opensoundscape/audio.py:239: UserWarning: audio object has zero samples\n",
      "  warnings.warn(error_msg)\n",
      "/home/adkris1002/miniconda3/envs/opensoundscape/lib/python3.7/site-packages/opensoundscape/audio.py:180: UserWarning: This seems to be an AudioMoth file, but parse_audiomoth_metadata() raised: list index out of range\n",
      "  \"This seems to be an AudioMoth file, \"\n",
      "/home/adkris1002/miniconda3/envs/opensoundscape/lib/python3.7/site-packages/opensoundscape/audio.py:239: UserWarning: audio object has zero samples\n",
      "  warnings.warn(error_msg)\n",
      "/home/adkris1002/miniconda3/envs/opensoundscape/lib/python3.7/site-packages/opensoundscape/audio.py:180: UserWarning: This seems to be an AudioMoth file, but parse_audiomoth_metadata() raised: list index out of range\n",
      "  \"This seems to be an AudioMoth file, \"\n"
     ]
    },
    {
     "name": "stdout",
     "output_type": "stream",
     "text": [
      "Recordings/20220703_220658.WAV\n",
      "Recordings/20220703_220659.WAV\n"
     ]
    },
    {
     "name": "stderr",
     "output_type": "stream",
     "text": [
      "/home/adkris1002/miniconda3/envs/opensoundscape/lib/python3.7/site-packages/opensoundscape/audio.py:239: UserWarning: audio object has zero samples\n",
      "  warnings.warn(error_msg)\n",
      "/home/adkris1002/miniconda3/envs/opensoundscape/lib/python3.7/site-packages/opensoundscape/audio.py:180: UserWarning: This seems to be an AudioMoth file, but parse_audiomoth_metadata() raised: list index out of range\n",
      "  \"This seems to be an AudioMoth file, \"\n",
      "/home/adkris1002/miniconda3/envs/opensoundscape/lib/python3.7/site-packages/opensoundscape/audio.py:239: UserWarning: audio object has zero samples\n",
      "  warnings.warn(error_msg)\n",
      "/home/adkris1002/miniconda3/envs/opensoundscape/lib/python3.7/site-packages/opensoundscape/audio.py:180: UserWarning: This seems to be an AudioMoth file, but parse_audiomoth_metadata() raised: list index out of range\n",
      "  \"This seems to be an AudioMoth file, \"\n",
      "/home/adkris1002/miniconda3/envs/opensoundscape/lib/python3.7/site-packages/opensoundscape/audio.py:239: UserWarning: audio object has zero samples\n",
      "  warnings.warn(error_msg)\n",
      "/home/adkris1002/miniconda3/envs/opensoundscape/lib/python3.7/site-packages/opensoundscape/audio.py:180: UserWarning: This seems to be an AudioMoth file, but parse_audiomoth_metadata() raised: list index out of range\n",
      "  \"This seems to be an AudioMoth file, \"\n"
     ]
    },
    {
     "name": "stdout",
     "output_type": "stream",
     "text": [
      "Recordings/20220703_220700.WAV\n",
      "Recordings/20220703_220701.WAV\n",
      "Recordings/20220703_220702.WAV\n"
     ]
    },
    {
     "name": "stderr",
     "output_type": "stream",
     "text": [
      "/home/adkris1002/miniconda3/envs/opensoundscape/lib/python3.7/site-packages/opensoundscape/audio.py:239: UserWarning: audio object has zero samples\n",
      "  warnings.warn(error_msg)\n",
      "/home/adkris1002/miniconda3/envs/opensoundscape/lib/python3.7/site-packages/opensoundscape/audio.py:180: UserWarning: This seems to be an AudioMoth file, but parse_audiomoth_metadata() raised: list index out of range\n",
      "  \"This seems to be an AudioMoth file, \"\n",
      "/home/adkris1002/miniconda3/envs/opensoundscape/lib/python3.7/site-packages/opensoundscape/audio.py:239: UserWarning: audio object has zero samples\n",
      "  warnings.warn(error_msg)\n",
      "/home/adkris1002/miniconda3/envs/opensoundscape/lib/python3.7/site-packages/opensoundscape/audio.py:180: UserWarning: This seems to be an AudioMoth file, but parse_audiomoth_metadata() raised: list index out of range\n",
      "  \"This seems to be an AudioMoth file, \"\n",
      "/home/adkris1002/miniconda3/envs/opensoundscape/lib/python3.7/site-packages/opensoundscape/audio.py:239: UserWarning: audio object has zero samples\n",
      "  warnings.warn(error_msg)\n",
      "/home/adkris1002/miniconda3/envs/opensoundscape/lib/python3.7/site-packages/opensoundscape/audio.py:180: UserWarning: This seems to be an AudioMoth file, but parse_audiomoth_metadata() raised: list index out of range\n",
      "  \"This seems to be an AudioMoth file, \"\n"
     ]
    },
    {
     "name": "stdout",
     "output_type": "stream",
     "text": [
      "Recordings/20220703_220703.WAV\n",
      "Recordings/20220703_220704.WAV\n",
      "Recordings/20220703_220705.WAV\n"
     ]
    },
    {
     "name": "stderr",
     "output_type": "stream",
     "text": [
      "/home/adkris1002/miniconda3/envs/opensoundscape/lib/python3.7/site-packages/opensoundscape/audio.py:239: UserWarning: audio object has zero samples\n",
      "  warnings.warn(error_msg)\n",
      "/home/adkris1002/miniconda3/envs/opensoundscape/lib/python3.7/site-packages/opensoundscape/audio.py:180: UserWarning: This seems to be an AudioMoth file, but parse_audiomoth_metadata() raised: list index out of range\n",
      "  \"This seems to be an AudioMoth file, \"\n",
      "/home/adkris1002/miniconda3/envs/opensoundscape/lib/python3.7/site-packages/opensoundscape/audio.py:239: UserWarning: audio object has zero samples\n",
      "  warnings.warn(error_msg)\n",
      "/home/adkris1002/miniconda3/envs/opensoundscape/lib/python3.7/site-packages/opensoundscape/audio.py:180: UserWarning: This seems to be an AudioMoth file, but parse_audiomoth_metadata() raised: list index out of range\n",
      "  \"This seems to be an AudioMoth file, \"\n",
      "/home/adkris1002/miniconda3/envs/opensoundscape/lib/python3.7/site-packages/opensoundscape/audio.py:239: UserWarning: audio object has zero samples\n",
      "  warnings.warn(error_msg)\n",
      "/home/adkris1002/miniconda3/envs/opensoundscape/lib/python3.7/site-packages/opensoundscape/audio.py:180: UserWarning: This seems to be an AudioMoth file, but parse_audiomoth_metadata() raised: list index out of range\n",
      "  \"This seems to be an AudioMoth file, \"\n"
     ]
    },
    {
     "name": "stdout",
     "output_type": "stream",
     "text": [
      "Recordings/20220703_220706.WAV\n",
      "Recordings/20220703_220707.WAV\n",
      "Recordings/20220703_220708.WAV\n"
     ]
    },
    {
     "name": "stderr",
     "output_type": "stream",
     "text": [
      "/home/adkris1002/miniconda3/envs/opensoundscape/lib/python3.7/site-packages/opensoundscape/audio.py:239: UserWarning: audio object has zero samples\n",
      "  warnings.warn(error_msg)\n",
      "/home/adkris1002/miniconda3/envs/opensoundscape/lib/python3.7/site-packages/opensoundscape/audio.py:180: UserWarning: This seems to be an AudioMoth file, but parse_audiomoth_metadata() raised: list index out of range\n",
      "  \"This seems to be an AudioMoth file, \"\n",
      "/home/adkris1002/miniconda3/envs/opensoundscape/lib/python3.7/site-packages/opensoundscape/audio.py:239: UserWarning: audio object has zero samples\n",
      "  warnings.warn(error_msg)\n",
      "/home/adkris1002/miniconda3/envs/opensoundscape/lib/python3.7/site-packages/opensoundscape/audio.py:180: UserWarning: This seems to be an AudioMoth file, but parse_audiomoth_metadata() raised: list index out of range\n",
      "  \"This seems to be an AudioMoth file, \"\n",
      "/home/adkris1002/miniconda3/envs/opensoundscape/lib/python3.7/site-packages/opensoundscape/audio.py:239: UserWarning: audio object has zero samples\n",
      "  warnings.warn(error_msg)\n",
      "/home/adkris1002/miniconda3/envs/opensoundscape/lib/python3.7/site-packages/opensoundscape/audio.py:180: UserWarning: This seems to be an AudioMoth file, but parse_audiomoth_metadata() raised: list index out of range\n",
      "  \"This seems to be an AudioMoth file, \"\n"
     ]
    },
    {
     "name": "stdout",
     "output_type": "stream",
     "text": [
      "Recordings/20220703_220709.WAV\n",
      "Recordings/20220703_220710.WAV\n",
      "Recordings/20220703_220711.WAV\n"
     ]
    },
    {
     "name": "stderr",
     "output_type": "stream",
     "text": [
      "/home/adkris1002/miniconda3/envs/opensoundscape/lib/python3.7/site-packages/opensoundscape/audio.py:239: UserWarning: audio object has zero samples\n",
      "  warnings.warn(error_msg)\n",
      "/home/adkris1002/miniconda3/envs/opensoundscape/lib/python3.7/site-packages/opensoundscape/audio.py:180: UserWarning: This seems to be an AudioMoth file, but parse_audiomoth_metadata() raised: list index out of range\n",
      "  \"This seems to be an AudioMoth file, \"\n",
      "/home/adkris1002/miniconda3/envs/opensoundscape/lib/python3.7/site-packages/opensoundscape/audio.py:239: UserWarning: audio object has zero samples\n",
      "  warnings.warn(error_msg)\n",
      "/home/adkris1002/miniconda3/envs/opensoundscape/lib/python3.7/site-packages/opensoundscape/audio.py:180: UserWarning: This seems to be an AudioMoth file, but parse_audiomoth_metadata() raised: list index out of range\n",
      "  \"This seems to be an AudioMoth file, \"\n",
      "/home/adkris1002/miniconda3/envs/opensoundscape/lib/python3.7/site-packages/opensoundscape/audio.py:239: UserWarning: audio object has zero samples\n",
      "  warnings.warn(error_msg)\n",
      "/home/adkris1002/miniconda3/envs/opensoundscape/lib/python3.7/site-packages/opensoundscape/audio.py:180: UserWarning: This seems to be an AudioMoth file, but parse_audiomoth_metadata() raised: list index out of range\n",
      "  \"This seems to be an AudioMoth file, \"\n"
     ]
    },
    {
     "name": "stdout",
     "output_type": "stream",
     "text": [
      "Recordings/20220703_220712.WAV\n",
      "Recordings/20220703_220713.WAV\n",
      "Recordings/20220703_220714.WAV\n"
     ]
    },
    {
     "name": "stderr",
     "output_type": "stream",
     "text": [
      "/home/adkris1002/miniconda3/envs/opensoundscape/lib/python3.7/site-packages/opensoundscape/audio.py:239: UserWarning: audio object has zero samples\n",
      "  warnings.warn(error_msg)\n",
      "/home/adkris1002/miniconda3/envs/opensoundscape/lib/python3.7/site-packages/opensoundscape/audio.py:180: UserWarning: This seems to be an AudioMoth file, but parse_audiomoth_metadata() raised: list index out of range\n",
      "  \"This seems to be an AudioMoth file, \"\n",
      "/home/adkris1002/miniconda3/envs/opensoundscape/lib/python3.7/site-packages/opensoundscape/audio.py:239: UserWarning: audio object has zero samples\n",
      "  warnings.warn(error_msg)\n",
      "/home/adkris1002/miniconda3/envs/opensoundscape/lib/python3.7/site-packages/opensoundscape/audio.py:180: UserWarning: This seems to be an AudioMoth file, but parse_audiomoth_metadata() raised: list index out of range\n",
      "  \"This seems to be an AudioMoth file, \"\n",
      "/home/adkris1002/miniconda3/envs/opensoundscape/lib/python3.7/site-packages/opensoundscape/audio.py:239: UserWarning: audio object has zero samples\n",
      "  warnings.warn(error_msg)\n",
      "/home/adkris1002/miniconda3/envs/opensoundscape/lib/python3.7/site-packages/opensoundscape/audio.py:180: UserWarning: This seems to be an AudioMoth file, but parse_audiomoth_metadata() raised: list index out of range\n",
      "  \"This seems to be an AudioMoth file, \"\n"
     ]
    },
    {
     "name": "stdout",
     "output_type": "stream",
     "text": [
      "Recordings/20220703_220715.WAV\n",
      "Recordings/20220703_220716.WAV\n",
      "Recordings/20220703_220717.WAV\n"
     ]
    },
    {
     "name": "stderr",
     "output_type": "stream",
     "text": [
      "/home/adkris1002/miniconda3/envs/opensoundscape/lib/python3.7/site-packages/opensoundscape/audio.py:239: UserWarning: audio object has zero samples\n",
      "  warnings.warn(error_msg)\n",
      "/home/adkris1002/miniconda3/envs/opensoundscape/lib/python3.7/site-packages/opensoundscape/audio.py:180: UserWarning: This seems to be an AudioMoth file, but parse_audiomoth_metadata() raised: list index out of range\n",
      "  \"This seems to be an AudioMoth file, \"\n",
      "/home/adkris1002/miniconda3/envs/opensoundscape/lib/python3.7/site-packages/opensoundscape/audio.py:239: UserWarning: audio object has zero samples\n",
      "  warnings.warn(error_msg)\n",
      "/home/adkris1002/miniconda3/envs/opensoundscape/lib/python3.7/site-packages/opensoundscape/audio.py:180: UserWarning: This seems to be an AudioMoth file, but parse_audiomoth_metadata() raised: list index out of range\n",
      "  \"This seems to be an AudioMoth file, \"\n",
      "/home/adkris1002/miniconda3/envs/opensoundscape/lib/python3.7/site-packages/opensoundscape/audio.py:239: UserWarning: audio object has zero samples\n",
      "  warnings.warn(error_msg)\n",
      "/home/adkris1002/miniconda3/envs/opensoundscape/lib/python3.7/site-packages/opensoundscape/audio.py:180: UserWarning: This seems to be an AudioMoth file, but parse_audiomoth_metadata() raised: list index out of range\n",
      "  \"This seems to be an AudioMoth file, \"\n"
     ]
    },
    {
     "name": "stdout",
     "output_type": "stream",
     "text": [
      "Recordings/20220703_220718.WAV\n",
      "Recordings/20220703_220719.WAV\n",
      "Recordings/20220703_220720.WAV\n"
     ]
    },
    {
     "name": "stderr",
     "output_type": "stream",
     "text": [
      "/home/adkris1002/miniconda3/envs/opensoundscape/lib/python3.7/site-packages/opensoundscape/audio.py:239: UserWarning: audio object has zero samples\n",
      "  warnings.warn(error_msg)\n",
      "/home/adkris1002/miniconda3/envs/opensoundscape/lib/python3.7/site-packages/opensoundscape/audio.py:180: UserWarning: This seems to be an AudioMoth file, but parse_audiomoth_metadata() raised: list index out of range\n",
      "  \"This seems to be an AudioMoth file, \"\n",
      "/home/adkris1002/miniconda3/envs/opensoundscape/lib/python3.7/site-packages/opensoundscape/audio.py:239: UserWarning: audio object has zero samples\n",
      "  warnings.warn(error_msg)\n",
      "/home/adkris1002/miniconda3/envs/opensoundscape/lib/python3.7/site-packages/opensoundscape/audio.py:180: UserWarning: This seems to be an AudioMoth file, but parse_audiomoth_metadata() raised: list index out of range\n",
      "  \"This seems to be an AudioMoth file, \"\n",
      "/home/adkris1002/miniconda3/envs/opensoundscape/lib/python3.7/site-packages/opensoundscape/audio.py:239: UserWarning: audio object has zero samples\n",
      "  warnings.warn(error_msg)\n",
      "/home/adkris1002/miniconda3/envs/opensoundscape/lib/python3.7/site-packages/opensoundscape/audio.py:180: UserWarning: This seems to be an AudioMoth file, but parse_audiomoth_metadata() raised: list index out of range\n",
      "  \"This seems to be an AudioMoth file, \"\n"
     ]
    },
    {
     "name": "stdout",
     "output_type": "stream",
     "text": [
      "Recordings/20220703_220721.WAV\n",
      "Recordings/20220703_220722.WAV\n",
      "Recordings/20220703_220723.WAV\n"
     ]
    },
    {
     "name": "stderr",
     "output_type": "stream",
     "text": [
      "/home/adkris1002/miniconda3/envs/opensoundscape/lib/python3.7/site-packages/opensoundscape/audio.py:239: UserWarning: audio object has zero samples\n",
      "  warnings.warn(error_msg)\n",
      "/home/adkris1002/miniconda3/envs/opensoundscape/lib/python3.7/site-packages/opensoundscape/audio.py:180: UserWarning: This seems to be an AudioMoth file, but parse_audiomoth_metadata() raised: list index out of range\n",
      "  \"This seems to be an AudioMoth file, \"\n",
      "/home/adkris1002/miniconda3/envs/opensoundscape/lib/python3.7/site-packages/opensoundscape/audio.py:239: UserWarning: audio object has zero samples\n",
      "  warnings.warn(error_msg)\n",
      "/home/adkris1002/miniconda3/envs/opensoundscape/lib/python3.7/site-packages/opensoundscape/audio.py:180: UserWarning: This seems to be an AudioMoth file, but parse_audiomoth_metadata() raised: list index out of range\n",
      "  \"This seems to be an AudioMoth file, \"\n",
      "/home/adkris1002/miniconda3/envs/opensoundscape/lib/python3.7/site-packages/opensoundscape/audio.py:239: UserWarning: audio object has zero samples\n",
      "  warnings.warn(error_msg)\n",
      "/home/adkris1002/miniconda3/envs/opensoundscape/lib/python3.7/site-packages/opensoundscape/audio.py:180: UserWarning: This seems to be an AudioMoth file, but parse_audiomoth_metadata() raised: list index out of range\n",
      "  \"This seems to be an AudioMoth file, \"\n"
     ]
    },
    {
     "name": "stdout",
     "output_type": "stream",
     "text": [
      "Recordings/20220703_220724.WAV\n",
      "Recordings/20220703_220725.WAV\n",
      "Recordings/20220703_220726.WAV\n"
     ]
    },
    {
     "name": "stderr",
     "output_type": "stream",
     "text": [
      "/home/adkris1002/miniconda3/envs/opensoundscape/lib/python3.7/site-packages/opensoundscape/audio.py:239: UserWarning: audio object has zero samples\n",
      "  warnings.warn(error_msg)\n",
      "/home/adkris1002/miniconda3/envs/opensoundscape/lib/python3.7/site-packages/opensoundscape/audio.py:180: UserWarning: This seems to be an AudioMoth file, but parse_audiomoth_metadata() raised: list index out of range\n",
      "  \"This seems to be an AudioMoth file, \"\n",
      "/home/adkris1002/miniconda3/envs/opensoundscape/lib/python3.7/site-packages/opensoundscape/audio.py:239: UserWarning: audio object has zero samples\n",
      "  warnings.warn(error_msg)\n",
      "/home/adkris1002/miniconda3/envs/opensoundscape/lib/python3.7/site-packages/opensoundscape/audio.py:180: UserWarning: This seems to be an AudioMoth file, but parse_audiomoth_metadata() raised: list index out of range\n",
      "  \"This seems to be an AudioMoth file, \"\n",
      "/home/adkris1002/miniconda3/envs/opensoundscape/lib/python3.7/site-packages/opensoundscape/audio.py:239: UserWarning: audio object has zero samples\n",
      "  warnings.warn(error_msg)\n",
      "/home/adkris1002/miniconda3/envs/opensoundscape/lib/python3.7/site-packages/opensoundscape/audio.py:180: UserWarning: This seems to be an AudioMoth file, but parse_audiomoth_metadata() raised: list index out of range\n",
      "  \"This seems to be an AudioMoth file, \"\n"
     ]
    },
    {
     "name": "stdout",
     "output_type": "stream",
     "text": [
      "Recordings/20220703_220727.WAV\n",
      "Recordings/20220703_220728.WAV\n",
      "Recordings/20220703_220729.WAV\n"
     ]
    },
    {
     "name": "stderr",
     "output_type": "stream",
     "text": [
      "/home/adkris1002/miniconda3/envs/opensoundscape/lib/python3.7/site-packages/opensoundscape/audio.py:239: UserWarning: audio object has zero samples\n",
      "  warnings.warn(error_msg)\n",
      "/home/adkris1002/miniconda3/envs/opensoundscape/lib/python3.7/site-packages/opensoundscape/audio.py:180: UserWarning: This seems to be an AudioMoth file, but parse_audiomoth_metadata() raised: list index out of range\n",
      "  \"This seems to be an AudioMoth file, \"\n",
      "/home/adkris1002/miniconda3/envs/opensoundscape/lib/python3.7/site-packages/opensoundscape/audio.py:239: UserWarning: audio object has zero samples\n",
      "  warnings.warn(error_msg)\n",
      "/home/adkris1002/miniconda3/envs/opensoundscape/lib/python3.7/site-packages/opensoundscape/audio.py:180: UserWarning: This seems to be an AudioMoth file, but parse_audiomoth_metadata() raised: list index out of range\n",
      "  \"This seems to be an AudioMoth file, \"\n",
      "/home/adkris1002/miniconda3/envs/opensoundscape/lib/python3.7/site-packages/opensoundscape/audio.py:239: UserWarning: audio object has zero samples\n",
      "  warnings.warn(error_msg)\n",
      "/home/adkris1002/miniconda3/envs/opensoundscape/lib/python3.7/site-packages/opensoundscape/audio.py:180: UserWarning: This seems to be an AudioMoth file, but parse_audiomoth_metadata() raised: list index out of range\n",
      "  \"This seems to be an AudioMoth file, \"\n"
     ]
    },
    {
     "name": "stdout",
     "output_type": "stream",
     "text": [
      "Recordings/20220703_220730.WAV\n",
      "Recordings/20220703_220731.WAV\n",
      "Recordings/20220703_220732.WAV\n"
     ]
    },
    {
     "name": "stderr",
     "output_type": "stream",
     "text": [
      "/home/adkris1002/miniconda3/envs/opensoundscape/lib/python3.7/site-packages/opensoundscape/audio.py:239: UserWarning: audio object has zero samples\n",
      "  warnings.warn(error_msg)\n",
      "/home/adkris1002/miniconda3/envs/opensoundscape/lib/python3.7/site-packages/opensoundscape/audio.py:180: UserWarning: This seems to be an AudioMoth file, but parse_audiomoth_metadata() raised: list index out of range\n",
      "  \"This seems to be an AudioMoth file, \"\n",
      "/home/adkris1002/miniconda3/envs/opensoundscape/lib/python3.7/site-packages/opensoundscape/audio.py:239: UserWarning: audio object has zero samples\n",
      "  warnings.warn(error_msg)\n",
      "/home/adkris1002/miniconda3/envs/opensoundscape/lib/python3.7/site-packages/opensoundscape/audio.py:180: UserWarning: This seems to be an AudioMoth file, but parse_audiomoth_metadata() raised: list index out of range\n",
      "  \"This seems to be an AudioMoth file, \"\n",
      "/home/adkris1002/miniconda3/envs/opensoundscape/lib/python3.7/site-packages/opensoundscape/audio.py:239: UserWarning: audio object has zero samples\n",
      "  warnings.warn(error_msg)\n",
      "/home/adkris1002/miniconda3/envs/opensoundscape/lib/python3.7/site-packages/opensoundscape/audio.py:180: UserWarning: This seems to be an AudioMoth file, but parse_audiomoth_metadata() raised: list index out of range\n",
      "  \"This seems to be an AudioMoth file, \"\n"
     ]
    },
    {
     "name": "stdout",
     "output_type": "stream",
     "text": [
      "Recordings/20220703_220733.WAV\n",
      "Recordings/20220703_220734.WAV\n",
      "Recordings/20220703_220735.WAV\n"
     ]
    },
    {
     "name": "stderr",
     "output_type": "stream",
     "text": [
      "/home/adkris1002/miniconda3/envs/opensoundscape/lib/python3.7/site-packages/opensoundscape/audio.py:239: UserWarning: audio object has zero samples\n",
      "  warnings.warn(error_msg)\n",
      "/home/adkris1002/miniconda3/envs/opensoundscape/lib/python3.7/site-packages/opensoundscape/audio.py:180: UserWarning: This seems to be an AudioMoth file, but parse_audiomoth_metadata() raised: list index out of range\n",
      "  \"This seems to be an AudioMoth file, \"\n",
      "/home/adkris1002/miniconda3/envs/opensoundscape/lib/python3.7/site-packages/opensoundscape/audio.py:239: UserWarning: audio object has zero samples\n",
      "  warnings.warn(error_msg)\n",
      "/home/adkris1002/miniconda3/envs/opensoundscape/lib/python3.7/site-packages/opensoundscape/audio.py:180: UserWarning: This seems to be an AudioMoth file, but parse_audiomoth_metadata() raised: list index out of range\n",
      "  \"This seems to be an AudioMoth file, \"\n"
     ]
    },
    {
     "name": "stdout",
     "output_type": "stream",
     "text": [
      "Recordings/20220703_220736.WAV\n",
      "Recordings/20220703_220737.WAV\n"
     ]
    },
    {
     "name": "stderr",
     "output_type": "stream",
     "text": [
      "/home/adkris1002/miniconda3/envs/opensoundscape/lib/python3.7/site-packages/opensoundscape/audio.py:239: UserWarning: audio object has zero samples\n",
      "  warnings.warn(error_msg)\n",
      "/home/adkris1002/miniconda3/envs/opensoundscape/lib/python3.7/site-packages/opensoundscape/audio.py:180: UserWarning: This seems to be an AudioMoth file, but parse_audiomoth_metadata() raised: list index out of range\n",
      "  \"This seems to be an AudioMoth file, \"\n",
      "/home/adkris1002/miniconda3/envs/opensoundscape/lib/python3.7/site-packages/opensoundscape/audio.py:239: UserWarning: audio object has zero samples\n",
      "  warnings.warn(error_msg)\n",
      "/home/adkris1002/miniconda3/envs/opensoundscape/lib/python3.7/site-packages/opensoundscape/audio.py:180: UserWarning: This seems to be an AudioMoth file, but parse_audiomoth_metadata() raised: list index out of range\n",
      "  \"This seems to be an AudioMoth file, \"\n"
     ]
    },
    {
     "name": "stdout",
     "output_type": "stream",
     "text": [
      "Recordings/20220703_220738.WAV\n",
      "Recordings/20220703_220739.WAV\n"
     ]
    },
    {
     "name": "stderr",
     "output_type": "stream",
     "text": [
      "/home/adkris1002/miniconda3/envs/opensoundscape/lib/python3.7/site-packages/opensoundscape/audio.py:239: UserWarning: audio object has zero samples\n",
      "  warnings.warn(error_msg)\n",
      "/home/adkris1002/miniconda3/envs/opensoundscape/lib/python3.7/site-packages/opensoundscape/audio.py:180: UserWarning: This seems to be an AudioMoth file, but parse_audiomoth_metadata() raised: list index out of range\n",
      "  \"This seems to be an AudioMoth file, \"\n",
      "/home/adkris1002/miniconda3/envs/opensoundscape/lib/python3.7/site-packages/opensoundscape/audio.py:239: UserWarning: audio object has zero samples\n",
      "  warnings.warn(error_msg)\n",
      "/home/adkris1002/miniconda3/envs/opensoundscape/lib/python3.7/site-packages/opensoundscape/audio.py:180: UserWarning: This seems to be an AudioMoth file, but parse_audiomoth_metadata() raised: list index out of range\n",
      "  \"This seems to be an AudioMoth file, \"\n",
      "/home/adkris1002/miniconda3/envs/opensoundscape/lib/python3.7/site-packages/opensoundscape/audio.py:239: UserWarning: audio object has zero samples\n",
      "  warnings.warn(error_msg)\n"
     ]
    },
    {
     "name": "stdout",
     "output_type": "stream",
     "text": [
      "Recordings/20220703_220740.WAV\n",
      "Recordings/20220703_220741.WAV\n",
      "Recordings/20220703_220742.WAV\n"
     ]
    },
    {
     "name": "stderr",
     "output_type": "stream",
     "text": [
      "/home/adkris1002/miniconda3/envs/opensoundscape/lib/python3.7/site-packages/opensoundscape/audio.py:180: UserWarning: This seems to be an AudioMoth file, but parse_audiomoth_metadata() raised: list index out of range\n",
      "  \"This seems to be an AudioMoth file, \"\n",
      "/home/adkris1002/miniconda3/envs/opensoundscape/lib/python3.7/site-packages/opensoundscape/audio.py:239: UserWarning: audio object has zero samples\n",
      "  warnings.warn(error_msg)\n",
      "/home/adkris1002/miniconda3/envs/opensoundscape/lib/python3.7/site-packages/opensoundscape/audio.py:180: UserWarning: This seems to be an AudioMoth file, but parse_audiomoth_metadata() raised: list index out of range\n",
      "  \"This seems to be an AudioMoth file, \"\n",
      "/home/adkris1002/miniconda3/envs/opensoundscape/lib/python3.7/site-packages/opensoundscape/audio.py:239: UserWarning: audio object has zero samples\n",
      "  warnings.warn(error_msg)\n",
      "/home/adkris1002/miniconda3/envs/opensoundscape/lib/python3.7/site-packages/opensoundscape/audio.py:180: UserWarning: This seems to be an AudioMoth file, but parse_audiomoth_metadata() raised: list index out of range\n",
      "  \"This seems to be an AudioMoth file, \"\n"
     ]
    },
    {
     "name": "stdout",
     "output_type": "stream",
     "text": [
      "Recordings/20220703_220743.WAV\n",
      "Recordings/20220703_220744.WAV\n",
      "Recordings/20220703_220745.WAV\n"
     ]
    },
    {
     "name": "stderr",
     "output_type": "stream",
     "text": [
      "/home/adkris1002/miniconda3/envs/opensoundscape/lib/python3.7/site-packages/opensoundscape/audio.py:239: UserWarning: audio object has zero samples\n",
      "  warnings.warn(error_msg)\n",
      "/home/adkris1002/miniconda3/envs/opensoundscape/lib/python3.7/site-packages/opensoundscape/audio.py:180: UserWarning: This seems to be an AudioMoth file, but parse_audiomoth_metadata() raised: list index out of range\n",
      "  \"This seems to be an AudioMoth file, \"\n",
      "/home/adkris1002/miniconda3/envs/opensoundscape/lib/python3.7/site-packages/opensoundscape/audio.py:239: UserWarning: audio object has zero samples\n",
      "  warnings.warn(error_msg)\n",
      "/home/adkris1002/miniconda3/envs/opensoundscape/lib/python3.7/site-packages/opensoundscape/audio.py:180: UserWarning: This seems to be an AudioMoth file, but parse_audiomoth_metadata() raised: list index out of range\n",
      "  \"This seems to be an AudioMoth file, \"\n"
     ]
    },
    {
     "name": "stdout",
     "output_type": "stream",
     "text": [
      "Recordings/20220703_220746.WAV\n",
      "Recordings/20220703_220747.WAV\n"
     ]
    },
    {
     "name": "stderr",
     "output_type": "stream",
     "text": [
      "/home/adkris1002/miniconda3/envs/opensoundscape/lib/python3.7/site-packages/opensoundscape/audio.py:239: UserWarning: audio object has zero samples\n",
      "  warnings.warn(error_msg)\n",
      "/home/adkris1002/miniconda3/envs/opensoundscape/lib/python3.7/site-packages/opensoundscape/audio.py:180: UserWarning: This seems to be an AudioMoth file, but parse_audiomoth_metadata() raised: list index out of range\n",
      "  \"This seems to be an AudioMoth file, \"\n",
      "/home/adkris1002/miniconda3/envs/opensoundscape/lib/python3.7/site-packages/opensoundscape/audio.py:239: UserWarning: audio object has zero samples\n",
      "  warnings.warn(error_msg)\n",
      "/home/adkris1002/miniconda3/envs/opensoundscape/lib/python3.7/site-packages/opensoundscape/audio.py:180: UserWarning: This seems to be an AudioMoth file, but parse_audiomoth_metadata() raised: list index out of range\n",
      "  \"This seems to be an AudioMoth file, \"\n"
     ]
    },
    {
     "name": "stdout",
     "output_type": "stream",
     "text": [
      "Recordings/20220703_220748.WAV\n",
      "Recordings/20220703_220749.WAV\n"
     ]
    },
    {
     "name": "stderr",
     "output_type": "stream",
     "text": [
      "/home/adkris1002/miniconda3/envs/opensoundscape/lib/python3.7/site-packages/opensoundscape/audio.py:239: UserWarning: audio object has zero samples\n",
      "  warnings.warn(error_msg)\n",
      "/home/adkris1002/miniconda3/envs/opensoundscape/lib/python3.7/site-packages/opensoundscape/audio.py:180: UserWarning: This seems to be an AudioMoth file, but parse_audiomoth_metadata() raised: list index out of range\n",
      "  \"This seems to be an AudioMoth file, \"\n",
      "/home/adkris1002/miniconda3/envs/opensoundscape/lib/python3.7/site-packages/opensoundscape/audio.py:239: UserWarning: audio object has zero samples\n",
      "  warnings.warn(error_msg)\n",
      "/home/adkris1002/miniconda3/envs/opensoundscape/lib/python3.7/site-packages/opensoundscape/audio.py:180: UserWarning: This seems to be an AudioMoth file, but parse_audiomoth_metadata() raised: list index out of range\n",
      "  \"This seems to be an AudioMoth file, \"\n",
      "/home/adkris1002/miniconda3/envs/opensoundscape/lib/python3.7/site-packages/opensoundscape/audio.py:239: UserWarning: audio object has zero samples\n",
      "  warnings.warn(error_msg)\n",
      "/home/adkris1002/miniconda3/envs/opensoundscape/lib/python3.7/site-packages/opensoundscape/audio.py:180: UserWarning: This seems to be an AudioMoth file, but parse_audiomoth_metadata() raised: list index out of range\n",
      "  \"This seems to be an AudioMoth file, \"\n",
      "/home/adkris1002/miniconda3/envs/opensoundscape/lib/python3.7/site-packages/opensoundscape/audio.py:239: UserWarning: audio object has zero samples\n",
      "  warnings.warn(error_msg)\n",
      "/home/adkris1002/miniconda3/envs/opensoundscape/lib/python3.7/site-packages/opensoundscape/audio.py:180: UserWarning: This seems to be an AudioMoth file, but parse_audiomoth_metadata() raised: list index out of range\n",
      "  \"This seems to be an AudioMoth file, \"\n"
     ]
    },
    {
     "name": "stdout",
     "output_type": "stream",
     "text": [
      "Recordings/20220703_220750.WAV\n",
      "Recordings/20220703_220751.WAV\n",
      "Recordings/20220703_220752.WAV\n"
     ]
    },
    {
     "name": "stderr",
     "output_type": "stream",
     "text": [
      "/home/adkris1002/miniconda3/envs/opensoundscape/lib/python3.7/site-packages/opensoundscape/audio.py:239: UserWarning: audio object has zero samples\n",
      "  warnings.warn(error_msg)\n",
      "/home/adkris1002/miniconda3/envs/opensoundscape/lib/python3.7/site-packages/opensoundscape/audio.py:180: UserWarning: This seems to be an AudioMoth file, but parse_audiomoth_metadata() raised: list index out of range\n",
      "  \"This seems to be an AudioMoth file, \"\n",
      "/home/adkris1002/miniconda3/envs/opensoundscape/lib/python3.7/site-packages/opensoundscape/audio.py:239: UserWarning: audio object has zero samples\n",
      "  warnings.warn(error_msg)\n",
      "/home/adkris1002/miniconda3/envs/opensoundscape/lib/python3.7/site-packages/opensoundscape/audio.py:180: UserWarning: This seems to be an AudioMoth file, but parse_audiomoth_metadata() raised: list index out of range\n",
      "  \"This seems to be an AudioMoth file, \"\n",
      "/home/adkris1002/miniconda3/envs/opensoundscape/lib/python3.7/site-packages/opensoundscape/audio.py:239: UserWarning: audio object has zero samples\n",
      "  warnings.warn(error_msg)\n",
      "/home/adkris1002/miniconda3/envs/opensoundscape/lib/python3.7/site-packages/opensoundscape/audio.py:180: UserWarning: This seems to be an AudioMoth file, but parse_audiomoth_metadata() raised: list index out of range\n",
      "  \"This seems to be an AudioMoth file, \"\n"
     ]
    },
    {
     "name": "stdout",
     "output_type": "stream",
     "text": [
      "Recordings/20220703_220753.WAV\n",
      "Recordings/20220703_220754.WAV\n",
      "Recordings/20220703_220755.WAV\n"
     ]
    },
    {
     "name": "stderr",
     "output_type": "stream",
     "text": [
      "/home/adkris1002/miniconda3/envs/opensoundscape/lib/python3.7/site-packages/opensoundscape/audio.py:239: UserWarning: audio object has zero samples\n",
      "  warnings.warn(error_msg)\n",
      "/home/adkris1002/miniconda3/envs/opensoundscape/lib/python3.7/site-packages/opensoundscape/audio.py:180: UserWarning: This seems to be an AudioMoth file, but parse_audiomoth_metadata() raised: list index out of range\n",
      "  \"This seems to be an AudioMoth file, \"\n",
      "/home/adkris1002/miniconda3/envs/opensoundscape/lib/python3.7/site-packages/opensoundscape/audio.py:239: UserWarning: audio object has zero samples\n",
      "  warnings.warn(error_msg)\n",
      "/home/adkris1002/miniconda3/envs/opensoundscape/lib/python3.7/site-packages/opensoundscape/audio.py:180: UserWarning: This seems to be an AudioMoth file, but parse_audiomoth_metadata() raised: list index out of range\n",
      "  \"This seems to be an AudioMoth file, \"\n"
     ]
    },
    {
     "name": "stdout",
     "output_type": "stream",
     "text": [
      "Recordings/20220703_220756.WAV\n",
      "Recordings/20220703_220757.WAV\n"
     ]
    },
    {
     "name": "stderr",
     "output_type": "stream",
     "text": [
      "/home/adkris1002/miniconda3/envs/opensoundscape/lib/python3.7/site-packages/opensoundscape/audio.py:239: UserWarning: audio object has zero samples\n",
      "  warnings.warn(error_msg)\n",
      "/home/adkris1002/miniconda3/envs/opensoundscape/lib/python3.7/site-packages/opensoundscape/audio.py:180: UserWarning: This seems to be an AudioMoth file, but parse_audiomoth_metadata() raised: list index out of range\n",
      "  \"This seems to be an AudioMoth file, \"\n",
      "/home/adkris1002/miniconda3/envs/opensoundscape/lib/python3.7/site-packages/opensoundscape/audio.py:239: UserWarning: audio object has zero samples\n",
      "  warnings.warn(error_msg)\n",
      "/home/adkris1002/miniconda3/envs/opensoundscape/lib/python3.7/site-packages/opensoundscape/audio.py:180: UserWarning: This seems to be an AudioMoth file, but parse_audiomoth_metadata() raised: list index out of range\n",
      "  \"This seems to be an AudioMoth file, \"\n"
     ]
    },
    {
     "name": "stdout",
     "output_type": "stream",
     "text": [
      "Recordings/20220703_220758.WAV\n",
      "Recordings/20220703_220759.WAV\n"
     ]
    },
    {
     "name": "stderr",
     "output_type": "stream",
     "text": [
      "/home/adkris1002/miniconda3/envs/opensoundscape/lib/python3.7/site-packages/opensoundscape/audio.py:239: UserWarning: audio object has zero samples\n",
      "  warnings.warn(error_msg)\n",
      "/home/adkris1002/miniconda3/envs/opensoundscape/lib/python3.7/site-packages/opensoundscape/audio.py:180: UserWarning: This seems to be an AudioMoth file, but parse_audiomoth_metadata() raised: list index out of range\n",
      "  \"This seems to be an AudioMoth file, \"\n",
      "/home/adkris1002/miniconda3/envs/opensoundscape/lib/python3.7/site-packages/opensoundscape/audio.py:239: UserWarning: audio object has zero samples\n",
      "  warnings.warn(error_msg)\n",
      "/home/adkris1002/miniconda3/envs/opensoundscape/lib/python3.7/site-packages/opensoundscape/audio.py:180: UserWarning: This seems to be an AudioMoth file, but parse_audiomoth_metadata() raised: list index out of range\n",
      "  \"This seems to be an AudioMoth file, \"\n"
     ]
    },
    {
     "name": "stdout",
     "output_type": "stream",
     "text": [
      "Recordings/20220703_220800.WAV\n",
      "Recordings/20220703_220801.WAV\n"
     ]
    },
    {
     "name": "stderr",
     "output_type": "stream",
     "text": [
      "/home/adkris1002/miniconda3/envs/opensoundscape/lib/python3.7/site-packages/opensoundscape/audio.py:239: UserWarning: audio object has zero samples\n",
      "  warnings.warn(error_msg)\n",
      "/home/adkris1002/miniconda3/envs/opensoundscape/lib/python3.7/site-packages/opensoundscape/audio.py:180: UserWarning: This seems to be an AudioMoth file, but parse_audiomoth_metadata() raised: list index out of range\n",
      "  \"This seems to be an AudioMoth file, \"\n",
      "/home/adkris1002/miniconda3/envs/opensoundscape/lib/python3.7/site-packages/opensoundscape/audio.py:239: UserWarning: audio object has zero samples\n",
      "  warnings.warn(error_msg)\n",
      "/home/adkris1002/miniconda3/envs/opensoundscape/lib/python3.7/site-packages/opensoundscape/audio.py:180: UserWarning: This seems to be an AudioMoth file, but parse_audiomoth_metadata() raised: list index out of range\n",
      "  \"This seems to be an AudioMoth file, \"\n"
     ]
    },
    {
     "name": "stdout",
     "output_type": "stream",
     "text": [
      "Recordings/20220703_220802.WAV\n",
      "Recordings/20220703_220803.WAV\n"
     ]
    },
    {
     "name": "stderr",
     "output_type": "stream",
     "text": [
      "/home/adkris1002/miniconda3/envs/opensoundscape/lib/python3.7/site-packages/opensoundscape/audio.py:239: UserWarning: audio object has zero samples\n",
      "  warnings.warn(error_msg)\n",
      "/home/adkris1002/miniconda3/envs/opensoundscape/lib/python3.7/site-packages/opensoundscape/audio.py:180: UserWarning: This seems to be an AudioMoth file, but parse_audiomoth_metadata() raised: list index out of range\n",
      "  \"This seems to be an AudioMoth file, \"\n",
      "/home/adkris1002/miniconda3/envs/opensoundscape/lib/python3.7/site-packages/opensoundscape/audio.py:239: UserWarning: audio object has zero samples\n",
      "  warnings.warn(error_msg)\n",
      "/home/adkris1002/miniconda3/envs/opensoundscape/lib/python3.7/site-packages/opensoundscape/audio.py:180: UserWarning: This seems to be an AudioMoth file, but parse_audiomoth_metadata() raised: list index out of range\n",
      "  \"This seems to be an AudioMoth file, \"\n",
      "/home/adkris1002/miniconda3/envs/opensoundscape/lib/python3.7/site-packages/opensoundscape/audio.py:239: UserWarning: audio object has zero samples\n",
      "  warnings.warn(error_msg)\n"
     ]
    },
    {
     "name": "stdout",
     "output_type": "stream",
     "text": [
      "Recordings/20220703_220804.WAV\n",
      "Recordings/20220703_220805.WAV\n",
      "Recordings/20220703_220806.WAV\n"
     ]
    },
    {
     "name": "stderr",
     "output_type": "stream",
     "text": [
      "/home/adkris1002/miniconda3/envs/opensoundscape/lib/python3.7/site-packages/opensoundscape/audio.py:180: UserWarning: This seems to be an AudioMoth file, but parse_audiomoth_metadata() raised: list index out of range\n",
      "  \"This seems to be an AudioMoth file, \"\n",
      "/home/adkris1002/miniconda3/envs/opensoundscape/lib/python3.7/site-packages/opensoundscape/audio.py:239: UserWarning: audio object has zero samples\n",
      "  warnings.warn(error_msg)\n",
      "/home/adkris1002/miniconda3/envs/opensoundscape/lib/python3.7/site-packages/opensoundscape/audio.py:180: UserWarning: This seems to be an AudioMoth file, but parse_audiomoth_metadata() raised: list index out of range\n",
      "  \"This seems to be an AudioMoth file, \"\n",
      "/home/adkris1002/miniconda3/envs/opensoundscape/lib/python3.7/site-packages/opensoundscape/audio.py:239: UserWarning: audio object has zero samples\n",
      "  warnings.warn(error_msg)\n",
      "/home/adkris1002/miniconda3/envs/opensoundscape/lib/python3.7/site-packages/opensoundscape/audio.py:180: UserWarning: This seems to be an AudioMoth file, but parse_audiomoth_metadata() raised: list index out of range\n",
      "  \"This seems to be an AudioMoth file, \"\n"
     ]
    },
    {
     "name": "stdout",
     "output_type": "stream",
     "text": [
      "Recordings/20220703_220807.WAV\n",
      "Recordings/20220703_220808.WAV\n",
      "Recordings/20220703_220809.WAV\n"
     ]
    },
    {
     "name": "stderr",
     "output_type": "stream",
     "text": [
      "/home/adkris1002/miniconda3/envs/opensoundscape/lib/python3.7/site-packages/opensoundscape/audio.py:239: UserWarning: audio object has zero samples\n",
      "  warnings.warn(error_msg)\n",
      "/home/adkris1002/miniconda3/envs/opensoundscape/lib/python3.7/site-packages/opensoundscape/audio.py:180: UserWarning: This seems to be an AudioMoth file, but parse_audiomoth_metadata() raised: list index out of range\n",
      "  \"This seems to be an AudioMoth file, \"\n",
      "/home/adkris1002/miniconda3/envs/opensoundscape/lib/python3.7/site-packages/opensoundscape/audio.py:239: UserWarning: audio object has zero samples\n",
      "  warnings.warn(error_msg)\n",
      "/home/adkris1002/miniconda3/envs/opensoundscape/lib/python3.7/site-packages/opensoundscape/audio.py:180: UserWarning: This seems to be an AudioMoth file, but parse_audiomoth_metadata() raised: list index out of range\n",
      "  \"This seems to be an AudioMoth file, \"\n",
      "/home/adkris1002/miniconda3/envs/opensoundscape/lib/python3.7/site-packages/opensoundscape/audio.py:239: UserWarning: audio object has zero samples\n",
      "  warnings.warn(error_msg)\n",
      "/home/adkris1002/miniconda3/envs/opensoundscape/lib/python3.7/site-packages/opensoundscape/audio.py:180: UserWarning: This seems to be an AudioMoth file, but parse_audiomoth_metadata() raised: list index out of range\n",
      "  \"This seems to be an AudioMoth file, \"\n"
     ]
    },
    {
     "name": "stdout",
     "output_type": "stream",
     "text": [
      "Recordings/20220703_220810.WAV\n",
      "Recordings/20220703_220811.WAV\n",
      "Recordings/20220703_220812.WAV\n"
     ]
    },
    {
     "name": "stderr",
     "output_type": "stream",
     "text": [
      "/home/adkris1002/miniconda3/envs/opensoundscape/lib/python3.7/site-packages/opensoundscape/audio.py:239: UserWarning: audio object has zero samples\n",
      "  warnings.warn(error_msg)\n",
      "/home/adkris1002/miniconda3/envs/opensoundscape/lib/python3.7/site-packages/opensoundscape/audio.py:180: UserWarning: This seems to be an AudioMoth file, but parse_audiomoth_metadata() raised: list index out of range\n",
      "  \"This seems to be an AudioMoth file, \"\n",
      "/home/adkris1002/miniconda3/envs/opensoundscape/lib/python3.7/site-packages/opensoundscape/audio.py:239: UserWarning: audio object has zero samples\n",
      "  warnings.warn(error_msg)\n",
      "/home/adkris1002/miniconda3/envs/opensoundscape/lib/python3.7/site-packages/opensoundscape/audio.py:180: UserWarning: This seems to be an AudioMoth file, but parse_audiomoth_metadata() raised: list index out of range\n",
      "  \"This seems to be an AudioMoth file, \"\n"
     ]
    },
    {
     "name": "stdout",
     "output_type": "stream",
     "text": [
      "Recordings/20220703_220813.WAV\n",
      "Recordings/20220703_220814.WAV\n"
     ]
    },
    {
     "name": "stderr",
     "output_type": "stream",
     "text": [
      "/home/adkris1002/miniconda3/envs/opensoundscape/lib/python3.7/site-packages/opensoundscape/audio.py:239: UserWarning: audio object has zero samples\n",
      "  warnings.warn(error_msg)\n",
      "/home/adkris1002/miniconda3/envs/opensoundscape/lib/python3.7/site-packages/opensoundscape/audio.py:180: UserWarning: This seems to be an AudioMoth file, but parse_audiomoth_metadata() raised: list index out of range\n",
      "  \"This seems to be an AudioMoth file, \"\n",
      "/home/adkris1002/miniconda3/envs/opensoundscape/lib/python3.7/site-packages/opensoundscape/audio.py:239: UserWarning: audio object has zero samples\n",
      "  warnings.warn(error_msg)\n",
      "/home/adkris1002/miniconda3/envs/opensoundscape/lib/python3.7/site-packages/opensoundscape/audio.py:180: UserWarning: This seems to be an AudioMoth file, but parse_audiomoth_metadata() raised: list index out of range\n",
      "  \"This seems to be an AudioMoth file, \"\n",
      "/home/adkris1002/miniconda3/envs/opensoundscape/lib/python3.7/site-packages/opensoundscape/audio.py:239: UserWarning: audio object has zero samples\n",
      "  warnings.warn(error_msg)\n",
      "/home/adkris1002/miniconda3/envs/opensoundscape/lib/python3.7/site-packages/opensoundscape/audio.py:180: UserWarning: This seems to be an AudioMoth file, but parse_audiomoth_metadata() raised: list index out of range\n",
      "  \"This seems to be an AudioMoth file, \"\n"
     ]
    },
    {
     "name": "stdout",
     "output_type": "stream",
     "text": [
      "Recordings/20220703_220815.WAV\n",
      "Recordings/20220703_220816.WAV\n",
      "Recordings/20220703_220817.WAV\n"
     ]
    },
    {
     "name": "stderr",
     "output_type": "stream",
     "text": [
      "/home/adkris1002/miniconda3/envs/opensoundscape/lib/python3.7/site-packages/opensoundscape/audio.py:239: UserWarning: audio object has zero samples\n",
      "  warnings.warn(error_msg)\n",
      "/home/adkris1002/miniconda3/envs/opensoundscape/lib/python3.7/site-packages/opensoundscape/audio.py:180: UserWarning: This seems to be an AudioMoth file, but parse_audiomoth_metadata() raised: list index out of range\n",
      "  \"This seems to be an AudioMoth file, \"\n",
      "/home/adkris1002/miniconda3/envs/opensoundscape/lib/python3.7/site-packages/opensoundscape/audio.py:239: UserWarning: audio object has zero samples\n",
      "  warnings.warn(error_msg)\n",
      "/home/adkris1002/miniconda3/envs/opensoundscape/lib/python3.7/site-packages/opensoundscape/audio.py:180: UserWarning: This seems to be an AudioMoth file, but parse_audiomoth_metadata() raised: list index out of range\n",
      "  \"This seems to be an AudioMoth file, \"\n",
      "/home/adkris1002/miniconda3/envs/opensoundscape/lib/python3.7/site-packages/opensoundscape/audio.py:239: UserWarning: audio object has zero samples\n",
      "  warnings.warn(error_msg)\n",
      "/home/adkris1002/miniconda3/envs/opensoundscape/lib/python3.7/site-packages/opensoundscape/audio.py:180: UserWarning: This seems to be an AudioMoth file, but parse_audiomoth_metadata() raised: list index out of range\n",
      "  \"This seems to be an AudioMoth file, \"\n"
     ]
    },
    {
     "name": "stdout",
     "output_type": "stream",
     "text": [
      "Recordings/20220703_220818.WAV\n",
      "Recordings/20220703_220819.WAV\n",
      "Recordings/20220703_220820.WAV\n"
     ]
    },
    {
     "name": "stderr",
     "output_type": "stream",
     "text": [
      "/home/adkris1002/miniconda3/envs/opensoundscape/lib/python3.7/site-packages/opensoundscape/audio.py:239: UserWarning: audio object has zero samples\n",
      "  warnings.warn(error_msg)\n",
      "/home/adkris1002/miniconda3/envs/opensoundscape/lib/python3.7/site-packages/opensoundscape/audio.py:180: UserWarning: This seems to be an AudioMoth file, but parse_audiomoth_metadata() raised: list index out of range\n",
      "  \"This seems to be an AudioMoth file, \"\n",
      "/home/adkris1002/miniconda3/envs/opensoundscape/lib/python3.7/site-packages/opensoundscape/audio.py:239: UserWarning: audio object has zero samples\n",
      "  warnings.warn(error_msg)\n",
      "/home/adkris1002/miniconda3/envs/opensoundscape/lib/python3.7/site-packages/opensoundscape/audio.py:180: UserWarning: This seems to be an AudioMoth file, but parse_audiomoth_metadata() raised: list index out of range\n",
      "  \"This seems to be an AudioMoth file, \"\n"
     ]
    },
    {
     "name": "stdout",
     "output_type": "stream",
     "text": [
      "Recordings/20220703_220821.WAV\n",
      "Recordings/20220703_220822.WAV\n"
     ]
    },
    {
     "name": "stderr",
     "output_type": "stream",
     "text": [
      "/home/adkris1002/miniconda3/envs/opensoundscape/lib/python3.7/site-packages/opensoundscape/audio.py:239: UserWarning: audio object has zero samples\n",
      "  warnings.warn(error_msg)\n",
      "/home/adkris1002/miniconda3/envs/opensoundscape/lib/python3.7/site-packages/opensoundscape/audio.py:180: UserWarning: This seems to be an AudioMoth file, but parse_audiomoth_metadata() raised: list index out of range\n",
      "  \"This seems to be an AudioMoth file, \"\n",
      "/home/adkris1002/miniconda3/envs/opensoundscape/lib/python3.7/site-packages/opensoundscape/audio.py:239: UserWarning: audio object has zero samples\n",
      "  warnings.warn(error_msg)\n",
      "/home/adkris1002/miniconda3/envs/opensoundscape/lib/python3.7/site-packages/opensoundscape/audio.py:180: UserWarning: This seems to be an AudioMoth file, but parse_audiomoth_metadata() raised: list index out of range\n",
      "  \"This seems to be an AudioMoth file, \"\n"
     ]
    },
    {
     "name": "stdout",
     "output_type": "stream",
     "text": [
      "Recordings/20220703_220823.WAV\n",
      "Recordings/20220703_220824.WAV\n"
     ]
    },
    {
     "name": "stderr",
     "output_type": "stream",
     "text": [
      "/home/adkris1002/miniconda3/envs/opensoundscape/lib/python3.7/site-packages/opensoundscape/audio.py:239: UserWarning: audio object has zero samples\n",
      "  warnings.warn(error_msg)\n",
      "/home/adkris1002/miniconda3/envs/opensoundscape/lib/python3.7/site-packages/opensoundscape/audio.py:180: UserWarning: This seems to be an AudioMoth file, but parse_audiomoth_metadata() raised: list index out of range\n",
      "  \"This seems to be an AudioMoth file, \"\n",
      "/home/adkris1002/miniconda3/envs/opensoundscape/lib/python3.7/site-packages/opensoundscape/audio.py:239: UserWarning: audio object has zero samples\n",
      "  warnings.warn(error_msg)\n",
      "/home/adkris1002/miniconda3/envs/opensoundscape/lib/python3.7/site-packages/opensoundscape/audio.py:180: UserWarning: This seems to be an AudioMoth file, but parse_audiomoth_metadata() raised: list index out of range\n",
      "  \"This seems to be an AudioMoth file, \"\n"
     ]
    },
    {
     "name": "stdout",
     "output_type": "stream",
     "text": [
      "Recordings/20220703_220825.WAV\n",
      "Recordings/20220703_220826.WAV\n"
     ]
    },
    {
     "name": "stderr",
     "output_type": "stream",
     "text": [
      "/home/adkris1002/miniconda3/envs/opensoundscape/lib/python3.7/site-packages/opensoundscape/audio.py:239: UserWarning: audio object has zero samples\n",
      "  warnings.warn(error_msg)\n",
      "/home/adkris1002/miniconda3/envs/opensoundscape/lib/python3.7/site-packages/opensoundscape/audio.py:180: UserWarning: This seems to be an AudioMoth file, but parse_audiomoth_metadata() raised: list index out of range\n",
      "  \"This seems to be an AudioMoth file, \"\n",
      "/home/adkris1002/miniconda3/envs/opensoundscape/lib/python3.7/site-packages/opensoundscape/audio.py:239: UserWarning: audio object has zero samples\n",
      "  warnings.warn(error_msg)\n",
      "/home/adkris1002/miniconda3/envs/opensoundscape/lib/python3.7/site-packages/opensoundscape/audio.py:180: UserWarning: This seems to be an AudioMoth file, but parse_audiomoth_metadata() raised: list index out of range\n",
      "  \"This seems to be an AudioMoth file, \"\n"
     ]
    },
    {
     "name": "stdout",
     "output_type": "stream",
     "text": [
      "Recordings/20220703_220827.WAV\n",
      "Recordings/20220703_220828.WAV\n"
     ]
    },
    {
     "name": "stderr",
     "output_type": "stream",
     "text": [
      "/home/adkris1002/miniconda3/envs/opensoundscape/lib/python3.7/site-packages/opensoundscape/audio.py:239: UserWarning: audio object has zero samples\n",
      "  warnings.warn(error_msg)\n",
      "/home/adkris1002/miniconda3/envs/opensoundscape/lib/python3.7/site-packages/opensoundscape/audio.py:180: UserWarning: This seems to be an AudioMoth file, but parse_audiomoth_metadata() raised: list index out of range\n",
      "  \"This seems to be an AudioMoth file, \"\n",
      "/home/adkris1002/miniconda3/envs/opensoundscape/lib/python3.7/site-packages/opensoundscape/audio.py:239: UserWarning: audio object has zero samples\n",
      "  warnings.warn(error_msg)\n",
      "/home/adkris1002/miniconda3/envs/opensoundscape/lib/python3.7/site-packages/opensoundscape/audio.py:180: UserWarning: This seems to be an AudioMoth file, but parse_audiomoth_metadata() raised: list index out of range\n",
      "  \"This seems to be an AudioMoth file, \"\n",
      "/home/adkris1002/miniconda3/envs/opensoundscape/lib/python3.7/site-packages/opensoundscape/audio.py:239: UserWarning: audio object has zero samples\n",
      "  warnings.warn(error_msg)\n",
      "/home/adkris1002/miniconda3/envs/opensoundscape/lib/python3.7/site-packages/opensoundscape/audio.py:180: UserWarning: This seems to be an AudioMoth file, but parse_audiomoth_metadata() raised: list index out of range\n",
      "  \"This seems to be an AudioMoth file, \"\n"
     ]
    },
    {
     "name": "stdout",
     "output_type": "stream",
     "text": [
      "Recordings/20220703_220829.WAV\n",
      "Recordings/20220703_220830.WAV\n"
     ]
    },
    {
     "name": "stderr",
     "output_type": "stream",
     "text": [
      "/home/adkris1002/miniconda3/envs/opensoundscape/lib/python3.7/site-packages/opensoundscape/audio.py:239: UserWarning: audio object has zero samples\n",
      "  warnings.warn(error_msg)\n",
      "/home/adkris1002/miniconda3/envs/opensoundscape/lib/python3.7/site-packages/opensoundscape/audio.py:180: UserWarning: This seems to be an AudioMoth file, but parse_audiomoth_metadata() raised: list index out of range\n",
      "  \"This seems to be an AudioMoth file, \"\n",
      "/home/adkris1002/miniconda3/envs/opensoundscape/lib/python3.7/site-packages/opensoundscape/audio.py:239: UserWarning: audio object has zero samples\n",
      "  warnings.warn(error_msg)\n",
      "/home/adkris1002/miniconda3/envs/opensoundscape/lib/python3.7/site-packages/opensoundscape/audio.py:180: UserWarning: This seems to be an AudioMoth file, but parse_audiomoth_metadata() raised: list index out of range\n",
      "  \"This seems to be an AudioMoth file, \"\n",
      "/home/adkris1002/miniconda3/envs/opensoundscape/lib/python3.7/site-packages/opensoundscape/audio.py:239: UserWarning: audio object has zero samples\n",
      "  warnings.warn(error_msg)\n",
      "/home/adkris1002/miniconda3/envs/opensoundscape/lib/python3.7/site-packages/opensoundscape/audio.py:180: UserWarning: This seems to be an AudioMoth file, but parse_audiomoth_metadata() raised: list index out of range\n",
      "  \"This seems to be an AudioMoth file, \"\n"
     ]
    },
    {
     "name": "stdout",
     "output_type": "stream",
     "text": [
      "Recordings/20220703_220831.WAV\n",
      "Recordings/20220703_220832.WAV\n",
      "Recordings/20220703_220833.WAV\n"
     ]
    },
    {
     "name": "stderr",
     "output_type": "stream",
     "text": [
      "/home/adkris1002/miniconda3/envs/opensoundscape/lib/python3.7/site-packages/opensoundscape/audio.py:239: UserWarning: audio object has zero samples\n",
      "  warnings.warn(error_msg)\n",
      "/home/adkris1002/miniconda3/envs/opensoundscape/lib/python3.7/site-packages/opensoundscape/audio.py:180: UserWarning: This seems to be an AudioMoth file, but parse_audiomoth_metadata() raised: list index out of range\n",
      "  \"This seems to be an AudioMoth file, \"\n",
      "/home/adkris1002/miniconda3/envs/opensoundscape/lib/python3.7/site-packages/opensoundscape/audio.py:239: UserWarning: audio object has zero samples\n",
      "  warnings.warn(error_msg)\n",
      "/home/adkris1002/miniconda3/envs/opensoundscape/lib/python3.7/site-packages/opensoundscape/audio.py:180: UserWarning: This seems to be an AudioMoth file, but parse_audiomoth_metadata() raised: list index out of range\n",
      "  \"This seems to be an AudioMoth file, \"\n",
      "/home/adkris1002/miniconda3/envs/opensoundscape/lib/python3.7/site-packages/opensoundscape/audio.py:239: UserWarning: audio object has zero samples\n",
      "  warnings.warn(error_msg)\n",
      "/home/adkris1002/miniconda3/envs/opensoundscape/lib/python3.7/site-packages/opensoundscape/audio.py:180: UserWarning: This seems to be an AudioMoth file, but parse_audiomoth_metadata() raised: list index out of range\n",
      "  \"This seems to be an AudioMoth file, \"\n"
     ]
    },
    {
     "name": "stdout",
     "output_type": "stream",
     "text": [
      "Recordings/20220703_220834.WAV\n",
      "Recordings/20220703_220835.WAV\n",
      "Recordings/20220703_220836.WAV\n"
     ]
    },
    {
     "name": "stderr",
     "output_type": "stream",
     "text": [
      "/home/adkris1002/miniconda3/envs/opensoundscape/lib/python3.7/site-packages/opensoundscape/audio.py:239: UserWarning: audio object has zero samples\n",
      "  warnings.warn(error_msg)\n",
      "/home/adkris1002/miniconda3/envs/opensoundscape/lib/python3.7/site-packages/opensoundscape/audio.py:180: UserWarning: This seems to be an AudioMoth file, but parse_audiomoth_metadata() raised: list index out of range\n",
      "  \"This seems to be an AudioMoth file, \"\n",
      "/home/adkris1002/miniconda3/envs/opensoundscape/lib/python3.7/site-packages/opensoundscape/audio.py:239: UserWarning: audio object has zero samples\n",
      "  warnings.warn(error_msg)\n",
      "/home/adkris1002/miniconda3/envs/opensoundscape/lib/python3.7/site-packages/opensoundscape/audio.py:180: UserWarning: This seems to be an AudioMoth file, but parse_audiomoth_metadata() raised: list index out of range\n",
      "  \"This seems to be an AudioMoth file, \"\n",
      "/home/adkris1002/miniconda3/envs/opensoundscape/lib/python3.7/site-packages/opensoundscape/audio.py:239: UserWarning: audio object has zero samples\n",
      "  warnings.warn(error_msg)\n",
      "/home/adkris1002/miniconda3/envs/opensoundscape/lib/python3.7/site-packages/opensoundscape/audio.py:180: UserWarning: This seems to be an AudioMoth file, but parse_audiomoth_metadata() raised: list index out of range\n",
      "  \"This seems to be an AudioMoth file, \"\n"
     ]
    },
    {
     "name": "stdout",
     "output_type": "stream",
     "text": [
      "Recordings/20220703_220837.WAV\n",
      "Recordings/20220703_220838.WAV\n",
      "Recordings/20220703_220839.WAV\n"
     ]
    },
    {
     "name": "stderr",
     "output_type": "stream",
     "text": [
      "/home/adkris1002/miniconda3/envs/opensoundscape/lib/python3.7/site-packages/opensoundscape/audio.py:239: UserWarning: audio object has zero samples\n",
      "  warnings.warn(error_msg)\n",
      "/home/adkris1002/miniconda3/envs/opensoundscape/lib/python3.7/site-packages/opensoundscape/audio.py:180: UserWarning: This seems to be an AudioMoth file, but parse_audiomoth_metadata() raised: list index out of range\n",
      "  \"This seems to be an AudioMoth file, \"\n",
      "/home/adkris1002/miniconda3/envs/opensoundscape/lib/python3.7/site-packages/opensoundscape/audio.py:239: UserWarning: audio object has zero samples\n",
      "  warnings.warn(error_msg)\n",
      "/home/adkris1002/miniconda3/envs/opensoundscape/lib/python3.7/site-packages/opensoundscape/audio.py:180: UserWarning: This seems to be an AudioMoth file, but parse_audiomoth_metadata() raised: list index out of range\n",
      "  \"This seems to be an AudioMoth file, \"\n",
      "/home/adkris1002/miniconda3/envs/opensoundscape/lib/python3.7/site-packages/opensoundscape/audio.py:239: UserWarning: audio object has zero samples\n",
      "  warnings.warn(error_msg)\n",
      "/home/adkris1002/miniconda3/envs/opensoundscape/lib/python3.7/site-packages/opensoundscape/audio.py:180: UserWarning: This seems to be an AudioMoth file, but parse_audiomoth_metadata() raised: list index out of range\n",
      "  \"This seems to be an AudioMoth file, \"\n"
     ]
    },
    {
     "name": "stdout",
     "output_type": "stream",
     "text": [
      "Recordings/20220703_220840.WAV\n",
      "Recordings/20220703_220841.WAV\n",
      "Recordings/20220703_220842.WAV\n"
     ]
    },
    {
     "name": "stderr",
     "output_type": "stream",
     "text": [
      "/home/adkris1002/miniconda3/envs/opensoundscape/lib/python3.7/site-packages/opensoundscape/audio.py:239: UserWarning: audio object has zero samples\n",
      "  warnings.warn(error_msg)\n",
      "/home/adkris1002/miniconda3/envs/opensoundscape/lib/python3.7/site-packages/opensoundscape/audio.py:180: UserWarning: This seems to be an AudioMoth file, but parse_audiomoth_metadata() raised: list index out of range\n",
      "  \"This seems to be an AudioMoth file, \"\n",
      "/home/adkris1002/miniconda3/envs/opensoundscape/lib/python3.7/site-packages/opensoundscape/audio.py:239: UserWarning: audio object has zero samples\n",
      "  warnings.warn(error_msg)\n",
      "/home/adkris1002/miniconda3/envs/opensoundscape/lib/python3.7/site-packages/opensoundscape/audio.py:180: UserWarning: This seems to be an AudioMoth file, but parse_audiomoth_metadata() raised: list index out of range\n",
      "  \"This seems to be an AudioMoth file, \"\n",
      "/home/adkris1002/miniconda3/envs/opensoundscape/lib/python3.7/site-packages/opensoundscape/audio.py:239: UserWarning: audio object has zero samples\n",
      "  warnings.warn(error_msg)\n",
      "/home/adkris1002/miniconda3/envs/opensoundscape/lib/python3.7/site-packages/opensoundscape/audio.py:180: UserWarning: This seems to be an AudioMoth file, but parse_audiomoth_metadata() raised: list index out of range\n",
      "  \"This seems to be an AudioMoth file, \"\n"
     ]
    },
    {
     "name": "stdout",
     "output_type": "stream",
     "text": [
      "Recordings/20220703_220843.WAV\n",
      "Recordings/20220703_220844.WAV\n",
      "Recordings/20220703_220845.WAV\n"
     ]
    },
    {
     "name": "stderr",
     "output_type": "stream",
     "text": [
      "/home/adkris1002/miniconda3/envs/opensoundscape/lib/python3.7/site-packages/opensoundscape/audio.py:239: UserWarning: audio object has zero samples\n",
      "  warnings.warn(error_msg)\n",
      "/home/adkris1002/miniconda3/envs/opensoundscape/lib/python3.7/site-packages/opensoundscape/audio.py:180: UserWarning: This seems to be an AudioMoth file, but parse_audiomoth_metadata() raised: list index out of range\n",
      "  \"This seems to be an AudioMoth file, \"\n",
      "/home/adkris1002/miniconda3/envs/opensoundscape/lib/python3.7/site-packages/opensoundscape/audio.py:239: UserWarning: audio object has zero samples\n",
      "  warnings.warn(error_msg)\n",
      "/home/adkris1002/miniconda3/envs/opensoundscape/lib/python3.7/site-packages/opensoundscape/audio.py:180: UserWarning: This seems to be an AudioMoth file, but parse_audiomoth_metadata() raised: list index out of range\n",
      "  \"This seems to be an AudioMoth file, \"\n",
      "/home/adkris1002/miniconda3/envs/opensoundscape/lib/python3.7/site-packages/opensoundscape/audio.py:239: UserWarning: audio object has zero samples\n",
      "  warnings.warn(error_msg)\n",
      "/home/adkris1002/miniconda3/envs/opensoundscape/lib/python3.7/site-packages/opensoundscape/audio.py:180: UserWarning: This seems to be an AudioMoth file, but parse_audiomoth_metadata() raised: list index out of range\n",
      "  \"This seems to be an AudioMoth file, \"\n"
     ]
    },
    {
     "name": "stdout",
     "output_type": "stream",
     "text": [
      "Recordings/20220703_220846.WAV\n",
      "Recordings/20220703_220847.WAV\n",
      "Recordings/20220703_220848.WAV\n"
     ]
    },
    {
     "name": "stderr",
     "output_type": "stream",
     "text": [
      "/home/adkris1002/miniconda3/envs/opensoundscape/lib/python3.7/site-packages/opensoundscape/audio.py:239: UserWarning: audio object has zero samples\n",
      "  warnings.warn(error_msg)\n",
      "/home/adkris1002/miniconda3/envs/opensoundscape/lib/python3.7/site-packages/opensoundscape/audio.py:180: UserWarning: This seems to be an AudioMoth file, but parse_audiomoth_metadata() raised: list index out of range\n",
      "  \"This seems to be an AudioMoth file, \"\n",
      "/home/adkris1002/miniconda3/envs/opensoundscape/lib/python3.7/site-packages/opensoundscape/audio.py:239: UserWarning: audio object has zero samples\n",
      "  warnings.warn(error_msg)\n",
      "/home/adkris1002/miniconda3/envs/opensoundscape/lib/python3.7/site-packages/opensoundscape/audio.py:180: UserWarning: This seems to be an AudioMoth file, but parse_audiomoth_metadata() raised: list index out of range\n",
      "  \"This seems to be an AudioMoth file, \"\n",
      "/home/adkris1002/miniconda3/envs/opensoundscape/lib/python3.7/site-packages/opensoundscape/audio.py:239: UserWarning: audio object has zero samples\n",
      "  warnings.warn(error_msg)\n",
      "/home/adkris1002/miniconda3/envs/opensoundscape/lib/python3.7/site-packages/opensoundscape/audio.py:180: UserWarning: This seems to be an AudioMoth file, but parse_audiomoth_metadata() raised: list index out of range\n",
      "  \"This seems to be an AudioMoth file, \"\n"
     ]
    },
    {
     "name": "stdout",
     "output_type": "stream",
     "text": [
      "Recordings/20220703_220849.WAV\n",
      "Recordings/20220703_220850.WAV\n",
      "Recordings/20220703_220851.WAV\n"
     ]
    },
    {
     "name": "stderr",
     "output_type": "stream",
     "text": [
      "/home/adkris1002/miniconda3/envs/opensoundscape/lib/python3.7/site-packages/opensoundscape/audio.py:239: UserWarning: audio object has zero samples\n",
      "  warnings.warn(error_msg)\n",
      "/home/adkris1002/miniconda3/envs/opensoundscape/lib/python3.7/site-packages/opensoundscape/audio.py:180: UserWarning: This seems to be an AudioMoth file, but parse_audiomoth_metadata() raised: list index out of range\n",
      "  \"This seems to be an AudioMoth file, \"\n",
      "/home/adkris1002/miniconda3/envs/opensoundscape/lib/python3.7/site-packages/opensoundscape/audio.py:239: UserWarning: audio object has zero samples\n",
      "  warnings.warn(error_msg)\n",
      "/home/adkris1002/miniconda3/envs/opensoundscape/lib/python3.7/site-packages/opensoundscape/audio.py:180: UserWarning: This seems to be an AudioMoth file, but parse_audiomoth_metadata() raised: list index out of range\n",
      "  \"This seems to be an AudioMoth file, \"\n",
      "/home/adkris1002/miniconda3/envs/opensoundscape/lib/python3.7/site-packages/opensoundscape/audio.py:239: UserWarning: audio object has zero samples\n",
      "  warnings.warn(error_msg)\n",
      "/home/adkris1002/miniconda3/envs/opensoundscape/lib/python3.7/site-packages/opensoundscape/audio.py:180: UserWarning: This seems to be an AudioMoth file, but parse_audiomoth_metadata() raised: list index out of range\n",
      "  \"This seems to be an AudioMoth file, \"\n"
     ]
    },
    {
     "name": "stdout",
     "output_type": "stream",
     "text": [
      "Recordings/20220703_220852.WAV\n",
      "Recordings/20220703_220853.WAV\n",
      "Recordings/20220703_220854.WAV\n"
     ]
    },
    {
     "name": "stderr",
     "output_type": "stream",
     "text": [
      "/home/adkris1002/miniconda3/envs/opensoundscape/lib/python3.7/site-packages/opensoundscape/audio.py:239: UserWarning: audio object has zero samples\n",
      "  warnings.warn(error_msg)\n",
      "/home/adkris1002/miniconda3/envs/opensoundscape/lib/python3.7/site-packages/opensoundscape/audio.py:180: UserWarning: This seems to be an AudioMoth file, but parse_audiomoth_metadata() raised: list index out of range\n",
      "  \"This seems to be an AudioMoth file, \"\n",
      "/home/adkris1002/miniconda3/envs/opensoundscape/lib/python3.7/site-packages/opensoundscape/audio.py:239: UserWarning: audio object has zero samples\n",
      "  warnings.warn(error_msg)\n",
      "/home/adkris1002/miniconda3/envs/opensoundscape/lib/python3.7/site-packages/opensoundscape/audio.py:180: UserWarning: This seems to be an AudioMoth file, but parse_audiomoth_metadata() raised: list index out of range\n",
      "  \"This seems to be an AudioMoth file, \"\n",
      "/home/adkris1002/miniconda3/envs/opensoundscape/lib/python3.7/site-packages/opensoundscape/audio.py:239: UserWarning: audio object has zero samples\n",
      "  warnings.warn(error_msg)\n",
      "/home/adkris1002/miniconda3/envs/opensoundscape/lib/python3.7/site-packages/opensoundscape/audio.py:180: UserWarning: This seems to be an AudioMoth file, but parse_audiomoth_metadata() raised: list index out of range\n",
      "  \"This seems to be an AudioMoth file, \"\n"
     ]
    },
    {
     "name": "stdout",
     "output_type": "stream",
     "text": [
      "Recordings/20220703_220855.WAV\n",
      "Recordings/20220703_220856.WAV\n",
      "Recordings/20220703_220857.WAV\n"
     ]
    },
    {
     "name": "stderr",
     "output_type": "stream",
     "text": [
      "/home/adkris1002/miniconda3/envs/opensoundscape/lib/python3.7/site-packages/opensoundscape/audio.py:239: UserWarning: audio object has zero samples\n",
      "  warnings.warn(error_msg)\n",
      "/home/adkris1002/miniconda3/envs/opensoundscape/lib/python3.7/site-packages/opensoundscape/audio.py:180: UserWarning: This seems to be an AudioMoth file, but parse_audiomoth_metadata() raised: list index out of range\n",
      "  \"This seems to be an AudioMoth file, \"\n",
      "/home/adkris1002/miniconda3/envs/opensoundscape/lib/python3.7/site-packages/opensoundscape/audio.py:239: UserWarning: audio object has zero samples\n",
      "  warnings.warn(error_msg)\n",
      "/home/adkris1002/miniconda3/envs/opensoundscape/lib/python3.7/site-packages/opensoundscape/audio.py:180: UserWarning: This seems to be an AudioMoth file, but parse_audiomoth_metadata() raised: list index out of range\n",
      "  \"This seems to be an AudioMoth file, \"\n",
      "/home/adkris1002/miniconda3/envs/opensoundscape/lib/python3.7/site-packages/opensoundscape/audio.py:239: UserWarning: audio object has zero samples\n",
      "  warnings.warn(error_msg)\n",
      "/home/adkris1002/miniconda3/envs/opensoundscape/lib/python3.7/site-packages/opensoundscape/audio.py:180: UserWarning: This seems to be an AudioMoth file, but parse_audiomoth_metadata() raised: list index out of range\n",
      "  \"This seems to be an AudioMoth file, \"\n"
     ]
    },
    {
     "name": "stdout",
     "output_type": "stream",
     "text": [
      "Recordings/20220703_220858.WAV\n",
      "Recordings/20220703_220859.WAV\n",
      "Recordings/20220703_220900.WAV\n"
     ]
    },
    {
     "name": "stderr",
     "output_type": "stream",
     "text": [
      "/home/adkris1002/miniconda3/envs/opensoundscape/lib/python3.7/site-packages/opensoundscape/audio.py:239: UserWarning: audio object has zero samples\n",
      "  warnings.warn(error_msg)\n",
      "/home/adkris1002/miniconda3/envs/opensoundscape/lib/python3.7/site-packages/opensoundscape/audio.py:180: UserWarning: This seems to be an AudioMoth file, but parse_audiomoth_metadata() raised: list index out of range\n",
      "  \"This seems to be an AudioMoth file, \"\n",
      "/home/adkris1002/miniconda3/envs/opensoundscape/lib/python3.7/site-packages/opensoundscape/audio.py:239: UserWarning: audio object has zero samples\n",
      "  warnings.warn(error_msg)\n",
      "/home/adkris1002/miniconda3/envs/opensoundscape/lib/python3.7/site-packages/opensoundscape/audio.py:180: UserWarning: This seems to be an AudioMoth file, but parse_audiomoth_metadata() raised: list index out of range\n",
      "  \"This seems to be an AudioMoth file, \"\n",
      "/home/adkris1002/miniconda3/envs/opensoundscape/lib/python3.7/site-packages/opensoundscape/audio.py:239: UserWarning: audio object has zero samples\n",
      "  warnings.warn(error_msg)\n",
      "/home/adkris1002/miniconda3/envs/opensoundscape/lib/python3.7/site-packages/opensoundscape/audio.py:180: UserWarning: This seems to be an AudioMoth file, but parse_audiomoth_metadata() raised: list index out of range\n",
      "  \"This seems to be an AudioMoth file, \"\n"
     ]
    },
    {
     "name": "stdout",
     "output_type": "stream",
     "text": [
      "Recordings/20220703_220901.WAV\n",
      "Recordings/20220703_220902.WAV\n",
      "Recordings/20220703_220903.WAV\n"
     ]
    },
    {
     "name": "stderr",
     "output_type": "stream",
     "text": [
      "/home/adkris1002/miniconda3/envs/opensoundscape/lib/python3.7/site-packages/opensoundscape/audio.py:239: UserWarning: audio object has zero samples\n",
      "  warnings.warn(error_msg)\n",
      "/home/adkris1002/miniconda3/envs/opensoundscape/lib/python3.7/site-packages/opensoundscape/audio.py:180: UserWarning: This seems to be an AudioMoth file, but parse_audiomoth_metadata() raised: list index out of range\n",
      "  \"This seems to be an AudioMoth file, \"\n",
      "/home/adkris1002/miniconda3/envs/opensoundscape/lib/python3.7/site-packages/opensoundscape/audio.py:239: UserWarning: audio object has zero samples\n",
      "  warnings.warn(error_msg)\n",
      "/home/adkris1002/miniconda3/envs/opensoundscape/lib/python3.7/site-packages/opensoundscape/audio.py:180: UserWarning: This seems to be an AudioMoth file, but parse_audiomoth_metadata() raised: list index out of range\n",
      "  \"This seems to be an AudioMoth file, \"\n",
      "/home/adkris1002/miniconda3/envs/opensoundscape/lib/python3.7/site-packages/opensoundscape/audio.py:239: UserWarning: audio object has zero samples\n",
      "  warnings.warn(error_msg)\n",
      "/home/adkris1002/miniconda3/envs/opensoundscape/lib/python3.7/site-packages/opensoundscape/audio.py:180: UserWarning: This seems to be an AudioMoth file, but parse_audiomoth_metadata() raised: list index out of range\n",
      "  \"This seems to be an AudioMoth file, \"\n"
     ]
    },
    {
     "name": "stdout",
     "output_type": "stream",
     "text": [
      "Recordings/20220703_220904.WAV\n",
      "Recordings/20220703_220905.WAV\n",
      "Recordings/20220703_220906.WAV\n"
     ]
    },
    {
     "name": "stderr",
     "output_type": "stream",
     "text": [
      "/home/adkris1002/miniconda3/envs/opensoundscape/lib/python3.7/site-packages/opensoundscape/audio.py:239: UserWarning: audio object has zero samples\n",
      "  warnings.warn(error_msg)\n",
      "/home/adkris1002/miniconda3/envs/opensoundscape/lib/python3.7/site-packages/opensoundscape/audio.py:180: UserWarning: This seems to be an AudioMoth file, but parse_audiomoth_metadata() raised: list index out of range\n",
      "  \"This seems to be an AudioMoth file, \"\n",
      "/home/adkris1002/miniconda3/envs/opensoundscape/lib/python3.7/site-packages/opensoundscape/audio.py:239: UserWarning: audio object has zero samples\n",
      "  warnings.warn(error_msg)\n",
      "/home/adkris1002/miniconda3/envs/opensoundscape/lib/python3.7/site-packages/opensoundscape/audio.py:180: UserWarning: This seems to be an AudioMoth file, but parse_audiomoth_metadata() raised: list index out of range\n",
      "  \"This seems to be an AudioMoth file, \"\n",
      "/home/adkris1002/miniconda3/envs/opensoundscape/lib/python3.7/site-packages/opensoundscape/audio.py:239: UserWarning: audio object has zero samples\n",
      "  warnings.warn(error_msg)\n",
      "/home/adkris1002/miniconda3/envs/opensoundscape/lib/python3.7/site-packages/opensoundscape/audio.py:180: UserWarning: This seems to be an AudioMoth file, but parse_audiomoth_metadata() raised: list index out of range\n",
      "  \"This seems to be an AudioMoth file, \"\n"
     ]
    },
    {
     "name": "stdout",
     "output_type": "stream",
     "text": [
      "Recordings/20220703_220907.WAV\n",
      "Recordings/20220703_220908.WAV\n",
      "Recordings/20220703_220909.WAV\n"
     ]
    },
    {
     "name": "stderr",
     "output_type": "stream",
     "text": [
      "/home/adkris1002/miniconda3/envs/opensoundscape/lib/python3.7/site-packages/opensoundscape/audio.py:239: UserWarning: audio object has zero samples\n",
      "  warnings.warn(error_msg)\n",
      "/home/adkris1002/miniconda3/envs/opensoundscape/lib/python3.7/site-packages/opensoundscape/audio.py:180: UserWarning: This seems to be an AudioMoth file, but parse_audiomoth_metadata() raised: list index out of range\n",
      "  \"This seems to be an AudioMoth file, \"\n",
      "/home/adkris1002/miniconda3/envs/opensoundscape/lib/python3.7/site-packages/opensoundscape/audio.py:239: UserWarning: audio object has zero samples\n",
      "  warnings.warn(error_msg)\n",
      "/home/adkris1002/miniconda3/envs/opensoundscape/lib/python3.7/site-packages/opensoundscape/audio.py:180: UserWarning: This seems to be an AudioMoth file, but parse_audiomoth_metadata() raised: list index out of range\n",
      "  \"This seems to be an AudioMoth file, \"\n",
      "/home/adkris1002/miniconda3/envs/opensoundscape/lib/python3.7/site-packages/opensoundscape/audio.py:239: UserWarning: audio object has zero samples\n",
      "  warnings.warn(error_msg)\n",
      "/home/adkris1002/miniconda3/envs/opensoundscape/lib/python3.7/site-packages/opensoundscape/audio.py:180: UserWarning: This seems to be an AudioMoth file, but parse_audiomoth_metadata() raised: list index out of range\n",
      "  \"This seems to be an AudioMoth file, \"\n"
     ]
    },
    {
     "name": "stdout",
     "output_type": "stream",
     "text": [
      "Recordings/20220703_220910.WAV\n",
      "Recordings/20220703_220911.WAV\n",
      "Recordings/20220703_220912.WAV\n"
     ]
    },
    {
     "name": "stderr",
     "output_type": "stream",
     "text": [
      "/home/adkris1002/miniconda3/envs/opensoundscape/lib/python3.7/site-packages/opensoundscape/audio.py:239: UserWarning: audio object has zero samples\n",
      "  warnings.warn(error_msg)\n",
      "/home/adkris1002/miniconda3/envs/opensoundscape/lib/python3.7/site-packages/opensoundscape/audio.py:180: UserWarning: This seems to be an AudioMoth file, but parse_audiomoth_metadata() raised: list index out of range\n",
      "  \"This seems to be an AudioMoth file, \"\n",
      "/home/adkris1002/miniconda3/envs/opensoundscape/lib/python3.7/site-packages/opensoundscape/audio.py:239: UserWarning: audio object has zero samples\n",
      "  warnings.warn(error_msg)\n",
      "/home/adkris1002/miniconda3/envs/opensoundscape/lib/python3.7/site-packages/opensoundscape/audio.py:180: UserWarning: This seems to be an AudioMoth file, but parse_audiomoth_metadata() raised: list index out of range\n",
      "  \"This seems to be an AudioMoth file, \"\n",
      "/home/adkris1002/miniconda3/envs/opensoundscape/lib/python3.7/site-packages/opensoundscape/audio.py:239: UserWarning: audio object has zero samples\n",
      "  warnings.warn(error_msg)\n",
      "/home/adkris1002/miniconda3/envs/opensoundscape/lib/python3.7/site-packages/opensoundscape/audio.py:180: UserWarning: This seems to be an AudioMoth file, but parse_audiomoth_metadata() raised: list index out of range\n",
      "  \"This seems to be an AudioMoth file, \"\n"
     ]
    },
    {
     "name": "stdout",
     "output_type": "stream",
     "text": [
      "Recordings/20220703_220913.WAV\n",
      "Recordings/20220703_220914.WAV\n",
      "Recordings/20220703_220915.WAV\n"
     ]
    },
    {
     "name": "stderr",
     "output_type": "stream",
     "text": [
      "/home/adkris1002/miniconda3/envs/opensoundscape/lib/python3.7/site-packages/opensoundscape/audio.py:239: UserWarning: audio object has zero samples\n",
      "  warnings.warn(error_msg)\n",
      "/home/adkris1002/miniconda3/envs/opensoundscape/lib/python3.7/site-packages/opensoundscape/audio.py:180: UserWarning: This seems to be an AudioMoth file, but parse_audiomoth_metadata() raised: list index out of range\n",
      "  \"This seems to be an AudioMoth file, \"\n",
      "/home/adkris1002/miniconda3/envs/opensoundscape/lib/python3.7/site-packages/opensoundscape/audio.py:239: UserWarning: audio object has zero samples\n",
      "  warnings.warn(error_msg)\n",
      "/home/adkris1002/miniconda3/envs/opensoundscape/lib/python3.7/site-packages/opensoundscape/audio.py:180: UserWarning: This seems to be an AudioMoth file, but parse_audiomoth_metadata() raised: list index out of range\n",
      "  \"This seems to be an AudioMoth file, \"\n"
     ]
    },
    {
     "name": "stdout",
     "output_type": "stream",
     "text": [
      "Recordings/20220703_220916.WAV\n",
      "Recordings/20220703_220917.WAV\n"
     ]
    },
    {
     "name": "stderr",
     "output_type": "stream",
     "text": [
      "/home/adkris1002/miniconda3/envs/opensoundscape/lib/python3.7/site-packages/opensoundscape/audio.py:239: UserWarning: audio object has zero samples\n",
      "  warnings.warn(error_msg)\n",
      "/home/adkris1002/miniconda3/envs/opensoundscape/lib/python3.7/site-packages/opensoundscape/audio.py:180: UserWarning: This seems to be an AudioMoth file, but parse_audiomoth_metadata() raised: list index out of range\n",
      "  \"This seems to be an AudioMoth file, \"\n",
      "/home/adkris1002/miniconda3/envs/opensoundscape/lib/python3.7/site-packages/opensoundscape/audio.py:239: UserWarning: audio object has zero samples\n",
      "  warnings.warn(error_msg)\n",
      "/home/adkris1002/miniconda3/envs/opensoundscape/lib/python3.7/site-packages/opensoundscape/audio.py:180: UserWarning: This seems to be an AudioMoth file, but parse_audiomoth_metadata() raised: list index out of range\n",
      "  \"This seems to be an AudioMoth file, \"\n",
      "/home/adkris1002/miniconda3/envs/opensoundscape/lib/python3.7/site-packages/opensoundscape/audio.py:239: UserWarning: audio object has zero samples\n",
      "  warnings.warn(error_msg)\n",
      "/home/adkris1002/miniconda3/envs/opensoundscape/lib/python3.7/site-packages/opensoundscape/audio.py:180: UserWarning: This seems to be an AudioMoth file, but parse_audiomoth_metadata() raised: list index out of range\n",
      "  \"This seems to be an AudioMoth file, \"\n"
     ]
    },
    {
     "name": "stdout",
     "output_type": "stream",
     "text": [
      "Recordings/20220703_220918.WAV\n",
      "Recordings/20220703_220919.WAV\n",
      "Recordings/20220703_220920.WAV\n"
     ]
    },
    {
     "name": "stderr",
     "output_type": "stream",
     "text": [
      "/home/adkris1002/miniconda3/envs/opensoundscape/lib/python3.7/site-packages/opensoundscape/audio.py:239: UserWarning: audio object has zero samples\n",
      "  warnings.warn(error_msg)\n",
      "/home/adkris1002/miniconda3/envs/opensoundscape/lib/python3.7/site-packages/opensoundscape/audio.py:180: UserWarning: This seems to be an AudioMoth file, but parse_audiomoth_metadata() raised: list index out of range\n",
      "  \"This seems to be an AudioMoth file, \"\n",
      "/home/adkris1002/miniconda3/envs/opensoundscape/lib/python3.7/site-packages/opensoundscape/audio.py:239: UserWarning: audio object has zero samples\n",
      "  warnings.warn(error_msg)\n",
      "/home/adkris1002/miniconda3/envs/opensoundscape/lib/python3.7/site-packages/opensoundscape/audio.py:180: UserWarning: This seems to be an AudioMoth file, but parse_audiomoth_metadata() raised: list index out of range\n",
      "  \"This seems to be an AudioMoth file, \"\n",
      "/home/adkris1002/miniconda3/envs/opensoundscape/lib/python3.7/site-packages/opensoundscape/audio.py:239: UserWarning: audio object has zero samples\n",
      "  warnings.warn(error_msg)\n",
      "/home/adkris1002/miniconda3/envs/opensoundscape/lib/python3.7/site-packages/opensoundscape/audio.py:180: UserWarning: This seems to be an AudioMoth file, but parse_audiomoth_metadata() raised: list index out of range\n",
      "  \"This seems to be an AudioMoth file, \"\n"
     ]
    },
    {
     "name": "stdout",
     "output_type": "stream",
     "text": [
      "Recordings/20220703_220921.WAV\n",
      "Recordings/20220703_220922.WAV\n",
      "Recordings/20220703_220923.WAV\n"
     ]
    },
    {
     "name": "stderr",
     "output_type": "stream",
     "text": [
      "/home/adkris1002/miniconda3/envs/opensoundscape/lib/python3.7/site-packages/opensoundscape/audio.py:239: UserWarning: audio object has zero samples\n",
      "  warnings.warn(error_msg)\n",
      "/home/adkris1002/miniconda3/envs/opensoundscape/lib/python3.7/site-packages/opensoundscape/audio.py:180: UserWarning: This seems to be an AudioMoth file, but parse_audiomoth_metadata() raised: list index out of range\n",
      "  \"This seems to be an AudioMoth file, \"\n",
      "/home/adkris1002/miniconda3/envs/opensoundscape/lib/python3.7/site-packages/opensoundscape/audio.py:239: UserWarning: audio object has zero samples\n",
      "  warnings.warn(error_msg)\n",
      "/home/adkris1002/miniconda3/envs/opensoundscape/lib/python3.7/site-packages/opensoundscape/audio.py:180: UserWarning: This seems to be an AudioMoth file, but parse_audiomoth_metadata() raised: list index out of range\n",
      "  \"This seems to be an AudioMoth file, \"\n",
      "/home/adkris1002/miniconda3/envs/opensoundscape/lib/python3.7/site-packages/opensoundscape/audio.py:239: UserWarning: audio object has zero samples\n",
      "  warnings.warn(error_msg)\n",
      "/home/adkris1002/miniconda3/envs/opensoundscape/lib/python3.7/site-packages/opensoundscape/audio.py:180: UserWarning: This seems to be an AudioMoth file, but parse_audiomoth_metadata() raised: list index out of range\n",
      "  \"This seems to be an AudioMoth file, \"\n"
     ]
    },
    {
     "name": "stdout",
     "output_type": "stream",
     "text": [
      "Recordings/20220703_220924.WAV\n",
      "Recordings/20220703_220925.WAV\n",
      "Recordings/20220703_220926.WAV\n"
     ]
    },
    {
     "name": "stderr",
     "output_type": "stream",
     "text": [
      "/home/adkris1002/miniconda3/envs/opensoundscape/lib/python3.7/site-packages/opensoundscape/audio.py:239: UserWarning: audio object has zero samples\n",
      "  warnings.warn(error_msg)\n",
      "/home/adkris1002/miniconda3/envs/opensoundscape/lib/python3.7/site-packages/opensoundscape/audio.py:180: UserWarning: This seems to be an AudioMoth file, but parse_audiomoth_metadata() raised: list index out of range\n",
      "  \"This seems to be an AudioMoth file, \"\n",
      "/home/adkris1002/miniconda3/envs/opensoundscape/lib/python3.7/site-packages/opensoundscape/audio.py:239: UserWarning: audio object has zero samples\n",
      "  warnings.warn(error_msg)\n",
      "/home/adkris1002/miniconda3/envs/opensoundscape/lib/python3.7/site-packages/opensoundscape/audio.py:180: UserWarning: This seems to be an AudioMoth file, but parse_audiomoth_metadata() raised: list index out of range\n",
      "  \"This seems to be an AudioMoth file, \"\n",
      "/home/adkris1002/miniconda3/envs/opensoundscape/lib/python3.7/site-packages/opensoundscape/audio.py:239: UserWarning: audio object has zero samples\n",
      "  warnings.warn(error_msg)\n",
      "/home/adkris1002/miniconda3/envs/opensoundscape/lib/python3.7/site-packages/opensoundscape/audio.py:180: UserWarning: This seems to be an AudioMoth file, but parse_audiomoth_metadata() raised: list index out of range\n",
      "  \"This seems to be an AudioMoth file, \"\n"
     ]
    },
    {
     "name": "stdout",
     "output_type": "stream",
     "text": [
      "Recordings/20220703_220927.WAV\n",
      "Recordings/20220703_220928.WAV\n",
      "Recordings/20220703_220929.WAV\n"
     ]
    },
    {
     "name": "stderr",
     "output_type": "stream",
     "text": [
      "/home/adkris1002/miniconda3/envs/opensoundscape/lib/python3.7/site-packages/opensoundscape/audio.py:239: UserWarning: audio object has zero samples\n",
      "  warnings.warn(error_msg)\n",
      "/home/adkris1002/miniconda3/envs/opensoundscape/lib/python3.7/site-packages/opensoundscape/audio.py:180: UserWarning: This seems to be an AudioMoth file, but parse_audiomoth_metadata() raised: list index out of range\n",
      "  \"This seems to be an AudioMoth file, \"\n",
      "/home/adkris1002/miniconda3/envs/opensoundscape/lib/python3.7/site-packages/opensoundscape/audio.py:239: UserWarning: audio object has zero samples\n",
      "  warnings.warn(error_msg)\n",
      "/home/adkris1002/miniconda3/envs/opensoundscape/lib/python3.7/site-packages/opensoundscape/audio.py:180: UserWarning: This seems to be an AudioMoth file, but parse_audiomoth_metadata() raised: list index out of range\n",
      "  \"This seems to be an AudioMoth file, \"\n"
     ]
    },
    {
     "name": "stdout",
     "output_type": "stream",
     "text": [
      "Recordings/20220703_220930.WAV\n",
      "Recordings/20220703_220931.WAV\n"
     ]
    },
    {
     "name": "stderr",
     "output_type": "stream",
     "text": [
      "/home/adkris1002/miniconda3/envs/opensoundscape/lib/python3.7/site-packages/opensoundscape/audio.py:239: UserWarning: audio object has zero samples\n",
      "  warnings.warn(error_msg)\n",
      "/home/adkris1002/miniconda3/envs/opensoundscape/lib/python3.7/site-packages/opensoundscape/audio.py:180: UserWarning: This seems to be an AudioMoth file, but parse_audiomoth_metadata() raised: list index out of range\n",
      "  \"This seems to be an AudioMoth file, \"\n",
      "/home/adkris1002/miniconda3/envs/opensoundscape/lib/python3.7/site-packages/opensoundscape/audio.py:239: UserWarning: audio object has zero samples\n",
      "  warnings.warn(error_msg)\n",
      "/home/adkris1002/miniconda3/envs/opensoundscape/lib/python3.7/site-packages/opensoundscape/audio.py:180: UserWarning: This seems to be an AudioMoth file, but parse_audiomoth_metadata() raised: list index out of range\n",
      "  \"This seems to be an AudioMoth file, \"\n"
     ]
    },
    {
     "name": "stdout",
     "output_type": "stream",
     "text": [
      "Recordings/20220703_220932.WAV\n",
      "Recordings/20220703_220933.WAV\n"
     ]
    },
    {
     "name": "stderr",
     "output_type": "stream",
     "text": [
      "/home/adkris1002/miniconda3/envs/opensoundscape/lib/python3.7/site-packages/opensoundscape/audio.py:239: UserWarning: audio object has zero samples\n",
      "  warnings.warn(error_msg)\n",
      "/home/adkris1002/miniconda3/envs/opensoundscape/lib/python3.7/site-packages/opensoundscape/audio.py:180: UserWarning: This seems to be an AudioMoth file, but parse_audiomoth_metadata() raised: list index out of range\n",
      "  \"This seems to be an AudioMoth file, \"\n",
      "/home/adkris1002/miniconda3/envs/opensoundscape/lib/python3.7/site-packages/opensoundscape/audio.py:239: UserWarning: audio object has zero samples\n",
      "  warnings.warn(error_msg)\n",
      "/home/adkris1002/miniconda3/envs/opensoundscape/lib/python3.7/site-packages/opensoundscape/audio.py:180: UserWarning: This seems to be an AudioMoth file, but parse_audiomoth_metadata() raised: list index out of range\n",
      "  \"This seems to be an AudioMoth file, \"\n"
     ]
    },
    {
     "name": "stdout",
     "output_type": "stream",
     "text": [
      "Recordings/20220703_220934.WAV\n",
      "Recordings/20220703_220935.WAV\n"
     ]
    },
    {
     "name": "stderr",
     "output_type": "stream",
     "text": [
      "/home/adkris1002/miniconda3/envs/opensoundscape/lib/python3.7/site-packages/opensoundscape/audio.py:239: UserWarning: audio object has zero samples\n",
      "  warnings.warn(error_msg)\n",
      "/home/adkris1002/miniconda3/envs/opensoundscape/lib/python3.7/site-packages/opensoundscape/audio.py:180: UserWarning: This seems to be an AudioMoth file, but parse_audiomoth_metadata() raised: list index out of range\n",
      "  \"This seems to be an AudioMoth file, \"\n",
      "/home/adkris1002/miniconda3/envs/opensoundscape/lib/python3.7/site-packages/opensoundscape/audio.py:239: UserWarning: audio object has zero samples\n",
      "  warnings.warn(error_msg)\n",
      "/home/adkris1002/miniconda3/envs/opensoundscape/lib/python3.7/site-packages/opensoundscape/audio.py:180: UserWarning: This seems to be an AudioMoth file, but parse_audiomoth_metadata() raised: list index out of range\n",
      "  \"This seems to be an AudioMoth file, \"\n"
     ]
    },
    {
     "name": "stdout",
     "output_type": "stream",
     "text": [
      "Recordings/20220703_220936.WAV\n",
      "Recordings/20220703_220937.WAV\n"
     ]
    },
    {
     "name": "stderr",
     "output_type": "stream",
     "text": [
      "/home/adkris1002/miniconda3/envs/opensoundscape/lib/python3.7/site-packages/opensoundscape/audio.py:239: UserWarning: audio object has zero samples\n",
      "  warnings.warn(error_msg)\n",
      "/home/adkris1002/miniconda3/envs/opensoundscape/lib/python3.7/site-packages/opensoundscape/audio.py:180: UserWarning: This seems to be an AudioMoth file, but parse_audiomoth_metadata() raised: list index out of range\n",
      "  \"This seems to be an AudioMoth file, \"\n",
      "/home/adkris1002/miniconda3/envs/opensoundscape/lib/python3.7/site-packages/opensoundscape/audio.py:239: UserWarning: audio object has zero samples\n",
      "  warnings.warn(error_msg)\n",
      "/home/adkris1002/miniconda3/envs/opensoundscape/lib/python3.7/site-packages/opensoundscape/audio.py:180: UserWarning: This seems to be an AudioMoth file, but parse_audiomoth_metadata() raised: list index out of range\n",
      "  \"This seems to be an AudioMoth file, \"\n"
     ]
    },
    {
     "name": "stdout",
     "output_type": "stream",
     "text": [
      "Recordings/20220703_220938.WAV\n",
      "Recordings/20220703_220939.WAV\n"
     ]
    },
    {
     "name": "stderr",
     "output_type": "stream",
     "text": [
      "/home/adkris1002/miniconda3/envs/opensoundscape/lib/python3.7/site-packages/opensoundscape/audio.py:239: UserWarning: audio object has zero samples\n",
      "  warnings.warn(error_msg)\n",
      "/home/adkris1002/miniconda3/envs/opensoundscape/lib/python3.7/site-packages/opensoundscape/audio.py:180: UserWarning: This seems to be an AudioMoth file, but parse_audiomoth_metadata() raised: list index out of range\n",
      "  \"This seems to be an AudioMoth file, \"\n",
      "/home/adkris1002/miniconda3/envs/opensoundscape/lib/python3.7/site-packages/opensoundscape/audio.py:239: UserWarning: audio object has zero samples\n",
      "  warnings.warn(error_msg)\n",
      "/home/adkris1002/miniconda3/envs/opensoundscape/lib/python3.7/site-packages/opensoundscape/audio.py:180: UserWarning: This seems to be an AudioMoth file, but parse_audiomoth_metadata() raised: list index out of range\n",
      "  \"This seems to be an AudioMoth file, \"\n"
     ]
    },
    {
     "name": "stdout",
     "output_type": "stream",
     "text": [
      "Recordings/20220703_220940.WAV\n",
      "Recordings/20220703_220941.WAV\n"
     ]
    },
    {
     "name": "stderr",
     "output_type": "stream",
     "text": [
      "/home/adkris1002/miniconda3/envs/opensoundscape/lib/python3.7/site-packages/opensoundscape/audio.py:239: UserWarning: audio object has zero samples\n",
      "  warnings.warn(error_msg)\n",
      "/home/adkris1002/miniconda3/envs/opensoundscape/lib/python3.7/site-packages/opensoundscape/audio.py:180: UserWarning: This seems to be an AudioMoth file, but parse_audiomoth_metadata() raised: list index out of range\n",
      "  \"This seems to be an AudioMoth file, \"\n",
      "/home/adkris1002/miniconda3/envs/opensoundscape/lib/python3.7/site-packages/opensoundscape/audio.py:239: UserWarning: audio object has zero samples\n",
      "  warnings.warn(error_msg)\n",
      "/home/adkris1002/miniconda3/envs/opensoundscape/lib/python3.7/site-packages/opensoundscape/audio.py:180: UserWarning: This seems to be an AudioMoth file, but parse_audiomoth_metadata() raised: list index out of range\n",
      "  \"This seems to be an AudioMoth file, \"\n",
      "/home/adkris1002/miniconda3/envs/opensoundscape/lib/python3.7/site-packages/opensoundscape/audio.py:239: UserWarning: audio object has zero samples\n",
      "  warnings.warn(error_msg)\n",
      "/home/adkris1002/miniconda3/envs/opensoundscape/lib/python3.7/site-packages/opensoundscape/audio.py:180: UserWarning: This seems to be an AudioMoth file, but parse_audiomoth_metadata() raised: list index out of range\n",
      "  \"This seems to be an AudioMoth file, \"\n"
     ]
    },
    {
     "name": "stdout",
     "output_type": "stream",
     "text": [
      "Recordings/20220703_220942.WAV\n",
      "Recordings/20220703_220943.WAV\n",
      "Recordings/20220703_220944.WAV\n"
     ]
    },
    {
     "name": "stderr",
     "output_type": "stream",
     "text": [
      "/home/adkris1002/miniconda3/envs/opensoundscape/lib/python3.7/site-packages/opensoundscape/audio.py:239: UserWarning: audio object has zero samples\n",
      "  warnings.warn(error_msg)\n",
      "/home/adkris1002/miniconda3/envs/opensoundscape/lib/python3.7/site-packages/opensoundscape/audio.py:180: UserWarning: This seems to be an AudioMoth file, but parse_audiomoth_metadata() raised: list index out of range\n",
      "  \"This seems to be an AudioMoth file, \"\n",
      "/home/adkris1002/miniconda3/envs/opensoundscape/lib/python3.7/site-packages/opensoundscape/audio.py:239: UserWarning: audio object has zero samples\n",
      "  warnings.warn(error_msg)\n",
      "/home/adkris1002/miniconda3/envs/opensoundscape/lib/python3.7/site-packages/opensoundscape/audio.py:180: UserWarning: This seems to be an AudioMoth file, but parse_audiomoth_metadata() raised: list index out of range\n",
      "  \"This seems to be an AudioMoth file, \"\n"
     ]
    },
    {
     "name": "stdout",
     "output_type": "stream",
     "text": [
      "Recordings/20220703_220945.WAV\n",
      "Recordings/20220703_220946.WAV\n"
     ]
    },
    {
     "name": "stderr",
     "output_type": "stream",
     "text": [
      "/home/adkris1002/miniconda3/envs/opensoundscape/lib/python3.7/site-packages/opensoundscape/audio.py:239: UserWarning: audio object has zero samples\n",
      "  warnings.warn(error_msg)\n",
      "/home/adkris1002/miniconda3/envs/opensoundscape/lib/python3.7/site-packages/opensoundscape/audio.py:180: UserWarning: This seems to be an AudioMoth file, but parse_audiomoth_metadata() raised: list index out of range\n",
      "  \"This seems to be an AudioMoth file, \"\n",
      "/home/adkris1002/miniconda3/envs/opensoundscape/lib/python3.7/site-packages/opensoundscape/audio.py:239: UserWarning: audio object has zero samples\n",
      "  warnings.warn(error_msg)\n",
      "/home/adkris1002/miniconda3/envs/opensoundscape/lib/python3.7/site-packages/opensoundscape/audio.py:180: UserWarning: This seems to be an AudioMoth file, but parse_audiomoth_metadata() raised: list index out of range\n",
      "  \"This seems to be an AudioMoth file, \"\n",
      "/home/adkris1002/miniconda3/envs/opensoundscape/lib/python3.7/site-packages/opensoundscape/audio.py:239: UserWarning: audio object has zero samples\n",
      "  warnings.warn(error_msg)\n",
      "/home/adkris1002/miniconda3/envs/opensoundscape/lib/python3.7/site-packages/opensoundscape/audio.py:180: UserWarning: This seems to be an AudioMoth file, but parse_audiomoth_metadata() raised: list index out of range\n",
      "  \"This seems to be an AudioMoth file, \"\n"
     ]
    },
    {
     "name": "stdout",
     "output_type": "stream",
     "text": [
      "Recordings/20220703_220947.WAV\n",
      "Recordings/20220703_220948.WAV\n",
      "Recordings/20220703_220949.WAV\n"
     ]
    },
    {
     "name": "stderr",
     "output_type": "stream",
     "text": [
      "/home/adkris1002/miniconda3/envs/opensoundscape/lib/python3.7/site-packages/opensoundscape/audio.py:239: UserWarning: audio object has zero samples\n",
      "  warnings.warn(error_msg)\n",
      "/home/adkris1002/miniconda3/envs/opensoundscape/lib/python3.7/site-packages/opensoundscape/audio.py:180: UserWarning: This seems to be an AudioMoth file, but parse_audiomoth_metadata() raised: list index out of range\n",
      "  \"This seems to be an AudioMoth file, \"\n"
     ]
    },
    {
     "name": "stdout",
     "output_type": "stream",
     "text": [
      "Recordings/20220703_220950.WAV\n"
     ]
    },
    {
     "name": "stderr",
     "output_type": "stream",
     "text": [
      "/home/adkris1002/miniconda3/envs/opensoundscape/lib/python3.7/site-packages/opensoundscape/audio.py:239: UserWarning: audio object has zero samples\n",
      "  warnings.warn(error_msg)\n",
      "/home/adkris1002/miniconda3/envs/opensoundscape/lib/python3.7/site-packages/opensoundscape/audio.py:180: UserWarning: This seems to be an AudioMoth file, but parse_audiomoth_metadata() raised: list index out of range\n",
      "  \"This seems to be an AudioMoth file, \"\n",
      "/home/adkris1002/miniconda3/envs/opensoundscape/lib/python3.7/site-packages/opensoundscape/audio.py:239: UserWarning: audio object has zero samples\n",
      "  warnings.warn(error_msg)\n",
      "/home/adkris1002/miniconda3/envs/opensoundscape/lib/python3.7/site-packages/opensoundscape/audio.py:180: UserWarning: This seems to be an AudioMoth file, but parse_audiomoth_metadata() raised: list index out of range\n",
      "  \"This seems to be an AudioMoth file, \"\n"
     ]
    },
    {
     "name": "stdout",
     "output_type": "stream",
     "text": [
      "Recordings/20220703_220951.WAV\n",
      "Recordings/20220703_220952.WAV\n"
     ]
    },
    {
     "name": "stderr",
     "output_type": "stream",
     "text": [
      "/home/adkris1002/miniconda3/envs/opensoundscape/lib/python3.7/site-packages/opensoundscape/audio.py:239: UserWarning: audio object has zero samples\n",
      "  warnings.warn(error_msg)\n",
      "/home/adkris1002/miniconda3/envs/opensoundscape/lib/python3.7/site-packages/opensoundscape/audio.py:180: UserWarning: This seems to be an AudioMoth file, but parse_audiomoth_metadata() raised: list index out of range\n",
      "  \"This seems to be an AudioMoth file, \"\n",
      "/home/adkris1002/miniconda3/envs/opensoundscape/lib/python3.7/site-packages/opensoundscape/audio.py:239: UserWarning: audio object has zero samples\n",
      "  warnings.warn(error_msg)\n",
      "/home/adkris1002/miniconda3/envs/opensoundscape/lib/python3.7/site-packages/opensoundscape/audio.py:180: UserWarning: This seems to be an AudioMoth file, but parse_audiomoth_metadata() raised: list index out of range\n",
      "  \"This seems to be an AudioMoth file, \"\n",
      "/home/adkris1002/miniconda3/envs/opensoundscape/lib/python3.7/site-packages/opensoundscape/audio.py:239: UserWarning: audio object has zero samples\n",
      "  warnings.warn(error_msg)\n",
      "/home/adkris1002/miniconda3/envs/opensoundscape/lib/python3.7/site-packages/opensoundscape/audio.py:180: UserWarning: This seems to be an AudioMoth file, but parse_audiomoth_metadata() raised: list index out of range\n",
      "  \"This seems to be an AudioMoth file, \"\n"
     ]
    },
    {
     "name": "stdout",
     "output_type": "stream",
     "text": [
      "Recordings/20220703_220953.WAV\n",
      "Recordings/20220703_220954.WAV\n",
      "Recordings/20220703_220955.WAV\n"
     ]
    },
    {
     "name": "stderr",
     "output_type": "stream",
     "text": [
      "/home/adkris1002/miniconda3/envs/opensoundscape/lib/python3.7/site-packages/opensoundscape/audio.py:239: UserWarning: audio object has zero samples\n",
      "  warnings.warn(error_msg)\n",
      "/home/adkris1002/miniconda3/envs/opensoundscape/lib/python3.7/site-packages/opensoundscape/audio.py:180: UserWarning: This seems to be an AudioMoth file, but parse_audiomoth_metadata() raised: list index out of range\n",
      "  \"This seems to be an AudioMoth file, \"\n",
      "/home/adkris1002/miniconda3/envs/opensoundscape/lib/python3.7/site-packages/opensoundscape/audio.py:239: UserWarning: audio object has zero samples\n",
      "  warnings.warn(error_msg)\n",
      "/home/adkris1002/miniconda3/envs/opensoundscape/lib/python3.7/site-packages/opensoundscape/audio.py:180: UserWarning: This seems to be an AudioMoth file, but parse_audiomoth_metadata() raised: list index out of range\n",
      "  \"This seems to be an AudioMoth file, \"\n",
      "/home/adkris1002/miniconda3/envs/opensoundscape/lib/python3.7/site-packages/opensoundscape/audio.py:239: UserWarning: audio object has zero samples\n",
      "  warnings.warn(error_msg)\n",
      "/home/adkris1002/miniconda3/envs/opensoundscape/lib/python3.7/site-packages/opensoundscape/audio.py:180: UserWarning: This seems to be an AudioMoth file, but parse_audiomoth_metadata() raised: list index out of range\n",
      "  \"This seems to be an AudioMoth file, \"\n"
     ]
    },
    {
     "name": "stdout",
     "output_type": "stream",
     "text": [
      "Recordings/20220703_220956.WAV\n",
      "Recordings/20220703_220957.WAV\n",
      "Recordings/20220703_220958.WAV\n"
     ]
    },
    {
     "name": "stderr",
     "output_type": "stream",
     "text": [
      "/home/adkris1002/miniconda3/envs/opensoundscape/lib/python3.7/site-packages/opensoundscape/audio.py:239: UserWarning: audio object has zero samples\n",
      "  warnings.warn(error_msg)\n",
      "/home/adkris1002/miniconda3/envs/opensoundscape/lib/python3.7/site-packages/opensoundscape/audio.py:180: UserWarning: This seems to be an AudioMoth file, but parse_audiomoth_metadata() raised: list index out of range\n",
      "  \"This seems to be an AudioMoth file, \"\n",
      "/home/adkris1002/miniconda3/envs/opensoundscape/lib/python3.7/site-packages/opensoundscape/audio.py:239: UserWarning: audio object has zero samples\n",
      "  warnings.warn(error_msg)\n",
      "/home/adkris1002/miniconda3/envs/opensoundscape/lib/python3.7/site-packages/opensoundscape/audio.py:180: UserWarning: This seems to be an AudioMoth file, but parse_audiomoth_metadata() raised: list index out of range\n",
      "  \"This seems to be an AudioMoth file, \"\n",
      "/home/adkris1002/miniconda3/envs/opensoundscape/lib/python3.7/site-packages/opensoundscape/audio.py:239: UserWarning: audio object has zero samples\n",
      "  warnings.warn(error_msg)\n",
      "/home/adkris1002/miniconda3/envs/opensoundscape/lib/python3.7/site-packages/opensoundscape/audio.py:180: UserWarning: This seems to be an AudioMoth file, but parse_audiomoth_metadata() raised: list index out of range\n",
      "  \"This seems to be an AudioMoth file, \"\n"
     ]
    },
    {
     "name": "stdout",
     "output_type": "stream",
     "text": [
      "Recordings/20220703_220959.WAV\n",
      "Recordings/20220703_221000.WAV\n",
      "Recordings/20220703_221001.WAV\n"
     ]
    },
    {
     "name": "stderr",
     "output_type": "stream",
     "text": [
      "/home/adkris1002/miniconda3/envs/opensoundscape/lib/python3.7/site-packages/opensoundscape/audio.py:239: UserWarning: audio object has zero samples\n",
      "  warnings.warn(error_msg)\n",
      "/home/adkris1002/miniconda3/envs/opensoundscape/lib/python3.7/site-packages/opensoundscape/audio.py:180: UserWarning: This seems to be an AudioMoth file, but parse_audiomoth_metadata() raised: list index out of range\n",
      "  \"This seems to be an AudioMoth file, \"\n",
      "/home/adkris1002/miniconda3/envs/opensoundscape/lib/python3.7/site-packages/opensoundscape/audio.py:239: UserWarning: audio object has zero samples\n",
      "  warnings.warn(error_msg)\n",
      "/home/adkris1002/miniconda3/envs/opensoundscape/lib/python3.7/site-packages/opensoundscape/audio.py:180: UserWarning: This seems to be an AudioMoth file, but parse_audiomoth_metadata() raised: list index out of range\n",
      "  \"This seems to be an AudioMoth file, \"\n"
     ]
    },
    {
     "name": "stdout",
     "output_type": "stream",
     "text": [
      "Recordings/20220703_221002.WAV\n",
      "Recordings/20220703_221003.WAV\n"
     ]
    },
    {
     "name": "stderr",
     "output_type": "stream",
     "text": [
      "/home/adkris1002/miniconda3/envs/opensoundscape/lib/python3.7/site-packages/opensoundscape/audio.py:239: UserWarning: audio object has zero samples\n",
      "  warnings.warn(error_msg)\n",
      "/home/adkris1002/miniconda3/envs/opensoundscape/lib/python3.7/site-packages/opensoundscape/audio.py:180: UserWarning: This seems to be an AudioMoth file, but parse_audiomoth_metadata() raised: list index out of range\n",
      "  \"This seems to be an AudioMoth file, \"\n",
      "/home/adkris1002/miniconda3/envs/opensoundscape/lib/python3.7/site-packages/opensoundscape/audio.py:239: UserWarning: audio object has zero samples\n",
      "  warnings.warn(error_msg)\n",
      "/home/adkris1002/miniconda3/envs/opensoundscape/lib/python3.7/site-packages/opensoundscape/audio.py:180: UserWarning: This seems to be an AudioMoth file, but parse_audiomoth_metadata() raised: list index out of range\n",
      "  \"This seems to be an AudioMoth file, \"\n",
      "/home/adkris1002/miniconda3/envs/opensoundscape/lib/python3.7/site-packages/opensoundscape/audio.py:239: UserWarning: audio object has zero samples\n",
      "  warnings.warn(error_msg)\n",
      "/home/adkris1002/miniconda3/envs/opensoundscape/lib/python3.7/site-packages/opensoundscape/audio.py:180: UserWarning: This seems to be an AudioMoth file, but parse_audiomoth_metadata() raised: list index out of range\n",
      "  \"This seems to be an AudioMoth file, \"\n"
     ]
    },
    {
     "name": "stdout",
     "output_type": "stream",
     "text": [
      "Recordings/20220703_221004.WAV\n",
      "Recordings/20220703_221005.WAV\n",
      "Recordings/20220703_221006.WAV\n"
     ]
    },
    {
     "name": "stderr",
     "output_type": "stream",
     "text": [
      "/home/adkris1002/miniconda3/envs/opensoundscape/lib/python3.7/site-packages/opensoundscape/audio.py:239: UserWarning: audio object has zero samples\n",
      "  warnings.warn(error_msg)\n",
      "/home/adkris1002/miniconda3/envs/opensoundscape/lib/python3.7/site-packages/opensoundscape/audio.py:180: UserWarning: This seems to be an AudioMoth file, but parse_audiomoth_metadata() raised: list index out of range\n",
      "  \"This seems to be an AudioMoth file, \"\n",
      "/home/adkris1002/miniconda3/envs/opensoundscape/lib/python3.7/site-packages/opensoundscape/audio.py:239: UserWarning: audio object has zero samples\n",
      "  warnings.warn(error_msg)\n",
      "/home/adkris1002/miniconda3/envs/opensoundscape/lib/python3.7/site-packages/opensoundscape/audio.py:180: UserWarning: This seems to be an AudioMoth file, but parse_audiomoth_metadata() raised: list index out of range\n",
      "  \"This seems to be an AudioMoth file, \"\n"
     ]
    },
    {
     "name": "stdout",
     "output_type": "stream",
     "text": [
      "Recordings/20220703_221007.WAV\n",
      "Recordings/20220703_221008.WAV\n"
     ]
    },
    {
     "name": "stderr",
     "output_type": "stream",
     "text": [
      "/home/adkris1002/miniconda3/envs/opensoundscape/lib/python3.7/site-packages/opensoundscape/audio.py:239: UserWarning: audio object has zero samples\n",
      "  warnings.warn(error_msg)\n",
      "/home/adkris1002/miniconda3/envs/opensoundscape/lib/python3.7/site-packages/opensoundscape/audio.py:180: UserWarning: This seems to be an AudioMoth file, but parse_audiomoth_metadata() raised: list index out of range\n",
      "  \"This seems to be an AudioMoth file, \"\n",
      "/home/adkris1002/miniconda3/envs/opensoundscape/lib/python3.7/site-packages/opensoundscape/audio.py:239: UserWarning: audio object has zero samples\n",
      "  warnings.warn(error_msg)\n",
      "/home/adkris1002/miniconda3/envs/opensoundscape/lib/python3.7/site-packages/opensoundscape/audio.py:180: UserWarning: This seems to be an AudioMoth file, but parse_audiomoth_metadata() raised: list index out of range\n",
      "  \"This seems to be an AudioMoth file, \"\n"
     ]
    },
    {
     "name": "stdout",
     "output_type": "stream",
     "text": [
      "Recordings/20220703_221009.WAV\n",
      "Recordings/20220703_221010.WAV\n"
     ]
    },
    {
     "name": "stderr",
     "output_type": "stream",
     "text": [
      "/home/adkris1002/miniconda3/envs/opensoundscape/lib/python3.7/site-packages/opensoundscape/audio.py:239: UserWarning: audio object has zero samples\n",
      "  warnings.warn(error_msg)\n",
      "/home/adkris1002/miniconda3/envs/opensoundscape/lib/python3.7/site-packages/opensoundscape/audio.py:180: UserWarning: This seems to be an AudioMoth file, but parse_audiomoth_metadata() raised: list index out of range\n",
      "  \"This seems to be an AudioMoth file, \"\n",
      "/home/adkris1002/miniconda3/envs/opensoundscape/lib/python3.7/site-packages/opensoundscape/audio.py:239: UserWarning: audio object has zero samples\n",
      "  warnings.warn(error_msg)\n",
      "/home/adkris1002/miniconda3/envs/opensoundscape/lib/python3.7/site-packages/opensoundscape/audio.py:180: UserWarning: This seems to be an AudioMoth file, but parse_audiomoth_metadata() raised: list index out of range\n",
      "  \"This seems to be an AudioMoth file, \"\n"
     ]
    },
    {
     "name": "stdout",
     "output_type": "stream",
     "text": [
      "Recordings/20220703_221011.WAV\n",
      "Recordings/20220703_221012.WAV\n"
     ]
    },
    {
     "name": "stderr",
     "output_type": "stream",
     "text": [
      "/home/adkris1002/miniconda3/envs/opensoundscape/lib/python3.7/site-packages/opensoundscape/audio.py:239: UserWarning: audio object has zero samples\n",
      "  warnings.warn(error_msg)\n",
      "/home/adkris1002/miniconda3/envs/opensoundscape/lib/python3.7/site-packages/opensoundscape/audio.py:180: UserWarning: This seems to be an AudioMoth file, but parse_audiomoth_metadata() raised: list index out of range\n",
      "  \"This seems to be an AudioMoth file, \"\n",
      "/home/adkris1002/miniconda3/envs/opensoundscape/lib/python3.7/site-packages/opensoundscape/audio.py:239: UserWarning: audio object has zero samples\n",
      "  warnings.warn(error_msg)\n",
      "/home/adkris1002/miniconda3/envs/opensoundscape/lib/python3.7/site-packages/opensoundscape/audio.py:180: UserWarning: This seems to be an AudioMoth file, but parse_audiomoth_metadata() raised: list index out of range\n",
      "  \"This seems to be an AudioMoth file, \"\n"
     ]
    },
    {
     "name": "stdout",
     "output_type": "stream",
     "text": [
      "Recordings/20220703_221013.WAV\n",
      "Recordings/20220703_221014.WAV\n"
     ]
    },
    {
     "name": "stderr",
     "output_type": "stream",
     "text": [
      "/home/adkris1002/miniconda3/envs/opensoundscape/lib/python3.7/site-packages/opensoundscape/audio.py:239: UserWarning: audio object has zero samples\n",
      "  warnings.warn(error_msg)\n",
      "/home/adkris1002/miniconda3/envs/opensoundscape/lib/python3.7/site-packages/opensoundscape/audio.py:180: UserWarning: This seems to be an AudioMoth file, but parse_audiomoth_metadata() raised: list index out of range\n",
      "  \"This seems to be an AudioMoth file, \"\n",
      "/home/adkris1002/miniconda3/envs/opensoundscape/lib/python3.7/site-packages/opensoundscape/audio.py:239: UserWarning: audio object has zero samples\n",
      "  warnings.warn(error_msg)\n",
      "/home/adkris1002/miniconda3/envs/opensoundscape/lib/python3.7/site-packages/opensoundscape/audio.py:180: UserWarning: This seems to be an AudioMoth file, but parse_audiomoth_metadata() raised: list index out of range\n",
      "  \"This seems to be an AudioMoth file, \"\n"
     ]
    },
    {
     "name": "stdout",
     "output_type": "stream",
     "text": [
      "Recordings/20220703_221015.WAV\n",
      "Recordings/20220703_221016.WAV\n"
     ]
    },
    {
     "name": "stderr",
     "output_type": "stream",
     "text": [
      "/home/adkris1002/miniconda3/envs/opensoundscape/lib/python3.7/site-packages/opensoundscape/audio.py:239: UserWarning: audio object has zero samples\n",
      "  warnings.warn(error_msg)\n",
      "/home/adkris1002/miniconda3/envs/opensoundscape/lib/python3.7/site-packages/opensoundscape/audio.py:180: UserWarning: This seems to be an AudioMoth file, but parse_audiomoth_metadata() raised: list index out of range\n",
      "  \"This seems to be an AudioMoth file, \"\n",
      "/home/adkris1002/miniconda3/envs/opensoundscape/lib/python3.7/site-packages/opensoundscape/audio.py:239: UserWarning: audio object has zero samples\n",
      "  warnings.warn(error_msg)\n",
      "/home/adkris1002/miniconda3/envs/opensoundscape/lib/python3.7/site-packages/opensoundscape/audio.py:180: UserWarning: This seems to be an AudioMoth file, but parse_audiomoth_metadata() raised: list index out of range\n",
      "  \"This seems to be an AudioMoth file, \"\n"
     ]
    },
    {
     "name": "stdout",
     "output_type": "stream",
     "text": [
      "Recordings/20220703_221017.WAV\n",
      "Recordings/20220703_221018.WAV\n"
     ]
    },
    {
     "name": "stderr",
     "output_type": "stream",
     "text": [
      "/home/adkris1002/miniconda3/envs/opensoundscape/lib/python3.7/site-packages/opensoundscape/audio.py:239: UserWarning: audio object has zero samples\n",
      "  warnings.warn(error_msg)\n",
      "/home/adkris1002/miniconda3/envs/opensoundscape/lib/python3.7/site-packages/opensoundscape/audio.py:180: UserWarning: This seems to be an AudioMoth file, but parse_audiomoth_metadata() raised: list index out of range\n",
      "  \"This seems to be an AudioMoth file, \"\n",
      "/home/adkris1002/miniconda3/envs/opensoundscape/lib/python3.7/site-packages/opensoundscape/audio.py:239: UserWarning: audio object has zero samples\n",
      "  warnings.warn(error_msg)\n",
      "/home/adkris1002/miniconda3/envs/opensoundscape/lib/python3.7/site-packages/opensoundscape/audio.py:180: UserWarning: This seems to be an AudioMoth file, but parse_audiomoth_metadata() raised: list index out of range\n",
      "  \"This seems to be an AudioMoth file, \"\n"
     ]
    },
    {
     "name": "stdout",
     "output_type": "stream",
     "text": [
      "Recordings/20220703_221019.WAV\n",
      "Recordings/20220703_221020.WAV\n"
     ]
    },
    {
     "name": "stderr",
     "output_type": "stream",
     "text": [
      "/home/adkris1002/miniconda3/envs/opensoundscape/lib/python3.7/site-packages/opensoundscape/audio.py:239: UserWarning: audio object has zero samples\n",
      "  warnings.warn(error_msg)\n",
      "/home/adkris1002/miniconda3/envs/opensoundscape/lib/python3.7/site-packages/opensoundscape/audio.py:180: UserWarning: This seems to be an AudioMoth file, but parse_audiomoth_metadata() raised: list index out of range\n",
      "  \"This seems to be an AudioMoth file, \"\n",
      "/home/adkris1002/miniconda3/envs/opensoundscape/lib/python3.7/site-packages/opensoundscape/audio.py:239: UserWarning: audio object has zero samples\n",
      "  warnings.warn(error_msg)\n",
      "/home/adkris1002/miniconda3/envs/opensoundscape/lib/python3.7/site-packages/opensoundscape/audio.py:180: UserWarning: This seems to be an AudioMoth file, but parse_audiomoth_metadata() raised: list index out of range\n",
      "  \"This seems to be an AudioMoth file, \"\n"
     ]
    },
    {
     "name": "stdout",
     "output_type": "stream",
     "text": [
      "Recordings/20220703_221021.WAV\n",
      "Recordings/20220703_221022.WAV\n"
     ]
    },
    {
     "name": "stderr",
     "output_type": "stream",
     "text": [
      "/home/adkris1002/miniconda3/envs/opensoundscape/lib/python3.7/site-packages/opensoundscape/audio.py:239: UserWarning: audio object has zero samples\n",
      "  warnings.warn(error_msg)\n",
      "/home/adkris1002/miniconda3/envs/opensoundscape/lib/python3.7/site-packages/opensoundscape/audio.py:180: UserWarning: This seems to be an AudioMoth file, but parse_audiomoth_metadata() raised: list index out of range\n",
      "  \"This seems to be an AudioMoth file, \"\n",
      "/home/adkris1002/miniconda3/envs/opensoundscape/lib/python3.7/site-packages/opensoundscape/audio.py:239: UserWarning: audio object has zero samples\n",
      "  warnings.warn(error_msg)\n",
      "/home/adkris1002/miniconda3/envs/opensoundscape/lib/python3.7/site-packages/opensoundscape/audio.py:180: UserWarning: This seems to be an AudioMoth file, but parse_audiomoth_metadata() raised: list index out of range\n",
      "  \"This seems to be an AudioMoth file, \"\n"
     ]
    },
    {
     "name": "stdout",
     "output_type": "stream",
     "text": [
      "Recordings/20220703_221023.WAV\n",
      "Recordings/20220703_221024.WAV\n"
     ]
    },
    {
     "name": "stderr",
     "output_type": "stream",
     "text": [
      "/home/adkris1002/miniconda3/envs/opensoundscape/lib/python3.7/site-packages/opensoundscape/audio.py:239: UserWarning: audio object has zero samples\n",
      "  warnings.warn(error_msg)\n",
      "/home/adkris1002/miniconda3/envs/opensoundscape/lib/python3.7/site-packages/opensoundscape/audio.py:180: UserWarning: This seems to be an AudioMoth file, but parse_audiomoth_metadata() raised: list index out of range\n",
      "  \"This seems to be an AudioMoth file, \"\n",
      "/home/adkris1002/miniconda3/envs/opensoundscape/lib/python3.7/site-packages/opensoundscape/audio.py:239: UserWarning: audio object has zero samples\n",
      "  warnings.warn(error_msg)\n",
      "/home/adkris1002/miniconda3/envs/opensoundscape/lib/python3.7/site-packages/opensoundscape/audio.py:180: UserWarning: This seems to be an AudioMoth file, but parse_audiomoth_metadata() raised: list index out of range\n",
      "  \"This seems to be an AudioMoth file, \"\n",
      "/home/adkris1002/miniconda3/envs/opensoundscape/lib/python3.7/site-packages/opensoundscape/audio.py:239: UserWarning: audio object has zero samples\n",
      "  warnings.warn(error_msg)\n",
      "/home/adkris1002/miniconda3/envs/opensoundscape/lib/python3.7/site-packages/opensoundscape/audio.py:180: UserWarning: This seems to be an AudioMoth file, but parse_audiomoth_metadata() raised: list index out of range\n",
      "  \"This seems to be an AudioMoth file, \"\n"
     ]
    },
    {
     "name": "stdout",
     "output_type": "stream",
     "text": [
      "Recordings/20220703_221025.WAV\n",
      "Recordings/20220703_221026.WAV\n",
      "Recordings/20220703_221027.WAV\n"
     ]
    },
    {
     "name": "stderr",
     "output_type": "stream",
     "text": [
      "/home/adkris1002/miniconda3/envs/opensoundscape/lib/python3.7/site-packages/opensoundscape/audio.py:239: UserWarning: audio object has zero samples\n",
      "  warnings.warn(error_msg)\n",
      "/home/adkris1002/miniconda3/envs/opensoundscape/lib/python3.7/site-packages/opensoundscape/audio.py:180: UserWarning: This seems to be an AudioMoth file, but parse_audiomoth_metadata() raised: list index out of range\n",
      "  \"This seems to be an AudioMoth file, \"\n",
      "/home/adkris1002/miniconda3/envs/opensoundscape/lib/python3.7/site-packages/opensoundscape/audio.py:239: UserWarning: audio object has zero samples\n",
      "  warnings.warn(error_msg)\n",
      "/home/adkris1002/miniconda3/envs/opensoundscape/lib/python3.7/site-packages/opensoundscape/audio.py:180: UserWarning: This seems to be an AudioMoth file, but parse_audiomoth_metadata() raised: list index out of range\n",
      "  \"This seems to be an AudioMoth file, \"\n",
      "/home/adkris1002/miniconda3/envs/opensoundscape/lib/python3.7/site-packages/opensoundscape/audio.py:239: UserWarning: audio object has zero samples\n",
      "  warnings.warn(error_msg)\n",
      "/home/adkris1002/miniconda3/envs/opensoundscape/lib/python3.7/site-packages/opensoundscape/audio.py:180: UserWarning: This seems to be an AudioMoth file, but parse_audiomoth_metadata() raised: list index out of range\n",
      "  \"This seems to be an AudioMoth file, \"\n"
     ]
    },
    {
     "name": "stdout",
     "output_type": "stream",
     "text": [
      "Recordings/20220703_221028.WAV\n",
      "Recordings/20220703_221029.WAV\n",
      "Recordings/20220703_221030.WAV\n"
     ]
    },
    {
     "name": "stderr",
     "output_type": "stream",
     "text": [
      "/home/adkris1002/miniconda3/envs/opensoundscape/lib/python3.7/site-packages/opensoundscape/audio.py:239: UserWarning: audio object has zero samples\n",
      "  warnings.warn(error_msg)\n",
      "/home/adkris1002/miniconda3/envs/opensoundscape/lib/python3.7/site-packages/opensoundscape/audio.py:180: UserWarning: This seems to be an AudioMoth file, but parse_audiomoth_metadata() raised: list index out of range\n",
      "  \"This seems to be an AudioMoth file, \"\n",
      "/home/adkris1002/miniconda3/envs/opensoundscape/lib/python3.7/site-packages/opensoundscape/audio.py:239: UserWarning: audio object has zero samples\n",
      "  warnings.warn(error_msg)\n",
      "/home/adkris1002/miniconda3/envs/opensoundscape/lib/python3.7/site-packages/opensoundscape/audio.py:180: UserWarning: This seems to be an AudioMoth file, but parse_audiomoth_metadata() raised: list index out of range\n",
      "  \"This seems to be an AudioMoth file, \"\n",
      "/home/adkris1002/miniconda3/envs/opensoundscape/lib/python3.7/site-packages/opensoundscape/audio.py:239: UserWarning: audio object has zero samples\n",
      "  warnings.warn(error_msg)\n",
      "/home/adkris1002/miniconda3/envs/opensoundscape/lib/python3.7/site-packages/opensoundscape/audio.py:180: UserWarning: This seems to be an AudioMoth file, but parse_audiomoth_metadata() raised: list index out of range\n",
      "  \"This seems to be an AudioMoth file, \"\n"
     ]
    },
    {
     "name": "stdout",
     "output_type": "stream",
     "text": [
      "Recordings/20220703_221031.WAV\n",
      "Recordings/20220703_221032.WAV\n",
      "Recordings/20220703_221033.WAV\n"
     ]
    },
    {
     "name": "stderr",
     "output_type": "stream",
     "text": [
      "/home/adkris1002/miniconda3/envs/opensoundscape/lib/python3.7/site-packages/opensoundscape/audio.py:239: UserWarning: audio object has zero samples\n",
      "  warnings.warn(error_msg)\n",
      "/home/adkris1002/miniconda3/envs/opensoundscape/lib/python3.7/site-packages/opensoundscape/audio.py:180: UserWarning: This seems to be an AudioMoth file, but parse_audiomoth_metadata() raised: list index out of range\n",
      "  \"This seems to be an AudioMoth file, \"\n",
      "/home/adkris1002/miniconda3/envs/opensoundscape/lib/python3.7/site-packages/opensoundscape/audio.py:239: UserWarning: audio object has zero samples\n",
      "  warnings.warn(error_msg)\n",
      "/home/adkris1002/miniconda3/envs/opensoundscape/lib/python3.7/site-packages/opensoundscape/audio.py:180: UserWarning: This seems to be an AudioMoth file, but parse_audiomoth_metadata() raised: list index out of range\n",
      "  \"This seems to be an AudioMoth file, \"\n",
      "/home/adkris1002/miniconda3/envs/opensoundscape/lib/python3.7/site-packages/opensoundscape/audio.py:239: UserWarning: audio object has zero samples\n",
      "  warnings.warn(error_msg)\n",
      "/home/adkris1002/miniconda3/envs/opensoundscape/lib/python3.7/site-packages/opensoundscape/audio.py:180: UserWarning: This seems to be an AudioMoth file, but parse_audiomoth_metadata() raised: list index out of range\n",
      "  \"This seems to be an AudioMoth file, \"\n"
     ]
    },
    {
     "name": "stdout",
     "output_type": "stream",
     "text": [
      "Recordings/20220703_221034.WAV\n",
      "Recordings/20220703_221035.WAV\n",
      "Recordings/20220703_221036.WAV\n"
     ]
    },
    {
     "name": "stderr",
     "output_type": "stream",
     "text": [
      "/home/adkris1002/miniconda3/envs/opensoundscape/lib/python3.7/site-packages/opensoundscape/audio.py:239: UserWarning: audio object has zero samples\n",
      "  warnings.warn(error_msg)\n",
      "/home/adkris1002/miniconda3/envs/opensoundscape/lib/python3.7/site-packages/opensoundscape/audio.py:180: UserWarning: This seems to be an AudioMoth file, but parse_audiomoth_metadata() raised: list index out of range\n",
      "  \"This seems to be an AudioMoth file, \"\n",
      "/home/adkris1002/miniconda3/envs/opensoundscape/lib/python3.7/site-packages/opensoundscape/audio.py:239: UserWarning: audio object has zero samples\n",
      "  warnings.warn(error_msg)\n",
      "/home/adkris1002/miniconda3/envs/opensoundscape/lib/python3.7/site-packages/opensoundscape/audio.py:180: UserWarning: This seems to be an AudioMoth file, but parse_audiomoth_metadata() raised: list index out of range\n",
      "  \"This seems to be an AudioMoth file, \"\n",
      "/home/adkris1002/miniconda3/envs/opensoundscape/lib/python3.7/site-packages/opensoundscape/audio.py:239: UserWarning: audio object has zero samples\n",
      "  warnings.warn(error_msg)\n",
      "/home/adkris1002/miniconda3/envs/opensoundscape/lib/python3.7/site-packages/opensoundscape/audio.py:180: UserWarning: This seems to be an AudioMoth file, but parse_audiomoth_metadata() raised: list index out of range\n",
      "  \"This seems to be an AudioMoth file, \"\n"
     ]
    },
    {
     "name": "stdout",
     "output_type": "stream",
     "text": [
      "Recordings/20220703_221037.WAV\n",
      "Recordings/20220703_221038.WAV\n",
      "Recordings/20220703_221039.WAV\n"
     ]
    },
    {
     "name": "stderr",
     "output_type": "stream",
     "text": [
      "/home/adkris1002/miniconda3/envs/opensoundscape/lib/python3.7/site-packages/opensoundscape/audio.py:239: UserWarning: audio object has zero samples\n",
      "  warnings.warn(error_msg)\n",
      "/home/adkris1002/miniconda3/envs/opensoundscape/lib/python3.7/site-packages/opensoundscape/audio.py:180: UserWarning: This seems to be an AudioMoth file, but parse_audiomoth_metadata() raised: list index out of range\n",
      "  \"This seems to be an AudioMoth file, \"\n",
      "/home/adkris1002/miniconda3/envs/opensoundscape/lib/python3.7/site-packages/opensoundscape/audio.py:239: UserWarning: audio object has zero samples\n",
      "  warnings.warn(error_msg)\n",
      "/home/adkris1002/miniconda3/envs/opensoundscape/lib/python3.7/site-packages/opensoundscape/audio.py:180: UserWarning: This seems to be an AudioMoth file, but parse_audiomoth_metadata() raised: list index out of range\n",
      "  \"This seems to be an AudioMoth file, \"\n"
     ]
    },
    {
     "name": "stdout",
     "output_type": "stream",
     "text": [
      "Recordings/20220703_221040.WAV\n",
      "Recordings/20220703_221041.WAV\n"
     ]
    },
    {
     "name": "stderr",
     "output_type": "stream",
     "text": [
      "/home/adkris1002/miniconda3/envs/opensoundscape/lib/python3.7/site-packages/opensoundscape/audio.py:239: UserWarning: audio object has zero samples\n",
      "  warnings.warn(error_msg)\n",
      "/home/adkris1002/miniconda3/envs/opensoundscape/lib/python3.7/site-packages/opensoundscape/audio.py:180: UserWarning: This seems to be an AudioMoth file, but parse_audiomoth_metadata() raised: list index out of range\n",
      "  \"This seems to be an AudioMoth file, \"\n",
      "/home/adkris1002/miniconda3/envs/opensoundscape/lib/python3.7/site-packages/opensoundscape/audio.py:239: UserWarning: audio object has zero samples\n",
      "  warnings.warn(error_msg)\n",
      "/home/adkris1002/miniconda3/envs/opensoundscape/lib/python3.7/site-packages/opensoundscape/audio.py:180: UserWarning: This seems to be an AudioMoth file, but parse_audiomoth_metadata() raised: list index out of range\n",
      "  \"This seems to be an AudioMoth file, \"\n"
     ]
    },
    {
     "name": "stdout",
     "output_type": "stream",
     "text": [
      "Recordings/20220703_221042.WAV\n",
      "Recordings/20220703_221043.WAV\n"
     ]
    },
    {
     "name": "stderr",
     "output_type": "stream",
     "text": [
      "/home/adkris1002/miniconda3/envs/opensoundscape/lib/python3.7/site-packages/opensoundscape/audio.py:239: UserWarning: audio object has zero samples\n",
      "  warnings.warn(error_msg)\n",
      "/home/adkris1002/miniconda3/envs/opensoundscape/lib/python3.7/site-packages/opensoundscape/audio.py:180: UserWarning: This seems to be an AudioMoth file, but parse_audiomoth_metadata() raised: list index out of range\n",
      "  \"This seems to be an AudioMoth file, \"\n",
      "/home/adkris1002/miniconda3/envs/opensoundscape/lib/python3.7/site-packages/opensoundscape/audio.py:239: UserWarning: audio object has zero samples\n",
      "  warnings.warn(error_msg)\n",
      "/home/adkris1002/miniconda3/envs/opensoundscape/lib/python3.7/site-packages/opensoundscape/audio.py:180: UserWarning: This seems to be an AudioMoth file, but parse_audiomoth_metadata() raised: list index out of range\n",
      "  \"This seems to be an AudioMoth file, \"\n",
      "/home/adkris1002/miniconda3/envs/opensoundscape/lib/python3.7/site-packages/opensoundscape/audio.py:239: UserWarning: audio object has zero samples\n",
      "  warnings.warn(error_msg)\n",
      "/home/adkris1002/miniconda3/envs/opensoundscape/lib/python3.7/site-packages/opensoundscape/audio.py:180: UserWarning: This seems to be an AudioMoth file, but parse_audiomoth_metadata() raised: list index out of range\n",
      "  \"This seems to be an AudioMoth file, \"\n"
     ]
    },
    {
     "name": "stdout",
     "output_type": "stream",
     "text": [
      "Recordings/20220703_221044.WAV\n",
      "Recordings/20220703_221045.WAV\n",
      "Recordings/20220703_221046.WAV\n"
     ]
    },
    {
     "name": "stderr",
     "output_type": "stream",
     "text": [
      "/home/adkris1002/miniconda3/envs/opensoundscape/lib/python3.7/site-packages/opensoundscape/audio.py:239: UserWarning: audio object has zero samples\n",
      "  warnings.warn(error_msg)\n",
      "/home/adkris1002/miniconda3/envs/opensoundscape/lib/python3.7/site-packages/opensoundscape/audio.py:180: UserWarning: This seems to be an AudioMoth file, but parse_audiomoth_metadata() raised: list index out of range\n",
      "  \"This seems to be an AudioMoth file, \"\n",
      "/home/adkris1002/miniconda3/envs/opensoundscape/lib/python3.7/site-packages/opensoundscape/audio.py:239: UserWarning: audio object has zero samples\n",
      "  warnings.warn(error_msg)\n",
      "/home/adkris1002/miniconda3/envs/opensoundscape/lib/python3.7/site-packages/opensoundscape/audio.py:180: UserWarning: This seems to be an AudioMoth file, but parse_audiomoth_metadata() raised: list index out of range\n",
      "  \"This seems to be an AudioMoth file, \"\n"
     ]
    },
    {
     "name": "stdout",
     "output_type": "stream",
     "text": [
      "Recordings/20220703_221047.WAV\n",
      "Recordings/20220703_221048.WAV\n"
     ]
    },
    {
     "name": "stderr",
     "output_type": "stream",
     "text": [
      "/home/adkris1002/miniconda3/envs/opensoundscape/lib/python3.7/site-packages/opensoundscape/audio.py:239: UserWarning: audio object has zero samples\n",
      "  warnings.warn(error_msg)\n",
      "/home/adkris1002/miniconda3/envs/opensoundscape/lib/python3.7/site-packages/opensoundscape/audio.py:180: UserWarning: This seems to be an AudioMoth file, but parse_audiomoth_metadata() raised: list index out of range\n",
      "  \"This seems to be an AudioMoth file, \"\n",
      "/home/adkris1002/miniconda3/envs/opensoundscape/lib/python3.7/site-packages/opensoundscape/audio.py:239: UserWarning: audio object has zero samples\n",
      "  warnings.warn(error_msg)\n",
      "/home/adkris1002/miniconda3/envs/opensoundscape/lib/python3.7/site-packages/opensoundscape/audio.py:180: UserWarning: This seems to be an AudioMoth file, but parse_audiomoth_metadata() raised: list index out of range\n",
      "  \"This seems to be an AudioMoth file, \"\n"
     ]
    },
    {
     "name": "stdout",
     "output_type": "stream",
     "text": [
      "Recordings/20220703_221049.WAV\n",
      "Recordings/20220703_221050.WAV\n"
     ]
    },
    {
     "name": "stderr",
     "output_type": "stream",
     "text": [
      "/home/adkris1002/miniconda3/envs/opensoundscape/lib/python3.7/site-packages/opensoundscape/audio.py:239: UserWarning: audio object has zero samples\n",
      "  warnings.warn(error_msg)\n",
      "/home/adkris1002/miniconda3/envs/opensoundscape/lib/python3.7/site-packages/opensoundscape/audio.py:180: UserWarning: This seems to be an AudioMoth file, but parse_audiomoth_metadata() raised: list index out of range\n",
      "  \"This seems to be an AudioMoth file, \"\n",
      "/home/adkris1002/miniconda3/envs/opensoundscape/lib/python3.7/site-packages/opensoundscape/audio.py:239: UserWarning: audio object has zero samples\n",
      "  warnings.warn(error_msg)\n",
      "/home/adkris1002/miniconda3/envs/opensoundscape/lib/python3.7/site-packages/opensoundscape/audio.py:180: UserWarning: This seems to be an AudioMoth file, but parse_audiomoth_metadata() raised: list index out of range\n",
      "  \"This seems to be an AudioMoth file, \"\n",
      "/home/adkris1002/miniconda3/envs/opensoundscape/lib/python3.7/site-packages/opensoundscape/audio.py:239: UserWarning: audio object has zero samples\n",
      "  warnings.warn(error_msg)\n",
      "/home/adkris1002/miniconda3/envs/opensoundscape/lib/python3.7/site-packages/opensoundscape/audio.py:180: UserWarning: This seems to be an AudioMoth file, but parse_audiomoth_metadata() raised: list index out of range\n",
      "  \"This seems to be an AudioMoth file, \"\n"
     ]
    },
    {
     "name": "stdout",
     "output_type": "stream",
     "text": [
      "Recordings/20220703_221051.WAV\n",
      "Recordings/20220703_221052.WAV\n",
      "Recordings/20220703_221053.WAV\n"
     ]
    },
    {
     "name": "stderr",
     "output_type": "stream",
     "text": [
      "/home/adkris1002/miniconda3/envs/opensoundscape/lib/python3.7/site-packages/opensoundscape/audio.py:239: UserWarning: audio object has zero samples\n",
      "  warnings.warn(error_msg)\n",
      "/home/adkris1002/miniconda3/envs/opensoundscape/lib/python3.7/site-packages/opensoundscape/audio.py:180: UserWarning: This seems to be an AudioMoth file, but parse_audiomoth_metadata() raised: list index out of range\n",
      "  \"This seems to be an AudioMoth file, \"\n",
      "/home/adkris1002/miniconda3/envs/opensoundscape/lib/python3.7/site-packages/opensoundscape/audio.py:239: UserWarning: audio object has zero samples\n",
      "  warnings.warn(error_msg)\n",
      "/home/adkris1002/miniconda3/envs/opensoundscape/lib/python3.7/site-packages/opensoundscape/audio.py:180: UserWarning: This seems to be an AudioMoth file, but parse_audiomoth_metadata() raised: list index out of range\n",
      "  \"This seems to be an AudioMoth file, \"\n"
     ]
    },
    {
     "name": "stdout",
     "output_type": "stream",
     "text": [
      "Recordings/20220703_221054.WAV\n",
      "Recordings/20220703_221055.WAV\n"
     ]
    },
    {
     "name": "stderr",
     "output_type": "stream",
     "text": [
      "/home/adkris1002/miniconda3/envs/opensoundscape/lib/python3.7/site-packages/opensoundscape/audio.py:239: UserWarning: audio object has zero samples\n",
      "  warnings.warn(error_msg)\n",
      "/home/adkris1002/miniconda3/envs/opensoundscape/lib/python3.7/site-packages/opensoundscape/audio.py:180: UserWarning: This seems to be an AudioMoth file, but parse_audiomoth_metadata() raised: list index out of range\n",
      "  \"This seems to be an AudioMoth file, \"\n",
      "/home/adkris1002/miniconda3/envs/opensoundscape/lib/python3.7/site-packages/opensoundscape/audio.py:239: UserWarning: audio object has zero samples\n",
      "  warnings.warn(error_msg)\n",
      "/home/adkris1002/miniconda3/envs/opensoundscape/lib/python3.7/site-packages/opensoundscape/audio.py:180: UserWarning: This seems to be an AudioMoth file, but parse_audiomoth_metadata() raised: list index out of range\n",
      "  \"This seems to be an AudioMoth file, \"\n"
     ]
    },
    {
     "name": "stdout",
     "output_type": "stream",
     "text": [
      "Recordings/20220703_221056.WAV\n",
      "Recordings/20220703_221057.WAV\n"
     ]
    },
    {
     "name": "stderr",
     "output_type": "stream",
     "text": [
      "/home/adkris1002/miniconda3/envs/opensoundscape/lib/python3.7/site-packages/opensoundscape/audio.py:239: UserWarning: audio object has zero samples\n",
      "  warnings.warn(error_msg)\n",
      "/home/adkris1002/miniconda3/envs/opensoundscape/lib/python3.7/site-packages/opensoundscape/audio.py:180: UserWarning: This seems to be an AudioMoth file, but parse_audiomoth_metadata() raised: list index out of range\n",
      "  \"This seems to be an AudioMoth file, \"\n",
      "/home/adkris1002/miniconda3/envs/opensoundscape/lib/python3.7/site-packages/opensoundscape/audio.py:239: UserWarning: audio object has zero samples\n",
      "  warnings.warn(error_msg)\n",
      "/home/adkris1002/miniconda3/envs/opensoundscape/lib/python3.7/site-packages/opensoundscape/audio.py:180: UserWarning: This seems to be an AudioMoth file, but parse_audiomoth_metadata() raised: list index out of range\n",
      "  \"This seems to be an AudioMoth file, \"\n"
     ]
    },
    {
     "name": "stdout",
     "output_type": "stream",
     "text": [
      "Recordings/20220703_221058.WAV\n",
      "Recordings/20220703_221059.WAV\n"
     ]
    },
    {
     "name": "stderr",
     "output_type": "stream",
     "text": [
      "/home/adkris1002/miniconda3/envs/opensoundscape/lib/python3.7/site-packages/opensoundscape/audio.py:239: UserWarning: audio object has zero samples\n",
      "  warnings.warn(error_msg)\n",
      "/home/adkris1002/miniconda3/envs/opensoundscape/lib/python3.7/site-packages/opensoundscape/audio.py:180: UserWarning: This seems to be an AudioMoth file, but parse_audiomoth_metadata() raised: list index out of range\n",
      "  \"This seems to be an AudioMoth file, \"\n",
      "/home/adkris1002/miniconda3/envs/opensoundscape/lib/python3.7/site-packages/opensoundscape/audio.py:239: UserWarning: audio object has zero samples\n",
      "  warnings.warn(error_msg)\n",
      "/home/adkris1002/miniconda3/envs/opensoundscape/lib/python3.7/site-packages/opensoundscape/audio.py:180: UserWarning: This seems to be an AudioMoth file, but parse_audiomoth_metadata() raised: list index out of range\n",
      "  \"This seems to be an AudioMoth file, \"\n"
     ]
    },
    {
     "name": "stdout",
     "output_type": "stream",
     "text": [
      "Recordings/20220703_221100.WAV\n",
      "Recordings/20220703_221101.WAV\n"
     ]
    },
    {
     "name": "stderr",
     "output_type": "stream",
     "text": [
      "/home/adkris1002/miniconda3/envs/opensoundscape/lib/python3.7/site-packages/opensoundscape/audio.py:239: UserWarning: audio object has zero samples\n",
      "  warnings.warn(error_msg)\n",
      "/home/adkris1002/miniconda3/envs/opensoundscape/lib/python3.7/site-packages/opensoundscape/audio.py:180: UserWarning: This seems to be an AudioMoth file, but parse_audiomoth_metadata() raised: list index out of range\n",
      "  \"This seems to be an AudioMoth file, \"\n",
      "/home/adkris1002/miniconda3/envs/opensoundscape/lib/python3.7/site-packages/opensoundscape/audio.py:239: UserWarning: audio object has zero samples\n",
      "  warnings.warn(error_msg)\n",
      "/home/adkris1002/miniconda3/envs/opensoundscape/lib/python3.7/site-packages/opensoundscape/audio.py:180: UserWarning: This seems to be an AudioMoth file, but parse_audiomoth_metadata() raised: list index out of range\n",
      "  \"This seems to be an AudioMoth file, \"\n",
      "/home/adkris1002/miniconda3/envs/opensoundscape/lib/python3.7/site-packages/opensoundscape/audio.py:239: UserWarning: audio object has zero samples\n",
      "  warnings.warn(error_msg)\n",
      "/home/adkris1002/miniconda3/envs/opensoundscape/lib/python3.7/site-packages/opensoundscape/audio.py:180: UserWarning: This seems to be an AudioMoth file, but parse_audiomoth_metadata() raised: list index out of range\n",
      "  \"This seems to be an AudioMoth file, \"\n"
     ]
    },
    {
     "name": "stdout",
     "output_type": "stream",
     "text": [
      "Recordings/20220703_221102.WAV\n",
      "Recordings/20220703_221103.WAV\n",
      "Recordings/20220703_221104.WAV\n"
     ]
    },
    {
     "name": "stderr",
     "output_type": "stream",
     "text": [
      "/home/adkris1002/miniconda3/envs/opensoundscape/lib/python3.7/site-packages/opensoundscape/audio.py:239: UserWarning: audio object has zero samples\n",
      "  warnings.warn(error_msg)\n",
      "/home/adkris1002/miniconda3/envs/opensoundscape/lib/python3.7/site-packages/opensoundscape/audio.py:180: UserWarning: This seems to be an AudioMoth file, but parse_audiomoth_metadata() raised: list index out of range\n",
      "  \"This seems to be an AudioMoth file, \"\n",
      "/home/adkris1002/miniconda3/envs/opensoundscape/lib/python3.7/site-packages/opensoundscape/audio.py:239: UserWarning: audio object has zero samples\n",
      "  warnings.warn(error_msg)\n",
      "/home/adkris1002/miniconda3/envs/opensoundscape/lib/python3.7/site-packages/opensoundscape/audio.py:180: UserWarning: This seems to be an AudioMoth file, but parse_audiomoth_metadata() raised: list index out of range\n",
      "  \"This seems to be an AudioMoth file, \"\n",
      "/home/adkris1002/miniconda3/envs/opensoundscape/lib/python3.7/site-packages/opensoundscape/audio.py:239: UserWarning: audio object has zero samples\n",
      "  warnings.warn(error_msg)\n",
      "/home/adkris1002/miniconda3/envs/opensoundscape/lib/python3.7/site-packages/opensoundscape/audio.py:180: UserWarning: This seems to be an AudioMoth file, but parse_audiomoth_metadata() raised: list index out of range\n",
      "  \"This seems to be an AudioMoth file, \"\n"
     ]
    },
    {
     "name": "stdout",
     "output_type": "stream",
     "text": [
      "Recordings/20220703_221105.WAV\n",
      "Recordings/20220703_221106.WAV\n",
      "Recordings/20220703_221107.WAV\n"
     ]
    },
    {
     "name": "stderr",
     "output_type": "stream",
     "text": [
      "/home/adkris1002/miniconda3/envs/opensoundscape/lib/python3.7/site-packages/opensoundscape/audio.py:239: UserWarning: audio object has zero samples\n",
      "  warnings.warn(error_msg)\n",
      "/home/adkris1002/miniconda3/envs/opensoundscape/lib/python3.7/site-packages/opensoundscape/audio.py:180: UserWarning: This seems to be an AudioMoth file, but parse_audiomoth_metadata() raised: list index out of range\n",
      "  \"This seems to be an AudioMoth file, \"\n",
      "/home/adkris1002/miniconda3/envs/opensoundscape/lib/python3.7/site-packages/opensoundscape/audio.py:239: UserWarning: audio object has zero samples\n",
      "  warnings.warn(error_msg)\n",
      "/home/adkris1002/miniconda3/envs/opensoundscape/lib/python3.7/site-packages/opensoundscape/audio.py:180: UserWarning: This seems to be an AudioMoth file, but parse_audiomoth_metadata() raised: list index out of range\n",
      "  \"This seems to be an AudioMoth file, \"\n",
      "/home/adkris1002/miniconda3/envs/opensoundscape/lib/python3.7/site-packages/opensoundscape/audio.py:239: UserWarning: audio object has zero samples\n",
      "  warnings.warn(error_msg)\n",
      "/home/adkris1002/miniconda3/envs/opensoundscape/lib/python3.7/site-packages/opensoundscape/audio.py:180: UserWarning: This seems to be an AudioMoth file, but parse_audiomoth_metadata() raised: list index out of range\n",
      "  \"This seems to be an AudioMoth file, \"\n"
     ]
    },
    {
     "name": "stdout",
     "output_type": "stream",
     "text": [
      "Recordings/20220703_221108.WAV\n",
      "Recordings/20220703_221109.WAV\n",
      "Recordings/20220703_221110.WAV\n"
     ]
    },
    {
     "name": "stderr",
     "output_type": "stream",
     "text": [
      "/home/adkris1002/miniconda3/envs/opensoundscape/lib/python3.7/site-packages/opensoundscape/audio.py:239: UserWarning: audio object has zero samples\n",
      "  warnings.warn(error_msg)\n",
      "/home/adkris1002/miniconda3/envs/opensoundscape/lib/python3.7/site-packages/opensoundscape/audio.py:180: UserWarning: This seems to be an AudioMoth file, but parse_audiomoth_metadata() raised: list index out of range\n",
      "  \"This seems to be an AudioMoth file, \"\n",
      "/home/adkris1002/miniconda3/envs/opensoundscape/lib/python3.7/site-packages/opensoundscape/audio.py:239: UserWarning: audio object has zero samples\n",
      "  warnings.warn(error_msg)\n",
      "/home/adkris1002/miniconda3/envs/opensoundscape/lib/python3.7/site-packages/opensoundscape/audio.py:180: UserWarning: This seems to be an AudioMoth file, but parse_audiomoth_metadata() raised: list index out of range\n",
      "  \"This seems to be an AudioMoth file, \"\n",
      "/home/adkris1002/miniconda3/envs/opensoundscape/lib/python3.7/site-packages/opensoundscape/audio.py:239: UserWarning: audio object has zero samples\n",
      "  warnings.warn(error_msg)\n",
      "/home/adkris1002/miniconda3/envs/opensoundscape/lib/python3.7/site-packages/opensoundscape/audio.py:180: UserWarning: This seems to be an AudioMoth file, but parse_audiomoth_metadata() raised: list index out of range\n",
      "  \"This seems to be an AudioMoth file, \"\n"
     ]
    },
    {
     "name": "stdout",
     "output_type": "stream",
     "text": [
      "Recordings/20220703_221111.WAV\n",
      "Recordings/20220703_221112.WAV\n",
      "Recordings/20220703_221113.WAV\n"
     ]
    },
    {
     "name": "stderr",
     "output_type": "stream",
     "text": [
      "/home/adkris1002/miniconda3/envs/opensoundscape/lib/python3.7/site-packages/opensoundscape/audio.py:239: UserWarning: audio object has zero samples\n",
      "  warnings.warn(error_msg)\n",
      "/home/adkris1002/miniconda3/envs/opensoundscape/lib/python3.7/site-packages/opensoundscape/audio.py:180: UserWarning: This seems to be an AudioMoth file, but parse_audiomoth_metadata() raised: list index out of range\n",
      "  \"This seems to be an AudioMoth file, \"\n",
      "/home/adkris1002/miniconda3/envs/opensoundscape/lib/python3.7/site-packages/opensoundscape/audio.py:239: UserWarning: audio object has zero samples\n",
      "  warnings.warn(error_msg)\n",
      "/home/adkris1002/miniconda3/envs/opensoundscape/lib/python3.7/site-packages/opensoundscape/audio.py:180: UserWarning: This seems to be an AudioMoth file, but parse_audiomoth_metadata() raised: list index out of range\n",
      "  \"This seems to be an AudioMoth file, \"\n",
      "/home/adkris1002/miniconda3/envs/opensoundscape/lib/python3.7/site-packages/opensoundscape/audio.py:239: UserWarning: audio object has zero samples\n",
      "  warnings.warn(error_msg)\n",
      "/home/adkris1002/miniconda3/envs/opensoundscape/lib/python3.7/site-packages/opensoundscape/audio.py:180: UserWarning: This seems to be an AudioMoth file, but parse_audiomoth_metadata() raised: list index out of range\n",
      "  \"This seems to be an AudioMoth file, \"\n"
     ]
    },
    {
     "name": "stdout",
     "output_type": "stream",
     "text": [
      "Recordings/20220703_221114.WAV\n",
      "Recordings/20220703_221115.WAV\n",
      "Recordings/20220703_221116.WAV\n"
     ]
    },
    {
     "name": "stderr",
     "output_type": "stream",
     "text": [
      "/home/adkris1002/miniconda3/envs/opensoundscape/lib/python3.7/site-packages/opensoundscape/audio.py:239: UserWarning: audio object has zero samples\n",
      "  warnings.warn(error_msg)\n",
      "/home/adkris1002/miniconda3/envs/opensoundscape/lib/python3.7/site-packages/opensoundscape/audio.py:180: UserWarning: This seems to be an AudioMoth file, but parse_audiomoth_metadata() raised: list index out of range\n",
      "  \"This seems to be an AudioMoth file, \"\n",
      "/home/adkris1002/miniconda3/envs/opensoundscape/lib/python3.7/site-packages/opensoundscape/audio.py:239: UserWarning: audio object has zero samples\n",
      "  warnings.warn(error_msg)\n",
      "/home/adkris1002/miniconda3/envs/opensoundscape/lib/python3.7/site-packages/opensoundscape/audio.py:180: UserWarning: This seems to be an AudioMoth file, but parse_audiomoth_metadata() raised: list index out of range\n",
      "  \"This seems to be an AudioMoth file, \"\n",
      "/home/adkris1002/miniconda3/envs/opensoundscape/lib/python3.7/site-packages/opensoundscape/audio.py:239: UserWarning: audio object has zero samples\n",
      "  warnings.warn(error_msg)\n",
      "/home/adkris1002/miniconda3/envs/opensoundscape/lib/python3.7/site-packages/opensoundscape/audio.py:180: UserWarning: This seems to be an AudioMoth file, but parse_audiomoth_metadata() raised: list index out of range\n",
      "  \"This seems to be an AudioMoth file, \"\n"
     ]
    },
    {
     "name": "stdout",
     "output_type": "stream",
     "text": [
      "Recordings/20220703_221117.WAV\n",
      "Recordings/20220703_221118.WAV\n",
      "Recordings/20220703_221119.WAV\n"
     ]
    },
    {
     "name": "stderr",
     "output_type": "stream",
     "text": [
      "/home/adkris1002/miniconda3/envs/opensoundscape/lib/python3.7/site-packages/opensoundscape/audio.py:239: UserWarning: audio object has zero samples\n",
      "  warnings.warn(error_msg)\n",
      "/home/adkris1002/miniconda3/envs/opensoundscape/lib/python3.7/site-packages/opensoundscape/audio.py:180: UserWarning: This seems to be an AudioMoth file, but parse_audiomoth_metadata() raised: list index out of range\n",
      "  \"This seems to be an AudioMoth file, \"\n",
      "/home/adkris1002/miniconda3/envs/opensoundscape/lib/python3.7/site-packages/opensoundscape/audio.py:239: UserWarning: audio object has zero samples\n",
      "  warnings.warn(error_msg)\n",
      "/home/adkris1002/miniconda3/envs/opensoundscape/lib/python3.7/site-packages/opensoundscape/audio.py:180: UserWarning: This seems to be an AudioMoth file, but parse_audiomoth_metadata() raised: list index out of range\n",
      "  \"This seems to be an AudioMoth file, \"\n",
      "/home/adkris1002/miniconda3/envs/opensoundscape/lib/python3.7/site-packages/opensoundscape/audio.py:239: UserWarning: audio object has zero samples\n",
      "  warnings.warn(error_msg)\n",
      "/home/adkris1002/miniconda3/envs/opensoundscape/lib/python3.7/site-packages/opensoundscape/audio.py:180: UserWarning: This seems to be an AudioMoth file, but parse_audiomoth_metadata() raised: list index out of range\n",
      "  \"This seems to be an AudioMoth file, \"\n"
     ]
    },
    {
     "name": "stdout",
     "output_type": "stream",
     "text": [
      "Recordings/20220703_221120.WAV\n",
      "Recordings/20220703_221121.WAV\n",
      "Recordings/20220703_221122.WAV\n"
     ]
    },
    {
     "name": "stderr",
     "output_type": "stream",
     "text": [
      "/home/adkris1002/miniconda3/envs/opensoundscape/lib/python3.7/site-packages/opensoundscape/audio.py:239: UserWarning: audio object has zero samples\n",
      "  warnings.warn(error_msg)\n",
      "/home/adkris1002/miniconda3/envs/opensoundscape/lib/python3.7/site-packages/opensoundscape/audio.py:180: UserWarning: This seems to be an AudioMoth file, but parse_audiomoth_metadata() raised: list index out of range\n",
      "  \"This seems to be an AudioMoth file, \"\n",
      "/home/adkris1002/miniconda3/envs/opensoundscape/lib/python3.7/site-packages/opensoundscape/audio.py:239: UserWarning: audio object has zero samples\n",
      "  warnings.warn(error_msg)\n",
      "/home/adkris1002/miniconda3/envs/opensoundscape/lib/python3.7/site-packages/opensoundscape/audio.py:180: UserWarning: This seems to be an AudioMoth file, but parse_audiomoth_metadata() raised: list index out of range\n",
      "  \"This seems to be an AudioMoth file, \"\n",
      "/home/adkris1002/miniconda3/envs/opensoundscape/lib/python3.7/site-packages/opensoundscape/audio.py:239: UserWarning: audio object has zero samples\n",
      "  warnings.warn(error_msg)\n",
      "/home/adkris1002/miniconda3/envs/opensoundscape/lib/python3.7/site-packages/opensoundscape/audio.py:180: UserWarning: This seems to be an AudioMoth file, but parse_audiomoth_metadata() raised: list index out of range\n",
      "  \"This seems to be an AudioMoth file, \"\n"
     ]
    },
    {
     "name": "stdout",
     "output_type": "stream",
     "text": [
      "Recordings/20220703_221123.WAV\n",
      "Recordings/20220703_221124.WAV\n",
      "Recordings/20220703_221125.WAV\n"
     ]
    },
    {
     "name": "stderr",
     "output_type": "stream",
     "text": [
      "/home/adkris1002/miniconda3/envs/opensoundscape/lib/python3.7/site-packages/opensoundscape/audio.py:239: UserWarning: audio object has zero samples\n",
      "  warnings.warn(error_msg)\n",
      "/home/adkris1002/miniconda3/envs/opensoundscape/lib/python3.7/site-packages/opensoundscape/audio.py:180: UserWarning: This seems to be an AudioMoth file, but parse_audiomoth_metadata() raised: list index out of range\n",
      "  \"This seems to be an AudioMoth file, \"\n",
      "/home/adkris1002/miniconda3/envs/opensoundscape/lib/python3.7/site-packages/opensoundscape/audio.py:239: UserWarning: audio object has zero samples\n",
      "  warnings.warn(error_msg)\n",
      "/home/adkris1002/miniconda3/envs/opensoundscape/lib/python3.7/site-packages/opensoundscape/audio.py:180: UserWarning: This seems to be an AudioMoth file, but parse_audiomoth_metadata() raised: list index out of range\n",
      "  \"This seems to be an AudioMoth file, \"\n"
     ]
    },
    {
     "name": "stdout",
     "output_type": "stream",
     "text": [
      "Recordings/20220703_221126.WAV\n",
      "Recordings/20220703_221127.WAV\n"
     ]
    },
    {
     "name": "stderr",
     "output_type": "stream",
     "text": [
      "/home/adkris1002/miniconda3/envs/opensoundscape/lib/python3.7/site-packages/opensoundscape/audio.py:239: UserWarning: audio object has zero samples\n",
      "  warnings.warn(error_msg)\n",
      "/home/adkris1002/miniconda3/envs/opensoundscape/lib/python3.7/site-packages/opensoundscape/audio.py:180: UserWarning: This seems to be an AudioMoth file, but parse_audiomoth_metadata() raised: list index out of range\n",
      "  \"This seems to be an AudioMoth file, \"\n",
      "/home/adkris1002/miniconda3/envs/opensoundscape/lib/python3.7/site-packages/opensoundscape/audio.py:239: UserWarning: audio object has zero samples\n",
      "  warnings.warn(error_msg)\n",
      "/home/adkris1002/miniconda3/envs/opensoundscape/lib/python3.7/site-packages/opensoundscape/audio.py:180: UserWarning: This seems to be an AudioMoth file, but parse_audiomoth_metadata() raised: list index out of range\n",
      "  \"This seems to be an AudioMoth file, \"\n",
      "/home/adkris1002/miniconda3/envs/opensoundscape/lib/python3.7/site-packages/opensoundscape/audio.py:239: UserWarning: audio object has zero samples\n",
      "  warnings.warn(error_msg)\n",
      "/home/adkris1002/miniconda3/envs/opensoundscape/lib/python3.7/site-packages/opensoundscape/audio.py:180: UserWarning: This seems to be an AudioMoth file, but parse_audiomoth_metadata() raised: list index out of range\n",
      "  \"This seems to be an AudioMoth file, \"\n"
     ]
    },
    {
     "name": "stdout",
     "output_type": "stream",
     "text": [
      "Recordings/20220703_221128.WAV\n",
      "Recordings/20220703_221129.WAV\n",
      "Recordings/20220703_221130.WAV\n"
     ]
    },
    {
     "name": "stderr",
     "output_type": "stream",
     "text": [
      "/home/adkris1002/miniconda3/envs/opensoundscape/lib/python3.7/site-packages/opensoundscape/audio.py:239: UserWarning: audio object has zero samples\n",
      "  warnings.warn(error_msg)\n",
      "/home/adkris1002/miniconda3/envs/opensoundscape/lib/python3.7/site-packages/opensoundscape/audio.py:180: UserWarning: This seems to be an AudioMoth file, but parse_audiomoth_metadata() raised: list index out of range\n",
      "  \"This seems to be an AudioMoth file, \"\n",
      "/home/adkris1002/miniconda3/envs/opensoundscape/lib/python3.7/site-packages/opensoundscape/audio.py:239: UserWarning: audio object has zero samples\n",
      "  warnings.warn(error_msg)\n",
      "/home/adkris1002/miniconda3/envs/opensoundscape/lib/python3.7/site-packages/opensoundscape/audio.py:180: UserWarning: This seems to be an AudioMoth file, but parse_audiomoth_metadata() raised: list index out of range\n",
      "  \"This seems to be an AudioMoth file, \"\n"
     ]
    },
    {
     "name": "stdout",
     "output_type": "stream",
     "text": [
      "Recordings/20220703_221131.WAV\n",
      "Recordings/20220703_221132.WAV\n"
     ]
    },
    {
     "name": "stderr",
     "output_type": "stream",
     "text": [
      "/home/adkris1002/miniconda3/envs/opensoundscape/lib/python3.7/site-packages/opensoundscape/audio.py:239: UserWarning: audio object has zero samples\n",
      "  warnings.warn(error_msg)\n",
      "/home/adkris1002/miniconda3/envs/opensoundscape/lib/python3.7/site-packages/opensoundscape/audio.py:180: UserWarning: This seems to be an AudioMoth file, but parse_audiomoth_metadata() raised: list index out of range\n",
      "  \"This seems to be an AudioMoth file, \"\n",
      "/home/adkris1002/miniconda3/envs/opensoundscape/lib/python3.7/site-packages/opensoundscape/audio.py:239: UserWarning: audio object has zero samples\n",
      "  warnings.warn(error_msg)\n",
      "/home/adkris1002/miniconda3/envs/opensoundscape/lib/python3.7/site-packages/opensoundscape/audio.py:180: UserWarning: This seems to be an AudioMoth file, but parse_audiomoth_metadata() raised: list index out of range\n",
      "  \"This seems to be an AudioMoth file, \"\n",
      "/home/adkris1002/miniconda3/envs/opensoundscape/lib/python3.7/site-packages/opensoundscape/audio.py:239: UserWarning: audio object has zero samples\n",
      "  warnings.warn(error_msg)\n",
      "/home/adkris1002/miniconda3/envs/opensoundscape/lib/python3.7/site-packages/opensoundscape/audio.py:180: UserWarning: This seems to be an AudioMoth file, but parse_audiomoth_metadata() raised: list index out of range\n",
      "  \"This seems to be an AudioMoth file, \"\n"
     ]
    },
    {
     "name": "stdout",
     "output_type": "stream",
     "text": [
      "Recordings/20220703_221133.WAV\n",
      "Recordings/20220703_221134.WAV\n",
      "Recordings/20220703_221135.WAV\n"
     ]
    },
    {
     "name": "stderr",
     "output_type": "stream",
     "text": [
      "/home/adkris1002/miniconda3/envs/opensoundscape/lib/python3.7/site-packages/opensoundscape/audio.py:239: UserWarning: audio object has zero samples\n",
      "  warnings.warn(error_msg)\n",
      "/home/adkris1002/miniconda3/envs/opensoundscape/lib/python3.7/site-packages/opensoundscape/audio.py:180: UserWarning: This seems to be an AudioMoth file, but parse_audiomoth_metadata() raised: list index out of range\n",
      "  \"This seems to be an AudioMoth file, \"\n",
      "/home/adkris1002/miniconda3/envs/opensoundscape/lib/python3.7/site-packages/opensoundscape/audio.py:239: UserWarning: audio object has zero samples\n",
      "  warnings.warn(error_msg)\n",
      "/home/adkris1002/miniconda3/envs/opensoundscape/lib/python3.7/site-packages/opensoundscape/audio.py:180: UserWarning: This seems to be an AudioMoth file, but parse_audiomoth_metadata() raised: list index out of range\n",
      "  \"This seems to be an AudioMoth file, \"\n",
      "/home/adkris1002/miniconda3/envs/opensoundscape/lib/python3.7/site-packages/opensoundscape/audio.py:239: UserWarning: audio object has zero samples\n",
      "  warnings.warn(error_msg)\n",
      "/home/adkris1002/miniconda3/envs/opensoundscape/lib/python3.7/site-packages/opensoundscape/audio.py:180: UserWarning: This seems to be an AudioMoth file, but parse_audiomoth_metadata() raised: list index out of range\n",
      "  \"This seems to be an AudioMoth file, \"\n"
     ]
    },
    {
     "name": "stdout",
     "output_type": "stream",
     "text": [
      "Recordings/20220703_221136.WAV\n",
      "Recordings/20220703_221137.WAV\n",
      "Recordings/20220703_221138.WAV\n",
      "Recordings/20220703_223000.WAV\n"
     ]
    },
    {
     "name": "stderr",
     "output_type": "stream",
     "text": [
      "/home/adkris1002/miniconda3/envs/opensoundscape/lib/python3.7/site-packages/opensoundscape/audio.py:180: UserWarning: This seems to be an AudioMoth file, but parse_audiomoth_metadata() raised: list index out of range\n",
      "  \"This seems to be an AudioMoth file, \"\n"
     ]
    },
    {
     "name": "stdout",
     "output_type": "stream",
     "text": [
      "Recordings/20220703_230000.WAV\n"
     ]
    },
    {
     "name": "stderr",
     "output_type": "stream",
     "text": [
      "/home/adkris1002/miniconda3/envs/opensoundscape/lib/python3.7/site-packages/opensoundscape/audio.py:180: UserWarning: This seems to be an AudioMoth file, but parse_audiomoth_metadata() raised: list index out of range\n",
      "  \"This seems to be an AudioMoth file, \"\n"
     ]
    },
    {
     "name": "stdout",
     "output_type": "stream",
     "text": [
      "Recordings/20220703_233000.WAV\n"
     ]
    },
    {
     "name": "stderr",
     "output_type": "stream",
     "text": [
      "/home/adkris1002/miniconda3/envs/opensoundscape/lib/python3.7/site-packages/opensoundscape/audio.py:180: UserWarning: This seems to be an AudioMoth file, but parse_audiomoth_metadata() raised: list index out of range\n",
      "  \"This seems to be an AudioMoth file, \"\n"
     ]
    },
    {
     "name": "stdout",
     "output_type": "stream",
     "text": [
      "Recordings/20220704_000000.WAV\n",
      "Recordings/20220704_003000.WAV\n"
     ]
    },
    {
     "name": "stderr",
     "output_type": "stream",
     "text": [
      "/home/adkris1002/miniconda3/envs/opensoundscape/lib/python3.7/site-packages/opensoundscape/audio.py:180: UserWarning: This seems to be an AudioMoth file, but parse_audiomoth_metadata() raised: list index out of range\n",
      "  \"This seems to be an AudioMoth file, \"\n",
      "/home/adkris1002/miniconda3/envs/opensoundscape/lib/python3.7/site-packages/opensoundscape/audio.py:180: UserWarning: This seems to be an AudioMoth file, but parse_audiomoth_metadata() raised: list index out of range\n",
      "  \"This seems to be an AudioMoth file, \"\n"
     ]
    },
    {
     "name": "stdout",
     "output_type": "stream",
     "text": [
      "Recordings/20220704_010000.WAV\n"
     ]
    },
    {
     "name": "stderr",
     "output_type": "stream",
     "text": [
      "/home/adkris1002/miniconda3/envs/opensoundscape/lib/python3.7/site-packages/opensoundscape/audio.py:180: UserWarning: This seems to be an AudioMoth file, but parse_audiomoth_metadata() raised: list index out of range\n",
      "  \"This seems to be an AudioMoth file, \"\n"
     ]
    },
    {
     "name": "stdout",
     "output_type": "stream",
     "text": [
      "Recordings/20220704_013000.WAV\n"
     ]
    },
    {
     "name": "stderr",
     "output_type": "stream",
     "text": [
      "/home/adkris1002/miniconda3/envs/opensoundscape/lib/python3.7/site-packages/opensoundscape/audio.py:180: UserWarning: This seems to be an AudioMoth file, but parse_audiomoth_metadata() raised: list index out of range\n",
      "  \"This seems to be an AudioMoth file, \"\n"
     ]
    },
    {
     "name": "stdout",
     "output_type": "stream",
     "text": [
      "Recordings/20220704_020000.WAV\n"
     ]
    },
    {
     "name": "stderr",
     "output_type": "stream",
     "text": [
      "/home/adkris1002/miniconda3/envs/opensoundscape/lib/python3.7/site-packages/opensoundscape/audio.py:180: UserWarning: This seems to be an AudioMoth file, but parse_audiomoth_metadata() raised: list index out of range\n",
      "  \"This seems to be an AudioMoth file, \"\n"
     ]
    },
    {
     "name": "stdout",
     "output_type": "stream",
     "text": [
      "Recordings/20220704_023000.WAV\n",
      "Recordings/20220704_030000.WAV\n"
     ]
    },
    {
     "name": "stderr",
     "output_type": "stream",
     "text": [
      "/home/adkris1002/miniconda3/envs/opensoundscape/lib/python3.7/site-packages/opensoundscape/audio.py:180: UserWarning: This seems to be an AudioMoth file, but parse_audiomoth_metadata() raised: list index out of range\n",
      "  \"This seems to be an AudioMoth file, \"\n",
      "/home/adkris1002/miniconda3/envs/opensoundscape/lib/python3.7/site-packages/opensoundscape/audio.py:180: UserWarning: This seems to be an AudioMoth file, but parse_audiomoth_metadata() raised: list index out of range\n",
      "  \"This seems to be an AudioMoth file, \"\n"
     ]
    },
    {
     "name": "stdout",
     "output_type": "stream",
     "text": [
      "Recordings/20220704_033000.WAV\n",
      "Recordings/20220704_040000.WAV\n"
     ]
    },
    {
     "name": "stderr",
     "output_type": "stream",
     "text": [
      "/home/adkris1002/miniconda3/envs/opensoundscape/lib/python3.7/site-packages/opensoundscape/audio.py:180: UserWarning: This seems to be an AudioMoth file, but parse_audiomoth_metadata() raised: list index out of range\n",
      "  \"This seems to be an AudioMoth file, \"\n",
      "/home/adkris1002/miniconda3/envs/opensoundscape/lib/python3.7/site-packages/opensoundscape/audio.py:180: UserWarning: This seems to be an AudioMoth file, but parse_audiomoth_metadata() raised: list index out of range\n",
      "  \"This seems to be an AudioMoth file, \"\n"
     ]
    },
    {
     "name": "stdout",
     "output_type": "stream",
     "text": [
      "Recordings/20220704_043000.WAV\n"
     ]
    },
    {
     "name": "stderr",
     "output_type": "stream",
     "text": [
      "/home/adkris1002/miniconda3/envs/opensoundscape/lib/python3.7/site-packages/opensoundscape/audio.py:180: UserWarning: This seems to be an AudioMoth file, but parse_audiomoth_metadata() raised: list index out of range\n",
      "  \"This seems to be an AudioMoth file, \"\n"
     ]
    },
    {
     "name": "stdout",
     "output_type": "stream",
     "text": [
      "Recordings/20220704_050000.WAV\n",
      "Recordings/20220704_053000.WAV\n"
     ]
    },
    {
     "name": "stderr",
     "output_type": "stream",
     "text": [
      "/home/adkris1002/miniconda3/envs/opensoundscape/lib/python3.7/site-packages/opensoundscape/audio.py:180: UserWarning: This seems to be an AudioMoth file, but parse_audiomoth_metadata() raised: list index out of range\n",
      "  \"This seems to be an AudioMoth file, \"\n",
      "/home/adkris1002/miniconda3/envs/opensoundscape/lib/python3.7/site-packages/opensoundscape/audio.py:180: UserWarning: This seems to be an AudioMoth file, but parse_audiomoth_metadata() raised: list index out of range\n",
      "  \"This seems to be an AudioMoth file, \"\n"
     ]
    },
    {
     "name": "stdout",
     "output_type": "stream",
     "text": [
      "Recordings/20220704_060000.WAV\n",
      "Recordings/20220704_063000.WAV\n"
     ]
    },
    {
     "name": "stderr",
     "output_type": "stream",
     "text": [
      "/home/adkris1002/miniconda3/envs/opensoundscape/lib/python3.7/site-packages/opensoundscape/audio.py:180: UserWarning: This seems to be an AudioMoth file, but parse_audiomoth_metadata() raised: list index out of range\n",
      "  \"This seems to be an AudioMoth file, \"\n",
      "/home/adkris1002/miniconda3/envs/opensoundscape/lib/python3.7/site-packages/opensoundscape/audio.py:180: UserWarning: This seems to be an AudioMoth file, but parse_audiomoth_metadata() raised: list index out of range\n",
      "  \"This seems to be an AudioMoth file, \"\n"
     ]
    },
    {
     "name": "stdout",
     "output_type": "stream",
     "text": [
      "Recordings/20220704_070000.WAV\n"
     ]
    },
    {
     "name": "stderr",
     "output_type": "stream",
     "text": [
      "/home/adkris1002/miniconda3/envs/opensoundscape/lib/python3.7/site-packages/opensoundscape/audio.py:180: UserWarning: This seems to be an AudioMoth file, but parse_audiomoth_metadata() raised: list index out of range\n",
      "  \"This seems to be an AudioMoth file, \"\n"
     ]
    },
    {
     "name": "stdout",
     "output_type": "stream",
     "text": [
      "Recordings/20220704_073000.WAV\n",
      "Recordings/20220704_080000.WAV\n"
     ]
    },
    {
     "name": "stderr",
     "output_type": "stream",
     "text": [
      "/home/adkris1002/miniconda3/envs/opensoundscape/lib/python3.7/site-packages/opensoundscape/audio.py:180: UserWarning: This seems to be an AudioMoth file, but parse_audiomoth_metadata() raised: list index out of range\n",
      "  \"This seems to be an AudioMoth file, \"\n",
      "/home/adkris1002/miniconda3/envs/opensoundscape/lib/python3.7/site-packages/opensoundscape/audio.py:180: UserWarning: This seems to be an AudioMoth file, but parse_audiomoth_metadata() raised: list index out of range\n",
      "  \"This seems to be an AudioMoth file, \"\n"
     ]
    },
    {
     "name": "stdout",
     "output_type": "stream",
     "text": [
      "Recordings/20220704_083000.WAV\n",
      "Recordings/20220704_090000.WAV\n"
     ]
    },
    {
     "name": "stderr",
     "output_type": "stream",
     "text": [
      "/home/adkris1002/miniconda3/envs/opensoundscape/lib/python3.7/site-packages/opensoundscape/audio.py:180: UserWarning: This seems to be an AudioMoth file, but parse_audiomoth_metadata() raised: list index out of range\n",
      "  \"This seems to be an AudioMoth file, \"\n",
      "/home/adkris1002/miniconda3/envs/opensoundscape/lib/python3.7/site-packages/opensoundscape/audio.py:180: UserWarning: This seems to be an AudioMoth file, but parse_audiomoth_metadata() raised: list index out of range\n",
      "  \"This seems to be an AudioMoth file, \"\n"
     ]
    },
    {
     "name": "stdout",
     "output_type": "stream",
     "text": [
      "Recordings/20220704_093000.WAV\n",
      "Recordings/20220704_100000.WAV\n"
     ]
    },
    {
     "name": "stderr",
     "output_type": "stream",
     "text": [
      "/home/adkris1002/miniconda3/envs/opensoundscape/lib/python3.7/site-packages/opensoundscape/audio.py:180: UserWarning: This seems to be an AudioMoth file, but parse_audiomoth_metadata() raised: list index out of range\n",
      "  \"This seems to be an AudioMoth file, \"\n",
      "/home/adkris1002/miniconda3/envs/opensoundscape/lib/python3.7/site-packages/opensoundscape/audio.py:180: UserWarning: This seems to be an AudioMoth file, but parse_audiomoth_metadata() raised: list index out of range\n",
      "  \"This seems to be an AudioMoth file, \"\n"
     ]
    },
    {
     "name": "stdout",
     "output_type": "stream",
     "text": [
      "Recordings/20220704_103000.WAV\n",
      "Recordings/20220704_110000.WAV\n"
     ]
    },
    {
     "name": "stderr",
     "output_type": "stream",
     "text": [
      "/home/adkris1002/miniconda3/envs/opensoundscape/lib/python3.7/site-packages/opensoundscape/audio.py:180: UserWarning: This seems to be an AudioMoth file, but parse_audiomoth_metadata() raised: list index out of range\n",
      "  \"This seems to be an AudioMoth file, \"\n",
      "/home/adkris1002/miniconda3/envs/opensoundscape/lib/python3.7/site-packages/opensoundscape/audio.py:180: UserWarning: This seems to be an AudioMoth file, but parse_audiomoth_metadata() raised: list index out of range\n",
      "  \"This seems to be an AudioMoth file, \"\n"
     ]
    },
    {
     "name": "stdout",
     "output_type": "stream",
     "text": [
      "Recordings/20220704_113000.WAV\n",
      "Recordings/20220704_120000.WAV\n"
     ]
    },
    {
     "name": "stderr",
     "output_type": "stream",
     "text": [
      "/home/adkris1002/miniconda3/envs/opensoundscape/lib/python3.7/site-packages/opensoundscape/audio.py:180: UserWarning: This seems to be an AudioMoth file, but parse_audiomoth_metadata() raised: list index out of range\n",
      "  \"This seems to be an AudioMoth file, \"\n",
      "/home/adkris1002/miniconda3/envs/opensoundscape/lib/python3.7/site-packages/opensoundscape/audio.py:180: UserWarning: This seems to be an AudioMoth file, but parse_audiomoth_metadata() raised: list index out of range\n",
      "  \"This seems to be an AudioMoth file, \"\n"
     ]
    },
    {
     "name": "stdout",
     "output_type": "stream",
     "text": [
      "Recordings/20220704_123000.WAV\n"
     ]
    },
    {
     "name": "stderr",
     "output_type": "stream",
     "text": [
      "/home/adkris1002/miniconda3/envs/opensoundscape/lib/python3.7/site-packages/opensoundscape/audio.py:180: UserWarning: This seems to be an AudioMoth file, but parse_audiomoth_metadata() raised: list index out of range\n",
      "  \"This seems to be an AudioMoth file, \"\n"
     ]
    },
    {
     "name": "stdout",
     "output_type": "stream",
     "text": [
      "Recordings/20220704_130000.WAV\n"
     ]
    },
    {
     "name": "stderr",
     "output_type": "stream",
     "text": [
      "/home/adkris1002/miniconda3/envs/opensoundscape/lib/python3.7/site-packages/opensoundscape/audio.py:180: UserWarning: This seems to be an AudioMoth file, but parse_audiomoth_metadata() raised: list index out of range\n",
      "  \"This seems to be an AudioMoth file, \"\n"
     ]
    },
    {
     "name": "stdout",
     "output_type": "stream",
     "text": [
      "Recordings/20220704_133000.WAV\n",
      "Recordings/20220704_140000.WAV\n"
     ]
    },
    {
     "name": "stderr",
     "output_type": "stream",
     "text": [
      "/home/adkris1002/miniconda3/envs/opensoundscape/lib/python3.7/site-packages/opensoundscape/audio.py:180: UserWarning: This seems to be an AudioMoth file, but parse_audiomoth_metadata() raised: list index out of range\n",
      "  \"This seems to be an AudioMoth file, \"\n",
      "/home/adkris1002/miniconda3/envs/opensoundscape/lib/python3.7/site-packages/opensoundscape/audio.py:180: UserWarning: This seems to be an AudioMoth file, but parse_audiomoth_metadata() raised: list index out of range\n",
      "  \"This seems to be an AudioMoth file, \"\n"
     ]
    },
    {
     "name": "stdout",
     "output_type": "stream",
     "text": [
      "Recordings/20220704_143000.WAV\n",
      "Recordings/20220704_150000.WAV\n"
     ]
    },
    {
     "name": "stderr",
     "output_type": "stream",
     "text": [
      "/home/adkris1002/miniconda3/envs/opensoundscape/lib/python3.7/site-packages/opensoundscape/audio.py:180: UserWarning: This seems to be an AudioMoth file, but parse_audiomoth_metadata() raised: list index out of range\n",
      "  \"This seems to be an AudioMoth file, \"\n",
      "/home/adkris1002/miniconda3/envs/opensoundscape/lib/python3.7/site-packages/opensoundscape/audio.py:180: UserWarning: This seems to be an AudioMoth file, but parse_audiomoth_metadata() raised: list index out of range\n",
      "  \"This seems to be an AudioMoth file, \"\n"
     ]
    },
    {
     "name": "stdout",
     "output_type": "stream",
     "text": [
      "Recordings/20220704_153000.WAV\n",
      "Recordings/20220704_160000.WAV\n"
     ]
    },
    {
     "name": "stderr",
     "output_type": "stream",
     "text": [
      "/home/adkris1002/miniconda3/envs/opensoundscape/lib/python3.7/site-packages/opensoundscape/audio.py:180: UserWarning: This seems to be an AudioMoth file, but parse_audiomoth_metadata() raised: list index out of range\n",
      "  \"This seems to be an AudioMoth file, \"\n",
      "/home/adkris1002/miniconda3/envs/opensoundscape/lib/python3.7/site-packages/opensoundscape/audio.py:180: UserWarning: This seems to be an AudioMoth file, but parse_audiomoth_metadata() raised: list index out of range\n",
      "  \"This seems to be an AudioMoth file, \"\n"
     ]
    },
    {
     "name": "stdout",
     "output_type": "stream",
     "text": [
      "Recordings/20220704_163000.WAV\n"
     ]
    },
    {
     "name": "stderr",
     "output_type": "stream",
     "text": [
      "/home/adkris1002/miniconda3/envs/opensoundscape/lib/python3.7/site-packages/opensoundscape/audio.py:180: UserWarning: This seems to be an AudioMoth file, but parse_audiomoth_metadata() raised: list index out of range\n",
      "  \"This seems to be an AudioMoth file, \"\n"
     ]
    },
    {
     "name": "stdout",
     "output_type": "stream",
     "text": [
      "Recordings/20220704_170000.WAV\n"
     ]
    },
    {
     "name": "stderr",
     "output_type": "stream",
     "text": [
      "/home/adkris1002/miniconda3/envs/opensoundscape/lib/python3.7/site-packages/opensoundscape/audio.py:180: UserWarning: This seems to be an AudioMoth file, but parse_audiomoth_metadata() raised: list index out of range\n",
      "  \"This seems to be an AudioMoth file, \"\n"
     ]
    },
    {
     "name": "stdout",
     "output_type": "stream",
     "text": [
      "Recordings/20220704_173000.WAV\n",
      "Recordings/20220704_180000.WAV\n"
     ]
    },
    {
     "name": "stderr",
     "output_type": "stream",
     "text": [
      "/home/adkris1002/miniconda3/envs/opensoundscape/lib/python3.7/site-packages/opensoundscape/audio.py:180: UserWarning: This seems to be an AudioMoth file, but parse_audiomoth_metadata() raised: list index out of range\n",
      "  \"This seems to be an AudioMoth file, \"\n",
      "/home/adkris1002/miniconda3/envs/opensoundscape/lib/python3.7/site-packages/opensoundscape/audio.py:180: UserWarning: This seems to be an AudioMoth file, but parse_audiomoth_metadata() raised: list index out of range\n",
      "  \"This seems to be an AudioMoth file, \"\n"
     ]
    },
    {
     "name": "stdout",
     "output_type": "stream",
     "text": [
      "Recordings/20220704_183000.WAV\n",
      "Recordings/20220704_190000.WAV\n"
     ]
    },
    {
     "name": "stderr",
     "output_type": "stream",
     "text": [
      "/home/adkris1002/miniconda3/envs/opensoundscape/lib/python3.7/site-packages/opensoundscape/audio.py:180: UserWarning: This seems to be an AudioMoth file, but parse_audiomoth_metadata() raised: list index out of range\n",
      "  \"This seems to be an AudioMoth file, \"\n",
      "/home/adkris1002/miniconda3/envs/opensoundscape/lib/python3.7/site-packages/opensoundscape/audio.py:180: UserWarning: This seems to be an AudioMoth file, but parse_audiomoth_metadata() raised: list index out of range\n",
      "  \"This seems to be an AudioMoth file, \"\n"
     ]
    },
    {
     "name": "stdout",
     "output_type": "stream",
     "text": [
      "Recordings/20220704_192758.WAV\n",
      "Recordings/20220704_192759.WAV\n"
     ]
    },
    {
     "name": "stderr",
     "output_type": "stream",
     "text": [
      "/home/adkris1002/miniconda3/envs/opensoundscape/lib/python3.7/site-packages/opensoundscape/audio.py:180: UserWarning: This seems to be an AudioMoth file, but parse_audiomoth_metadata() raised: list index out of range\n",
      "  \"This seems to be an AudioMoth file, \"\n",
      "/home/adkris1002/miniconda3/envs/opensoundscape/lib/python3.7/site-packages/opensoundscape/audio.py:239: UserWarning: audio object has zero samples\n",
      "  warnings.warn(error_msg)\n",
      "/home/adkris1002/miniconda3/envs/opensoundscape/lib/python3.7/site-packages/opensoundscape/audio.py:180: UserWarning: This seems to be an AudioMoth file, but parse_audiomoth_metadata() raised: list index out of range\n",
      "  \"This seems to be an AudioMoth file, \"\n",
      "/home/adkris1002/miniconda3/envs/opensoundscape/lib/python3.7/site-packages/opensoundscape/audio.py:239: UserWarning: audio object has zero samples\n",
      "  warnings.warn(error_msg)\n",
      "/home/adkris1002/miniconda3/envs/opensoundscape/lib/python3.7/site-packages/opensoundscape/audio.py:180: UserWarning: This seems to be an AudioMoth file, but parse_audiomoth_metadata() raised: list index out of range\n",
      "  \"This seems to be an AudioMoth file, \"\n",
      "/home/adkris1002/miniconda3/envs/opensoundscape/lib/python3.7/site-packages/opensoundscape/audio.py:239: UserWarning: audio object has zero samples\n",
      "  warnings.warn(error_msg)\n",
      "/home/adkris1002/miniconda3/envs/opensoundscape/lib/python3.7/site-packages/opensoundscape/audio.py:180: UserWarning: This seems to be an AudioMoth file, but parse_audiomoth_metadata() raised: list index out of range\n",
      "  \"This seems to be an AudioMoth file, \"\n"
     ]
    },
    {
     "name": "stdout",
     "output_type": "stream",
     "text": [
      "Recordings/20220704_192800.WAV\n",
      "Recordings/20220704_192801.WAV\n"
     ]
    },
    {
     "name": "stderr",
     "output_type": "stream",
     "text": [
      "/home/adkris1002/miniconda3/envs/opensoundscape/lib/python3.7/site-packages/opensoundscape/audio.py:239: UserWarning: audio object has zero samples\n",
      "  warnings.warn(error_msg)\n",
      "/home/adkris1002/miniconda3/envs/opensoundscape/lib/python3.7/site-packages/opensoundscape/audio.py:180: UserWarning: This seems to be an AudioMoth file, but parse_audiomoth_metadata() raised: list index out of range\n",
      "  \"This seems to be an AudioMoth file, \"\n",
      "/home/adkris1002/miniconda3/envs/opensoundscape/lib/python3.7/site-packages/opensoundscape/audio.py:239: UserWarning: audio object has zero samples\n",
      "  warnings.warn(error_msg)\n",
      "/home/adkris1002/miniconda3/envs/opensoundscape/lib/python3.7/site-packages/opensoundscape/audio.py:180: UserWarning: This seems to be an AudioMoth file, but parse_audiomoth_metadata() raised: list index out of range\n",
      "  \"This seems to be an AudioMoth file, \"\n"
     ]
    },
    {
     "name": "stdout",
     "output_type": "stream",
     "text": [
      "Recordings/20220704_192802.WAV\n",
      "Recordings/20220704_192803.WAV\n"
     ]
    },
    {
     "name": "stderr",
     "output_type": "stream",
     "text": [
      "/home/adkris1002/miniconda3/envs/opensoundscape/lib/python3.7/site-packages/opensoundscape/audio.py:239: UserWarning: audio object has zero samples\n",
      "  warnings.warn(error_msg)\n",
      "/home/adkris1002/miniconda3/envs/opensoundscape/lib/python3.7/site-packages/opensoundscape/audio.py:180: UserWarning: This seems to be an AudioMoth file, but parse_audiomoth_metadata() raised: list index out of range\n",
      "  \"This seems to be an AudioMoth file, \"\n"
     ]
    },
    {
     "name": "stdout",
     "output_type": "stream",
     "text": [
      "Recordings/20220704_192804.WAV\n"
     ]
    },
    {
     "name": "stderr",
     "output_type": "stream",
     "text": [
      "/home/adkris1002/miniconda3/envs/opensoundscape/lib/python3.7/site-packages/opensoundscape/audio.py:239: UserWarning: audio object has zero samples\n",
      "  warnings.warn(error_msg)\n",
      "/home/adkris1002/miniconda3/envs/opensoundscape/lib/python3.7/site-packages/opensoundscape/audio.py:180: UserWarning: This seems to be an AudioMoth file, but parse_audiomoth_metadata() raised: list index out of range\n",
      "  \"This seems to be an AudioMoth file, \"\n",
      "/home/adkris1002/miniconda3/envs/opensoundscape/lib/python3.7/site-packages/opensoundscape/audio.py:239: UserWarning: audio object has zero samples\n",
      "  warnings.warn(error_msg)\n",
      "/home/adkris1002/miniconda3/envs/opensoundscape/lib/python3.7/site-packages/opensoundscape/audio.py:180: UserWarning: This seems to be an AudioMoth file, but parse_audiomoth_metadata() raised: list index out of range\n",
      "  \"This seems to be an AudioMoth file, \"\n"
     ]
    },
    {
     "name": "stdout",
     "output_type": "stream",
     "text": [
      "Recordings/20220704_192805.WAV\n",
      "Recordings/20220704_192806.WAV\n"
     ]
    },
    {
     "name": "stderr",
     "output_type": "stream",
     "text": [
      "/home/adkris1002/miniconda3/envs/opensoundscape/lib/python3.7/site-packages/opensoundscape/audio.py:239: UserWarning: audio object has zero samples\n",
      "  warnings.warn(error_msg)\n",
      "/home/adkris1002/miniconda3/envs/opensoundscape/lib/python3.7/site-packages/opensoundscape/audio.py:180: UserWarning: This seems to be an AudioMoth file, but parse_audiomoth_metadata() raised: list index out of range\n",
      "  \"This seems to be an AudioMoth file, \"\n",
      "/home/adkris1002/miniconda3/envs/opensoundscape/lib/python3.7/site-packages/opensoundscape/audio.py:239: UserWarning: audio object has zero samples\n",
      "  warnings.warn(error_msg)\n",
      "/home/adkris1002/miniconda3/envs/opensoundscape/lib/python3.7/site-packages/opensoundscape/audio.py:180: UserWarning: This seems to be an AudioMoth file, but parse_audiomoth_metadata() raised: list index out of range\n",
      "  \"This seems to be an AudioMoth file, \"\n"
     ]
    },
    {
     "name": "stdout",
     "output_type": "stream",
     "text": [
      "Recordings/20220704_192807.WAV\n",
      "Recordings/20220704_192808.WAV\n"
     ]
    },
    {
     "name": "stderr",
     "output_type": "stream",
     "text": [
      "/home/adkris1002/miniconda3/envs/opensoundscape/lib/python3.7/site-packages/opensoundscape/audio.py:239: UserWarning: audio object has zero samples\n",
      "  warnings.warn(error_msg)\n",
      "/home/adkris1002/miniconda3/envs/opensoundscape/lib/python3.7/site-packages/opensoundscape/audio.py:180: UserWarning: This seems to be an AudioMoth file, but parse_audiomoth_metadata() raised: list index out of range\n",
      "  \"This seems to be an AudioMoth file, \"\n",
      "/home/adkris1002/miniconda3/envs/opensoundscape/lib/python3.7/site-packages/opensoundscape/audio.py:239: UserWarning: audio object has zero samples\n",
      "  warnings.warn(error_msg)\n",
      "/home/adkris1002/miniconda3/envs/opensoundscape/lib/python3.7/site-packages/opensoundscape/audio.py:180: UserWarning: This seems to be an AudioMoth file, but parse_audiomoth_metadata() raised: list index out of range\n",
      "  \"This seems to be an AudioMoth file, \"\n"
     ]
    },
    {
     "name": "stdout",
     "output_type": "stream",
     "text": [
      "Recordings/20220704_192809.WAV\n",
      "Recordings/20220704_192810.WAV\n",
      "Recordings/20220704_193000.WAV\n"
     ]
    },
    {
     "name": "stderr",
     "output_type": "stream",
     "text": [
      "/home/adkris1002/miniconda3/envs/opensoundscape/lib/python3.7/site-packages/opensoundscape/audio.py:180: UserWarning: This seems to be an AudioMoth file, but parse_audiomoth_metadata() raised: list index out of range\n",
      "  \"This seems to be an AudioMoth file, \"\n"
     ]
    },
    {
     "name": "stdout",
     "output_type": "stream",
     "text": [
      "Recordings/20220704_200000.WAV\n"
     ]
    },
    {
     "name": "stderr",
     "output_type": "stream",
     "text": [
      "/home/adkris1002/miniconda3/envs/opensoundscape/lib/python3.7/site-packages/opensoundscape/audio.py:180: UserWarning: This seems to be an AudioMoth file, but parse_audiomoth_metadata() raised: list index out of range\n",
      "  \"This seems to be an AudioMoth file, \"\n"
     ]
    },
    {
     "name": "stdout",
     "output_type": "stream",
     "text": [
      "Recordings/20220704_203000.WAV\n"
     ]
    },
    {
     "name": "stderr",
     "output_type": "stream",
     "text": [
      "/home/adkris1002/miniconda3/envs/opensoundscape/lib/python3.7/site-packages/opensoundscape/audio.py:180: UserWarning: This seems to be an AudioMoth file, but parse_audiomoth_metadata() raised: list index out of range\n",
      "  \"This seems to be an AudioMoth file, \"\n"
     ]
    },
    {
     "name": "stdout",
     "output_type": "stream",
     "text": [
      "Recordings/20220704_210000.WAV\n"
     ]
    },
    {
     "name": "stderr",
     "output_type": "stream",
     "text": [
      "/home/adkris1002/miniconda3/envs/opensoundscape/lib/python3.7/site-packages/opensoundscape/audio.py:180: UserWarning: This seems to be an AudioMoth file, but parse_audiomoth_metadata() raised: list index out of range\n",
      "  \"This seems to be an AudioMoth file, \"\n"
     ]
    },
    {
     "name": "stdout",
     "output_type": "stream",
     "text": [
      "Recordings/20220704_213000.WAV\n"
     ]
    },
    {
     "name": "stderr",
     "output_type": "stream",
     "text": [
      "/home/adkris1002/miniconda3/envs/opensoundscape/lib/python3.7/site-packages/opensoundscape/audio.py:180: UserWarning: This seems to be an AudioMoth file, but parse_audiomoth_metadata() raised: list index out of range\n",
      "  \"This seems to be an AudioMoth file, \"\n"
     ]
    },
    {
     "name": "stdout",
     "output_type": "stream",
     "text": [
      "Recordings/20220704_220000.WAV\n",
      "Recordings/20220704_223000.WAV\n"
     ]
    },
    {
     "name": "stderr",
     "output_type": "stream",
     "text": [
      "/home/adkris1002/miniconda3/envs/opensoundscape/lib/python3.7/site-packages/opensoundscape/audio.py:180: UserWarning: This seems to be an AudioMoth file, but parse_audiomoth_metadata() raised: list index out of range\n",
      "  \"This seems to be an AudioMoth file, \"\n",
      "/home/adkris1002/miniconda3/envs/opensoundscape/lib/python3.7/site-packages/opensoundscape/audio.py:180: UserWarning: This seems to be an AudioMoth file, but parse_audiomoth_metadata() raised: list index out of range\n",
      "  \"This seems to be an AudioMoth file, \"\n"
     ]
    },
    {
     "name": "stdout",
     "output_type": "stream",
     "text": [
      "Recordings/20220704_230000.WAV\n"
     ]
    },
    {
     "name": "stderr",
     "output_type": "stream",
     "text": [
      "/home/adkris1002/miniconda3/envs/opensoundscape/lib/python3.7/site-packages/opensoundscape/audio.py:180: UserWarning: This seems to be an AudioMoth file, but parse_audiomoth_metadata() raised: list index out of range\n",
      "  \"This seems to be an AudioMoth file, \"\n"
     ]
    },
    {
     "name": "stdout",
     "output_type": "stream",
     "text": [
      "Recordings/20220704_233000.WAV\n"
     ]
    },
    {
     "name": "stderr",
     "output_type": "stream",
     "text": [
      "/home/adkris1002/miniconda3/envs/opensoundscape/lib/python3.7/site-packages/opensoundscape/audio.py:180: UserWarning: This seems to be an AudioMoth file, but parse_audiomoth_metadata() raised: list index out of range\n",
      "  \"This seems to be an AudioMoth file, \"\n"
     ]
    },
    {
     "name": "stdout",
     "output_type": "stream",
     "text": [
      "Recordings/20220705_000000.WAV\n"
     ]
    },
    {
     "name": "stderr",
     "output_type": "stream",
     "text": [
      "/home/adkris1002/miniconda3/envs/opensoundscape/lib/python3.7/site-packages/opensoundscape/audio.py:180: UserWarning: This seems to be an AudioMoth file, but parse_audiomoth_metadata() raised: list index out of range\n",
      "  \"This seems to be an AudioMoth file, \"\n"
     ]
    },
    {
     "name": "stdout",
     "output_type": "stream",
     "text": [
      "Recordings/20220705_003000.WAV\n"
     ]
    },
    {
     "name": "stderr",
     "output_type": "stream",
     "text": [
      "/home/adkris1002/miniconda3/envs/opensoundscape/lib/python3.7/site-packages/opensoundscape/audio.py:180: UserWarning: This seems to be an AudioMoth file, but parse_audiomoth_metadata() raised: list index out of range\n",
      "  \"This seems to be an AudioMoth file, \"\n"
     ]
    },
    {
     "name": "stdout",
     "output_type": "stream",
     "text": [
      "Recordings/20220705_010000.WAV\n"
     ]
    },
    {
     "name": "stderr",
     "output_type": "stream",
     "text": [
      "/home/adkris1002/miniconda3/envs/opensoundscape/lib/python3.7/site-packages/opensoundscape/audio.py:180: UserWarning: This seems to be an AudioMoth file, but parse_audiomoth_metadata() raised: list index out of range\n",
      "  \"This seems to be an AudioMoth file, \"\n"
     ]
    },
    {
     "name": "stdout",
     "output_type": "stream",
     "text": [
      "Recordings/20220705_013000.WAV\n"
     ]
    },
    {
     "name": "stderr",
     "output_type": "stream",
     "text": [
      "/home/adkris1002/miniconda3/envs/opensoundscape/lib/python3.7/site-packages/opensoundscape/audio.py:180: UserWarning: This seems to be an AudioMoth file, but parse_audiomoth_metadata() raised: list index out of range\n",
      "  \"This seems to be an AudioMoth file, \"\n"
     ]
    },
    {
     "name": "stdout",
     "output_type": "stream",
     "text": [
      "Recordings/20220705_020000.WAV\n"
     ]
    },
    {
     "name": "stderr",
     "output_type": "stream",
     "text": [
      "/home/adkris1002/miniconda3/envs/opensoundscape/lib/python3.7/site-packages/opensoundscape/audio.py:180: UserWarning: This seems to be an AudioMoth file, but parse_audiomoth_metadata() raised: list index out of range\n",
      "  \"This seems to be an AudioMoth file, \"\n"
     ]
    },
    {
     "name": "stdout",
     "output_type": "stream",
     "text": [
      "Recordings/20220705_023000.WAV\n"
     ]
    },
    {
     "name": "stderr",
     "output_type": "stream",
     "text": [
      "/home/adkris1002/miniconda3/envs/opensoundscape/lib/python3.7/site-packages/opensoundscape/audio.py:180: UserWarning: This seems to be an AudioMoth file, but parse_audiomoth_metadata() raised: list index out of range\n",
      "  \"This seems to be an AudioMoth file, \"\n"
     ]
    },
    {
     "name": "stdout",
     "output_type": "stream",
     "text": [
      "Recordings/20220705_030000.WAV\n"
     ]
    },
    {
     "name": "stderr",
     "output_type": "stream",
     "text": [
      "/home/adkris1002/miniconda3/envs/opensoundscape/lib/python3.7/site-packages/opensoundscape/audio.py:180: UserWarning: This seems to be an AudioMoth file, but parse_audiomoth_metadata() raised: list index out of range\n",
      "  \"This seems to be an AudioMoth file, \"\n"
     ]
    },
    {
     "name": "stdout",
     "output_type": "stream",
     "text": [
      "Recordings/20220705_033000.WAV\n"
     ]
    },
    {
     "name": "stderr",
     "output_type": "stream",
     "text": [
      "/home/adkris1002/miniconda3/envs/opensoundscape/lib/python3.7/site-packages/opensoundscape/audio.py:180: UserWarning: This seems to be an AudioMoth file, but parse_audiomoth_metadata() raised: list index out of range\n",
      "  \"This seems to be an AudioMoth file, \"\n"
     ]
    },
    {
     "name": "stdout",
     "output_type": "stream",
     "text": [
      "Recordings/20220705_040000.WAV\n"
     ]
    },
    {
     "name": "stderr",
     "output_type": "stream",
     "text": [
      "/home/adkris1002/miniconda3/envs/opensoundscape/lib/python3.7/site-packages/opensoundscape/audio.py:180: UserWarning: This seems to be an AudioMoth file, but parse_audiomoth_metadata() raised: list index out of range\n",
      "  \"This seems to be an AudioMoth file, \"\n"
     ]
    },
    {
     "name": "stdout",
     "output_type": "stream",
     "text": [
      "Recordings/20220705_043000.WAV\n"
     ]
    },
    {
     "name": "stderr",
     "output_type": "stream",
     "text": [
      "/home/adkris1002/miniconda3/envs/opensoundscape/lib/python3.7/site-packages/opensoundscape/audio.py:180: UserWarning: This seems to be an AudioMoth file, but parse_audiomoth_metadata() raised: list index out of range\n",
      "  \"This seems to be an AudioMoth file, \"\n"
     ]
    },
    {
     "name": "stdout",
     "output_type": "stream",
     "text": [
      "Recordings/20220705_050000.WAV\n"
     ]
    },
    {
     "name": "stderr",
     "output_type": "stream",
     "text": [
      "/home/adkris1002/miniconda3/envs/opensoundscape/lib/python3.7/site-packages/opensoundscape/audio.py:180: UserWarning: This seems to be an AudioMoth file, but parse_audiomoth_metadata() raised: list index out of range\n",
      "  \"This seems to be an AudioMoth file, \"\n"
     ]
    },
    {
     "name": "stdout",
     "output_type": "stream",
     "text": [
      "Recordings/20220705_053000.WAV\n"
     ]
    },
    {
     "name": "stderr",
     "output_type": "stream",
     "text": [
      "/home/adkris1002/miniconda3/envs/opensoundscape/lib/python3.7/site-packages/opensoundscape/audio.py:180: UserWarning: This seems to be an AudioMoth file, but parse_audiomoth_metadata() raised: list index out of range\n",
      "  \"This seems to be an AudioMoth file, \"\n"
     ]
    },
    {
     "name": "stdout",
     "output_type": "stream",
     "text": [
      "Recordings/20220705_060000.WAV\n"
     ]
    },
    {
     "name": "stderr",
     "output_type": "stream",
     "text": [
      "/home/adkris1002/miniconda3/envs/opensoundscape/lib/python3.7/site-packages/opensoundscape/audio.py:180: UserWarning: This seems to be an AudioMoth file, but parse_audiomoth_metadata() raised: list index out of range\n",
      "  \"This seems to be an AudioMoth file, \"\n"
     ]
    },
    {
     "name": "stdout",
     "output_type": "stream",
     "text": [
      "Recordings/20220705_063000.WAV\n"
     ]
    },
    {
     "name": "stderr",
     "output_type": "stream",
     "text": [
      "/home/adkris1002/miniconda3/envs/opensoundscape/lib/python3.7/site-packages/opensoundscape/audio.py:180: UserWarning: This seems to be an AudioMoth file, but parse_audiomoth_metadata() raised: list index out of range\n",
      "  \"This seems to be an AudioMoth file, \"\n"
     ]
    },
    {
     "name": "stdout",
     "output_type": "stream",
     "text": [
      "Recordings/20220705_070000.WAV\n"
     ]
    },
    {
     "name": "stderr",
     "output_type": "stream",
     "text": [
      "/home/adkris1002/miniconda3/envs/opensoundscape/lib/python3.7/site-packages/opensoundscape/audio.py:180: UserWarning: This seems to be an AudioMoth file, but parse_audiomoth_metadata() raised: list index out of range\n",
      "  \"This seems to be an AudioMoth file, \"\n"
     ]
    },
    {
     "name": "stdout",
     "output_type": "stream",
     "text": [
      "Recordings/20220705_073000.WAV\n"
     ]
    },
    {
     "name": "stderr",
     "output_type": "stream",
     "text": [
      "/home/adkris1002/miniconda3/envs/opensoundscape/lib/python3.7/site-packages/opensoundscape/audio.py:180: UserWarning: This seems to be an AudioMoth file, but parse_audiomoth_metadata() raised: list index out of range\n",
      "  \"This seems to be an AudioMoth file, \"\n"
     ]
    },
    {
     "name": "stdout",
     "output_type": "stream",
     "text": [
      "Recordings/20220705_080000.WAV\n"
     ]
    },
    {
     "name": "stderr",
     "output_type": "stream",
     "text": [
      "/home/adkris1002/miniconda3/envs/opensoundscape/lib/python3.7/site-packages/opensoundscape/audio.py:180: UserWarning: This seems to be an AudioMoth file, but parse_audiomoth_metadata() raised: list index out of range\n",
      "  \"This seems to be an AudioMoth file, \"\n"
     ]
    },
    {
     "name": "stdout",
     "output_type": "stream",
     "text": [
      "Recordings/20220705_083000.WAV\n"
     ]
    },
    {
     "name": "stderr",
     "output_type": "stream",
     "text": [
      "/home/adkris1002/miniconda3/envs/opensoundscape/lib/python3.7/site-packages/opensoundscape/audio.py:180: UserWarning: This seems to be an AudioMoth file, but parse_audiomoth_metadata() raised: list index out of range\n",
      "  \"This seems to be an AudioMoth file, \"\n"
     ]
    },
    {
     "name": "stdout",
     "output_type": "stream",
     "text": [
      "Recordings/20220705_090000.WAV\n"
     ]
    },
    {
     "name": "stderr",
     "output_type": "stream",
     "text": [
      "/home/adkris1002/miniconda3/envs/opensoundscape/lib/python3.7/site-packages/opensoundscape/audio.py:180: UserWarning: This seems to be an AudioMoth file, but parse_audiomoth_metadata() raised: list index out of range\n",
      "  \"This seems to be an AudioMoth file, \"\n"
     ]
    },
    {
     "name": "stdout",
     "output_type": "stream",
     "text": [
      "Recordings/20220705_093000.WAV\n"
     ]
    },
    {
     "name": "stderr",
     "output_type": "stream",
     "text": [
      "/home/adkris1002/miniconda3/envs/opensoundscape/lib/python3.7/site-packages/opensoundscape/audio.py:180: UserWarning: This seems to be an AudioMoth file, but parse_audiomoth_metadata() raised: list index out of range\n",
      "  \"This seems to be an AudioMoth file, \"\n"
     ]
    },
    {
     "name": "stdout",
     "output_type": "stream",
     "text": [
      "Recordings/20220705_100000.WAV\n"
     ]
    },
    {
     "name": "stderr",
     "output_type": "stream",
     "text": [
      "/home/adkris1002/miniconda3/envs/opensoundscape/lib/python3.7/site-packages/opensoundscape/audio.py:180: UserWarning: This seems to be an AudioMoth file, but parse_audiomoth_metadata() raised: list index out of range\n",
      "  \"This seems to be an AudioMoth file, \"\n"
     ]
    },
    {
     "name": "stdout",
     "output_type": "stream",
     "text": [
      "Recordings/20220705_103000.WAV\n"
     ]
    },
    {
     "name": "stderr",
     "output_type": "stream",
     "text": [
      "/home/adkris1002/miniconda3/envs/opensoundscape/lib/python3.7/site-packages/opensoundscape/audio.py:180: UserWarning: This seems to be an AudioMoth file, but parse_audiomoth_metadata() raised: list index out of range\n",
      "  \"This seems to be an AudioMoth file, \"\n"
     ]
    },
    {
     "name": "stdout",
     "output_type": "stream",
     "text": [
      "Recordings/20220705_110000.WAV\n"
     ]
    },
    {
     "name": "stderr",
     "output_type": "stream",
     "text": [
      "/home/adkris1002/miniconda3/envs/opensoundscape/lib/python3.7/site-packages/opensoundscape/audio.py:180: UserWarning: This seems to be an AudioMoth file, but parse_audiomoth_metadata() raised: list index out of range\n",
      "  \"This seems to be an AudioMoth file, \"\n"
     ]
    },
    {
     "name": "stdout",
     "output_type": "stream",
     "text": [
      "Recordings/20220705_113000.WAV\n"
     ]
    },
    {
     "name": "stderr",
     "output_type": "stream",
     "text": [
      "/home/adkris1002/miniconda3/envs/opensoundscape/lib/python3.7/site-packages/opensoundscape/audio.py:180: UserWarning: This seems to be an AudioMoth file, but parse_audiomoth_metadata() raised: list index out of range\n",
      "  \"This seems to be an AudioMoth file, \"\n"
     ]
    },
    {
     "name": "stdout",
     "output_type": "stream",
     "text": [
      "Recordings/20220705_120000.WAV\n"
     ]
    },
    {
     "name": "stderr",
     "output_type": "stream",
     "text": [
      "/home/adkris1002/miniconda3/envs/opensoundscape/lib/python3.7/site-packages/opensoundscape/audio.py:180: UserWarning: This seems to be an AudioMoth file, but parse_audiomoth_metadata() raised: list index out of range\n",
      "  \"This seems to be an AudioMoth file, \"\n"
     ]
    },
    {
     "name": "stdout",
     "output_type": "stream",
     "text": [
      "Recordings/20220705_123000.WAV\n"
     ]
    },
    {
     "name": "stderr",
     "output_type": "stream",
     "text": [
      "/home/adkris1002/miniconda3/envs/opensoundscape/lib/python3.7/site-packages/opensoundscape/audio.py:180: UserWarning: This seems to be an AudioMoth file, but parse_audiomoth_metadata() raised: list index out of range\n",
      "  \"This seems to be an AudioMoth file, \"\n"
     ]
    },
    {
     "name": "stdout",
     "output_type": "stream",
     "text": [
      "Recordings/20220705_130000.WAV\n"
     ]
    },
    {
     "name": "stderr",
     "output_type": "stream",
     "text": [
      "/home/adkris1002/miniconda3/envs/opensoundscape/lib/python3.7/site-packages/opensoundscape/audio.py:180: UserWarning: This seems to be an AudioMoth file, but parse_audiomoth_metadata() raised: list index out of range\n",
      "  \"This seems to be an AudioMoth file, \"\n"
     ]
    },
    {
     "name": "stdout",
     "output_type": "stream",
     "text": [
      "Recordings/20220705_133000.WAV\n"
     ]
    },
    {
     "name": "stderr",
     "output_type": "stream",
     "text": [
      "/home/adkris1002/miniconda3/envs/opensoundscape/lib/python3.7/site-packages/opensoundscape/audio.py:180: UserWarning: This seems to be an AudioMoth file, but parse_audiomoth_metadata() raised: list index out of range\n",
      "  \"This seems to be an AudioMoth file, \"\n"
     ]
    },
    {
     "name": "stdout",
     "output_type": "stream",
     "text": [
      "Recordings/20220705_140000.WAV\n"
     ]
    },
    {
     "name": "stderr",
     "output_type": "stream",
     "text": [
      "/home/adkris1002/miniconda3/envs/opensoundscape/lib/python3.7/site-packages/opensoundscape/audio.py:180: UserWarning: This seems to be an AudioMoth file, but parse_audiomoth_metadata() raised: list index out of range\n",
      "  \"This seems to be an AudioMoth file, \"\n"
     ]
    },
    {
     "name": "stdout",
     "output_type": "stream",
     "text": [
      "Recordings/20220705_143000.WAV\n"
     ]
    },
    {
     "name": "stderr",
     "output_type": "stream",
     "text": [
      "/home/adkris1002/miniconda3/envs/opensoundscape/lib/python3.7/site-packages/opensoundscape/audio.py:180: UserWarning: This seems to be an AudioMoth file, but parse_audiomoth_metadata() raised: list index out of range\n",
      "  \"This seems to be an AudioMoth file, \"\n"
     ]
    },
    {
     "name": "stdout",
     "output_type": "stream",
     "text": [
      "Recordings/20220705_150000.WAV\n"
     ]
    },
    {
     "name": "stderr",
     "output_type": "stream",
     "text": [
      "/home/adkris1002/miniconda3/envs/opensoundscape/lib/python3.7/site-packages/opensoundscape/audio.py:180: UserWarning: This seems to be an AudioMoth file, but parse_audiomoth_metadata() raised: list index out of range\n",
      "  \"This seems to be an AudioMoth file, \"\n"
     ]
    },
    {
     "name": "stdout",
     "output_type": "stream",
     "text": [
      "Recordings/20220705_153000.WAV\n"
     ]
    },
    {
     "name": "stderr",
     "output_type": "stream",
     "text": [
      "/home/adkris1002/miniconda3/envs/opensoundscape/lib/python3.7/site-packages/opensoundscape/audio.py:180: UserWarning: This seems to be an AudioMoth file, but parse_audiomoth_metadata() raised: list index out of range\n",
      "  \"This seems to be an AudioMoth file, \"\n"
     ]
    },
    {
     "name": "stdout",
     "output_type": "stream",
     "text": [
      "Recordings/20220705_160000.WAV\n"
     ]
    },
    {
     "name": "stderr",
     "output_type": "stream",
     "text": [
      "/home/adkris1002/miniconda3/envs/opensoundscape/lib/python3.7/site-packages/opensoundscape/audio.py:180: UserWarning: This seems to be an AudioMoth file, but parse_audiomoth_metadata() raised: list index out of range\n",
      "  \"This seems to be an AudioMoth file, \"\n"
     ]
    },
    {
     "name": "stdout",
     "output_type": "stream",
     "text": [
      "Recordings/20220705_163000.WAV\n"
     ]
    },
    {
     "name": "stderr",
     "output_type": "stream",
     "text": [
      "/home/adkris1002/miniconda3/envs/opensoundscape/lib/python3.7/site-packages/opensoundscape/audio.py:180: UserWarning: This seems to be an AudioMoth file, but parse_audiomoth_metadata() raised: list index out of range\n",
      "  \"This seems to be an AudioMoth file, \"\n"
     ]
    },
    {
     "name": "stdout",
     "output_type": "stream",
     "text": [
      "Recordings/20220705_170000.WAV\n",
      "Recordings/20220705_173000.WAV\n"
     ]
    },
    {
     "name": "stderr",
     "output_type": "stream",
     "text": [
      "/home/adkris1002/miniconda3/envs/opensoundscape/lib/python3.7/site-packages/opensoundscape/audio.py:180: UserWarning: This seems to be an AudioMoth file, but parse_audiomoth_metadata() raised: list index out of range\n",
      "  \"This seems to be an AudioMoth file, \"\n",
      "/home/adkris1002/miniconda3/envs/opensoundscape/lib/python3.7/site-packages/opensoundscape/audio.py:180: UserWarning: This seems to be an AudioMoth file, but parse_audiomoth_metadata() raised: list index out of range\n",
      "  \"This seems to be an AudioMoth file, \"\n"
     ]
    },
    {
     "name": "stdout",
     "output_type": "stream",
     "text": [
      "Recordings/20220705_180000.WAV\n"
     ]
    },
    {
     "name": "stderr",
     "output_type": "stream",
     "text": [
      "/home/adkris1002/miniconda3/envs/opensoundscape/lib/python3.7/site-packages/opensoundscape/audio.py:180: UserWarning: This seems to be an AudioMoth file, but parse_audiomoth_metadata() raised: list index out of range\n",
      "  \"This seems to be an AudioMoth file, \"\n"
     ]
    },
    {
     "name": "stdout",
     "output_type": "stream",
     "text": [
      "Recordings/20220705_183000.WAV\n"
     ]
    }
   ],
   "source": [
    "recording_status = []\n",
    "energy_status = []\n",
    "dur = 5\n",
    "energy_threshold = 11\n",
    "\n",
    "for file_path in list_of_files:\n",
    "    file_name = file_path.split(session+'/')[1]\n",
    "    print(file_name)\n",
    "    if os.path.getsize(file_path) > 0:\n",
    "\n",
    "        seg = Audio.from_file(file_path, duration=dur)\n",
    "        energy = np.sum(np.abs(seg.samples)**2)\n",
    "        #plt.plot(seg.samples)\n",
    "        #plt.show()\n",
    "        if (energy > energy_threshold):\n",
    "            message = 'full with data'\n",
    "            recording_status.append(message)\n",
    "        elif (energy <= energy_threshold and energy > 0):\n",
    "            message = 'full but no data'\n",
    "            recording_status.append(message)\n",
    "        elif (energy == 0):\n",
    "            message = 'very small but no data'\n",
    "            recording_status.append(message)\n",
    "        energy_status.append(energy)\n",
    "    else:\n",
    "        message = 'empty'\n",
    "        recording_status.append('empty')\n",
    "        energy_status.append(None)"
   ]
  },
  {
   "cell_type": "code",
   "execution_count": 13,
   "id": "0dfbf2d7",
   "metadata": {},
   "outputs": [
    {
     "name": "stdout",
     "output_type": "stream",
     "text": [
      "    File Size Month Date   Time            File Name Recording Status  \\\n",
      "0        1.5M   Jul    2  14:34  20220702_213428.WAV   full with data   \n",
      "1        656M   Jul    2  14:59  20220702_213700.WAV   full with data   \n",
      "2        856M   Jul    2  15:29  20220702_220000.WAV   full with data   \n",
      "3        856M   Jul    2  15:59  20220702_223000.WAV   full with data   \n",
      "4        856M   Jul    2  16:29  20220702_230000.WAV   full with data   \n",
      "..        ...   ...  ...    ...                  ...              ...   \n",
      "846      856M   Jul    5  09:59  20220705_163000.WAV   full with data   \n",
      "847      856M   Jul    5  10:29  20220705_170000.WAV   full with data   \n",
      "848      856M   Jul    5  10:59  20220705_173000.WAV   full with data   \n",
      "849      856M   Jul    5  11:29  20220705_180000.WAV   full with data   \n",
      "850         0   Dec   31   1979  20220705_183000.WAV            empty   \n",
      "\n",
      "     Energy in first 5 secs  \n",
      "0               3061.187500  \n",
      "1             444986.812500  \n",
      "2                933.842163  \n",
      "3                357.255005  \n",
      "4                794.356262  \n",
      "..                      ...  \n",
      "846              351.133026  \n",
      "847              482.644348  \n",
      "848              546.705750  \n",
      "849              595.206543  \n",
      "850                     NaN  \n",
      "\n",
      "[851 rows x 7 columns]\n"
     ]
    }
   ],
   "source": [
    "df['Recording Status'] = recording_status\n",
    "df['Energy in first 5 secs'] = energy_status\n",
    "#print(recording_status)\n",
    "print(df)"
   ]
  },
  {
   "cell_type": "code",
   "execution_count": 14,
   "id": "686abffe",
   "metadata": {},
   "outputs": [],
   "source": [
    "# We save our dataframe as a .csv using \\t as a separator\n",
    "\n",
    "df.to_csv('file_sizes'+session+'.csv')"
   ]
  },
  {
   "cell_type": "code",
   "execution_count": null,
   "id": "4480ff83",
   "metadata": {},
   "outputs": [],
   "source": []
  }
 ],
 "metadata": {
  "kernelspec": {
   "display_name": "Python 3 (ipykernel)",
   "language": "python",
   "name": "python3"
  },
  "language_info": {
   "codemirror_mode": {
    "name": "ipython",
    "version": 3
   },
   "file_extension": ".py",
   "mimetype": "text/x-python",
   "name": "python",
   "nbconvert_exporter": "python",
   "pygments_lexer": "ipython3",
   "version": "3.7.13"
  }
 },
 "nbformat": 4,
 "nbformat_minor": 5
}
