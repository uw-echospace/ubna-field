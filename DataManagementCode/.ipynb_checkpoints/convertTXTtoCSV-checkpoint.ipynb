{
 "cells": [
  {
   "cell_type": "code",
   "execution_count": 1,
   "id": "c60dd393",
   "metadata": {},
   "outputs": [],
   "source": [
    "# import Audio and Spectrogram classes from OpenSoundscape\n",
    "# These classes help segment audio into displayable chunks for faster plotting\n",
    "from opensoundscape.audio import Audio\n",
    "from opensoundscape.spectrogram import Spectrogram\n",
    "\n",
    "import pandas as pd\n",
    "import numpy as np\n",
    "import matplotlib.pyplot as plt\n",
    "\n",
    "import glob\n",
    "import os"
   ]
  },
  {
   "cell_type": "code",
   "execution_count": 2,
   "id": "33ef6118",
   "metadata": {},
   "outputs": [],
   "source": [
    "# This builds the path to the output.txt file that we extracted by piping the linux ls command's output\n",
    "# I used ls -lh > output.txt in my Recordings folder\n",
    "session = '20220703_unit2'\n",
    "filename = 'output' + session + '.txt'\n",
    "\n",
    "file_path = filename"
   ]
  },
  {
   "cell_type": "code",
   "execution_count": 3,
   "id": "2f5fc0e6",
   "metadata": {},
   "outputs": [
    {
     "name": "stdout",
     "output_type": "stream",
     "text": [
      "              0  1           2           3     4    5   6      7  \\\n",
      "0    -rwxr-xr-x  1  adkris1002  adkris1002  1.5M  Jul   2  14:34   \n",
      "1    -rwxr-xr-x  1  adkris1002  adkris1002  656M  Jul   2  14:59   \n",
      "2    -rwxr-xr-x  1  adkris1002  adkris1002  856M  Jul   2  15:29   \n",
      "3    -rwxr-xr-x  1  adkris1002  adkris1002  856M  Jul   2  15:59   \n",
      "4    -rwxr-xr-x  1  adkris1002  adkris1002  856M  Jul   2  16:29   \n",
      "..          ... ..         ...         ...   ...  ...  ..    ...   \n",
      "847  -rwxr-xr-x  1  adkris1002  adkris1002  856M  Jul   5  10:29   \n",
      "848  -rwxr-xr-x  1  adkris1002  adkris1002  856M  Jul   5  10:59   \n",
      "849  -rwxr-xr-x  1  adkris1002  adkris1002  856M  Jul   5  11:29   \n",
      "850  -rwxr-xr-x  1  adkris1002  adkris1002     0  Dec  31   1979   \n",
      "851  -rw-rw-r--  1  adkris1002  adkris1002     0  Jul  13  23:57   \n",
      "\n",
      "                            8  \n",
      "0         20220702_213428.WAV  \n",
      "1         20220702_213700.WAV  \n",
      "2         20220702_220000.WAV  \n",
      "3         20220702_223000.WAV  \n",
      "4         20220702_230000.WAV  \n",
      "..                        ...  \n",
      "847       20220705_170000.WAV  \n",
      "848       20220705_173000.WAV  \n",
      "849       20220705_180000.WAV  \n",
      "850       20220705_183000.WAV  \n",
      "851  output20220703_unit2.txt  \n",
      "\n",
      "[852 rows x 9 columns]\n"
     ]
    }
   ],
   "source": [
    "# We read in the .txt file using the file path and a separator of spaces.\n",
    "# We set header=None so read_csv does not look for a header\n",
    "# We also skip the first row of the raw output because the first row is 'Total <size of all files>'\n",
    "\n",
    "data= pd.read_csv(file_path, sep='\\s+', skiprows=1, header=None)\n",
    "print(data)"
   ]
  },
  {
   "cell_type": "code",
   "execution_count": 4,
   "id": "1caf005e",
   "metadata": {
    "scrolled": true
   },
   "outputs": [
    {
     "name": "stdout",
     "output_type": "stream",
     "text": [
      "[['1.5M' 'Jul' 2 '14:34' '20220702_213428.WAV']\n",
      " ['656M' 'Jul' 2 '14:59' '20220702_213700.WAV']\n",
      " ['856M' 'Jul' 2 '15:29' '20220702_220000.WAV']\n",
      " ...\n",
      " ['856M' 'Jul' 5 '10:59' '20220705_173000.WAV']\n",
      " ['856M' 'Jul' 5 '11:29' '20220705_180000.WAV']\n",
      " ['0' 'Dec' 31 '1979' '20220705_183000.WAV']]\n"
     ]
    }
   ],
   "source": [
    "# We clean up and only extract the rows and columns we need.\n",
    "# We don't need the first 4 columns or the last row which is the size of the output.txt file\n",
    "\n",
    "list_np = data.to_numpy()[:-1,4:]\n",
    "print(list_np)"
   ]
  },
  {
   "cell_type": "code",
   "execution_count": 5,
   "id": "e4fda0aa",
   "metadata": {},
   "outputs": [],
   "source": [
    "# We convert our new cleaner numpy array into a data frame with cleaner labels\n",
    "# The time columns will have a year in some rows when the file is empty\n",
    "# The file sizes also have M when it is mB (megabyte) and K when it is kB (kilobyte)\n",
    "# There are no units for file sizes when the units are in bytes\n",
    "\n",
    "df = pd.DataFrame(list_np, columns = ['File Size','Month','Date', 'Time', 'File Name'])"
   ]
  },
  {
   "cell_type": "code",
   "execution_count": 6,
   "id": "cc173e8c",
   "metadata": {},
   "outputs": [
    {
     "name": "stdout",
     "output_type": "stream",
     "text": [
      "    File Size Month Date   Time            File Name\n",
      "0        1.5M   Jul    2  14:34  20220702_213428.WAV\n",
      "1        656M   Jul    2  14:59  20220702_213700.WAV\n",
      "2        856M   Jul    2  15:29  20220702_220000.WAV\n",
      "3        856M   Jul    2  15:59  20220702_223000.WAV\n",
      "4        856M   Jul    2  16:29  20220702_230000.WAV\n",
      "..        ...   ...  ...    ...                  ...\n",
      "846      856M   Jul    5  09:59  20220705_163000.WAV\n",
      "847      856M   Jul    5  10:29  20220705_170000.WAV\n",
      "848      856M   Jul    5  10:59  20220705_173000.WAV\n",
      "849      856M   Jul    5  11:29  20220705_180000.WAV\n",
      "850         0   Dec   31   1979  20220705_183000.WAV\n",
      "\n",
      "[851 rows x 5 columns]\n"
     ]
    }
   ],
   "source": [
    "print(df)"
   ]
  },
  {
   "cell_type": "code",
   "execution_count": 7,
   "id": "d404f1bc",
   "metadata": {},
   "outputs": [],
   "source": [
    "# We save our dataframe as a .csv using \\t as a separator\n",
    "\n",
    "df.to_csv('file_sizes'+session+'.csv')"
   ]
  },
  {
   "cell_type": "code",
   "execution_count": null,
   "id": "b923d62e",
   "metadata": {},
   "outputs": [],
   "source": []
  }
 ],
 "metadata": {
  "kernelspec": {
   "display_name": "Python 3 (ipykernel)",
   "language": "python",
   "name": "python3"
  },
  "language_info": {
   "codemirror_mode": {
    "name": "ipython",
    "version": 3
   },
   "file_extension": ".py",
   "mimetype": "text/x-python",
   "name": "python",
   "nbconvert_exporter": "python",
   "pygments_lexer": "ipython3",
   "version": "3.7.13"
  }
 },
 "nbformat": 4,
 "nbformat_minor": 5
}
